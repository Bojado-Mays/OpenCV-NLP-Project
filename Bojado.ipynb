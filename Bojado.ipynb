{
 "cells": [
  {
   "cell_type": "markdown",
   "metadata": {},
   "source": [
    "# Import"
   ]
  },
  {
   "cell_type": "code",
   "execution_count": 1,
   "metadata": {},
   "outputs": [],
   "source": [
    "import pandas as pd\n",
    "import numpy as np\n",
    "from requests import get\n",
    "from os import path\n",
    "from bs4 import BeautifulSoup\n",
    "import os\n",
    "import json\n",
    "from typing import Dict, List, Optional, Union, cast\n",
    "import requests\n",
    "from env import github_token, github_username\n",
    "import re\n",
    "\n",
    "import acquire as ac\n",
    "import prepare"
   ]
  },
  {
   "cell_type": "code",
   "execution_count": 2,
   "metadata": {
    "scrolled": false
   },
   "outputs": [],
   "source": [
    "url = 'https://github.com/search?o=desc&p={num}&q=OpenCV&s=stars&type=Repositories'\n",
    "response = requests.get(url)"
   ]
  },
  {
   "cell_type": "code",
   "execution_count": 3,
   "metadata": {},
   "outputs": [],
   "source": [
    "urls = ac.get_all_urls()"
   ]
  },
  {
   "cell_type": "code",
   "execution_count": 4,
   "metadata": {},
   "outputs": [
    {
     "data": {
      "text/plain": [
       "['openframeworks/openFrameworks',\n",
       " 'PySimpleGUI/PySimpleGUI',\n",
       " 'opencv/opencv',\n",
       " 'opencv/opencv_contrib',\n",
       " 'CMU-Perceptual-Computing-Lab/openpose',\n",
       " 'Ewenwan/MVision',\n",
       " 'spmallick/learnopencv',\n",
       " 'Hironsan/BossSensor',\n",
       " 'vipstone/faceai',\n",
       " 'oarriaga/face_classification',\n",
       " 'peterbraden/node-opencv',\n",
       " 'jrosebr1/imutils',\n",
       " 'esimov/pigo',\n",
       " 'nuno-faria/tiler',\n",
       " 'hamuchiwa/AutoRCCar',\n",
       " 'hybridgroup/gocv',\n",
       " 'bytedeco/javacv',\n",
       " 'justadudewhohacks/opencv4nodejs',\n",
       " 'kelaberetiv/TagUI',\n",
       " 'bijection/sistine',\n",
       " 'Roujack/mathAI',\n",
       " 'shimat/opencvsharp',\n",
       " 'soruly/trace.moe',\n",
       " 'mapillary/OpenSfM',\n",
       " 'anandpawara/Real_Time_Image_Animation',\n",
       " 'HuTianQi/SmartOpenCV',\n",
       " 'amusi/AI-Job-Notes',\n",
       " 'CodecWang/OpenCV-Python-Tutorial',\n",
       " 'MasteringOpenCV/code',\n",
       " 'makelove/OpenCV-Python-Tutorial',\n",
       " 'oreillymedia/Learning-OpenCV-3_examples',\n",
       " 'skvark/opencv-python',\n",
       " 'kongqw/OpenCVForAndroid',\n",
       " 'abhiTronix/vidgear',\n",
       " 'tebelorg/RPA-Python',\n",
       " 'andrewssobral/bgslibrary',\n",
       " 'ivanseidel/Is-Now-Illegal',\n",
       " 'nagadomi/lbpcascade_animeface',\n",
       " 'opentrack/opentrack',\n",
       " 'changwookjun/StudyBook',\n",
       " 'go-opencv/go-opencv',\n",
       " 'RubensZimbres/Repo-2017',\n",
       " 'datitran/object_detector_app',\n",
       " 'Breakthrough/PySceneDetect',\n",
       " 'emgucv/emgucv',\n",
       " 'atduskgreg/opencv-processing',\n",
       " 'yangkun19921001/Blog',\n",
       " 'abidrahmank/OpenCV2-Python-Tutorials',\n",
       " 'QianMo/OpenCV3-Intro-Book-Src',\n",
       " 'ANYbotics/grid_map',\n",
       " 'joelibaceta/video-to-ascii',\n",
       " 'christopher5106/FastAnnotationTool',\n",
       " 'Image-Py/imagepy',\n",
       " 'jayrambhia/Install-OpenCV',\n",
       " 'ahmetozlu/tensorflow_object_counting_api',\n",
       " 'kylemcdonald/FaceTracker',\n",
       " 'ryfeus/lambda-packs',\n",
       " 'RaiMan/SikuliX1',\n",
       " 'shanren7/real_time_face_recognition',\n",
       " 'zhengyima/DeepNude_NoWatermark_withModel',\n",
       " 'abreheret/PixelAnnotationTool',\n",
       " 'asingh33/CNNGestureRecognizer',\n",
       " 'trishume/eyeLike',\n",
       " 'xiangjiana/Android-MS',\n",
       " 'movidius/ncappzoo',\n",
       " 'Paperspace/DataAugmentationForObjectDetection',\n",
       " 'jhansireddy/AndroidScannerDemo',\n",
       " 'ITCoders/Human-detection-and-Tracking',\n",
       " 'foundry/OpenCVSwiftStitch',\n",
       " 'airob0t/idcardgenerator',\n",
       " 'mukyasa/MMCamScanner',\n",
       " 'bethesirius/ChosunTruck',\n",
       " 'youyuge34/Anime-InPainting',\n",
       " 'alyssaq/face_morpher',\n",
       " 'vipul-sharma20/document-scanner',\n",
       " 'opencv/opencv_extra',\n",
       " 'uvipen/QuickDraw',\n",
       " 'RaftLib/RaftLib',\n",
       " 'mrnugget/opencv-haar-classifier-training',\n",
       " 'JimmyHHua/opencv_tutorials']"
      ]
     },
     "execution_count": 4,
     "metadata": {},
     "output_type": "execute_result"
    }
   ],
   "source": [
    "urls"
   ]
  },
  {
   "cell_type": "markdown",
   "metadata": {},
   "source": [
    "# Acquire"
   ]
  },
  {
   "cell_type": "markdown",
   "metadata": {},
   "source": [
    "#### For this project, you will have to build a dataset yourself. Decide on a list of GitHub repositories to scrape, and write the python code necessary to extract the text of the README file for each page, and the primary language of the repository.\n",
    "\n",
    "#### Which repositories you use are up to you, but you should include at least 100 repositories in your data set."
   ]
  },
  {
   "cell_type": "code",
   "execution_count": 5,
   "metadata": {},
   "outputs": [],
   "source": [
    "data = pd.DataFrame(ac.scrape_github_data())"
   ]
  },
  {
   "cell_type": "code",
   "execution_count": 6,
   "metadata": {},
   "outputs": [
    {
     "name": "stdout",
     "output_type": "stream",
     "text": [
      "<class 'pandas.core.frame.DataFrame'>\n",
      "RangeIndex: 80 entries, 0 to 79\n",
      "Data columns (total 3 columns):\n",
      " #   Column           Non-Null Count  Dtype \n",
      "---  ------           --------------  ----- \n",
      " 0   repo             80 non-null     object\n",
      " 1   language         75 non-null     object\n",
      " 2   readme_contents  80 non-null     object\n",
      "dtypes: object(3)\n",
      "memory usage: 2.0+ KB\n"
     ]
    }
   ],
   "source": [
    "data.info()"
   ]
  },
  {
   "cell_type": "code",
   "execution_count": 7,
   "metadata": {},
   "outputs": [
    {
     "data": {
      "text/html": [
       "<div>\n",
       "<style scoped>\n",
       "    .dataframe tbody tr th:only-of-type {\n",
       "        vertical-align: middle;\n",
       "    }\n",
       "\n",
       "    .dataframe tbody tr th {\n",
       "        vertical-align: top;\n",
       "    }\n",
       "\n",
       "    .dataframe thead th {\n",
       "        text-align: right;\n",
       "    }\n",
       "</style>\n",
       "<table border=\"1\" class=\"dataframe\">\n",
       "  <thead>\n",
       "    <tr style=\"text-align: right;\">\n",
       "      <th></th>\n",
       "      <th>repo</th>\n",
       "      <th>language</th>\n",
       "      <th>readme_contents</th>\n",
       "    </tr>\n",
       "  </thead>\n",
       "  <tbody>\n",
       "    <tr>\n",
       "      <th>0</th>\n",
       "      <td>openframeworks/openFrameworks</td>\n",
       "      <td>C++</td>\n",
       "      <td>[openFrameworks](http://openframeworks.cc/)\\n=...</td>\n",
       "    </tr>\n",
       "    <tr>\n",
       "      <th>1</th>\n",
       "      <td>PySimpleGUI/PySimpleGUI</td>\n",
       "      <td>Python</td>\n",
       "      <td>\\n&lt;p align=\"center\"&gt;\\n  &lt;img src=\"https://raw....</td>\n",
       "    </tr>\n",
       "    <tr>\n",
       "      <th>2</th>\n",
       "      <td>opencv/opencv</td>\n",
       "      <td>C++</td>\n",
       "      <td>## OpenCV: Open Source Computer Vision Library...</td>\n",
       "    </tr>\n",
       "    <tr>\n",
       "      <th>3</th>\n",
       "      <td>opencv/opencv_contrib</td>\n",
       "      <td>C++</td>\n",
       "      <td>## Repository for OpenCV's extra modules\\n\\nTh...</td>\n",
       "    </tr>\n",
       "    <tr>\n",
       "      <th>4</th>\n",
       "      <td>CMU-Perceptual-Computing-Lab/openpose</td>\n",
       "      <td>C++</td>\n",
       "      <td>&lt;div align=\"center\"&gt;\\n    &lt;img src=\".github/Lo...</td>\n",
       "    </tr>\n",
       "    <tr>\n",
       "      <th>...</th>\n",
       "      <td>...</td>\n",
       "      <td>...</td>\n",
       "      <td>...</td>\n",
       "    </tr>\n",
       "    <tr>\n",
       "      <th>75</th>\n",
       "      <td>opencv/opencv_extra</td>\n",
       "      <td>None</td>\n",
       "      <td>### OpenCV: Open Source Computer Vision Librar...</td>\n",
       "    </tr>\n",
       "    <tr>\n",
       "      <th>76</th>\n",
       "      <td>uvipen/QuickDraw</td>\n",
       "      <td>Python</td>\n",
       "      <td># [PYTHON] QuickDraw\\n\\n## Introduction\\n\\nHer...</td>\n",
       "    </tr>\n",
       "    <tr>\n",
       "      <th>77</th>\n",
       "      <td>RaftLib/RaftLib</td>\n",
       "      <td>C++</td>\n",
       "      <td>[RaftLib](http://raftlib.io) is a C++ Library ...</td>\n",
       "    </tr>\n",
       "    <tr>\n",
       "      <th>78</th>\n",
       "      <td>mrnugget/opencv-haar-classifier-training</td>\n",
       "      <td>Perl</td>\n",
       "      <td># Train your own OpenCV Haar classifier\\n\\n**I...</td>\n",
       "    </tr>\n",
       "    <tr>\n",
       "      <th>79</th>\n",
       "      <td>JimmyHHua/opencv_tutorials</td>\n",
       "      <td>Python</td>\n",
       "      <td># OpenCV 4.0 Tutorial\\n[![](https://img.shield...</td>\n",
       "    </tr>\n",
       "  </tbody>\n",
       "</table>\n",
       "<p>80 rows × 3 columns</p>\n",
       "</div>"
      ],
      "text/plain": [
       "                                        repo language  \\\n",
       "0              openframeworks/openFrameworks      C++   \n",
       "1                    PySimpleGUI/PySimpleGUI   Python   \n",
       "2                              opencv/opencv      C++   \n",
       "3                      opencv/opencv_contrib      C++   \n",
       "4      CMU-Perceptual-Computing-Lab/openpose      C++   \n",
       "..                                       ...      ...   \n",
       "75                       opencv/opencv_extra     None   \n",
       "76                          uvipen/QuickDraw   Python   \n",
       "77                           RaftLib/RaftLib      C++   \n",
       "78  mrnugget/opencv-haar-classifier-training     Perl   \n",
       "79                JimmyHHua/opencv_tutorials   Python   \n",
       "\n",
       "                                      readme_contents  \n",
       "0   [openFrameworks](http://openframeworks.cc/)\\n=...  \n",
       "1   \\n<p align=\"center\">\\n  <img src=\"https://raw....  \n",
       "2   ## OpenCV: Open Source Computer Vision Library...  \n",
       "3   ## Repository for OpenCV's extra modules\\n\\nTh...  \n",
       "4   <div align=\"center\">\\n    <img src=\".github/Lo...  \n",
       "..                                                ...  \n",
       "75  ### OpenCV: Open Source Computer Vision Librar...  \n",
       "76  # [PYTHON] QuickDraw\\n\\n## Introduction\\n\\nHer...  \n",
       "77  [RaftLib](http://raftlib.io) is a C++ Library ...  \n",
       "78  # Train your own OpenCV Haar classifier\\n\\n**I...  \n",
       "79  # OpenCV 4.0 Tutorial\\n[![](https://img.shield...  \n",
       "\n",
       "[80 rows x 3 columns]"
      ]
     },
     "execution_count": 7,
     "metadata": {},
     "output_type": "execute_result"
    }
   ],
   "source": [
    "data"
   ]
  },
  {
   "cell_type": "code",
   "execution_count": null,
   "metadata": {},
   "outputs": [],
   "source": []
  },
  {
   "cell_type": "code",
   "execution_count": null,
   "metadata": {},
   "outputs": [],
   "source": []
  },
  {
   "cell_type": "markdown",
   "metadata": {},
   "source": [
    "# Prepare"
   ]
  },
  {
   "cell_type": "code",
   "execution_count": null,
   "metadata": {},
   "outputs": [],
   "source": []
  },
  {
   "cell_type": "markdown",
   "metadata": {},
   "source": [
    "# Explore"
   ]
  },
  {
   "cell_type": "markdown",
   "metadata": {},
   "source": [
    "#### Explore the data that you have scraped. Here are some ideas for exploration:\n",
    "\n",
    "- What are the most common words in READMEs?   \n",
    "\n",
    "\n",
    "- What does the distribution of IDFs look like for the most common words?  \n",
    "\n",
    "\n",
    "- Does the length of the README vary by programming language?    \n",
    "\n",
    "\n",
    "- Do different programming languages use a different number of unique words?"
   ]
  },
  {
   "cell_type": "code",
   "execution_count": null,
   "metadata": {},
   "outputs": [],
   "source": []
  },
  {
   "cell_type": "code",
   "execution_count": null,
   "metadata": {},
   "outputs": [],
   "source": []
  },
  {
   "cell_type": "code",
   "execution_count": null,
   "metadata": {},
   "outputs": [],
   "source": []
  },
  {
   "cell_type": "markdown",
   "metadata": {},
   "source": [
    "# Model"
   ]
  },
  {
   "cell_type": "markdown",
   "metadata": {},
   "source": [
    "- Transform your documents into a form that can be used in a machine learning model. You should use the programming language of the repository as the label to predict.  \n",
    "\n",
    "\n",
    "- Try fitting several different models and using several different representations of the text (e.g. a simple bag of words, then also the TF-IDF values for each).   \n",
    "\n",
    "\n",
    "- Build a function that will take in the text of a README file, and tries to predict the programming language.  "
   ]
  },
  {
   "cell_type": "code",
   "execution_count": null,
   "metadata": {},
   "outputs": [],
   "source": []
  },
  {
   "cell_type": "code",
   "execution_count": null,
   "metadata": {},
   "outputs": [],
   "source": []
  },
  {
   "cell_type": "code",
   "execution_count": null,
   "metadata": {},
   "outputs": [],
   "source": []
  }
 ],
 "metadata": {
  "kernelspec": {
   "display_name": "Python 3",
   "language": "python",
   "name": "python3"
  },
  "language_info": {
   "codemirror_mode": {
    "name": "ipython",
    "version": 3
   },
   "file_extension": ".py",
   "mimetype": "text/x-python",
   "name": "python",
   "nbconvert_exporter": "python",
   "pygments_lexer": "ipython3",
   "version": "3.7.6"
  }
 },
 "nbformat": 4,
 "nbformat_minor": 4
}
