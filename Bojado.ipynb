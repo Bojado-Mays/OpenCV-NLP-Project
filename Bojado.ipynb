{
 "cells": [
  {
   "cell_type": "markdown",
   "metadata": {},
   "source": [
    "# Import"
   ]
  },
  {
   "cell_type": "code",
   "execution_count": 1,
   "metadata": {},
   "outputs": [],
   "source": [
    "import pandas as pd\n",
    "import numpy as np\n",
    "import matplotlib.pyplot as plt\n",
    "import seaborn as sns\n",
    "%matplotlib inline\n",
    "\n",
    "import requests\n",
    "from requests import get\n",
    "from os import path\n",
    "from bs4 import BeautifulSoup\n",
    "import os\n",
    "import re\n",
    "\n",
    "import json\n",
    "import unicodedata\n",
    "\n",
    "import nltk\n",
    "from nltk.tokenize.toktok import ToktokTokenizer\n",
    "from nltk.corpus import stopwords\n",
    "\n",
    "from typing import Dict, List, Optional, Union, cast\n",
    "from env import github_token, github_username\n",
    "\n",
    "import acquire as ac\n",
    "import prepare"
   ]
  },
  {
   "cell_type": "markdown",
   "metadata": {},
   "source": [
    "# Acquire"
   ]
  },
  {
   "cell_type": "markdown",
   "metadata": {},
   "source": [
    "#### For this project, you will have to build a dataset yourself. Decide on a list of GitHub repositories to scrape, and write the python code necessary to extract the text of the README file for each page, and the primary language of the repository.\n",
    "\n",
    "#### Which repositories you use are up to you, but you should include at least 100 repositories in your data set."
   ]
  },
  {
   "cell_type": "code",
   "execution_count": 2,
   "metadata": {
    "scrolled": false
   },
   "outputs": [],
   "source": [
    "url = 'https://github.com/search?o=desc&p={num}&q=OpenCV&s=stars&type=Repositories'\n",
    "response = requests.get(url)"
   ]
  },
  {
   "cell_type": "code",
   "execution_count": 3,
   "metadata": {},
   "outputs": [],
   "source": [
    "urls = ac.get_all_urls() "
   ]
  },
  {
   "cell_type": "code",
   "execution_count": 4,
   "metadata": {
    "scrolled": true
   },
   "outputs": [
    {
     "data": {
      "text/plain": [
       "['oarriaga/face_classification',\n",
       " 'spmallick/learnopencv',\n",
       " 'opencv/opencv',\n",
       " 'opencv/opencv_contrib',\n",
       " 'vipstone/faceai',\n",
       " 'Hironsan/BossSensor',\n",
       " 'CMU-Perceptual-Computing-Lab/openpose',\n",
       " 'PySimpleGUI/PySimpleGUI',\n",
       " 'Ewenwan/MVision',\n",
       " 'openframeworks/openFrameworks',\n",
       " 'jrosebr1/imutils',\n",
       " 'bijection/sistine',\n",
       " 'peterbraden/node-opencv',\n",
       " 'kelaberetiv/TagUI',\n",
       " 'esimov/pigo',\n",
       " 'nuno-faria/tiler',\n",
       " 'hybridgroup/gocv',\n",
       " 'justadudewhohacks/opencv4nodejs',\n",
       " 'bytedeco/javacv',\n",
       " 'hamuchiwa/AutoRCCar',\n",
       " 'MasteringOpenCV/code',\n",
       " 'CodecWang/OpenCV-Python-Tutorial',\n",
       " 'anandpawara/Real_Time_Image_Animation',\n",
       " 'mapillary/OpenSfM',\n",
       " 'shimat/opencvsharp',\n",
       " 'HuTianQi/SmartOpenCV',\n",
       " 'Roujack/mathAI',\n",
       " 'soruly/trace.moe',\n",
       " 'amusi/AI-Job-Notes',\n",
       " 'makelove/OpenCV-Python-Tutorial',\n",
       " 'oreillymedia/Learning-OpenCV-3_examples',\n",
       " 'kongqw/OpenCVForAndroid',\n",
       " 'nagadomi/lbpcascade_animeface',\n",
       " 'tebelorg/RPA-Python',\n",
       " 'abhiTronix/vidgear',\n",
       " 'changwookjun/StudyBook',\n",
       " 'ivanseidel/Is-Now-Illegal',\n",
       " 'andrewssobral/bgslibrary',\n",
       " 'skvark/opencv-python',\n",
       " 'opentrack/opentrack',\n",
       " 'go-opencv/go-opencv',\n",
       " 'RubensZimbres/Repo-2017',\n",
       " 'atduskgreg/opencv-processing',\n",
       " 'QianMo/OpenCV3-Intro-Book-Src',\n",
       " 'datitran/object_detector_app',\n",
       " 'abidrahmank/OpenCV2-Python-Tutorials',\n",
       " 'Breakthrough/PySceneDetect',\n",
       " 'ANYbotics/grid_map',\n",
       " 'emgucv/emgucv',\n",
       " 'yangkun19921001/Blog',\n",
       " 'ryfeus/lambda-packs',\n",
       " 'jayrambhia/Install-OpenCV',\n",
       " 'shanren7/real_time_face_recognition',\n",
       " 'christopher5106/FastAnnotationTool',\n",
       " 'zhengyima/DeepNude_NoWatermark_withModel',\n",
       " 'RaiMan/SikuliX1',\n",
       " 'Image-Py/imagepy',\n",
       " 'joelibaceta/video-to-ascii',\n",
       " 'ahmetozlu/tensorflow_object_counting_api',\n",
       " 'kylemcdonald/FaceTracker',\n",
       " 'trishume/eyeLike',\n",
       " 'jhansireddy/AndroidScannerDemo',\n",
       " 'foundry/OpenCVSwiftStitch',\n",
       " 'asingh33/CNNGestureRecognizer',\n",
       " 'airob0t/idcardgenerator',\n",
       " 'movidius/ncappzoo',\n",
       " 'ITCoders/Human-detection-and-Tracking',\n",
       " 'xiangjiana/Android-MS',\n",
       " 'Paperspace/DataAugmentationForObjectDetection',\n",
       " 'abreheret/PixelAnnotationTool',\n",
       " 'mrnugget/opencv-haar-classifier-training',\n",
       " 'uvipen/QuickDraw',\n",
       " 'vipul-sharma20/document-scanner',\n",
       " 'opencv/opencv_extra',\n",
       " 'mukyasa/MMCamScanner',\n",
       " 'youyuge34/Anime-InPainting',\n",
       " 'RaftLib/RaftLib',\n",
       " 'JimmyHHua/opencv_tutorials',\n",
       " 'bethesirius/ChosunTruck',\n",
       " 'alyssaq/face_morpher']"
      ]
     },
     "execution_count": 4,
     "metadata": {},
     "output_type": "execute_result"
    }
   ],
   "source": [
    "urls"
   ]
  },
  {
   "cell_type": "code",
   "execution_count": 5,
   "metadata": {},
   "outputs": [],
   "source": [
    "data = pd.read_json('data.json')"
   ]
  },
  {
   "cell_type": "code",
   "execution_count": 6,
   "metadata": {},
   "outputs": [
    {
     "name": "stdout",
     "output_type": "stream",
     "text": [
      "<class 'pandas.core.frame.DataFrame'>\n",
      "RangeIndex: 150 entries, 0 to 149\n",
      "Data columns (total 3 columns):\n",
      " #   Column           Non-Null Count  Dtype \n",
      "---  ------           --------------  ----- \n",
      " 0   repo             150 non-null    object\n",
      " 1   language         144 non-null    object\n",
      " 2   readme_contents  150 non-null    object\n",
      "dtypes: object(3)\n",
      "memory usage: 3.6+ KB\n"
     ]
    }
   ],
   "source": [
    "# 150 repos\n",
    "data.info()"
   ]
  },
  {
   "cell_type": "code",
   "execution_count": 7,
   "metadata": {},
   "outputs": [
    {
     "data": {
      "text/html": [
       "<div>\n",
       "<style scoped>\n",
       "    .dataframe tbody tr th:only-of-type {\n",
       "        vertical-align: middle;\n",
       "    }\n",
       "\n",
       "    .dataframe tbody tr th {\n",
       "        vertical-align: top;\n",
       "    }\n",
       "\n",
       "    .dataframe thead th {\n",
       "        text-align: right;\n",
       "    }\n",
       "</style>\n",
       "<table border=\"1\" class=\"dataframe\">\n",
       "  <thead>\n",
       "    <tr style=\"text-align: right;\">\n",
       "      <th></th>\n",
       "      <th>repo</th>\n",
       "      <th>language</th>\n",
       "      <th>readme_contents</th>\n",
       "    </tr>\n",
       "  </thead>\n",
       "  <tbody>\n",
       "    <tr>\n",
       "      <th>0</th>\n",
       "      <td>Ewenwan/MVision</td>\n",
       "      <td>C++</td>\n",
       "      <td># MVision　Machine Vision 机器视觉\\n[AI算法工程师手册 数学基础...</td>\n",
       "    </tr>\n",
       "    <tr>\n",
       "      <th>1</th>\n",
       "      <td>opencv/opencv_contrib</td>\n",
       "      <td>C++</td>\n",
       "      <td>## Repository for OpenCV's extra modules\\n\\nTh...</td>\n",
       "    </tr>\n",
       "    <tr>\n",
       "      <th>2</th>\n",
       "      <td>PySimpleGUI/PySimpleGUI</td>\n",
       "      <td>Python</td>\n",
       "      <td>\\n&lt;p align=\"center\"&gt;\\n  &lt;img src=\"https://raw....</td>\n",
       "    </tr>\n",
       "    <tr>\n",
       "      <th>3</th>\n",
       "      <td>opencv/opencv</td>\n",
       "      <td>C++</td>\n",
       "      <td>## OpenCV: Open Source Computer Vision Library...</td>\n",
       "    </tr>\n",
       "    <tr>\n",
       "      <th>4</th>\n",
       "      <td>CMU-Perceptual-Computing-Lab/openpose</td>\n",
       "      <td>C++</td>\n",
       "      <td>&lt;div align=\"center\"&gt;\\n    &lt;img src=\".github/Lo...</td>\n",
       "    </tr>\n",
       "    <tr>\n",
       "      <th>...</th>\n",
       "      <td>...</td>\n",
       "      <td>...</td>\n",
       "      <td>...</td>\n",
       "    </tr>\n",
       "    <tr>\n",
       "      <th>145</th>\n",
       "      <td>jerry1900/faceRecognition</td>\n",
       "      <td>Python</td>\n",
       "      <td># faceRecognition\\n利用OpenCV、CNN进行人脸识别\\n万壑，4978...</td>\n",
       "    </tr>\n",
       "    <tr>\n",
       "      <th>146</th>\n",
       "      <td>lixiaoshaxing/MultiMediaLearn</td>\n",
       "      <td>C</td>\n",
       "      <td># MultiMediaLearn\\n多媒体学习：图片处理，音视频处理，相机使用，OpenG...</td>\n",
       "    </tr>\n",
       "    <tr>\n",
       "      <th>147</th>\n",
       "      <td>WL-Amigo/waifu2x-converter-cpp</td>\n",
       "      <td>C++</td>\n",
       "      <td># waifu2x (converter only version)\\n\\nThis is ...</td>\n",
       "    </tr>\n",
       "    <tr>\n",
       "      <th>148</th>\n",
       "      <td>atulapra/Emotion-detection</td>\n",
       "      <td>Python</td>\n",
       "      <td># Emotion detection using deep learning\\n\\n## ...</td>\n",
       "    </tr>\n",
       "    <tr>\n",
       "      <th>149</th>\n",
       "      <td>wzh191920/License-Plate-Recognition</td>\n",
       "      <td>Python</td>\n",
       "      <td># License-Plate-Recognition\\nLicense Plate Rec...</td>\n",
       "    </tr>\n",
       "  </tbody>\n",
       "</table>\n",
       "<p>150 rows × 3 columns</p>\n",
       "</div>"
      ],
      "text/plain": [
       "                                      repo language  \\\n",
       "0                          Ewenwan/MVision      C++   \n",
       "1                    opencv/opencv_contrib      C++   \n",
       "2                  PySimpleGUI/PySimpleGUI   Python   \n",
       "3                            opencv/opencv      C++   \n",
       "4    CMU-Perceptual-Computing-Lab/openpose      C++   \n",
       "..                                     ...      ...   \n",
       "145              jerry1900/faceRecognition   Python   \n",
       "146          lixiaoshaxing/MultiMediaLearn        C   \n",
       "147         WL-Amigo/waifu2x-converter-cpp      C++   \n",
       "148             atulapra/Emotion-detection   Python   \n",
       "149    wzh191920/License-Plate-Recognition   Python   \n",
       "\n",
       "                                       readme_contents  \n",
       "0    # MVision　Machine Vision 机器视觉\\n[AI算法工程师手册 数学基础...  \n",
       "1    ## Repository for OpenCV's extra modules\\n\\nTh...  \n",
       "2    \\n<p align=\"center\">\\n  <img src=\"https://raw....  \n",
       "3    ## OpenCV: Open Source Computer Vision Library...  \n",
       "4    <div align=\"center\">\\n    <img src=\".github/Lo...  \n",
       "..                                                 ...  \n",
       "145  # faceRecognition\\n利用OpenCV、CNN进行人脸识别\\n万壑，4978...  \n",
       "146  # MultiMediaLearn\\n多媒体学习：图片处理，音视频处理，相机使用，OpenG...  \n",
       "147  # waifu2x (converter only version)\\n\\nThis is ...  \n",
       "148  # Emotion detection using deep learning\\n\\n## ...  \n",
       "149  # License-Plate-Recognition\\nLicense Plate Rec...  \n",
       "\n",
       "[150 rows x 3 columns]"
      ]
     },
     "execution_count": 7,
     "metadata": {},
     "output_type": "execute_result"
    }
   ],
   "source": [
    "data"
   ]
  },
  {
   "cell_type": "markdown",
   "metadata": {},
   "source": [
    "# Prepare"
   ]
  },
  {
   "cell_type": "code",
   "execution_count": null,
   "metadata": {},
   "outputs": [],
   "source": []
  },
  {
   "cell_type": "code",
   "execution_count": null,
   "metadata": {},
   "outputs": [],
   "source": []
  },
  {
   "cell_type": "code",
   "execution_count": null,
   "metadata": {},
   "outputs": [],
   "source": []
  },
  {
   "cell_type": "code",
   "execution_count": null,
   "metadata": {},
   "outputs": [],
   "source": []
  },
  {
   "cell_type": "code",
   "execution_count": null,
   "metadata": {},
   "outputs": [],
   "source": []
  },
  {
   "cell_type": "markdown",
   "metadata": {},
   "source": [
    "# Explore"
   ]
  },
  {
   "cell_type": "markdown",
   "metadata": {},
   "source": [
    "#### Explore the data that you have scraped. Here are some ideas for exploration:\n",
    "\n",
    "- What are the most common words in READMEs?   \n",
    "\n",
    "\n",
    "- What does the distribution of IDFs look like for the most common words?  \n",
    "\n",
    "\n",
    "- Does the length of the README vary by programming language?    \n",
    "\n",
    "\n",
    "- Do different programming languages use a different number of unique words?"
   ]
  },
  {
   "cell_type": "code",
   "execution_count": null,
   "metadata": {},
   "outputs": [],
   "source": []
  },
  {
   "cell_type": "code",
   "execution_count": null,
   "metadata": {},
   "outputs": [],
   "source": []
  },
  {
   "cell_type": "code",
   "execution_count": null,
   "metadata": {},
   "outputs": [],
   "source": []
  },
  {
   "cell_type": "markdown",
   "metadata": {},
   "source": [
    "# Model"
   ]
  },
  {
   "cell_type": "markdown",
   "metadata": {},
   "source": [
    "- Transform your documents into a form that can be used in a machine learning model. You should use the programming language of the repository as the label to predict.  \n",
    "\n",
    "\n",
    "- Try fitting several different models and using several different representations of the text (e.g. a simple bag of words, then also the TF-IDF values for each).   \n",
    "\n",
    "\n",
    "- Build a function that will take in the text of a README file, and tries to predict the programming language.  "
   ]
  },
  {
   "cell_type": "code",
   "execution_count": null,
   "metadata": {},
   "outputs": [],
   "source": []
  },
  {
   "cell_type": "code",
   "execution_count": null,
   "metadata": {},
   "outputs": [],
   "source": []
  },
  {
   "cell_type": "code",
   "execution_count": null,
   "metadata": {},
   "outputs": [],
   "source": []
  }
 ],
 "metadata": {
  "kernelspec": {
   "display_name": "Python 3",
   "language": "python",
   "name": "python3"
  },
  "language_info": {
   "codemirror_mode": {
    "name": "ipython",
    "version": 3
   },
   "file_extension": ".py",
   "mimetype": "text/x-python",
   "name": "python",
   "nbconvert_exporter": "python",
   "pygments_lexer": "ipython3",
   "version": "3.7.6"
  }
 },
 "nbformat": 4,
 "nbformat_minor": 4
}
