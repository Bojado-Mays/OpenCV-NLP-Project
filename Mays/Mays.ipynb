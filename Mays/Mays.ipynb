{
 "cells": [
  {
   "cell_type": "markdown",
   "metadata": {},
   "source": [
    "# Imports"
   ]
  },
  {
   "cell_type": "code",
   "execution_count": 1,
   "metadata": {},
   "outputs": [],
   "source": [
    "import pandas as pd\n",
    "import numpy as np\n",
    "from requests import get\n",
    "from os import path\n",
    "from bs4 import BeautifulSoup\n",
    "import acquire as ac\n",
    "import prepare\n",
    "import re\n",
    "import matplotlib.pyplot as plt\n",
    "\n",
    "from sklearn.feature_extraction.text import TfidfVectorizer\n",
    "from sklearn.feature_extraction.text import CountVectorizer, TfidfVectorizer\n",
    "from sklearn.model_selection import train_test_split\n",
    "from sklearn.linear_model import LogisticRegression\n",
    "from sklearn.metrics import classification_report, accuracy_score\n",
    "from scipy import stats\n",
    "import json\n",
    "\n",
    "import warnings\n",
    "warnings.filterwarnings(\"ignore\")"
   ]
  },
  {
   "cell_type": "markdown",
   "metadata": {},
   "source": [
    "# Acquire"
   ]
  },
  {
   "cell_type": "code",
   "execution_count": 2,
   "metadata": {},
   "outputs": [],
   "source": [
    "# url = 'https://github.com/search?o=desc&p={num}&q=OpenCV&s=stars&type=Repositories'\n",
    "# response = get(url)"
   ]
  },
  {
   "cell_type": "code",
   "execution_count": 3,
   "metadata": {
    "scrolled": true
   },
   "outputs": [],
   "source": [
    "# urls = ac.get_range_urls(1, 6)\n",
    "# len(urls)"
   ]
  },
  {
   "cell_type": "code",
   "execution_count": 4,
   "metadata": {},
   "outputs": [],
   "source": [
    "# urls2 = ac.get_range_urls(6, 11)\n",
    "# len(urls2)"
   ]
  },
  {
   "cell_type": "code",
   "execution_count": 5,
   "metadata": {},
   "outputs": [],
   "source": [
    "# urls3 = ac.get_range_urls(11, 16)\n",
    "# len(urls3)"
   ]
  },
  {
   "cell_type": "code",
   "execution_count": 6,
   "metadata": {},
   "outputs": [],
   "source": [
    "# urls4 = ac.get_range_urls(16, 21)\n",
    "# len(urls4)"
   ]
  },
  {
   "cell_type": "code",
   "execution_count": 7,
   "metadata": {},
   "outputs": [],
   "source": [
    "# urls5 = ac.get_range_urls(21, 26)\n",
    "# len(urls5)"
   ]
  },
  {
   "cell_type": "code",
   "execution_count": 8,
   "metadata": {},
   "outputs": [],
   "source": [
    "# all_urls = urls + urls2 + urls3 + urls4 + urls5\n",
    "# len(all_urls)"
   ]
  },
  {
   "cell_type": "code",
   "execution_count": 9,
   "metadata": {},
   "outputs": [],
   "source": [
    "# repos = ac.scrape_github_data(all_urls)"
   ]
  },
  {
   "cell_type": "code",
   "execution_count": 10,
   "metadata": {},
   "outputs": [],
   "source": [
    "repos = pd.read_json('data.json')"
   ]
  },
  {
   "cell_type": "code",
   "execution_count": 11,
   "metadata": {},
   "outputs": [
    {
     "data": {
      "text/html": [
       "<div>\n",
       "<style scoped>\n",
       "    .dataframe tbody tr th:only-of-type {\n",
       "        vertical-align: middle;\n",
       "    }\n",
       "\n",
       "    .dataframe tbody tr th {\n",
       "        vertical-align: top;\n",
       "    }\n",
       "\n",
       "    .dataframe thead th {\n",
       "        text-align: right;\n",
       "    }\n",
       "</style>\n",
       "<table border=\"1\" class=\"dataframe\">\n",
       "  <thead>\n",
       "    <tr style=\"text-align: right;\">\n",
       "      <th></th>\n",
       "      <th>repo</th>\n",
       "      <th>language</th>\n",
       "      <th>readme_contents</th>\n",
       "    </tr>\n",
       "  </thead>\n",
       "  <tbody>\n",
       "    <tr>\n",
       "      <th>0</th>\n",
       "      <td>openframeworks/openFrameworks</td>\n",
       "      <td>C++</td>\n",
       "      <td>[openFrameworks](http://openframeworks.cc/)\\n=...</td>\n",
       "    </tr>\n",
       "    <tr>\n",
       "      <th>1</th>\n",
       "      <td>opencv/opencv_contrib</td>\n",
       "      <td>C++</td>\n",
       "      <td>## Repository for OpenCV's extra modules\\n\\nTh...</td>\n",
       "    </tr>\n",
       "    <tr>\n",
       "      <th>2</th>\n",
       "      <td>oarriaga/face_classification</td>\n",
       "      <td>Python</td>\n",
       "      <td># This repository is deprecated for at TF-2.0 ...</td>\n",
       "    </tr>\n",
       "    <tr>\n",
       "      <th>3</th>\n",
       "      <td>opencv/opencv</td>\n",
       "      <td>C++</td>\n",
       "      <td>## OpenCV: Open Source Computer Vision Library...</td>\n",
       "    </tr>\n",
       "    <tr>\n",
       "      <th>4</th>\n",
       "      <td>Ewenwan/MVision</td>\n",
       "      <td>C++</td>\n",
       "      <td># MVision　Machine Vision 机器视觉\\n[AI算法工程师手册 数学基础...</td>\n",
       "    </tr>\n",
       "  </tbody>\n",
       "</table>\n",
       "</div>"
      ],
      "text/plain": [
       "                            repo language  \\\n",
       "0  openframeworks/openFrameworks      C++   \n",
       "1          opencv/opencv_contrib      C++   \n",
       "2   oarriaga/face_classification   Python   \n",
       "3                  opencv/opencv      C++   \n",
       "4                Ewenwan/MVision      C++   \n",
       "\n",
       "                                     readme_contents  \n",
       "0  [openFrameworks](http://openframeworks.cc/)\\n=...  \n",
       "1  ## Repository for OpenCV's extra modules\\n\\nTh...  \n",
       "2  # This repository is deprecated for at TF-2.0 ...  \n",
       "3  ## OpenCV: Open Source Computer Vision Library...  \n",
       "4  # MVision　Machine Vision 机器视觉\\n[AI算法工程师手册 数学基础...  "
      ]
     },
     "execution_count": 11,
     "metadata": {},
     "output_type": "execute_result"
    }
   ],
   "source": [
    "repos.head()"
   ]
  },
  {
   "cell_type": "code",
   "execution_count": 12,
   "metadata": {},
   "outputs": [
    {
     "name": "stdout",
     "output_type": "stream",
     "text": [
      "<class 'pandas.core.frame.DataFrame'>\n",
      "RangeIndex: 250 entries, 0 to 249\n",
      "Data columns (total 3 columns):\n",
      " #   Column           Non-Null Count  Dtype \n",
      "---  ------           --------------  ----- \n",
      " 0   repo             250 non-null    object\n",
      " 1   language         243 non-null    object\n",
      " 2   readme_contents  250 non-null    object\n",
      "dtypes: object(3)\n",
      "memory usage: 6.0+ KB\n"
     ]
    }
   ],
   "source": [
    "repos.info()"
   ]
  },
  {
   "cell_type": "markdown",
   "metadata": {},
   "source": [
    "# Prepare"
   ]
  },
  {
   "cell_type": "code",
   "execution_count": 13,
   "metadata": {},
   "outputs": [
    {
     "data": {
      "text/html": [
       "<div>\n",
       "<style scoped>\n",
       "    .dataframe tbody tr th:only-of-type {\n",
       "        vertical-align: middle;\n",
       "    }\n",
       "\n",
       "    .dataframe tbody tr th {\n",
       "        vertical-align: top;\n",
       "    }\n",
       "\n",
       "    .dataframe thead th {\n",
       "        text-align: right;\n",
       "    }\n",
       "</style>\n",
       "<table border=\"1\" class=\"dataframe\">\n",
       "  <thead>\n",
       "    <tr style=\"text-align: right;\">\n",
       "      <th></th>\n",
       "      <th>repo</th>\n",
       "      <th>language</th>\n",
       "      <th>readme_contents</th>\n",
       "      <th>text_cleaned</th>\n",
       "      <th>text_tokenized</th>\n",
       "      <th>text_lemmatized</th>\n",
       "      <th>text_filtered</th>\n",
       "    </tr>\n",
       "  </thead>\n",
       "  <tbody>\n",
       "    <tr>\n",
       "      <th>0</th>\n",
       "      <td>openframeworks/openFrameworks</td>\n",
       "      <td>C++</td>\n",
       "      <td>[openFrameworks](http://openframeworks.cc/)\\n=...</td>\n",
       "      <td>openframeworkshttpopenframeworkscc\\n\\n\\nopenfr...</td>\n",
       "      <td>openframeworkshttpopenframeworkscc\\n\\n\\nopenfr...</td>\n",
       "      <td>openframeworkshttpopenframeworkscc openframewo...</td>\n",
       "      <td>openframeworkshttpopenframeworkscc openframewo...</td>\n",
       "    </tr>\n",
       "    <tr>\n",
       "      <th>1</th>\n",
       "      <td>opencv/opencv_contrib</td>\n",
       "      <td>C++</td>\n",
       "      <td>## Repository for OpenCV's extra modules\\n\\nTh...</td>\n",
       "      <td>repository for opencvs extra modules\\n\\nthis ...</td>\n",
       "      <td>repository for opencvs extra modules\\n\\nthis r...</td>\n",
       "      <td>repository for opencvs extra module this repos...</td>\n",
       "      <td>repository opencvs extra module repository int...</td>\n",
       "    </tr>\n",
       "    <tr>\n",
       "      <th>2</th>\n",
       "      <td>oarriaga/face_classification</td>\n",
       "      <td>Python</td>\n",
       "      <td># This repository is deprecated for at TF-2.0 ...</td>\n",
       "      <td>this repository is deprecated for at tf20 rew...</td>\n",
       "      <td>this repository is deprecated for at tf20 rewr...</td>\n",
       "      <td>this repository is deprecated for at tf20 rewr...</td>\n",
       "      <td>repository deprecated tf20 rewrite visit https...</td>\n",
       "    </tr>\n",
       "    <tr>\n",
       "      <th>3</th>\n",
       "      <td>opencv/opencv</td>\n",
       "      <td>C++</td>\n",
       "      <td>## OpenCV: Open Source Computer Vision Library...</td>\n",
       "      <td>opencv open source computer vision library\\n\\...</td>\n",
       "      <td>opencv open source computer vision library\\n\\n...</td>\n",
       "      <td>opencv open source computer vision library res...</td>\n",
       "      <td>opencv open source computer vision library res...</td>\n",
       "    </tr>\n",
       "    <tr>\n",
       "      <th>4</th>\n",
       "      <td>Ewenwan/MVision</td>\n",
       "      <td>C++</td>\n",
       "      <td># MVision　Machine Vision 机器视觉\\n[AI算法工程师手册 数学基础...</td>\n",
       "      <td>mvision machine vision \\nai     httpwwwhuaxia...</td>\n",
       "      <td>mvision machine vision \\nai httpwwwhuaxiaozhua...</td>\n",
       "      <td>mvision machine vision ai httpwwwhuaxiaozhuanc...</td>\n",
       "      <td>mvision machine vision ai httpwwwhuaxiaozhuanc...</td>\n",
       "    </tr>\n",
       "  </tbody>\n",
       "</table>\n",
       "</div>"
      ],
      "text/plain": [
       "                            repo language  \\\n",
       "0  openframeworks/openFrameworks      C++   \n",
       "1          opencv/opencv_contrib      C++   \n",
       "2   oarriaga/face_classification   Python   \n",
       "3                  opencv/opencv      C++   \n",
       "4                Ewenwan/MVision      C++   \n",
       "\n",
       "                                     readme_contents  \\\n",
       "0  [openFrameworks](http://openframeworks.cc/)\\n=...   \n",
       "1  ## Repository for OpenCV's extra modules\\n\\nTh...   \n",
       "2  # This repository is deprecated for at TF-2.0 ...   \n",
       "3  ## OpenCV: Open Source Computer Vision Library...   \n",
       "4  # MVision　Machine Vision 机器视觉\\n[AI算法工程师手册 数学基础...   \n",
       "\n",
       "                                        text_cleaned  \\\n",
       "0  openframeworkshttpopenframeworkscc\\n\\n\\nopenfr...   \n",
       "1   repository for opencvs extra modules\\n\\nthis ...   \n",
       "2   this repository is deprecated for at tf20 rew...   \n",
       "3   opencv open source computer vision library\\n\\...   \n",
       "4   mvision machine vision \\nai     httpwwwhuaxia...   \n",
       "\n",
       "                                      text_tokenized  \\\n",
       "0  openframeworkshttpopenframeworkscc\\n\\n\\nopenfr...   \n",
       "1  repository for opencvs extra modules\\n\\nthis r...   \n",
       "2  this repository is deprecated for at tf20 rewr...   \n",
       "3  opencv open source computer vision library\\n\\n...   \n",
       "4  mvision machine vision \\nai httpwwwhuaxiaozhua...   \n",
       "\n",
       "                                     text_lemmatized  \\\n",
       "0  openframeworkshttpopenframeworkscc openframewo...   \n",
       "1  repository for opencvs extra module this repos...   \n",
       "2  this repository is deprecated for at tf20 rewr...   \n",
       "3  opencv open source computer vision library res...   \n",
       "4  mvision machine vision ai httpwwwhuaxiaozhuanc...   \n",
       "\n",
       "                                       text_filtered  \n",
       "0  openframeworkshttpopenframeworkscc openframewo...  \n",
       "1  repository opencvs extra module repository int...  \n",
       "2  repository deprecated tf20 rewrite visit https...  \n",
       "3  opencv open source computer vision library res...  \n",
       "4  mvision machine vision ai httpwwwhuaxiaozhuanc...  "
      ]
     },
     "execution_count": 13,
     "metadata": {},
     "output_type": "execute_result"
    }
   ],
   "source": [
    "# Creating a cleaned text column\n",
    "repos['text_cleaned'] = repos.readme_contents.apply(prepare.basic_clean)\n",
    "# Creating a tokenized text column\n",
    "repos['text_tokenized'] = repos.text_cleaned.apply(prepare.tokenize)\n",
    "# Creating a lemmatized text column\n",
    "repos['text_lemmatized'] = repos.text_tokenized.apply(prepare.lemmatize)\n",
    "# Creating a filtered text column\n",
    "repos['text_filtered'] = repos.text_lemmatized.apply(prepare.remove_stopwords)\n",
    "repos.head()"
   ]
  },
  {
   "cell_type": "code",
   "execution_count": 14,
   "metadata": {},
   "outputs": [
    {
     "data": {
      "text/html": [
       "<div>\n",
       "<style scoped>\n",
       "    .dataframe tbody tr th:only-of-type {\n",
       "        vertical-align: middle;\n",
       "    }\n",
       "\n",
       "    .dataframe tbody tr th {\n",
       "        vertical-align: top;\n",
       "    }\n",
       "\n",
       "    .dataframe thead th {\n",
       "        text-align: right;\n",
       "    }\n",
       "</style>\n",
       "<table border=\"1\" class=\"dataframe\">\n",
       "  <thead>\n",
       "    <tr style=\"text-align: right;\">\n",
       "      <th></th>\n",
       "      <th>repo</th>\n",
       "      <th>language</th>\n",
       "      <th>readme_contents</th>\n",
       "      <th>text_cleaned</th>\n",
       "      <th>text_tokenized</th>\n",
       "      <th>text_lemmatized</th>\n",
       "      <th>text_filtered</th>\n",
       "      <th>words</th>\n",
       "    </tr>\n",
       "  </thead>\n",
       "  <tbody>\n",
       "    <tr>\n",
       "      <th>0</th>\n",
       "      <td>openframeworks/openFrameworks</td>\n",
       "      <td>C++</td>\n",
       "      <td>[openFrameworks](http://openframeworks.cc/)\\n=...</td>\n",
       "      <td>openframeworkshttpopenframeworkscc\\n\\n\\nopenfr...</td>\n",
       "      <td>openframeworkshttpopenframeworkscc\\n\\n\\nopenfr...</td>\n",
       "      <td>openframeworkshttpopenframeworkscc openframewo...</td>\n",
       "      <td>openframeworkshttpopenframeworkscc openframewo...</td>\n",
       "      <td>[openframeworkshttpopenframeworkscc, openframe...</td>\n",
       "    </tr>\n",
       "    <tr>\n",
       "      <th>1</th>\n",
       "      <td>opencv/opencv_contrib</td>\n",
       "      <td>C++</td>\n",
       "      <td>## Repository for OpenCV's extra modules\\n\\nTh...</td>\n",
       "      <td>repository for opencvs extra modules\\n\\nthis ...</td>\n",
       "      <td>repository for opencvs extra modules\\n\\nthis r...</td>\n",
       "      <td>repository for opencvs extra module this repos...</td>\n",
       "      <td>repository opencvs extra module repository int...</td>\n",
       "      <td>[repository, opencvs, extra, module, repositor...</td>\n",
       "    </tr>\n",
       "    <tr>\n",
       "      <th>2</th>\n",
       "      <td>oarriaga/face_classification</td>\n",
       "      <td>Python</td>\n",
       "      <td># This repository is deprecated for at TF-2.0 ...</td>\n",
       "      <td>this repository is deprecated for at tf20 rew...</td>\n",
       "      <td>this repository is deprecated for at tf20 rewr...</td>\n",
       "      <td>this repository is deprecated for at tf20 rewr...</td>\n",
       "      <td>repository deprecated tf20 rewrite visit https...</td>\n",
       "      <td>[repository, deprecated, tf20, rewrite, visit,...</td>\n",
       "    </tr>\n",
       "    <tr>\n",
       "      <th>3</th>\n",
       "      <td>opencv/opencv</td>\n",
       "      <td>C++</td>\n",
       "      <td>## OpenCV: Open Source Computer Vision Library...</td>\n",
       "      <td>opencv open source computer vision library\\n\\...</td>\n",
       "      <td>opencv open source computer vision library\\n\\n...</td>\n",
       "      <td>opencv open source computer vision library res...</td>\n",
       "      <td>opencv open source computer vision library res...</td>\n",
       "      <td>[opencv, open, source, computer, vision, libra...</td>\n",
       "    </tr>\n",
       "    <tr>\n",
       "      <th>4</th>\n",
       "      <td>Ewenwan/MVision</td>\n",
       "      <td>C++</td>\n",
       "      <td># MVision　Machine Vision 机器视觉\\n[AI算法工程师手册 数学基础...</td>\n",
       "      <td>mvision machine vision \\nai     httpwwwhuaxia...</td>\n",
       "      <td>mvision machine vision \\nai httpwwwhuaxiaozhua...</td>\n",
       "      <td>mvision machine vision ai httpwwwhuaxiaozhuanc...</td>\n",
       "      <td>mvision machine vision ai httpwwwhuaxiaozhuanc...</td>\n",
       "      <td>[mvision, machine, vision, ai, httpwwwhuaxiaoz...</td>\n",
       "    </tr>\n",
       "  </tbody>\n",
       "</table>\n",
       "</div>"
      ],
      "text/plain": [
       "                            repo language  \\\n",
       "0  openframeworks/openFrameworks      C++   \n",
       "1          opencv/opencv_contrib      C++   \n",
       "2   oarriaga/face_classification   Python   \n",
       "3                  opencv/opencv      C++   \n",
       "4                Ewenwan/MVision      C++   \n",
       "\n",
       "                                     readme_contents  \\\n",
       "0  [openFrameworks](http://openframeworks.cc/)\\n=...   \n",
       "1  ## Repository for OpenCV's extra modules\\n\\nTh...   \n",
       "2  # This repository is deprecated for at TF-2.0 ...   \n",
       "3  ## OpenCV: Open Source Computer Vision Library...   \n",
       "4  # MVision　Machine Vision 机器视觉\\n[AI算法工程师手册 数学基础...   \n",
       "\n",
       "                                        text_cleaned  \\\n",
       "0  openframeworkshttpopenframeworkscc\\n\\n\\nopenfr...   \n",
       "1   repository for opencvs extra modules\\n\\nthis ...   \n",
       "2   this repository is deprecated for at tf20 rew...   \n",
       "3   opencv open source computer vision library\\n\\...   \n",
       "4   mvision machine vision \\nai     httpwwwhuaxia...   \n",
       "\n",
       "                                      text_tokenized  \\\n",
       "0  openframeworkshttpopenframeworkscc\\n\\n\\nopenfr...   \n",
       "1  repository for opencvs extra modules\\n\\nthis r...   \n",
       "2  this repository is deprecated for at tf20 rewr...   \n",
       "3  opencv open source computer vision library\\n\\n...   \n",
       "4  mvision machine vision \\nai httpwwwhuaxiaozhua...   \n",
       "\n",
       "                                     text_lemmatized  \\\n",
       "0  openframeworkshttpopenframeworkscc openframewo...   \n",
       "1  repository for opencvs extra module this repos...   \n",
       "2  this repository is deprecated for at tf20 rewr...   \n",
       "3  opencv open source computer vision library res...   \n",
       "4  mvision machine vision ai httpwwwhuaxiaozhuanc...   \n",
       "\n",
       "                                       text_filtered  \\\n",
       "0  openframeworkshttpopenframeworkscc openframewo...   \n",
       "1  repository opencvs extra module repository int...   \n",
       "2  repository deprecated tf20 rewrite visit https...   \n",
       "3  opencv open source computer vision library res...   \n",
       "4  mvision machine vision ai httpwwwhuaxiaozhuanc...   \n",
       "\n",
       "                                               words  \n",
       "0  [openframeworkshttpopenframeworkscc, openframe...  \n",
       "1  [repository, opencvs, extra, module, repositor...  \n",
       "2  [repository, deprecated, tf20, rewrite, visit,...  \n",
       "3  [opencv, open, source, computer, vision, libra...  \n",
       "4  [mvision, machine, vision, ai, httpwwwhuaxiaoz...  "
      ]
     },
     "execution_count": 14,
     "metadata": {},
     "output_type": "execute_result"
    }
   ],
   "source": [
    "words = [re.sub(r'([^a-z0-9\\s]|\\s.\\s)', '', doc).split() for doc in repos.text_filtered]\n",
    "\n",
    "repos = pd.concat([repos, pd.DataFrame({'words': words})], axis=1)\n",
    "\n",
    "repos.head()"
   ]
  },
  {
   "cell_type": "code",
   "execution_count": 15,
   "metadata": {},
   "outputs": [
    {
     "name": "stdout",
     "output_type": "stream",
     "text": [
      "<class 'pandas.core.frame.DataFrame'>\n",
      "RangeIndex: 250 entries, 0 to 249\n",
      "Data columns (total 8 columns):\n",
      " #   Column           Non-Null Count  Dtype \n",
      "---  ------           --------------  ----- \n",
      " 0   repo             250 non-null    object\n",
      " 1   language         243 non-null    object\n",
      " 2   readme_contents  250 non-null    object\n",
      " 3   text_cleaned     250 non-null    object\n",
      " 4   text_tokenized   250 non-null    object\n",
      " 5   text_lemmatized  250 non-null    object\n",
      " 6   text_filtered    250 non-null    object\n",
      " 7   words            250 non-null    object\n",
      "dtypes: object(8)\n",
      "memory usage: 15.8+ KB\n"
     ]
    }
   ],
   "source": [
    "repos.info()"
   ]
  },
  {
   "cell_type": "code",
   "execution_count": 16,
   "metadata": {},
   "outputs": [
    {
     "data": {
      "text/html": [
       "<div>\n",
       "<style scoped>\n",
       "    .dataframe tbody tr th:only-of-type {\n",
       "        vertical-align: middle;\n",
       "    }\n",
       "\n",
       "    .dataframe tbody tr th {\n",
       "        vertical-align: top;\n",
       "    }\n",
       "\n",
       "    .dataframe thead th {\n",
       "        text-align: right;\n",
       "    }\n",
       "</style>\n",
       "<table border=\"1\" class=\"dataframe\">\n",
       "  <thead>\n",
       "    <tr style=\"text-align: right;\">\n",
       "      <th></th>\n",
       "      <th>repo</th>\n",
       "      <th>language</th>\n",
       "      <th>readme_contents</th>\n",
       "      <th>text_cleaned</th>\n",
       "      <th>text_tokenized</th>\n",
       "      <th>text_lemmatized</th>\n",
       "      <th>text_filtered</th>\n",
       "      <th>words</th>\n",
       "    </tr>\n",
       "  </thead>\n",
       "  <tbody>\n",
       "    <tr>\n",
       "      <th>27</th>\n",
       "      <td>amusi/AI-Job-Notes</td>\n",
       "      <td>None</td>\n",
       "      <td># AI-Job-Notes\\nAI算法岗求职攻略：涵盖校招时间表、准备攻略、刷题指南、内推...</td>\n",
       "      <td>aijobnotes\\naiai\\n\\naislam\\n\\n  issues\\n\\n \\n...</td>\n",
       "      <td>aijobnotes\\naiai\\n\\naislam\\n\\n issues\\n\\n \\n\\n...</td>\n",
       "      <td>aijobnotes aiai aislam issue markdowntoc depth...</td>\n",
       "      <td>aijobnotes aiai aislam issue markdowntoc depth...</td>\n",
       "      <td>[aijobnotes, aiai, aislam, issue, markdowntoc,...</td>\n",
       "    </tr>\n",
       "    <tr>\n",
       "      <th>35</th>\n",
       "      <td>nagadomi/lbpcascade_animeface</td>\n",
       "      <td>None</td>\n",
       "      <td># lbpcascade_animeface\\n\\nThe face detector fo...</td>\n",
       "      <td>lbpcascade_animeface\\n\\nthe face detector for...</td>\n",
       "      <td>lbpcascade_animeface\\n\\nthe face detector for ...</td>\n",
       "      <td>lbpcascade_animeface the face detector for ani...</td>\n",
       "      <td>lbpcascade_animeface face detector animemanga ...</td>\n",
       "      <td>[lbpcascadeanimeface, face, detector, animeman...</td>\n",
       "    </tr>\n",
       "    <tr>\n",
       "      <th>39</th>\n",
       "      <td>changwookjun/StudyBook</td>\n",
       "      <td>None</td>\n",
       "      <td># Study E-Book(ComputerVision DeepLearning Mac...</td>\n",
       "      <td>study ebookcomputervision deeplearning machin...</td>\n",
       "      <td>study ebookcomputervision deeplearning machine...</td>\n",
       "      <td>study ebookcomputervision deeplearning machine...</td>\n",
       "      <td>study ebookcomputervision deeplearning machine...</td>\n",
       "      <td>[study, ebookcomputervision, deeplearning, mac...</td>\n",
       "    </tr>\n",
       "    <tr>\n",
       "      <th>66</th>\n",
       "      <td>xiangjiana/Android-MS</td>\n",
       "      <td>None</td>\n",
       "      <td>[**版权声明**](#版权声明)\\n\\n# Android 高级面试\\n\\n### ![面...</td>\n",
       "      <td>\\n\\n android \\n\\n img2020androidpng\\n \\n  andr...</td>\n",
       "      <td>android \\n\\n img2020androidpng\\n \\n androidhtt...</td>\n",
       "      <td>android img2020androidpng androidhttpswwwjians...</td>\n",
       "      <td>android img2020androidpng androidhttpswwwjians...</td>\n",
       "      <td>[android, img2020androidpng, androidhttpswwwji...</td>\n",
       "    </tr>\n",
       "    <tr>\n",
       "      <th>70</th>\n",
       "      <td>opencv/opencv_extra</td>\n",
       "      <td>None</td>\n",
       "      <td>### OpenCV: Open Source Computer Vision Librar...</td>\n",
       "      <td>opencv open source computer vision library\\n\\...</td>\n",
       "      <td>opencv open source computer vision library\\n\\n...</td>\n",
       "      <td>opencv open source computer vision library thi...</td>\n",
       "      <td>opencv open source computer vision library rep...</td>\n",
       "      <td>[opencv, open, source, computer, vision, libra...</td>\n",
       "    </tr>\n",
       "    <tr>\n",
       "      <th>142</th>\n",
       "      <td>huihut/OpenCV-MinGW-Build</td>\n",
       "      <td>None</td>\n",
       "      <td># OpenCV-MinGW-Build\\n\\nMinGW 32bit and 64bit ...</td>\n",
       "      <td>opencvmingwbuild\\n\\nmingw 32bit and 64bit ver...</td>\n",
       "      <td>opencvmingwbuild\\n\\nmingw 32bit and 64bit vers...</td>\n",
       "      <td>opencvmingwbuild mingw 32bit and 64bit version...</td>\n",
       "      <td>opencvmingwbuild mingw 32bit 64bit version ope...</td>\n",
       "      <td>[opencvmingwbuild, mingw, 32bit, 64bit, versio...</td>\n",
       "    </tr>\n",
       "    <tr>\n",
       "      <th>166</th>\n",
       "      <td>opencv/opencv_3rdparty</td>\n",
       "      <td>None</td>\n",
       "      <td>### OpenCV: Open Source Computer Vision Librar...</td>\n",
       "      <td>opencv open source computer vision library\\n\\...</td>\n",
       "      <td>opencv open source computer vision library\\n\\n...</td>\n",
       "      <td>opencv open source computer vision library thi...</td>\n",
       "      <td>opencv open source computer vision library rep...</td>\n",
       "      <td>[opencv, open, source, computer, vision, libra...</td>\n",
       "    </tr>\n",
       "  </tbody>\n",
       "</table>\n",
       "</div>"
      ],
      "text/plain": [
       "                              repo language  \\\n",
       "27              amusi/AI-Job-Notes     None   \n",
       "35   nagadomi/lbpcascade_animeface     None   \n",
       "39          changwookjun/StudyBook     None   \n",
       "66           xiangjiana/Android-MS     None   \n",
       "70             opencv/opencv_extra     None   \n",
       "142      huihut/OpenCV-MinGW-Build     None   \n",
       "166         opencv/opencv_3rdparty     None   \n",
       "\n",
       "                                       readme_contents  \\\n",
       "27   # AI-Job-Notes\\nAI算法岗求职攻略：涵盖校招时间表、准备攻略、刷题指南、内推...   \n",
       "35   # lbpcascade_animeface\\n\\nThe face detector fo...   \n",
       "39   # Study E-Book(ComputerVision DeepLearning Mac...   \n",
       "66   [**版权声明**](#版权声明)\\n\\n# Android 高级面试\\n\\n### ![面...   \n",
       "70   ### OpenCV: Open Source Computer Vision Librar...   \n",
       "142  # OpenCV-MinGW-Build\\n\\nMinGW 32bit and 64bit ...   \n",
       "166  ### OpenCV: Open Source Computer Vision Librar...   \n",
       "\n",
       "                                          text_cleaned  \\\n",
       "27    aijobnotes\\naiai\\n\\naislam\\n\\n  issues\\n\\n \\n...   \n",
       "35    lbpcascade_animeface\\n\\nthe face detector for...   \n",
       "39    study ebookcomputervision deeplearning machin...   \n",
       "66   \\n\\n android \\n\\n img2020androidpng\\n \\n  andr...   \n",
       "70    opencv open source computer vision library\\n\\...   \n",
       "142   opencvmingwbuild\\n\\nmingw 32bit and 64bit ver...   \n",
       "166   opencv open source computer vision library\\n\\...   \n",
       "\n",
       "                                        text_tokenized  \\\n",
       "27   aijobnotes\\naiai\\n\\naislam\\n\\n issues\\n\\n \\n\\n...   \n",
       "35   lbpcascade_animeface\\n\\nthe face detector for ...   \n",
       "39   study ebookcomputervision deeplearning machine...   \n",
       "66   android \\n\\n img2020androidpng\\n \\n androidhtt...   \n",
       "70   opencv open source computer vision library\\n\\n...   \n",
       "142  opencvmingwbuild\\n\\nmingw 32bit and 64bit vers...   \n",
       "166  opencv open source computer vision library\\n\\n...   \n",
       "\n",
       "                                       text_lemmatized  \\\n",
       "27   aijobnotes aiai aislam issue markdowntoc depth...   \n",
       "35   lbpcascade_animeface the face detector for ani...   \n",
       "39   study ebookcomputervision deeplearning machine...   \n",
       "66   android img2020androidpng androidhttpswwwjians...   \n",
       "70   opencv open source computer vision library thi...   \n",
       "142  opencvmingwbuild mingw 32bit and 64bit version...   \n",
       "166  opencv open source computer vision library thi...   \n",
       "\n",
       "                                         text_filtered  \\\n",
       "27   aijobnotes aiai aislam issue markdowntoc depth...   \n",
       "35   lbpcascade_animeface face detector animemanga ...   \n",
       "39   study ebookcomputervision deeplearning machine...   \n",
       "66   android img2020androidpng androidhttpswwwjians...   \n",
       "70   opencv open source computer vision library rep...   \n",
       "142  opencvmingwbuild mingw 32bit 64bit version ope...   \n",
       "166  opencv open source computer vision library rep...   \n",
       "\n",
       "                                                 words  \n",
       "27   [aijobnotes, aiai, aislam, issue, markdowntoc,...  \n",
       "35   [lbpcascadeanimeface, face, detector, animeman...  \n",
       "39   [study, ebookcomputervision, deeplearning, mac...  \n",
       "66   [android, img2020androidpng, androidhttpswwwji...  \n",
       "70   [opencv, open, source, computer, vision, libra...  \n",
       "142  [opencvmingwbuild, mingw, 32bit, 64bit, versio...  \n",
       "166  [opencv, open, source, computer, vision, libra...  "
      ]
     },
     "execution_count": 16,
     "metadata": {},
     "output_type": "execute_result"
    }
   ],
   "source": [
    "# We need to look at which repos have nulls for language\n",
    "repos[repos.language.isnull()]"
   ]
  },
  {
   "cell_type": "code",
   "execution_count": 17,
   "metadata": {
    "scrolled": true
   },
   "outputs": [
    {
     "name": "stdout",
     "output_type": "stream",
     "text": [
      "<class 'pandas.core.frame.DataFrame'>\n",
      "Int64Index: 243 entries, 0 to 249\n",
      "Data columns (total 8 columns):\n",
      " #   Column           Non-Null Count  Dtype \n",
      "---  ------           --------------  ----- \n",
      " 0   repo             243 non-null    object\n",
      " 1   language         243 non-null    object\n",
      " 2   readme_contents  243 non-null    object\n",
      " 3   text_cleaned     243 non-null    object\n",
      " 4   text_tokenized   243 non-null    object\n",
      " 5   text_lemmatized  243 non-null    object\n",
      " 6   text_filtered    243 non-null    object\n",
      " 7   words            243 non-null    object\n",
      "dtypes: object(8)\n",
      "memory usage: 17.1+ KB\n"
     ]
    }
   ],
   "source": [
    "# There are only 6 of the 150 so we will just drop them\n",
    "repos = repos[repos.language.notnull()]\n",
    "repos.info()"
   ]
  },
  {
   "cell_type": "code",
   "execution_count": 18,
   "metadata": {},
   "outputs": [
    {
     "data": {
      "text/plain": [
       "Python              101\n",
       "C++                  79\n",
       "Java                 16\n",
       "Jupyter Notebook     10\n",
       "JavaScript            7\n",
       "C#                    5\n",
       "Objective-C           3\n",
       "Go                    3\n",
       "Shell                 3\n",
       "C                     2\n",
       "PHP                   2\n",
       "HTML                  2\n",
       "Scala                 1\n",
       "Assembly              1\n",
       "Objective-C++         1\n",
       "Rust                  1\n",
       "Dockerfile            1\n",
       "CMake                 1\n",
       "Pascal                1\n",
       "Makefile              1\n",
       "Matlab                1\n",
       "Perl                  1\n",
       "Name: language, dtype: int64"
      ]
     },
     "execution_count": 18,
     "metadata": {},
     "output_type": "execute_result"
    }
   ],
   "source": [
    "# Lets see the breakdown of languages for OpenCV repos\n",
    "repos.language.value_counts()"
   ]
  },
  {
   "cell_type": "code",
   "execution_count": 19,
   "metadata": {},
   "outputs": [
    {
     "data": {
      "text/plain": [
       "Python    101\n",
       "C++        79\n",
       "Name: language, dtype: int64"
      ]
     },
     "execution_count": 19,
     "metadata": {},
     "output_type": "execute_result"
    }
   ],
   "source": [
    "main_two = repos[(repos.language == 'Python') | (repos.language == 'C++')].copy()\n",
    "main_two.language.value_counts()"
   ]
  },
  {
   "cell_type": "code",
   "execution_count": 20,
   "metadata": {},
   "outputs": [],
   "source": [
    "main_two.loc[main_two.language == 'Python', 'language'] = 'python'"
   ]
  },
  {
   "cell_type": "code",
   "execution_count": 21,
   "metadata": {},
   "outputs": [
    {
     "data": {
      "text/html": [
       "<div>\n",
       "<style scoped>\n",
       "    .dataframe tbody tr th:only-of-type {\n",
       "        vertical-align: middle;\n",
       "    }\n",
       "\n",
       "    .dataframe tbody tr th {\n",
       "        vertical-align: top;\n",
       "    }\n",
       "\n",
       "    .dataframe thead th {\n",
       "        text-align: right;\n",
       "    }\n",
       "</style>\n",
       "<table border=\"1\" class=\"dataframe\">\n",
       "  <thead>\n",
       "    <tr style=\"text-align: right;\">\n",
       "      <th></th>\n",
       "      <th>repo</th>\n",
       "      <th>language</th>\n",
       "      <th>readme_contents</th>\n",
       "      <th>text_cleaned</th>\n",
       "      <th>text_tokenized</th>\n",
       "      <th>text_lemmatized</th>\n",
       "      <th>text_filtered</th>\n",
       "      <th>words</th>\n",
       "    </tr>\n",
       "  </thead>\n",
       "  <tbody>\n",
       "    <tr>\n",
       "      <th>0</th>\n",
       "      <td>openframeworks/openFrameworks</td>\n",
       "      <td>C++</td>\n",
       "      <td>[openFrameworks](http://openframeworks.cc/)\\n=...</td>\n",
       "      <td>openframeworkshttpopenframeworkscc\\n\\n\\nopenfr...</td>\n",
       "      <td>openframeworkshttpopenframeworkscc\\n\\n\\nopenfr...</td>\n",
       "      <td>openframeworkshttpopenframeworkscc openframewo...</td>\n",
       "      <td>openframeworkshttpopenframeworkscc openframewo...</td>\n",
       "      <td>[openframeworkshttpopenframeworkscc, openframe...</td>\n",
       "    </tr>\n",
       "    <tr>\n",
       "      <th>1</th>\n",
       "      <td>opencv/opencv_contrib</td>\n",
       "      <td>C++</td>\n",
       "      <td>## Repository for OpenCV's extra modules\\n\\nTh...</td>\n",
       "      <td>repository for opencvs extra modules\\n\\nthis ...</td>\n",
       "      <td>repository for opencvs extra modules\\n\\nthis r...</td>\n",
       "      <td>repository for opencvs extra module this repos...</td>\n",
       "      <td>repository opencvs extra module repository int...</td>\n",
       "      <td>[repository, opencvs, extra, module, repositor...</td>\n",
       "    </tr>\n",
       "    <tr>\n",
       "      <th>2</th>\n",
       "      <td>oarriaga/face_classification</td>\n",
       "      <td>python</td>\n",
       "      <td># This repository is deprecated for at TF-2.0 ...</td>\n",
       "      <td>this repository is deprecated for at tf20 rew...</td>\n",
       "      <td>this repository is deprecated for at tf20 rewr...</td>\n",
       "      <td>this repository is deprecated for at tf20 rewr...</td>\n",
       "      <td>repository deprecated tf20 rewrite visit https...</td>\n",
       "      <td>[repository, deprecated, tf20, rewrite, visit,...</td>\n",
       "    </tr>\n",
       "    <tr>\n",
       "      <th>3</th>\n",
       "      <td>opencv/opencv</td>\n",
       "      <td>C++</td>\n",
       "      <td>## OpenCV: Open Source Computer Vision Library...</td>\n",
       "      <td>opencv open source computer vision library\\n\\...</td>\n",
       "      <td>opencv open source computer vision library\\n\\n...</td>\n",
       "      <td>opencv open source computer vision library res...</td>\n",
       "      <td>opencv open source computer vision library res...</td>\n",
       "      <td>[opencv, open, source, computer, vision, libra...</td>\n",
       "    </tr>\n",
       "    <tr>\n",
       "      <th>4</th>\n",
       "      <td>Ewenwan/MVision</td>\n",
       "      <td>C++</td>\n",
       "      <td># MVision　Machine Vision 机器视觉\\n[AI算法工程师手册 数学基础...</td>\n",
       "      <td>mvision machine vision \\nai     httpwwwhuaxia...</td>\n",
       "      <td>mvision machine vision \\nai httpwwwhuaxiaozhua...</td>\n",
       "      <td>mvision machine vision ai httpwwwhuaxiaozhuanc...</td>\n",
       "      <td>mvision machine vision ai httpwwwhuaxiaozhuanc...</td>\n",
       "      <td>[mvision, machine, vision, ai, httpwwwhuaxiaoz...</td>\n",
       "    </tr>\n",
       "  </tbody>\n",
       "</table>\n",
       "</div>"
      ],
      "text/plain": [
       "                            repo language  \\\n",
       "0  openframeworks/openFrameworks      C++   \n",
       "1          opencv/opencv_contrib      C++   \n",
       "2   oarriaga/face_classification   python   \n",
       "3                  opencv/opencv      C++   \n",
       "4                Ewenwan/MVision      C++   \n",
       "\n",
       "                                     readme_contents  \\\n",
       "0  [openFrameworks](http://openframeworks.cc/)\\n=...   \n",
       "1  ## Repository for OpenCV's extra modules\\n\\nTh...   \n",
       "2  # This repository is deprecated for at TF-2.0 ...   \n",
       "3  ## OpenCV: Open Source Computer Vision Library...   \n",
       "4  # MVision　Machine Vision 机器视觉\\n[AI算法工程师手册 数学基础...   \n",
       "\n",
       "                                        text_cleaned  \\\n",
       "0  openframeworkshttpopenframeworkscc\\n\\n\\nopenfr...   \n",
       "1   repository for opencvs extra modules\\n\\nthis ...   \n",
       "2   this repository is deprecated for at tf20 rew...   \n",
       "3   opencv open source computer vision library\\n\\...   \n",
       "4   mvision machine vision \\nai     httpwwwhuaxia...   \n",
       "\n",
       "                                      text_tokenized  \\\n",
       "0  openframeworkshttpopenframeworkscc\\n\\n\\nopenfr...   \n",
       "1  repository for opencvs extra modules\\n\\nthis r...   \n",
       "2  this repository is deprecated for at tf20 rewr...   \n",
       "3  opencv open source computer vision library\\n\\n...   \n",
       "4  mvision machine vision \\nai httpwwwhuaxiaozhua...   \n",
       "\n",
       "                                     text_lemmatized  \\\n",
       "0  openframeworkshttpopenframeworkscc openframewo...   \n",
       "1  repository for opencvs extra module this repos...   \n",
       "2  this repository is deprecated for at tf20 rewr...   \n",
       "3  opencv open source computer vision library res...   \n",
       "4  mvision machine vision ai httpwwwhuaxiaozhuanc...   \n",
       "\n",
       "                                       text_filtered  \\\n",
       "0  openframeworkshttpopenframeworkscc openframewo...   \n",
       "1  repository opencvs extra module repository int...   \n",
       "2  repository deprecated tf20 rewrite visit https...   \n",
       "3  opencv open source computer vision library res...   \n",
       "4  mvision machine vision ai httpwwwhuaxiaozhuanc...   \n",
       "\n",
       "                                               words  \n",
       "0  [openframeworkshttpopenframeworkscc, openframe...  \n",
       "1  [repository, opencvs, extra, module, repositor...  \n",
       "2  [repository, deprecated, tf20, rewrite, visit,...  \n",
       "3  [opencv, open, source, computer, vision, libra...  \n",
       "4  [mvision, machine, vision, ai, httpwwwhuaxiaoz...  "
      ]
     },
     "execution_count": 21,
     "metadata": {},
     "output_type": "execute_result"
    }
   ],
   "source": [
    "main_two.head()"
   ]
  },
  {
   "cell_type": "code",
   "execution_count": 22,
   "metadata": {},
   "outputs": [],
   "source": [
    "train_validate, test = train_test_split(main_two.copy(), test_size=.2)\n",
    "train, validate = train_test_split(train_validate.copy(), test_size=.25)"
   ]
  },
  {
   "cell_type": "code",
   "execution_count": 23,
   "metadata": {},
   "outputs": [
    {
     "name": "stdout",
     "output_type": "stream",
     "text": [
      "(108, 8) (36, 8) (36, 8)\n"
     ]
    }
   ],
   "source": [
    "print(train.shape, validate.shape, test.shape)"
   ]
  },
  {
   "cell_type": "code",
   "execution_count": 24,
   "metadata": {},
   "outputs": [
    {
     "name": "stdout",
     "output_type": "stream",
     "text": [
      "python    58\n",
      "C++       50\n",
      "Name: language, dtype: int64 \n",
      "\n",
      "python    23\n",
      "C++       13\n",
      "Name: language, dtype: int64 \n",
      "\n",
      "python    20\n",
      "C++       16\n",
      "Name: language, dtype: int64\n"
     ]
    }
   ],
   "source": [
    "print(train.language.value_counts(), '\\n')\n",
    "print(validate.language.value_counts(), '\\n')\n",
    "print(test.language.value_counts())"
   ]
  },
  {
   "cell_type": "markdown",
   "metadata": {},
   "source": [
    "# Explore"
   ]
  },
  {
   "cell_type": "markdown",
   "metadata": {},
   "source": [
    "### What are the most common words in READMEs?"
   ]
  },
  {
   "cell_type": "code",
   "execution_count": 25,
   "metadata": {},
   "outputs": [],
   "source": [
    "# Now we will create word lists for python and C++ repos as they are the majority of our data, and one for all words\n",
    "python_words = ' '.join(train[train.language=='python'].text_filtered)\n",
    "c_plus_plus_words = ' '.join(train[train.language=='C++'].text_filtered)\n",
    "all_words = ' '.join(train.text_filtered)\n",
    "\n",
    "python_words = re.sub(r'\\s.\\s', '', python_words)\n",
    "c_plus_plus_words = re.sub(r'\\s.\\s', '', c_plus_plus_words)\n",
    "all_words = re.sub(r'\\s.\\s', '', all_words)"
   ]
  },
  {
   "cell_type": "code",
   "execution_count": 26,
   "metadata": {},
   "outputs": [
    {
     "name": "stdout",
     "output_type": "stream",
     "text": [
      "Most common python words:\n",
      "image                   496\n",
      "tdtd                    383\n",
      "python                  294\n",
      "aligncentersupported    238\n",
      "model                   197\n",
      "dtype: int64\n",
      "\n",
      "Most common c++ words:\n",
      "opencv    201\n",
      "image     150\n",
      "build     134\n",
      "use       128\n",
      "using     123\n",
      "dtype: int64\n",
      "\n",
      "Most common words in all repos:\n",
      "image     646\n",
      "tdtd      383\n",
      "python    340\n",
      "opencv    340\n",
      "using     285\n",
      "dtype: int64\n"
     ]
    }
   ],
   "source": [
    "python_freq = pd.Series(python_words.split()).value_counts()\n",
    "c_plus_plus_freq = pd.Series(c_plus_plus_words.split()).value_counts()\n",
    "all_freq = pd.Series(all_words.split()).value_counts()\n",
    "\n",
    "print('Most common python words:')\n",
    "print(python_freq.head())\n",
    "print()\n",
    "print('Most common c++ words:')\n",
    "print(c_plus_plus_freq.head())\n",
    "print()\n",
    "print('Most common words in all repos:')\n",
    "print(all_freq.head())"
   ]
  },
  {
   "cell_type": "code",
   "execution_count": 27,
   "metadata": {
    "scrolled": true
   },
   "outputs": [
    {
     "data": {
      "text/html": [
       "<div>\n",
       "<style scoped>\n",
       "    .dataframe tbody tr th:only-of-type {\n",
       "        vertical-align: middle;\n",
       "    }\n",
       "\n",
       "    .dataframe tbody tr th {\n",
       "        vertical-align: top;\n",
       "    }\n",
       "\n",
       "    .dataframe thead th {\n",
       "        text-align: right;\n",
       "    }\n",
       "</style>\n",
       "<table border=\"1\" class=\"dataframe\">\n",
       "  <thead>\n",
       "    <tr style=\"text-align: right;\">\n",
       "      <th></th>\n",
       "      <th>all</th>\n",
       "      <th>python</th>\n",
       "      <th>C++</th>\n",
       "    </tr>\n",
       "  </thead>\n",
       "  <tbody>\n",
       "    <tr>\n",
       "      <th>image</th>\n",
       "      <td>646</td>\n",
       "      <td>496</td>\n",
       "      <td>150</td>\n",
       "    </tr>\n",
       "    <tr>\n",
       "      <th>tdtd</th>\n",
       "      <td>383</td>\n",
       "      <td>383</td>\n",
       "      <td>0</td>\n",
       "    </tr>\n",
       "    <tr>\n",
       "      <th>opencv</th>\n",
       "      <td>340</td>\n",
       "      <td>139</td>\n",
       "      <td>201</td>\n",
       "    </tr>\n",
       "    <tr>\n",
       "      <th>python</th>\n",
       "      <td>340</td>\n",
       "      <td>294</td>\n",
       "      <td>46</td>\n",
       "    </tr>\n",
       "    <tr>\n",
       "      <th>using</th>\n",
       "      <td>285</td>\n",
       "      <td>162</td>\n",
       "      <td>123</td>\n",
       "    </tr>\n",
       "    <tr>\n",
       "      <th>use</th>\n",
       "      <td>256</td>\n",
       "      <td>128</td>\n",
       "      <td>128</td>\n",
       "    </tr>\n",
       "    <tr>\n",
       "      <th>install</th>\n",
       "      <td>239</td>\n",
       "      <td>167</td>\n",
       "      <td>72</td>\n",
       "    </tr>\n",
       "    <tr>\n",
       "      <th>aligncentersupported</th>\n",
       "      <td>238</td>\n",
       "      <td>238</td>\n",
       "      <td>0</td>\n",
       "    </tr>\n",
       "    <tr>\n",
       "      <th>face</th>\n",
       "      <td>238</td>\n",
       "      <td>186</td>\n",
       "      <td>52</td>\n",
       "    </tr>\n",
       "    <tr>\n",
       "      <th>file</th>\n",
       "      <td>236</td>\n",
       "      <td>160</td>\n",
       "      <td>76</td>\n",
       "    </tr>\n",
       "  </tbody>\n",
       "</table>\n",
       "</div>"
      ],
      "text/plain": [
       "                      all  python  C++\n",
       "image                 646     496  150\n",
       "tdtd                  383     383    0\n",
       "opencv                340     139  201\n",
       "python                340     294   46\n",
       "using                 285     162  123\n",
       "use                   256     128  128\n",
       "install               239     167   72\n",
       "aligncentersupported  238     238    0\n",
       "face                  238     186   52\n",
       "file                  236     160   76"
      ]
     },
     "execution_count": 27,
     "metadata": {},
     "output_type": "execute_result"
    }
   ],
   "source": [
    "word_counts = (pd.concat([all_freq, python_freq, c_plus_plus_freq], axis=1, sort=True)\n",
    "               .set_axis(['all', 'python', 'C++'], axis=1, inplace=False)\n",
    "               .fillna(0)\n",
    "               .apply(lambda s: s.astype(int))\n",
    "              )\n",
    "\n",
    "word_counts.sort_values(by='all', ascending=False).head(10)"
   ]
  },
  {
   "cell_type": "markdown",
   "metadata": {},
   "source": [
    "### Does the length of the README vary by programming language?"
   ]
  },
  {
   "cell_type": "code",
   "execution_count": 28,
   "metadata": {},
   "outputs": [],
   "source": [
    "train['doc_len'] = [len(x) for x in train.words]\n",
    "validate['doc_len'] = [len(x) for x in validate.words]\n",
    "test['doc_len'] = [len(x) for x in test.words]"
   ]
  },
  {
   "cell_type": "code",
   "execution_count": 29,
   "metadata": {},
   "outputs": [
    {
     "data": {
      "text/html": [
       "<div>\n",
       "<style scoped>\n",
       "    .dataframe tbody tr th:only-of-type {\n",
       "        vertical-align: middle;\n",
       "    }\n",
       "\n",
       "    .dataframe tbody tr th {\n",
       "        vertical-align: top;\n",
       "    }\n",
       "\n",
       "    .dataframe thead th {\n",
       "        text-align: right;\n",
       "    }\n",
       "</style>\n",
       "<table border=\"1\" class=\"dataframe\">\n",
       "  <thead>\n",
       "    <tr style=\"text-align: right;\">\n",
       "      <th></th>\n",
       "      <th>repo</th>\n",
       "      <th>language</th>\n",
       "      <th>readme_contents</th>\n",
       "      <th>text_cleaned</th>\n",
       "      <th>text_tokenized</th>\n",
       "      <th>text_lemmatized</th>\n",
       "      <th>text_filtered</th>\n",
       "      <th>words</th>\n",
       "      <th>doc_len</th>\n",
       "    </tr>\n",
       "  </thead>\n",
       "  <tbody>\n",
       "    <tr>\n",
       "      <th>155</th>\n",
       "      <td>SixQuant/nowatermark</td>\n",
       "      <td>python</td>\n",
       "      <td># nowatermark\\n\\n[![PyPI Version](https://img....</td>\n",
       "      <td>nowatermark\\n\\npypi versionhttpsimgshieldsiop...</td>\n",
       "      <td>nowatermark\\n\\npypi versionhttpsimgshieldsiopy...</td>\n",
       "      <td>nowatermark pypi versionhttpsimgshieldsiopypiv...</td>\n",
       "      <td>nowatermark pypi versionhttpsimgshieldsiopypiv...</td>\n",
       "      <td>[nowatermark, pypi, versionhttpsimgshieldsiopy...</td>\n",
       "      <td>132</td>\n",
       "    </tr>\n",
       "    <tr>\n",
       "      <th>231</th>\n",
       "      <td>jiafeng5513/Evision</td>\n",
       "      <td>C++</td>\n",
       "      <td>&lt;div align=center&gt;&lt;img width=\"100\" height=\"100...</td>\n",
       "      <td>div aligncenterimg width100 height100 srcsrcev...</td>\n",
       "      <td>div aligncenterimg width100 height100 srcsrcev...</td>\n",
       "      <td>div aligncenterimg width100 height100 srcsrcev...</td>\n",
       "      <td>div aligncenterimg width100 height100 srcsrcev...</td>\n",
       "      <td>[div, aligncenterimg, width100, height100, src...</td>\n",
       "      <td>192</td>\n",
       "    </tr>\n",
       "    <tr>\n",
       "      <th>9</th>\n",
       "      <td>PySimpleGUI/PySimpleGUI</td>\n",
       "      <td>python</td>\n",
       "      <td>\\n&lt;p align=\"center\"&gt;\\n  &lt;img src=\"https://raw....</td>\n",
       "      <td>\\np aligncenter\\n  img srchttpsrawgithubuserco...</td>\n",
       "      <td>p aligncenter\\n img srchttpsrawgithubuserconte...</td>\n",
       "      <td>p aligncenter img srchttpsrawgithubusercontent...</td>\n",
       "      <td>p aligncenter img srchttpsrawgithubusercontent...</td>\n",
       "      <td>[p, aligncenter, img, srchttpsrawgithubusercon...</td>\n",
       "      <td>657</td>\n",
       "    </tr>\n",
       "    <tr>\n",
       "      <th>190</th>\n",
       "      <td>YuanhaoGong/CurvatureFilter</td>\n",
       "      <td>C++</td>\n",
       "      <td>### Curvature filters are efficient solvers fo...</td>\n",
       "      <td>curvature filters are efficient solvers for v...</td>\n",
       "      <td>curvature filters are efficient solvers for va...</td>\n",
       "      <td>curvature filter are efficient solver for vari...</td>\n",
       "      <td>curvature filter efficient solver variational ...</td>\n",
       "      <td>[curvature, filter, efficient, solver, variati...</td>\n",
       "      <td>544</td>\n",
       "    </tr>\n",
       "    <tr>\n",
       "      <th>2</th>\n",
       "      <td>oarriaga/face_classification</td>\n",
       "      <td>python</td>\n",
       "      <td># This repository is deprecated for at TF-2.0 ...</td>\n",
       "      <td>this repository is deprecated for at tf20 rew...</td>\n",
       "      <td>this repository is deprecated for at tf20 rewr...</td>\n",
       "      <td>this repository is deprecated for at tf20 rewr...</td>\n",
       "      <td>repository deprecated tf20 rewrite visit https...</td>\n",
       "      <td>[repository, deprecated, tf20, rewrite, visit,...</td>\n",
       "      <td>162</td>\n",
       "    </tr>\n",
       "  </tbody>\n",
       "</table>\n",
       "</div>"
      ],
      "text/plain": [
       "                             repo language  \\\n",
       "155          SixQuant/nowatermark   python   \n",
       "231           jiafeng5513/Evision      C++   \n",
       "9         PySimpleGUI/PySimpleGUI   python   \n",
       "190   YuanhaoGong/CurvatureFilter      C++   \n",
       "2    oarriaga/face_classification   python   \n",
       "\n",
       "                                       readme_contents  \\\n",
       "155  # nowatermark\\n\\n[![PyPI Version](https://img....   \n",
       "231  <div align=center><img width=\"100\" height=\"100...   \n",
       "9    \\n<p align=\"center\">\\n  <img src=\"https://raw....   \n",
       "190  ### Curvature filters are efficient solvers fo...   \n",
       "2    # This repository is deprecated for at TF-2.0 ...   \n",
       "\n",
       "                                          text_cleaned  \\\n",
       "155   nowatermark\\n\\npypi versionhttpsimgshieldsiop...   \n",
       "231  div aligncenterimg width100 height100 srcsrcev...   \n",
       "9    \\np aligncenter\\n  img srchttpsrawgithubuserco...   \n",
       "190   curvature filters are efficient solvers for v...   \n",
       "2     this repository is deprecated for at tf20 rew...   \n",
       "\n",
       "                                        text_tokenized  \\\n",
       "155  nowatermark\\n\\npypi versionhttpsimgshieldsiopy...   \n",
       "231  div aligncenterimg width100 height100 srcsrcev...   \n",
       "9    p aligncenter\\n img srchttpsrawgithubuserconte...   \n",
       "190  curvature filters are efficient solvers for va...   \n",
       "2    this repository is deprecated for at tf20 rewr...   \n",
       "\n",
       "                                       text_lemmatized  \\\n",
       "155  nowatermark pypi versionhttpsimgshieldsiopypiv...   \n",
       "231  div aligncenterimg width100 height100 srcsrcev...   \n",
       "9    p aligncenter img srchttpsrawgithubusercontent...   \n",
       "190  curvature filter are efficient solver for vari...   \n",
       "2    this repository is deprecated for at tf20 rewr...   \n",
       "\n",
       "                                         text_filtered  \\\n",
       "155  nowatermark pypi versionhttpsimgshieldsiopypiv...   \n",
       "231  div aligncenterimg width100 height100 srcsrcev...   \n",
       "9    p aligncenter img srchttpsrawgithubusercontent...   \n",
       "190  curvature filter efficient solver variational ...   \n",
       "2    repository deprecated tf20 rewrite visit https...   \n",
       "\n",
       "                                                 words  doc_len  \n",
       "155  [nowatermark, pypi, versionhttpsimgshieldsiopy...      132  \n",
       "231  [div, aligncenterimg, width100, height100, src...      192  \n",
       "9    [p, aligncenter, img, srchttpsrawgithubusercon...      657  \n",
       "190  [curvature, filter, efficient, solver, variati...      544  \n",
       "2    [repository, deprecated, tf20, rewrite, visit,...      162  "
      ]
     },
     "execution_count": 29,
     "metadata": {},
     "output_type": "execute_result"
    }
   ],
   "source": [
    "train.head()"
   ]
  },
  {
   "cell_type": "code",
   "execution_count": 30,
   "metadata": {
    "scrolled": true
   },
   "outputs": [
    {
     "data": {
      "text/html": [
       "<div>\n",
       "<style scoped>\n",
       "    .dataframe tbody tr th:only-of-type {\n",
       "        vertical-align: middle;\n",
       "    }\n",
       "\n",
       "    .dataframe tbody tr th {\n",
       "        vertical-align: top;\n",
       "    }\n",
       "\n",
       "    .dataframe thead th {\n",
       "        text-align: right;\n",
       "    }\n",
       "</style>\n",
       "<table border=\"1\" class=\"dataframe\">\n",
       "  <thead>\n",
       "    <tr style=\"text-align: right;\">\n",
       "      <th></th>\n",
       "      <th>count</th>\n",
       "      <th>mean</th>\n",
       "      <th>std</th>\n",
       "      <th>min</th>\n",
       "      <th>25%</th>\n",
       "      <th>50%</th>\n",
       "      <th>75%</th>\n",
       "      <th>max</th>\n",
       "    </tr>\n",
       "    <tr>\n",
       "      <th>language</th>\n",
       "      <th></th>\n",
       "      <th></th>\n",
       "      <th></th>\n",
       "      <th></th>\n",
       "      <th></th>\n",
       "      <th></th>\n",
       "      <th></th>\n",
       "      <th></th>\n",
       "    </tr>\n",
       "  </thead>\n",
       "  <tbody>\n",
       "    <tr>\n",
       "      <th>C++</th>\n",
       "      <td>50.0</td>\n",
       "      <td>323.240000</td>\n",
       "      <td>243.464917</td>\n",
       "      <td>7.0</td>\n",
       "      <td>134.25</td>\n",
       "      <td>302.5</td>\n",
       "      <td>461.00</td>\n",
       "      <td>1061.0</td>\n",
       "    </tr>\n",
       "    <tr>\n",
       "      <th>python</th>\n",
       "      <td>58.0</td>\n",
       "      <td>580.172414</td>\n",
       "      <td>830.599364</td>\n",
       "      <td>3.0</td>\n",
       "      <td>104.50</td>\n",
       "      <td>209.5</td>\n",
       "      <td>729.75</td>\n",
       "      <td>3719.0</td>\n",
       "    </tr>\n",
       "  </tbody>\n",
       "</table>\n",
       "</div>"
      ],
      "text/plain": [
       "          count        mean         std  min     25%    50%     75%     max\n",
       "language                                                                   \n",
       "C++        50.0  323.240000  243.464917  7.0  134.25  302.5  461.00  1061.0\n",
       "python     58.0  580.172414  830.599364  3.0  104.50  209.5  729.75  3719.0"
      ]
     },
     "execution_count": 30,
     "metadata": {},
     "output_type": "execute_result"
    }
   ],
   "source": [
    "train.groupby(train.language).doc_len.describe()"
   ]
  },
  {
   "cell_type": "markdown",
   "metadata": {},
   "source": [
    "### What does the distribution of IDFs look like for the most common words?"
   ]
  },
  {
   "cell_type": "code",
   "execution_count": 31,
   "metadata": {},
   "outputs": [],
   "source": [
    "def idf(word):\n",
    "    n_occurences = sum([1 for doc in train.text_filtered if word in doc])\n",
    "    return np.log(len(train.words) / n_occurences)"
   ]
  },
  {
   "cell_type": "code",
   "execution_count": 32,
   "metadata": {},
   "outputs": [],
   "source": [
    "unique_words = pd.Series(' '.join(train.text_filtered).split()).unique()"
   ]
  },
  {
   "cell_type": "code",
   "execution_count": 33,
   "metadata": {},
   "outputs": [
    {
     "data": {
      "text/plain": [
       "array(['nowatermark', 'pypi',\n",
       "       'versionhttpsimgshieldsiopypivnowatermarksvghttpspypipythonorgpypinowatermark',\n",
       "       ...,\n",
       "       'posithttpsrawgithubcommasteringopencvcodemasterchapter7_headposeestimationscreenshotpng',\n",
       "       'fisherfaceshttpsrawgithubcommasteringopencvcodemasterchapter8_facerecognitionscreenshotpng',\n",
       "       'kinecthttpsrawgithubcommasteringopencvcodemasterchapter9_fluidinteractionusingkinectscreenshotpng'],\n",
       "      dtype=object)"
      ]
     },
     "execution_count": 33,
     "metadata": {},
     "output_type": "execute_result"
    }
   ],
   "source": [
    "unique_words"
   ]
  },
  {
   "cell_type": "code",
   "execution_count": 34,
   "metadata": {},
   "outputs": [
    {
     "data": {
      "text/html": [
       "<div>\n",
       "<style scoped>\n",
       "    .dataframe tbody tr th:only-of-type {\n",
       "        vertical-align: middle;\n",
       "    }\n",
       "\n",
       "    .dataframe tbody tr th {\n",
       "        vertical-align: top;\n",
       "    }\n",
       "\n",
       "    .dataframe thead th {\n",
       "        text-align: right;\n",
       "    }\n",
       "</style>\n",
       "<table border=\"1\" class=\"dataframe\">\n",
       "  <thead>\n",
       "    <tr style=\"text-align: right;\">\n",
       "      <th></th>\n",
       "      <th>idf</th>\n",
       "    </tr>\n",
       "    <tr>\n",
       "      <th>word</th>\n",
       "      <th></th>\n",
       "    </tr>\n",
       "  </thead>\n",
       "  <tbody>\n",
       "    <tr>\n",
       "      <th>is_fake_replay</th>\n",
       "      <td>4.682131</td>\n",
       "    </tr>\n",
       "    <tr>\n",
       "      <th>sturmovik</th>\n",
       "      <td>4.682131</td>\n",
       "    </tr>\n",
       "    <tr>\n",
       "      <th>donovan</th>\n",
       "      <td>4.682131</td>\n",
       "    </tr>\n",
       "    <tr>\n",
       "      <th>baarda</th>\n",
       "      <td>4.682131</td>\n",
       "    </tr>\n",
       "    <tr>\n",
       "      <th>filteringcontrol</th>\n",
       "      <td>4.682131</td>\n",
       "    </tr>\n",
       "    <tr>\n",
       "      <th>mathijs</th>\n",
       "      <td>4.682131</td>\n",
       "    </tr>\n",
       "    <tr>\n",
       "      <th>groothuis</th>\n",
       "      <td>4.682131</td>\n",
       "    </tr>\n",
       "    <tr>\n",
       "      <th>mathijsg</th>\n",
       "      <td>4.682131</td>\n",
       "    </tr>\n",
       "    <tr>\n",
       "      <th>dozen</th>\n",
       "      <td>4.682131</td>\n",
       "    </tr>\n",
       "    <tr>\n",
       "      <th>il2</th>\n",
       "      <td>4.682131</td>\n",
       "    </tr>\n",
       "  </tbody>\n",
       "</table>\n",
       "</div>"
      ],
      "text/plain": [
       "                       idf\n",
       "word                      \n",
       "is_fake_replay    4.682131\n",
       "sturmovik         4.682131\n",
       "donovan           4.682131\n",
       "baarda            4.682131\n",
       "filteringcontrol  4.682131\n",
       "mathijs           4.682131\n",
       "groothuis         4.682131\n",
       "mathijsg          4.682131\n",
       "dozen             4.682131\n",
       "il2               4.682131"
      ]
     },
     "execution_count": 34,
     "metadata": {},
     "output_type": "execute_result"
    }
   ],
   "source": [
    "idf_words = (pd.DataFrame(dict(word=unique_words))\n",
    " .assign(idf=lambda df: df.word.apply(idf))\n",
    " .set_index('word')\n",
    " .sort_values(by='idf', ascending=False))\n",
    "idf_words.head(10)"
   ]
  },
  {
   "cell_type": "code",
   "execution_count": 35,
   "metadata": {},
   "outputs": [
    {
     "data": {
      "text/html": [
       "<div>\n",
       "<style scoped>\n",
       "    .dataframe tbody tr th:only-of-type {\n",
       "        vertical-align: middle;\n",
       "    }\n",
       "\n",
       "    .dataframe tbody tr th {\n",
       "        vertical-align: top;\n",
       "    }\n",
       "\n",
       "    .dataframe thead th {\n",
       "        text-align: right;\n",
       "    }\n",
       "</style>\n",
       "<table border=\"1\" class=\"dataframe\">\n",
       "  <thead>\n",
       "    <tr style=\"text-align: right;\">\n",
       "      <th></th>\n",
       "      <th>idf</th>\n",
       "    </tr>\n",
       "  </thead>\n",
       "  <tbody>\n",
       "    <tr>\n",
       "      <th>count</th>\n",
       "      <td>12353.000000</td>\n",
       "    </tr>\n",
       "    <tr>\n",
       "      <th>mean</th>\n",
       "      <td>4.104823</td>\n",
       "    </tr>\n",
       "    <tr>\n",
       "      <th>std</th>\n",
       "      <td>1.039659</td>\n",
       "    </tr>\n",
       "    <tr>\n",
       "      <th>min</th>\n",
       "      <td>0.000000</td>\n",
       "    </tr>\n",
       "    <tr>\n",
       "      <th>25%</th>\n",
       "      <td>3.988984</td>\n",
       "    </tr>\n",
       "    <tr>\n",
       "      <th>50%</th>\n",
       "      <td>4.682131</td>\n",
       "    </tr>\n",
       "    <tr>\n",
       "      <th>75%</th>\n",
       "      <td>4.682131</td>\n",
       "    </tr>\n",
       "    <tr>\n",
       "      <th>max</th>\n",
       "      <td>4.682131</td>\n",
       "    </tr>\n",
       "  </tbody>\n",
       "</table>\n",
       "</div>"
      ],
      "text/plain": [
       "                idf\n",
       "count  12353.000000\n",
       "mean       4.104823\n",
       "std        1.039659\n",
       "min        0.000000\n",
       "25%        3.988984\n",
       "50%        4.682131\n",
       "75%        4.682131\n",
       "max        4.682131"
      ]
     },
     "execution_count": 35,
     "metadata": {},
     "output_type": "execute_result"
    }
   ],
   "source": [
    "idf_words.describe()"
   ]
  },
  {
   "cell_type": "code",
   "execution_count": 36,
   "metadata": {},
   "outputs": [],
   "source": [
    "top_five_words = pd.DataFrame()\n",
    "for word in all_freq.head().index:\n",
    "    hold = idf_words[idf_words.index == word]\n",
    "    top_five_words = top_five_words.append(hold)"
   ]
  },
  {
   "cell_type": "code",
   "execution_count": 37,
   "metadata": {},
   "outputs": [
    {
     "data": {
      "text/html": [
       "<div>\n",
       "<style scoped>\n",
       "    .dataframe tbody tr th:only-of-type {\n",
       "        vertical-align: middle;\n",
       "    }\n",
       "\n",
       "    .dataframe tbody tr th {\n",
       "        vertical-align: top;\n",
       "    }\n",
       "\n",
       "    .dataframe thead th {\n",
       "        text-align: right;\n",
       "    }\n",
       "</style>\n",
       "<table border=\"1\" class=\"dataframe\">\n",
       "  <thead>\n",
       "    <tr style=\"text-align: right;\">\n",
       "      <th></th>\n",
       "      <th>idf</th>\n",
       "    </tr>\n",
       "    <tr>\n",
       "      <th>word</th>\n",
       "      <th></th>\n",
       "    </tr>\n",
       "  </thead>\n",
       "  <tbody>\n",
       "    <tr>\n",
       "      <th>tdtd</th>\n",
       "      <td>4.682131</td>\n",
       "    </tr>\n",
       "    <tr>\n",
       "      <th>python</th>\n",
       "      <td>0.492476</td>\n",
       "    </tr>\n",
       "    <tr>\n",
       "      <th>using</th>\n",
       "      <td>0.433636</td>\n",
       "    </tr>\n",
       "    <tr>\n",
       "      <th>image</th>\n",
       "      <td>0.391672</td>\n",
       "    </tr>\n",
       "    <tr>\n",
       "      <th>opencv</th>\n",
       "      <td>0.107420</td>\n",
       "    </tr>\n",
       "  </tbody>\n",
       "</table>\n",
       "</div>"
      ],
      "text/plain": [
       "             idf\n",
       "word            \n",
       "tdtd    4.682131\n",
       "python  0.492476\n",
       "using   0.433636\n",
       "image   0.391672\n",
       "opencv  0.107420"
      ]
     },
     "execution_count": 37,
     "metadata": {},
     "output_type": "execute_result"
    }
   ],
   "source": [
    "top_five_words.sort_values(by='idf', ascending=False)"
   ]
  },
  {
   "cell_type": "code",
   "execution_count": 38,
   "metadata": {},
   "outputs": [],
   "source": [
    "top_five_python = pd.DataFrame()\n",
    "for word in python_freq.head().index:\n",
    "    hold = idf_words[idf_words.index == word]\n",
    "    top_five_python = top_five_python.append(hold)"
   ]
  },
  {
   "cell_type": "code",
   "execution_count": 39,
   "metadata": {},
   "outputs": [
    {
     "data": {
      "text/html": [
       "<div>\n",
       "<style scoped>\n",
       "    .dataframe tbody tr th:only-of-type {\n",
       "        vertical-align: middle;\n",
       "    }\n",
       "\n",
       "    .dataframe tbody tr th {\n",
       "        vertical-align: top;\n",
       "    }\n",
       "\n",
       "    .dataframe thead th {\n",
       "        text-align: right;\n",
       "    }\n",
       "</style>\n",
       "<table border=\"1\" class=\"dataframe\">\n",
       "  <thead>\n",
       "    <tr style=\"text-align: right;\">\n",
       "      <th></th>\n",
       "      <th>idf</th>\n",
       "    </tr>\n",
       "    <tr>\n",
       "      <th>word</th>\n",
       "      <th></th>\n",
       "    </tr>\n",
       "  </thead>\n",
       "  <tbody>\n",
       "    <tr>\n",
       "      <th>tdtd</th>\n",
       "      <td>4.682131</td>\n",
       "    </tr>\n",
       "    <tr>\n",
       "      <th>aligncentersupported</th>\n",
       "      <td>4.682131</td>\n",
       "    </tr>\n",
       "    <tr>\n",
       "      <th>model</th>\n",
       "      <td>1.044545</td>\n",
       "    </tr>\n",
       "    <tr>\n",
       "      <th>python</th>\n",
       "      <td>0.492476</td>\n",
       "    </tr>\n",
       "    <tr>\n",
       "      <th>image</th>\n",
       "      <td>0.391672</td>\n",
       "    </tr>\n",
       "  </tbody>\n",
       "</table>\n",
       "</div>"
      ],
      "text/plain": [
       "                           idf\n",
       "word                          \n",
       "tdtd                  4.682131\n",
       "aligncentersupported  4.682131\n",
       "model                 1.044545\n",
       "python                0.492476\n",
       "image                 0.391672"
      ]
     },
     "execution_count": 39,
     "metadata": {},
     "output_type": "execute_result"
    }
   ],
   "source": [
    "top_five_python.sort_values(by='idf').sort_values(by='idf', ascending=False).head()"
   ]
  },
  {
   "cell_type": "code",
   "execution_count": 40,
   "metadata": {},
   "outputs": [],
   "source": [
    "top_five_cplus2 = pd.DataFrame()\n",
    "for word in c_plus_plus_freq.head().index:\n",
    "    hold = idf_words[idf_words.index == word]\n",
    "    top_five_cplus2 = top_five_cplus2.append(hold)"
   ]
  },
  {
   "cell_type": "code",
   "execution_count": 41,
   "metadata": {},
   "outputs": [
    {
     "data": {
      "text/html": [
       "<div>\n",
       "<style scoped>\n",
       "    .dataframe tbody tr th:only-of-type {\n",
       "        vertical-align: middle;\n",
       "    }\n",
       "\n",
       "    .dataframe tbody tr th {\n",
       "        vertical-align: top;\n",
       "    }\n",
       "\n",
       "    .dataframe thead th {\n",
       "        text-align: right;\n",
       "    }\n",
       "</style>\n",
       "<table border=\"1\" class=\"dataframe\">\n",
       "  <thead>\n",
       "    <tr style=\"text-align: right;\">\n",
       "      <th></th>\n",
       "      <th>idf</th>\n",
       "    </tr>\n",
       "    <tr>\n",
       "      <th>word</th>\n",
       "      <th></th>\n",
       "    </tr>\n",
       "  </thead>\n",
       "  <tbody>\n",
       "    <tr>\n",
       "      <th>build</th>\n",
       "      <td>0.730888</td>\n",
       "    </tr>\n",
       "    <tr>\n",
       "      <th>using</th>\n",
       "      <td>0.433636</td>\n",
       "    </tr>\n",
       "    <tr>\n",
       "      <th>image</th>\n",
       "      <td>0.391672</td>\n",
       "    </tr>\n",
       "    <tr>\n",
       "      <th>use</th>\n",
       "      <td>0.300105</td>\n",
       "    </tr>\n",
       "    <tr>\n",
       "      <th>opencv</th>\n",
       "      <td>0.107420</td>\n",
       "    </tr>\n",
       "  </tbody>\n",
       "</table>\n",
       "</div>"
      ],
      "text/plain": [
       "             idf\n",
       "word            \n",
       "build   0.730888\n",
       "using   0.433636\n",
       "image   0.391672\n",
       "use     0.300105\n",
       "opencv  0.107420"
      ]
     },
     "execution_count": 41,
     "metadata": {},
     "output_type": "execute_result"
    }
   ],
   "source": [
    "top_five_cplus2.sort_values(by='idf', ascending=False).head()"
   ]
  },
  {
   "cell_type": "markdown",
   "metadata": {},
   "source": [
    "### Comparing Doc Length"
   ]
  },
  {
   "cell_type": "code",
   "execution_count": 42,
   "metadata": {},
   "outputs": [
    {
     "data": {
      "text/plain": [
       "count     108.000000\n",
       "mean      461.222222\n",
       "std       641.268607\n",
       "min         3.000000\n",
       "25%       115.750000\n",
       "50%       250.500000\n",
       "75%       546.750000\n",
       "max      3719.000000\n",
       "Name: doc_len, dtype: float64"
      ]
     },
     "execution_count": 42,
     "metadata": {},
     "output_type": "execute_result"
    }
   ],
   "source": [
    "train.doc_len.describe()"
   ]
  },
  {
   "cell_type": "code",
   "execution_count": 43,
   "metadata": {},
   "outputs": [
    {
     "data": {
      "text/plain": [
       "count      58.000000\n",
       "mean      580.172414\n",
       "std       830.599364\n",
       "min         3.000000\n",
       "25%       104.500000\n",
       "50%       209.500000\n",
       "75%       729.750000\n",
       "max      3719.000000\n",
       "Name: doc_len, dtype: float64"
      ]
     },
     "execution_count": 43,
     "metadata": {},
     "output_type": "execute_result"
    }
   ],
   "source": [
    "train[train.language == 'python'].doc_len.describe()"
   ]
  },
  {
   "cell_type": "code",
   "execution_count": 44,
   "metadata": {},
   "outputs": [
    {
     "data": {
      "text/plain": [
       "count      50.000000\n",
       "mean      323.240000\n",
       "std       243.464917\n",
       "min         7.000000\n",
       "25%       134.250000\n",
       "50%       302.500000\n",
       "75%       461.000000\n",
       "max      1061.000000\n",
       "Name: doc_len, dtype: float64"
      ]
     },
     "execution_count": 44,
     "metadata": {},
     "output_type": "execute_result"
    }
   ],
   "source": [
    "train[train.language == 'C++'].doc_len.describe()"
   ]
  },
  {
   "cell_type": "markdown",
   "metadata": {},
   "source": [
    "### Comparing Top Ten Words From Each Language"
   ]
  },
  {
   "cell_type": "code",
   "execution_count": 45,
   "metadata": {},
   "outputs": [],
   "source": [
    "top_ten_python = word_counts['python'].sort_values(ascending=False).head(10)\n",
    "\n",
    "top_ten_cplus2 = word_counts['C++'].sort_values(ascending=False).head(10)\n",
    "\n",
    "top_ten_both = list(top_ten_python.index) + list(top_ten_cplus2.index)\n",
    "\n",
    "top_ten_combined = word_counts[word_counts.index.isin(top_ten_both)]"
   ]
  },
  {
   "cell_type": "code",
   "execution_count": 46,
   "metadata": {
    "scrolled": false
   },
   "outputs": [
    {
     "data": {
      "text/html": [
       "<div>\n",
       "<style scoped>\n",
       "    .dataframe tbody tr th:only-of-type {\n",
       "        vertical-align: middle;\n",
       "    }\n",
       "\n",
       "    .dataframe tbody tr th {\n",
       "        vertical-align: top;\n",
       "    }\n",
       "\n",
       "    .dataframe thead th {\n",
       "        text-align: right;\n",
       "    }\n",
       "</style>\n",
       "<table border=\"1\" class=\"dataframe\">\n",
       "  <thead>\n",
       "    <tr style=\"text-align: right;\">\n",
       "      <th></th>\n",
       "      <th>all</th>\n",
       "      <th>python</th>\n",
       "      <th>C++</th>\n",
       "    </tr>\n",
       "  </thead>\n",
       "  <tbody>\n",
       "    <tr>\n",
       "      <th>aligncentersupported</th>\n",
       "      <td>238</td>\n",
       "      <td>238</td>\n",
       "      <td>0</td>\n",
       "    </tr>\n",
       "    <tr>\n",
       "      <th>build</th>\n",
       "      <td>162</td>\n",
       "      <td>29</td>\n",
       "      <td>134</td>\n",
       "    </tr>\n",
       "    <tr>\n",
       "      <th>camera</th>\n",
       "      <td>206</td>\n",
       "      <td>131</td>\n",
       "      <td>75</td>\n",
       "    </tr>\n",
       "    <tr>\n",
       "      <th>example</th>\n",
       "      <td>168</td>\n",
       "      <td>75</td>\n",
       "      <td>93</td>\n",
       "    </tr>\n",
       "    <tr>\n",
       "      <th>face</th>\n",
       "      <td>238</td>\n",
       "      <td>186</td>\n",
       "      <td>52</td>\n",
       "    </tr>\n",
       "    <tr>\n",
       "      <th>file</th>\n",
       "      <td>236</td>\n",
       "      <td>160</td>\n",
       "      <td>76</td>\n",
       "    </tr>\n",
       "    <tr>\n",
       "      <th>image</th>\n",
       "      <td>646</td>\n",
       "      <td>496</td>\n",
       "      <td>150</td>\n",
       "    </tr>\n",
       "    <tr>\n",
       "      <th>install</th>\n",
       "      <td>239</td>\n",
       "      <td>167</td>\n",
       "      <td>72</td>\n",
       "    </tr>\n",
       "    <tr>\n",
       "      <th>library</th>\n",
       "      <td>139</td>\n",
       "      <td>65</td>\n",
       "      <td>74</td>\n",
       "    </tr>\n",
       "    <tr>\n",
       "      <th>model</th>\n",
       "      <td>215</td>\n",
       "      <td>197</td>\n",
       "      <td>18</td>\n",
       "    </tr>\n",
       "    <tr>\n",
       "      <th>opencv</th>\n",
       "      <td>340</td>\n",
       "      <td>139</td>\n",
       "      <td>201</td>\n",
       "    </tr>\n",
       "    <tr>\n",
       "      <th>project</th>\n",
       "      <td>191</td>\n",
       "      <td>92</td>\n",
       "      <td>99</td>\n",
       "    </tr>\n",
       "    <tr>\n",
       "      <th>python</th>\n",
       "      <td>340</td>\n",
       "      <td>294</td>\n",
       "      <td>46</td>\n",
       "    </tr>\n",
       "    <tr>\n",
       "      <th>supported</th>\n",
       "      <td>176</td>\n",
       "      <td>167</td>\n",
       "      <td>9</td>\n",
       "    </tr>\n",
       "    <tr>\n",
       "      <th>tdtd</th>\n",
       "      <td>383</td>\n",
       "      <td>383</td>\n",
       "      <td>0</td>\n",
       "    </tr>\n",
       "    <tr>\n",
       "      <th>use</th>\n",
       "      <td>256</td>\n",
       "      <td>128</td>\n",
       "      <td>128</td>\n",
       "    </tr>\n",
       "    <tr>\n",
       "      <th>using</th>\n",
       "      <td>285</td>\n",
       "      <td>162</td>\n",
       "      <td>123</td>\n",
       "    </tr>\n",
       "    <tr>\n",
       "      <th>video</th>\n",
       "      <td>212</td>\n",
       "      <td>177</td>\n",
       "      <td>35</td>\n",
       "    </tr>\n",
       "  </tbody>\n",
       "</table>\n",
       "</div>"
      ],
      "text/plain": [
       "                      all  python  C++\n",
       "aligncentersupported  238     238    0\n",
       "build                 162      29  134\n",
       "camera                206     131   75\n",
       "example               168      75   93\n",
       "face                  238     186   52\n",
       "file                  236     160   76\n",
       "image                 646     496  150\n",
       "install               239     167   72\n",
       "library               139      65   74\n",
       "model                 215     197   18\n",
       "opencv                340     139  201\n",
       "project               191      92   99\n",
       "python                340     294   46\n",
       "supported             176     167    9\n",
       "tdtd                  383     383    0\n",
       "use                   256     128  128\n",
       "using                 285     162  123\n",
       "video                 212     177   35"
      ]
     },
     "execution_count": 46,
     "metadata": {},
     "output_type": "execute_result"
    }
   ],
   "source": [
    "top_ten_combined"
   ]
  },
  {
   "cell_type": "code",
   "execution_count": 47,
   "metadata": {},
   "outputs": [],
   "source": [
    "word_counts['pct_python'] = word_counts['python'] / word_counts['all']\n",
    "word_counts['pct_cplus2'] = word_counts['C++'] / word_counts['all']"
   ]
  },
  {
   "cell_type": "code",
   "execution_count": 48,
   "metadata": {},
   "outputs": [
    {
     "data": {
      "text/plain": [
       "httpsgithubcomleonidpishchulinposevalgit      1\n",
       "lda                                           1\n",
       "ldanlp                                        1\n",
       "twice                                         1\n",
       "lead                                          1\n",
       "                                           ... \n",
       "using                                       285\n",
       "python                                      340\n",
       "opencv                                      340\n",
       "tdtd                                        383\n",
       "image                                       646\n",
       "Name: all, Length: 12886, dtype: int64"
      ]
     },
     "execution_count": 48,
     "metadata": {},
     "output_type": "execute_result"
    }
   ],
   "source": [
    "# There are words in word counts with 0 for values\n",
    "word_counts = word_counts[word_counts['all'] != 0]\n",
    "word_counts['all'].sort_values()"
   ]
  },
  {
   "cell_type": "code",
   "execution_count": 49,
   "metadata": {
    "scrolled": false
   },
   "outputs": [
    {
     "data": {
      "text/plain": [
       "(array([ 0,  1,  2,  3,  4,  5,  6,  7,  8,  9, 10, 11, 12, 13, 14, 15, 16,\n",
       "        17, 18, 19]),\n",
       " <a list of 20 Text yticklabel objects>)"
      ]
     },
     "execution_count": 49,
     "metadata": {},
     "output_type": "execute_result"
    },
    {
     "data": {
      "image/png": "[encoded data removed]",
      "text/plain": [
       "<Figure size 1440x1008 with 1 Axes>"
      ]
     },
     "metadata": {
      "needs_background": "light"
     },
     "output_type": "display_data"
    }
   ],
   "source": [
    "(word_counts.sort_values(by='all')[['pct_python', 'pct_cplus2']].tail(20).sort_values(by='pct_python')\n",
    " .plot.barh(stacked=True, figsize=(20,14)))\n",
    "plt.title('Language Percent Breakdown of 20 Most Common Words', fontsize=25)\n",
    "plt.xlabel('Percentage', fontsize=20)\n",
    "plt.ylabel('Word', fontsize=20)\n",
    "plt.xticks(fontsize=20)\n",
    "plt.yticks(fontsize=20)"
   ]
  },
  {
   "cell_type": "markdown",
   "metadata": {},
   "source": [
    "### Trimming Train\n",
    "Now we will trim train down so that we can add features before pushing into modeling."
   ]
  },
  {
   "cell_type": "code",
   "execution_count": 50,
   "metadata": {},
   "outputs": [
    {
     "data": {
      "text/html": [
       "<div>\n",
       "<style scoped>\n",
       "    .dataframe tbody tr th:only-of-type {\n",
       "        vertical-align: middle;\n",
       "    }\n",
       "\n",
       "    .dataframe tbody tr th {\n",
       "        vertical-align: top;\n",
       "    }\n",
       "\n",
       "    .dataframe thead th {\n",
       "        text-align: right;\n",
       "    }\n",
       "</style>\n",
       "<table border=\"1\" class=\"dataframe\">\n",
       "  <thead>\n",
       "    <tr style=\"text-align: right;\">\n",
       "      <th></th>\n",
       "      <th>language</th>\n",
       "      <th>text_filtered</th>\n",
       "      <th>words</th>\n",
       "      <th>doc_len</th>\n",
       "    </tr>\n",
       "  </thead>\n",
       "  <tbody>\n",
       "    <tr>\n",
       "      <th>155</th>\n",
       "      <td>python</td>\n",
       "      <td>nowatermark pypi versionhttpsimgshieldsiopypiv...</td>\n",
       "      <td>[nowatermark, pypi, versionhttpsimgshieldsiopy...</td>\n",
       "      <td>132</td>\n",
       "    </tr>\n",
       "    <tr>\n",
       "      <th>231</th>\n",
       "      <td>C++</td>\n",
       "      <td>div aligncenterimg width100 height100 srcsrcev...</td>\n",
       "      <td>[div, aligncenterimg, width100, height100, src...</td>\n",
       "      <td>192</td>\n",
       "    </tr>\n",
       "    <tr>\n",
       "      <th>9</th>\n",
       "      <td>python</td>\n",
       "      <td>p aligncenter img srchttpsrawgithubusercontent...</td>\n",
       "      <td>[p, aligncenter, img, srchttpsrawgithubusercon...</td>\n",
       "      <td>657</td>\n",
       "    </tr>\n",
       "    <tr>\n",
       "      <th>190</th>\n",
       "      <td>C++</td>\n",
       "      <td>curvature filter efficient solver variational ...</td>\n",
       "      <td>[curvature, filter, efficient, solver, variati...</td>\n",
       "      <td>544</td>\n",
       "    </tr>\n",
       "    <tr>\n",
       "      <th>2</th>\n",
       "      <td>python</td>\n",
       "      <td>repository deprecated tf20 rewrite visit https...</td>\n",
       "      <td>[repository, deprecated, tf20, rewrite, visit,...</td>\n",
       "      <td>162</td>\n",
       "    </tr>\n",
       "  </tbody>\n",
       "</table>\n",
       "</div>"
      ],
      "text/plain": [
       "    language                                      text_filtered  \\\n",
       "155   python  nowatermark pypi versionhttpsimgshieldsiopypiv...   \n",
       "231      C++  div aligncenterimg width100 height100 srcsrcev...   \n",
       "9     python  p aligncenter img srchttpsrawgithubusercontent...   \n",
       "190      C++  curvature filter efficient solver variational ...   \n",
       "2     python  repository deprecated tf20 rewrite visit https...   \n",
       "\n",
       "                                                 words  doc_len  \n",
       "155  [nowatermark, pypi, versionhttpsimgshieldsiopy...      132  \n",
       "231  [div, aligncenterimg, width100, height100, src...      192  \n",
       "9    [p, aligncenter, img, srchttpsrawgithubusercon...      657  \n",
       "190  [curvature, filter, efficient, solver, variati...      544  \n",
       "2    [repository, deprecated, tf20, rewrite, visit,...      162  "
      ]
     },
     "execution_count": 50,
     "metadata": {},
     "output_type": "execute_result"
    }
   ],
   "source": [
    "train = train.drop(columns=['readme_contents', 'text_cleaned', 'text_tokenized', 'text_lemmatized', 'repo'])\n",
    "train.head()"
   ]
  },
  {
   "cell_type": "code",
   "execution_count": 64,
   "metadata": {},
   "outputs": [],
   "source": [
    "train['has_model'] = train.text_filtered.str.contains('model')\n",
    "validate['has_model'] = validate.text_filtered.str.contains('model')\n",
    "test['has_model'] = test.text_filtered.str.contains('model')\n",
    "\n",
    "train['has_build'] = train.text_filtered.str.contains('build')\n",
    "validate['has_build'] = validate.text_filtered.str.contains('build')\n",
    "test['has_build'] = test.text_filtered.str.contains('build')\n",
    "\n",
    "train['has_python'] = train.text_filtered.str.contains('python')\n",
    "validate['has_python'] = validate.text_filtered.str.contains('python')\n",
    "test['has_python'] = test.text_filtered.str.contains('python')\n",
    "\n",
    "train['has_supported'] = (train.text_filtered.str.contains('supported') | train.text_filtered.str.contains('aligncentersupported'))\n",
    "validate['has_supported'] = (validate.text_filtered.str.contains('supported') | validate.text_filtered.str.contains('aligncentersupported'))\n",
    "test['has_supported'] = (test.text_filtered.str.contains('supported') | test.text_filtered.str.contains('aligncentersupported'))\n",
    "\n",
    "train['has_tdtd'] = train.text_filtered.str.contains('tdtd')\n",
    "validate['has_tdtd'] = validate.text_filtered.str.contains('tdtd')\n",
    "test['has_tdtd'] = test.text_filtered.str.contains('tdtd')"
   ]
  },
  {
   "cell_type": "code",
   "execution_count": 65,
   "metadata": {},
   "outputs": [
    {
     "data": {
      "text/html": [
       "<div>\n",
       "<style scoped>\n",
       "    .dataframe tbody tr th:only-of-type {\n",
       "        vertical-align: middle;\n",
       "    }\n",
       "\n",
       "    .dataframe tbody tr th {\n",
       "        vertical-align: top;\n",
       "    }\n",
       "\n",
       "    .dataframe thead th {\n",
       "        text-align: right;\n",
       "    }\n",
       "</style>\n",
       "<table border=\"1\" class=\"dataframe\">\n",
       "  <thead>\n",
       "    <tr style=\"text-align: right;\">\n",
       "      <th></th>\n",
       "      <th>language</th>\n",
       "      <th>text_filtered</th>\n",
       "      <th>words</th>\n",
       "      <th>doc_len</th>\n",
       "      <th>has_model</th>\n",
       "      <th>has_build</th>\n",
       "      <th>has_python</th>\n",
       "      <th>has_supported</th>\n",
       "      <th>has_tdtd</th>\n",
       "      <th>has_larger_doc</th>\n",
       "    </tr>\n",
       "  </thead>\n",
       "  <tbody>\n",
       "    <tr>\n",
       "      <th>155</th>\n",
       "      <td>python</td>\n",
       "      <td>nowatermark pypi versionhttpsimgshieldsiopypiv...</td>\n",
       "      <td>[nowatermark, pypi, versionhttpsimgshieldsiopy...</td>\n",
       "      <td>132</td>\n",
       "      <td>False</td>\n",
       "      <td>True</td>\n",
       "      <td>True</td>\n",
       "      <td>False</td>\n",
       "      <td>False</td>\n",
       "      <td>False</td>\n",
       "    </tr>\n",
       "    <tr>\n",
       "      <th>231</th>\n",
       "      <td>C++</td>\n",
       "      <td>div aligncenterimg width100 height100 srcsrcev...</td>\n",
       "      <td>[div, aligncenterimg, width100, height100, src...</td>\n",
       "      <td>192</td>\n",
       "      <td>False</td>\n",
       "      <td>True</td>\n",
       "      <td>False</td>\n",
       "      <td>False</td>\n",
       "      <td>False</td>\n",
       "      <td>False</td>\n",
       "    </tr>\n",
       "    <tr>\n",
       "      <th>9</th>\n",
       "      <td>python</td>\n",
       "      <td>p aligncenter img srchttpsrawgithubusercontent...</td>\n",
       "      <td>[p, aligncenter, img, srchttpsrawgithubusercon...</td>\n",
       "      <td>657</td>\n",
       "      <td>False</td>\n",
       "      <td>False</td>\n",
       "      <td>True</td>\n",
       "      <td>False</td>\n",
       "      <td>False</td>\n",
       "      <td>False</td>\n",
       "    </tr>\n",
       "    <tr>\n",
       "      <th>190</th>\n",
       "      <td>C++</td>\n",
       "      <td>curvature filter efficient solver variational ...</td>\n",
       "      <td>[curvature, filter, efficient, solver, variati...</td>\n",
       "      <td>544</td>\n",
       "      <td>True</td>\n",
       "      <td>False</td>\n",
       "      <td>False</td>\n",
       "      <td>False</td>\n",
       "      <td>False</td>\n",
       "      <td>False</td>\n",
       "    </tr>\n",
       "    <tr>\n",
       "      <th>2</th>\n",
       "      <td>python</td>\n",
       "      <td>repository deprecated tf20 rewrite visit https...</td>\n",
       "      <td>[repository, deprecated, tf20, rewrite, visit,...</td>\n",
       "      <td>162</td>\n",
       "      <td>True</td>\n",
       "      <td>False</td>\n",
       "      <td>True</td>\n",
       "      <td>False</td>\n",
       "      <td>False</td>\n",
       "      <td>False</td>\n",
       "    </tr>\n",
       "  </tbody>\n",
       "</table>\n",
       "</div>"
      ],
      "text/plain": [
       "    language                                      text_filtered  \\\n",
       "155   python  nowatermark pypi versionhttpsimgshieldsiopypiv...   \n",
       "231      C++  div aligncenterimg width100 height100 srcsrcev...   \n",
       "9     python  p aligncenter img srchttpsrawgithubusercontent...   \n",
       "190      C++  curvature filter efficient solver variational ...   \n",
       "2     python  repository deprecated tf20 rewrite visit https...   \n",
       "\n",
       "                                                 words  doc_len  has_model  \\\n",
       "155  [nowatermark, pypi, versionhttpsimgshieldsiopy...      132      False   \n",
       "231  [div, aligncenterimg, width100, height100, src...      192      False   \n",
       "9    [p, aligncenter, img, srchttpsrawgithubusercon...      657      False   \n",
       "190  [curvature, filter, efficient, solver, variati...      544       True   \n",
       "2    [repository, deprecated, tf20, rewrite, visit,...      162       True   \n",
       "\n",
       "     has_build  has_python  has_supported  has_tdtd  has_larger_doc  \n",
       "155       True        True          False     False           False  \n",
       "231       True       False          False     False           False  \n",
       "9        False        True          False     False           False  \n",
       "190      False       False          False     False           False  \n",
       "2        False        True          False     False           False  "
      ]
     },
     "execution_count": 65,
     "metadata": {},
     "output_type": "execute_result"
    }
   ],
   "source": [
    "larger_docs = train[train['doc_len'] >= 800]\n",
    "\n",
    "train['has_larger_doc'] = train.index.isin(larger_docs.index)\n",
    "train.head()"
   ]
  },
  {
   "cell_type": "code",
   "execution_count": 66,
   "metadata": {},
   "outputs": [
    {
     "data": {
      "text/plain": [
       "False    92\n",
       "True     16\n",
       "Name: has_larger_doc, dtype: int64"
      ]
     },
     "execution_count": 66,
     "metadata": {},
     "output_type": "execute_result"
    }
   ],
   "source": [
    "train.has_larger_doc.value_counts()"
   ]
  },
  {
   "cell_type": "markdown",
   "metadata": {},
   "source": [
    "## Hypothesis Tests"
   ]
  },
  {
   "cell_type": "markdown",
   "metadata": {},
   "source": [
    "### Hypothesis Test 1"
   ]
  },
  {
   "cell_type": "markdown",
   "metadata": {},
   "source": [
    "$H_0$: The word model in a document and its programming language are independent  \n",
    "$H_a$: The word model in a document and its programming language are dependent  \n",
    "a = .05"
   ]
  },
  {
   "cell_type": "code",
   "execution_count": 67,
   "metadata": {},
   "outputs": [
    {
     "name": "stdout",
     "output_type": "stream",
     "text": [
      "has_model values\n",
      "chi2: 4.235156857661396\tp: 0.03959496469769989\n"
     ]
    }
   ],
   "source": [
    "# We will be doing a chi2 test for this hypothesis\n",
    "observed = pd.crosstab(train.language, train.has_model)\n",
    "\n",
    "chi2, p, degf, expected = stats.chi2_contingency(observed)\n",
    "\n",
    "print(f'has_model values\\nchi2: {chi2}\\tp: {p}')"
   ]
  },
  {
   "cell_type": "code",
   "execution_count": 68,
   "metadata": {},
   "outputs": [
    {
     "data": {
      "text/html": [
       "<div>\n",
       "<style scoped>\n",
       "    .dataframe tbody tr th:only-of-type {\n",
       "        vertical-align: middle;\n",
       "    }\n",
       "\n",
       "    .dataframe tbody tr th {\n",
       "        vertical-align: top;\n",
       "    }\n",
       "\n",
       "    .dataframe thead th {\n",
       "        text-align: right;\n",
       "    }\n",
       "</style>\n",
       "<table border=\"1\" class=\"dataframe\">\n",
       "  <thead>\n",
       "    <tr style=\"text-align: right;\">\n",
       "      <th>has_model</th>\n",
       "      <th>False</th>\n",
       "      <th>True</th>\n",
       "    </tr>\n",
       "    <tr>\n",
       "      <th>language</th>\n",
       "      <th></th>\n",
       "      <th></th>\n",
       "    </tr>\n",
       "  </thead>\n",
       "  <tbody>\n",
       "    <tr>\n",
       "      <th>C++</th>\n",
       "      <td>38</td>\n",
       "      <td>12</td>\n",
       "    </tr>\n",
       "    <tr>\n",
       "      <th>python</th>\n",
       "      <td>32</td>\n",
       "      <td>26</td>\n",
       "    </tr>\n",
       "  </tbody>\n",
       "</table>\n",
       "</div>"
      ],
      "text/plain": [
       "has_model  False  True \n",
       "language               \n",
       "C++           38     12\n",
       "python        32     26"
      ]
     },
     "execution_count": 68,
     "metadata": {},
     "output_type": "execute_result"
    }
   ],
   "source": [
    "observed"
   ]
  },
  {
   "cell_type": "markdown",
   "metadata": {},
   "source": [
    "### Hypothesis Test 2"
   ]
  },
  {
   "cell_type": "markdown",
   "metadata": {},
   "source": [
    "$H_0$: The word build in a document and its programming language are independent  \n",
    "$H_a$: The word build in a document and its programming language are dependent  \n",
    "a = .05"
   ]
  },
  {
   "cell_type": "code",
   "execution_count": 69,
   "metadata": {},
   "outputs": [
    {
     "name": "stdout",
     "output_type": "stream",
     "text": [
      "has_build values\n",
      "chi2: 10.590517241379313\tp: 0.0011366917154050954\n"
     ]
    }
   ],
   "source": [
    "# We will be doing a chi2 test for this hypothesis\n",
    "observed = pd.crosstab(train.language, train.has_build)\n",
    "\n",
    "chi2, p, degf, expected = stats.chi2_contingency(observed)\n",
    "\n",
    "print(f'has_build values\\nchi2: {chi2}\\tp: {p}')"
   ]
  },
  {
   "cell_type": "code",
   "execution_count": 70,
   "metadata": {},
   "outputs": [
    {
     "data": {
      "text/html": [
       "<div>\n",
       "<style scoped>\n",
       "    .dataframe tbody tr th:only-of-type {\n",
       "        vertical-align: middle;\n",
       "    }\n",
       "\n",
       "    .dataframe tbody tr th {\n",
       "        vertical-align: top;\n",
       "    }\n",
       "\n",
       "    .dataframe thead th {\n",
       "        text-align: right;\n",
       "    }\n",
       "</style>\n",
       "<table border=\"1\" class=\"dataframe\">\n",
       "  <thead>\n",
       "    <tr style=\"text-align: right;\">\n",
       "      <th>has_build</th>\n",
       "      <th>False</th>\n",
       "      <th>True</th>\n",
       "    </tr>\n",
       "    <tr>\n",
       "      <th>language</th>\n",
       "      <th></th>\n",
       "      <th></th>\n",
       "    </tr>\n",
       "  </thead>\n",
       "  <tbody>\n",
       "    <tr>\n",
       "      <th>C++</th>\n",
       "      <td>17</td>\n",
       "      <td>33</td>\n",
       "    </tr>\n",
       "    <tr>\n",
       "      <th>python</th>\n",
       "      <td>39</td>\n",
       "      <td>19</td>\n",
       "    </tr>\n",
       "  </tbody>\n",
       "</table>\n",
       "</div>"
      ],
      "text/plain": [
       "has_build  False  True \n",
       "language               \n",
       "C++           17     33\n",
       "python        39     19"
      ]
     },
     "execution_count": 70,
     "metadata": {},
     "output_type": "execute_result"
    }
   ],
   "source": [
    "observed"
   ]
  },
  {
   "cell_type": "markdown",
   "metadata": {},
   "source": [
    "### Hypothesis Test 3"
   ]
  },
  {
   "cell_type": "markdown",
   "metadata": {},
   "source": [
    "$H_0$: The length of a documents is independent of its programming language  \n",
    "$H_a$: The longer a document is the more likely it is to be a python document  \n",
    "a = .05"
   ]
  },
  {
   "cell_type": "code",
   "execution_count": 71,
   "metadata": {},
   "outputs": [
    {
     "data": {
      "text/plain": [
       "Ttest_indResult(statistic=2.1093859262040024, pvalue=0.03726597743724576)"
      ]
     },
     "execution_count": 71,
     "metadata": {},
     "output_type": "execute_result"
    }
   ],
   "source": [
    "# We will be performing a two-tailed t-test for this hypothesis\n",
    "x1 = train[train.language == 'python'].doc_len\n",
    "x2 = train[train.language == 'C++'].doc_len\n",
    "\n",
    "stats.ttest_ind(x1, x2)"
   ]
  },
  {
   "cell_type": "markdown",
   "metadata": {},
   "source": [
    "### Hypothesis Test 4"
   ]
  },
  {
   "cell_type": "markdown",
   "metadata": {},
   "source": [
    "$H_0$: The word python in a document and its programming language are independent  \n",
    "$H_a$: The word python in a document and its programming language are dependent  \n",
    "a = .05"
   ]
  },
  {
   "cell_type": "code",
   "execution_count": 73,
   "metadata": {},
   "outputs": [
    {
     "name": "stdout",
     "output_type": "stream",
     "text": [
      "has_python values\n",
      "chi2: 40.39528884908196\tp: 2.0744070096714567e-10\n"
     ]
    }
   ],
   "source": [
    "# We will be doing a chi2 test for this hypothesis test\n",
    "observed = pd.crosstab(train.language, train.has_python)\n",
    "\n",
    "chi2, p, degf, expected = stats.chi2_contingency(observed)\n",
    "\n",
    "print(f'has_python values\\nchi2: {chi2}\\tp: {p}')"
   ]
  },
  {
   "cell_type": "code",
   "execution_count": 74,
   "metadata": {},
   "outputs": [
    {
     "data": {
      "text/html": [
       "<div>\n",
       "<style scoped>\n",
       "    .dataframe tbody tr th:only-of-type {\n",
       "        vertical-align: middle;\n",
       "    }\n",
       "\n",
       "    .dataframe tbody tr th {\n",
       "        vertical-align: top;\n",
       "    }\n",
       "\n",
       "    .dataframe thead th {\n",
       "        text-align: right;\n",
       "    }\n",
       "</style>\n",
       "<table border=\"1\" class=\"dataframe\">\n",
       "  <thead>\n",
       "    <tr style=\"text-align: right;\">\n",
       "      <th>has_python</th>\n",
       "      <th>False</th>\n",
       "      <th>True</th>\n",
       "    </tr>\n",
       "    <tr>\n",
       "      <th>language</th>\n",
       "      <th></th>\n",
       "      <th></th>\n",
       "    </tr>\n",
       "  </thead>\n",
       "  <tbody>\n",
       "    <tr>\n",
       "      <th>C++</th>\n",
       "      <td>36</td>\n",
       "      <td>14</td>\n",
       "    </tr>\n",
       "    <tr>\n",
       "      <th>python</th>\n",
       "      <td>6</td>\n",
       "      <td>52</td>\n",
       "    </tr>\n",
       "  </tbody>\n",
       "</table>\n",
       "</div>"
      ],
      "text/plain": [
       "has_python  False  True \n",
       "language                \n",
       "C++            36     14\n",
       "python          6     52"
      ]
     },
     "execution_count": 74,
     "metadata": {},
     "output_type": "execute_result"
    }
   ],
   "source": [
    "observed"
   ]
  },
  {
   "cell_type": "markdown",
   "metadata": {},
   "source": [
    "Features worth keeping: has_python, has_build, has_model"
   ]
  },
  {
   "cell_type": "code",
   "execution_count": 77,
   "metadata": {
    "scrolled": true
   },
   "outputs": [],
   "source": [
    "train = train.drop(columns=['doc_len', 'has_larger_doc', 'words'])"
   ]
  },
  {
   "cell_type": "markdown",
   "metadata": {},
   "source": [
    "# Modeling"
   ]
  },
  {
   "cell_type": "code",
   "execution_count": 78,
   "metadata": {},
   "outputs": [],
   "source": [
    "# We need to convert all our true false features into 1s and 0s\n",
    "train['has_model'] = np.where((train.has_model == True), 1, 0)\n",
    "train['has_build'] = np.where((train.has_build == True), 1, 0)\n",
    "train['has_python'] = np.where((train.has_python == True), 1, 0)\n",
    "train['has_supported'] = np.where((train.has_model == True), 1, 0)\n",
    "train['has_tdtd'] = np.where((train.has_model == True), 1, 0)\n",
    "\n",
    "validate['has_model'] = np.where((validate.has_model == True), 1, 0)\n",
    "validate['has_build'] = np.where((validate.has_build == True), 1, 0)\n",
    "validate['has_python'] = np.where((validate.has_python == True), 1, 0)\n",
    "validate['has_supported'] = np.where((validate.has_model == True), 1, 0)\n",
    "validate['has_tdtd'] = np.where((validate.has_model == True), 1, 0)\n",
    "\n",
    "test['has_model'] = np.where((test.has_model == True), 1, 0)\n",
    "test['has_build'] = np.where((test.has_build == True), 1, 0)\n",
    "test['has_python'] = np.where((test.has_python == True), 1, 0)\n",
    "test['has_supported'] = np.where((test.has_python == True), 1, 0)\n",
    "test['has_tdtd'] = np.where((test.has_python == True), 1, 0)"
   ]
  },
  {
   "cell_type": "markdown",
   "metadata": {},
   "source": [
    "### Baseline"
   ]
  },
  {
   "cell_type": "code",
   "execution_count": 79,
   "metadata": {},
   "outputs": [
    {
     "data": {
      "text/plain": [
       "python    58\n",
       "C++       50\n",
       "Name: language, dtype: int64"
      ]
     },
     "execution_count": 79,
     "metadata": {},
     "output_type": "execute_result"
    }
   ],
   "source": [
    "# We need to have a baseline to compare to\n",
    "train.language.value_counts()"
   ]
  },
  {
   "cell_type": "code",
   "execution_count": 80,
   "metadata": {
    "scrolled": true
   },
   "outputs": [
    {
     "data": {
      "text/html": [
       "<div>\n",
       "<style scoped>\n",
       "    .dataframe tbody tr th:only-of-type {\n",
       "        vertical-align: middle;\n",
       "    }\n",
       "\n",
       "    .dataframe tbody tr th {\n",
       "        vertical-align: top;\n",
       "    }\n",
       "\n",
       "    .dataframe thead th {\n",
       "        text-align: right;\n",
       "    }\n",
       "</style>\n",
       "<table border=\"1\" class=\"dataframe\">\n",
       "  <thead>\n",
       "    <tr style=\"text-align: right;\">\n",
       "      <th></th>\n",
       "      <th>language</th>\n",
       "      <th>text_filtered</th>\n",
       "      <th>has_model</th>\n",
       "      <th>has_build</th>\n",
       "      <th>has_python</th>\n",
       "      <th>has_supported</th>\n",
       "      <th>has_tdtd</th>\n",
       "      <th>baseline</th>\n",
       "    </tr>\n",
       "  </thead>\n",
       "  <tbody>\n",
       "    <tr>\n",
       "      <th>155</th>\n",
       "      <td>python</td>\n",
       "      <td>nowatermark pypi versionhttpsimgshieldsiopypiv...</td>\n",
       "      <td>0</td>\n",
       "      <td>1</td>\n",
       "      <td>1</td>\n",
       "      <td>0</td>\n",
       "      <td>0</td>\n",
       "      <td>python</td>\n",
       "    </tr>\n",
       "    <tr>\n",
       "      <th>231</th>\n",
       "      <td>C++</td>\n",
       "      <td>div aligncenterimg width100 height100 srcsrcev...</td>\n",
       "      <td>0</td>\n",
       "      <td>1</td>\n",
       "      <td>0</td>\n",
       "      <td>0</td>\n",
       "      <td>0</td>\n",
       "      <td>python</td>\n",
       "    </tr>\n",
       "    <tr>\n",
       "      <th>9</th>\n",
       "      <td>python</td>\n",
       "      <td>p aligncenter img srchttpsrawgithubusercontent...</td>\n",
       "      <td>0</td>\n",
       "      <td>0</td>\n",
       "      <td>1</td>\n",
       "      <td>0</td>\n",
       "      <td>0</td>\n",
       "      <td>python</td>\n",
       "    </tr>\n",
       "    <tr>\n",
       "      <th>190</th>\n",
       "      <td>C++</td>\n",
       "      <td>curvature filter efficient solver variational ...</td>\n",
       "      <td>1</td>\n",
       "      <td>0</td>\n",
       "      <td>0</td>\n",
       "      <td>1</td>\n",
       "      <td>1</td>\n",
       "      <td>python</td>\n",
       "    </tr>\n",
       "    <tr>\n",
       "      <th>2</th>\n",
       "      <td>python</td>\n",
       "      <td>repository deprecated tf20 rewrite visit https...</td>\n",
       "      <td>1</td>\n",
       "      <td>0</td>\n",
       "      <td>1</td>\n",
       "      <td>1</td>\n",
       "      <td>1</td>\n",
       "      <td>python</td>\n",
       "    </tr>\n",
       "  </tbody>\n",
       "</table>\n",
       "</div>"
      ],
      "text/plain": [
       "    language                                      text_filtered  has_model  \\\n",
       "155   python  nowatermark pypi versionhttpsimgshieldsiopypiv...          0   \n",
       "231      C++  div aligncenterimg width100 height100 srcsrcev...          0   \n",
       "9     python  p aligncenter img srchttpsrawgithubusercontent...          0   \n",
       "190      C++  curvature filter efficient solver variational ...          1   \n",
       "2     python  repository deprecated tf20 rewrite visit https...          1   \n",
       "\n",
       "     has_build  has_python  has_supported  has_tdtd baseline  \n",
       "155          1           1              0         0   python  \n",
       "231          1           0              0         0   python  \n",
       "9            0           1              0         0   python  \n",
       "190          0           0              1         1   python  \n",
       "2            0           1              1         1   python  "
      ]
     },
     "execution_count": 80,
     "metadata": {},
     "output_type": "execute_result"
    }
   ],
   "source": [
    "train['baseline'] = 'python'\n",
    "train.head()"
   ]
  },
  {
   "cell_type": "code",
   "execution_count": 81,
   "metadata": {},
   "outputs": [
    {
     "name": "stdout",
     "output_type": "stream",
     "text": [
      "              precision    recall  f1-score   support\n",
      "\n",
      "         C++       0.00      0.00      0.00        50\n",
      "      python       0.54      1.00      0.70        58\n",
      "\n",
      "    accuracy                           0.54       108\n",
      "   macro avg       0.27      0.50      0.35       108\n",
      "weighted avg       0.29      0.54      0.38       108\n",
      "\n"
     ]
    }
   ],
   "source": [
    "print(classification_report(train.language, train.baseline))"
   ]
  },
  {
   "cell_type": "markdown",
   "metadata": {},
   "source": [
    "## Train Models"
   ]
  },
  {
   "cell_type": "code",
   "execution_count": 82,
   "metadata": {},
   "outputs": [
    {
     "data": {
      "text/html": [
       "<div>\n",
       "<style scoped>\n",
       "    .dataframe tbody tr th:only-of-type {\n",
       "        vertical-align: middle;\n",
       "    }\n",
       "\n",
       "    .dataframe tbody tr th {\n",
       "        vertical-align: top;\n",
       "    }\n",
       "\n",
       "    .dataframe thead th {\n",
       "        text-align: right;\n",
       "    }\n",
       "</style>\n",
       "<table border=\"1\" class=\"dataframe\">\n",
       "  <thead>\n",
       "    <tr style=\"text-align: right;\">\n",
       "      <th></th>\n",
       "      <th>language</th>\n",
       "      <th>text_filtered</th>\n",
       "      <th>has_model</th>\n",
       "      <th>has_build</th>\n",
       "      <th>has_python</th>\n",
       "      <th>has_supported</th>\n",
       "      <th>has_tdtd</th>\n",
       "      <th>baseline</th>\n",
       "    </tr>\n",
       "  </thead>\n",
       "  <tbody>\n",
       "    <tr>\n",
       "      <th>155</th>\n",
       "      <td>python</td>\n",
       "      <td>nowatermark pypi versionhttpsimgshieldsiopypiv...</td>\n",
       "      <td>0</td>\n",
       "      <td>1</td>\n",
       "      <td>1</td>\n",
       "      <td>0</td>\n",
       "      <td>0</td>\n",
       "      <td>python</td>\n",
       "    </tr>\n",
       "    <tr>\n",
       "      <th>231</th>\n",
       "      <td>C++</td>\n",
       "      <td>div aligncenterimg width100 height100 srcsrcev...</td>\n",
       "      <td>0</td>\n",
       "      <td>1</td>\n",
       "      <td>0</td>\n",
       "      <td>0</td>\n",
       "      <td>0</td>\n",
       "      <td>python</td>\n",
       "    </tr>\n",
       "    <tr>\n",
       "      <th>9</th>\n",
       "      <td>python</td>\n",
       "      <td>p aligncenter img srchttpsrawgithubusercontent...</td>\n",
       "      <td>0</td>\n",
       "      <td>0</td>\n",
       "      <td>1</td>\n",
       "      <td>0</td>\n",
       "      <td>0</td>\n",
       "      <td>python</td>\n",
       "    </tr>\n",
       "    <tr>\n",
       "      <th>190</th>\n",
       "      <td>C++</td>\n",
       "      <td>curvature filter efficient solver variational ...</td>\n",
       "      <td>1</td>\n",
       "      <td>0</td>\n",
       "      <td>0</td>\n",
       "      <td>1</td>\n",
       "      <td>1</td>\n",
       "      <td>python</td>\n",
       "    </tr>\n",
       "    <tr>\n",
       "      <th>2</th>\n",
       "      <td>python</td>\n",
       "      <td>repository deprecated tf20 rewrite visit https...</td>\n",
       "      <td>1</td>\n",
       "      <td>0</td>\n",
       "      <td>1</td>\n",
       "      <td>1</td>\n",
       "      <td>1</td>\n",
       "      <td>python</td>\n",
       "    </tr>\n",
       "  </tbody>\n",
       "</table>\n",
       "</div>"
      ],
      "text/plain": [
       "    language                                      text_filtered  has_model  \\\n",
       "155   python  nowatermark pypi versionhttpsimgshieldsiopypiv...          0   \n",
       "231      C++  div aligncenterimg width100 height100 srcsrcev...          0   \n",
       "9     python  p aligncenter img srchttpsrawgithubusercontent...          0   \n",
       "190      C++  curvature filter efficient solver variational ...          1   \n",
       "2     python  repository deprecated tf20 rewrite visit https...          1   \n",
       "\n",
       "     has_build  has_python  has_supported  has_tdtd baseline  \n",
       "155          1           1              0         0   python  \n",
       "231          1           0              0         0   python  \n",
       "9            0           1              0         0   python  \n",
       "190          0           0              1         1   python  \n",
       "2            0           1              1         1   python  "
      ]
     },
     "execution_count": 82,
     "metadata": {},
     "output_type": "execute_result"
    }
   ],
   "source": [
    "train.head()"
   ]
  },
  {
   "cell_type": "markdown",
   "metadata": {},
   "source": [
    "### has_model Model"
   ]
  },
  {
   "cell_type": "code",
   "execution_count": 83,
   "metadata": {},
   "outputs": [],
   "source": [
    "y_train = train.language\n",
    "x_train_model = train[['has_model']]"
   ]
  },
  {
   "cell_type": "code",
   "execution_count": 84,
   "metadata": {},
   "outputs": [
    {
     "name": "stdout",
     "output_type": "stream",
     "text": [
      "              precision    recall  f1-score   support\n",
      "\n",
      "         C++       0.54      0.76      0.63        50\n",
      "      python       0.68      0.45      0.54        58\n",
      "\n",
      "    accuracy                           0.59       108\n",
      "   macro avg       0.61      0.60      0.59       108\n",
      "weighted avg       0.62      0.59      0.58       108\n",
      "\n"
     ]
    }
   ],
   "source": [
    "lr_model = LogisticRegression(random_state=123)\n",
    "\n",
    "lr_model.fit(x_train_model, y_train)\n",
    "\n",
    "train['model_prediction'] = lr_model.predict(x_train_model)\n",
    "\n",
    "print(classification_report(train.language, train.model_prediction))"
   ]
  },
  {
   "cell_type": "markdown",
   "metadata": {},
   "source": [
    "### has_build Model"
   ]
  },
  {
   "cell_type": "code",
   "execution_count": 85,
   "metadata": {},
   "outputs": [
    {
     "name": "stdout",
     "output_type": "stream",
     "text": [
      "              precision    recall  f1-score   support\n",
      "\n",
      "         C++       0.63      0.66      0.65        50\n",
      "      python       0.70      0.67      0.68        58\n",
      "\n",
      "    accuracy                           0.67       108\n",
      "   macro avg       0.67      0.67      0.67       108\n",
      "weighted avg       0.67      0.67      0.67       108\n",
      "\n"
     ]
    }
   ],
   "source": [
    "x_train_build = train[['has_build']]\n",
    "\n",
    "lr_build = LogisticRegression(random_state=123)\n",
    "\n",
    "lr_build.fit(x_train_build, y_train)\n",
    "\n",
    "train['build_prediction'] = lr_build.predict(x_train_build)\n",
    "\n",
    "print(classification_report(train.language, train.build_prediction))"
   ]
  },
  {
   "cell_type": "markdown",
   "metadata": {},
   "source": [
    "### has_python Model"
   ]
  },
  {
   "cell_type": "code",
   "execution_count": 86,
   "metadata": {},
   "outputs": [
    {
     "name": "stdout",
     "output_type": "stream",
     "text": [
      "              precision    recall  f1-score   support\n",
      "\n",
      "         C++       0.86      0.72      0.78        50\n",
      "      python       0.79      0.90      0.84        58\n",
      "\n",
      "    accuracy                           0.81       108\n",
      "   macro avg       0.82      0.81      0.81       108\n",
      "weighted avg       0.82      0.81      0.81       108\n",
      "\n"
     ]
    }
   ],
   "source": [
    "x_train_python = train[['has_python']]\n",
    "\n",
    "lr_python = LogisticRegression(random_state=123)\n",
    "\n",
    "lr_python.fit(x_train_python, y_train)\n",
    "\n",
    "train['python_prediction'] = lr_python.predict(x_train_python)\n",
    "\n",
    "print(classification_report(train.language, train.python_prediction))"
   ]
  },
  {
   "cell_type": "markdown",
   "metadata": {},
   "source": [
    "### Bag of Words Model"
   ]
  },
  {
   "cell_type": "code",
   "execution_count": 87,
   "metadata": {},
   "outputs": [
    {
     "name": "stdout",
     "output_type": "stream",
     "text": [
      "              precision    recall  f1-score   support\n",
      "\n",
      "         C++       1.00      0.98      0.99        50\n",
      "      python       0.98      1.00      0.99        58\n",
      "\n",
      "    accuracy                           0.99       108\n",
      "   macro avg       0.99      0.99      0.99       108\n",
      "weighted avg       0.99      0.99      0.99       108\n",
      "\n"
     ]
    }
   ],
   "source": [
    "vectorizer = CountVectorizer(stop_words='english', \n",
    "                             min_df=20, \n",
    "                             ngram_range=(1,2), \n",
    "                             binary=True)\n",
    "\n",
    "vectorizer.fit(train.text_filtered)\n",
    "\n",
    "vectorizer.get_feature_names()\n",
    "\n",
    "x_bow = vectorizer.transform(train.text_filtered)\n",
    "\n",
    "lr_bag = LogisticRegression(random_state=123)\n",
    "\n",
    "lr_bag = lr_bag.fit(x_bow, y_train)\n",
    "\n",
    "train['bag_prediction'] = lr_bag.predict(x_bow)\n",
    "\n",
    "print(classification_report(train.language, train.bag_prediction))"
   ]
  },
  {
   "cell_type": "markdown",
   "metadata": {},
   "source": [
    "### TF-IDF Model"
   ]
  },
  {
   "cell_type": "code",
   "execution_count": 88,
   "metadata": {},
   "outputs": [
    {
     "name": "stdout",
     "output_type": "stream",
     "text": [
      "              precision    recall  f1-score   support\n",
      "\n",
      "         C++       0.98      0.90      0.94        50\n",
      "      python       0.92      0.98      0.95        58\n",
      "\n",
      "    accuracy                           0.94       108\n",
      "   macro avg       0.95      0.94      0.94       108\n",
      "weighted avg       0.95      0.94      0.94       108\n",
      "\n"
     ]
    }
   ],
   "source": [
    "tfidf = TfidfVectorizer(stop_words='english', min_df = 20,\n",
    "                             ngram_range=(1,2), \n",
    "                             binary=True)\n",
    "\n",
    "tfidf_matrix = tfidf.fit_transform(train.text_filtered)\n",
    "\n",
    "tfidf.vocabulary_\n",
    "\n",
    "vector_spaces = tfidf.transform(train.text_filtered)\n",
    "\n",
    "x_tf = tfidf_matrix\n",
    "\n",
    "lr_tf = LogisticRegression(random_state=123)\n",
    "\n",
    "lr_tf = lr_tf.fit(x_tf, y_train)\n",
    "\n",
    "train['tfidf_prediction'] = lr_tf.predict(x_tf)\n",
    "\n",
    "print(classification_report(train.language, train.tfidf_prediction))"
   ]
  },
  {
   "cell_type": "markdown",
   "metadata": {},
   "source": [
    "### Combined Terms Model"
   ]
  },
  {
   "cell_type": "code",
   "execution_count": 89,
   "metadata": {},
   "outputs": [
    {
     "name": "stdout",
     "output_type": "stream",
     "text": [
      "              precision    recall  f1-score   support\n",
      "\n",
      "         C++       0.86      0.72      0.78        50\n",
      "      python       0.79      0.90      0.84        58\n",
      "\n",
      "    accuracy                           0.81       108\n",
      "   macro avg       0.82      0.81      0.81       108\n",
      "weighted avg       0.82      0.81      0.81       108\n",
      "\n"
     ]
    }
   ],
   "source": [
    "x_train_combo = train[['has_model', 'has_build', 'has_python']]\n",
    "\n",
    "lr_combo = LogisticRegression(random_state=123)\n",
    "\n",
    "lr_combo.fit(x_train_combo, y_train)\n",
    "\n",
    "train['combo_prediction'] = lr_combo.predict(x_train_combo)\n",
    "\n",
    "print(classification_report(train.language, train.combo_prediction))"
   ]
  },
  {
   "cell_type": "markdown",
   "metadata": {},
   "source": [
    "Three best models are TF-IDF model, Bag of Words Model, and Combined Terms Model."
   ]
  },
  {
   "cell_type": "markdown",
   "metadata": {},
   "source": [
    "## Validation Models"
   ]
  },
  {
   "cell_type": "code",
   "execution_count": 90,
   "metadata": {
    "scrolled": true
   },
   "outputs": [
    {
     "data": {
      "text/html": [
       "<div>\n",
       "<style scoped>\n",
       "    .dataframe tbody tr th:only-of-type {\n",
       "        vertical-align: middle;\n",
       "    }\n",
       "\n",
       "    .dataframe tbody tr th {\n",
       "        vertical-align: top;\n",
       "    }\n",
       "\n",
       "    .dataframe thead th {\n",
       "        text-align: right;\n",
       "    }\n",
       "</style>\n",
       "<table border=\"1\" class=\"dataframe\">\n",
       "  <thead>\n",
       "    <tr style=\"text-align: right;\">\n",
       "      <th></th>\n",
       "      <th>language</th>\n",
       "      <th>text_filtered</th>\n",
       "      <th>has_model</th>\n",
       "      <th>has_build</th>\n",
       "      <th>has_python</th>\n",
       "      <th>has_supported</th>\n",
       "      <th>has_tdtd</th>\n",
       "    </tr>\n",
       "  </thead>\n",
       "  <tbody>\n",
       "    <tr>\n",
       "      <th>67</th>\n",
       "      <td>python</td>\n",
       "      <td>kofihttpswwwkoficomimggithubbutton_smsvghttpsk...</td>\n",
       "      <td>1</td>\n",
       "      <td>0</td>\n",
       "      <td>1</td>\n",
       "      <td>1</td>\n",
       "      <td>1</td>\n",
       "    </tr>\n",
       "    <tr>\n",
       "      <th>162</th>\n",
       "      <td>python</td>\n",
       "      <td>objecttracker imagedocsimagescoverimage1png _r...</td>\n",
       "      <td>0</td>\n",
       "      <td>0</td>\n",
       "      <td>1</td>\n",
       "      <td>0</td>\n",
       "      <td>0</td>\n",
       "    </tr>\n",
       "    <tr>\n",
       "      <th>95</th>\n",
       "      <td>python</td>\n",
       "      <td>pycv 9758 repository longer actively maintaine...</td>\n",
       "      <td>0</td>\n",
       "      <td>0</td>\n",
       "      <td>1</td>\n",
       "      <td>0</td>\n",
       "      <td>0</td>\n",
       "    </tr>\n",
       "    <tr>\n",
       "      <th>88</th>\n",
       "      <td>C++</td>\n",
       "      <td>captchabreak captcha break based opencv2 tesse...</td>\n",
       "      <td>0</td>\n",
       "      <td>0</td>\n",
       "      <td>1</td>\n",
       "      <td>0</td>\n",
       "      <td>0</td>\n",
       "    </tr>\n",
       "    <tr>\n",
       "      <th>31</th>\n",
       "      <td>C++</td>\n",
       "      <td>learning opencv 3 intro example code accompani...</td>\n",
       "      <td>1</td>\n",
       "      <td>1</td>\n",
       "      <td>0</td>\n",
       "      <td>1</td>\n",
       "      <td>1</td>\n",
       "    </tr>\n",
       "  </tbody>\n",
       "</table>\n",
       "</div>"
      ],
      "text/plain": [
       "    language                                      text_filtered  has_model  \\\n",
       "67    python  kofihttpswwwkoficomimggithubbutton_smsvghttpsk...          1   \n",
       "162   python  objecttracker imagedocsimagescoverimage1png _r...          0   \n",
       "95    python  pycv 9758 repository longer actively maintaine...          0   \n",
       "88       C++  captchabreak captcha break based opencv2 tesse...          0   \n",
       "31       C++  learning opencv 3 intro example code accompani...          1   \n",
       "\n",
       "     has_build  has_python  has_supported  has_tdtd  \n",
       "67           0           1              1         1  \n",
       "162          0           1              0         0  \n",
       "95           0           1              0         0  \n",
       "88           0           1              0         0  \n",
       "31           1           0              1         1  "
      ]
     },
     "execution_count": 90,
     "metadata": {},
     "output_type": "execute_result"
    }
   ],
   "source": [
    "validate = validate.drop(columns=['repo', 'readme_contents', 'text_cleaned', 'text_tokenized', 'text_lemmatized', 'words', 'doc_len'])\n",
    "validate.head()"
   ]
  },
  {
   "cell_type": "markdown",
   "metadata": {},
   "source": [
    "### Bag of Words Model"
   ]
  },
  {
   "cell_type": "code",
   "execution_count": 91,
   "metadata": {},
   "outputs": [
    {
     "name": "stdout",
     "output_type": "stream",
     "text": [
      "              precision    recall  f1-score   support\n",
      "\n",
      "         C++       0.69      0.69      0.69        13\n",
      "      python       0.83      0.83      0.83        23\n",
      "\n",
      "    accuracy                           0.78        36\n",
      "   macro avg       0.76      0.76      0.76        36\n",
      "weighted avg       0.78      0.78      0.78        36\n",
      "\n"
     ]
    }
   ],
   "source": [
    "v_bow = vectorizer.transform(validate.text_filtered)\n",
    "\n",
    "validate['bag_prediction'] = lr_bag.predict(v_bow)\n",
    "\n",
    "print(classification_report(validate.language, validate.bag_prediction))"
   ]
  },
  {
   "cell_type": "markdown",
   "metadata": {},
   "source": [
    "### TF-IDF Model"
   ]
  },
  {
   "cell_type": "code",
   "execution_count": 92,
   "metadata": {},
   "outputs": [
    {
     "name": "stdout",
     "output_type": "stream",
     "text": [
      "              precision    recall  f1-score   support\n",
      "\n",
      "         C++       0.62      0.62      0.62        13\n",
      "      python       0.78      0.78      0.78        23\n",
      "\n",
      "    accuracy                           0.72        36\n",
      "   macro avg       0.70      0.70      0.70        36\n",
      "weighted avg       0.72      0.72      0.72        36\n",
      "\n"
     ]
    }
   ],
   "source": [
    "tfidf_matrix = tfidf.transform(validate.text_filtered)\n",
    "\n",
    "vector_spaces = tfidf.transform(validate.text_filtered)\n",
    "\n",
    "x_tf = tfidf_matrix\n",
    "\n",
    "validate['tfidf_prediction'] = lr_tf.predict(x_tf)\n",
    "\n",
    "print(classification_report(validate.language, validate.tfidf_prediction))"
   ]
  },
  {
   "cell_type": "markdown",
   "metadata": {},
   "source": [
    "### Combined Terms Model"
   ]
  },
  {
   "cell_type": "code",
   "execution_count": 94,
   "metadata": {},
   "outputs": [
    {
     "name": "stdout",
     "output_type": "stream",
     "text": [
      "              precision    recall  f1-score   support\n",
      "\n",
      "         C++       1.00      0.62      0.76        13\n",
      "      python       0.82      1.00      0.90        23\n",
      "\n",
      "    accuracy                           0.86        36\n",
      "   macro avg       0.91      0.81      0.83        36\n",
      "weighted avg       0.89      0.86      0.85        36\n",
      "\n"
     ]
    }
   ],
   "source": [
    "x_validate_combo = validate[['has_model', 'has_build', 'has_python', 'has_supported', 'has_tdtd']]\n",
    "y_validate = validate.language\n",
    "\n",
    "lr_combo.fit(x_validate_combo, y_validate)\n",
    "\n",
    "validate['combo_prediction'] = lr_combo.predict(x_validate_combo)\n",
    "\n",
    "print(classification_report(validate.language, validate.combo_prediction))"
   ]
  },
  {
   "cell_type": "markdown",
   "metadata": {},
   "source": [
    "Our best model is the Combined Terms model, we will be taking this one in to test."
   ]
  },
  {
   "cell_type": "markdown",
   "metadata": {},
   "source": [
    "## Test Model"
   ]
  },
  {
   "cell_type": "code",
   "execution_count": 96,
   "metadata": {},
   "outputs": [
    {
     "name": "stdout",
     "output_type": "stream",
     "text": [
      "              precision    recall  f1-score   support\n",
      "\n",
      "         C++       0.86      0.75      0.80        16\n",
      "      python       0.82      0.90      0.86        20\n",
      "\n",
      "    accuracy                           0.83        36\n",
      "   macro avg       0.84      0.82      0.83        36\n",
      "weighted avg       0.84      0.83      0.83        36\n",
      "\n"
     ]
    }
   ],
   "source": [
    "x_test_combo = test[['has_model', 'has_build', 'has_python', 'has_supported', 'has_tdtd']]\n",
    "y_test = test.language\n",
    "\n",
    "lr_combo.fit(x_test_combo, y_test)\n",
    "\n",
    "test['combo_prediction'] = lr_combo.predict(x_test_combo)\n",
    "\n",
    "print(classification_report(test.language, test.combo_prediction))"
   ]
  },
  {
   "cell_type": "markdown",
   "metadata": {},
   "source": [
    "# Entire Dataset"
   ]
  },
  {
   "cell_type": "code",
   "execution_count": 97,
   "metadata": {},
   "outputs": [
    {
     "data": {
      "text/html": [
       "<div>\n",
       "<style scoped>\n",
       "    .dataframe tbody tr th:only-of-type {\n",
       "        vertical-align: middle;\n",
       "    }\n",
       "\n",
       "    .dataframe tbody tr th {\n",
       "        vertical-align: top;\n",
       "    }\n",
       "\n",
       "    .dataframe thead th {\n",
       "        text-align: right;\n",
       "    }\n",
       "</style>\n",
       "<table border=\"1\" class=\"dataframe\">\n",
       "  <thead>\n",
       "    <tr style=\"text-align: right;\">\n",
       "      <th></th>\n",
       "      <th>language</th>\n",
       "      <th>text_filtered</th>\n",
       "    </tr>\n",
       "  </thead>\n",
       "  <tbody>\n",
       "    <tr>\n",
       "      <th>0</th>\n",
       "      <td>C++</td>\n",
       "      <td>openframeworkshttpopenframeworkscc openframewo...</td>\n",
       "    </tr>\n",
       "    <tr>\n",
       "      <th>1</th>\n",
       "      <td>C++</td>\n",
       "      <td>repository opencvs extra module repository int...</td>\n",
       "    </tr>\n",
       "    <tr>\n",
       "      <th>2</th>\n",
       "      <td>python</td>\n",
       "      <td>repository deprecated tf20 rewrite visit https...</td>\n",
       "    </tr>\n",
       "    <tr>\n",
       "      <th>3</th>\n",
       "      <td>C++</td>\n",
       "      <td>opencv open source computer vision library res...</td>\n",
       "    </tr>\n",
       "    <tr>\n",
       "      <th>4</th>\n",
       "      <td>C++</td>\n",
       "      <td>mvision machine vision ai httpwwwhuaxiaozhuanc...</td>\n",
       "    </tr>\n",
       "  </tbody>\n",
       "</table>\n",
       "</div>"
      ],
      "text/plain": [
       "  language                                      text_filtered\n",
       "0      C++  openframeworkshttpopenframeworkscc openframewo...\n",
       "1      C++  repository opencvs extra module repository int...\n",
       "2   python  repository deprecated tf20 rewrite visit https...\n",
       "3      C++  opencv open source computer vision library res...\n",
       "4      C++  mvision machine vision ai httpwwwhuaxiaozhuanc..."
      ]
     },
     "execution_count": 97,
     "metadata": {},
     "output_type": "execute_result"
    }
   ],
   "source": [
    "main_two = main_two.drop(columns=['repo', 'readme_contents', 'text_cleaned', 'text_tokenized', 'text_lemmatized', 'words'])\n",
    "main_two.head()\n"
   ]
  },
  {
   "cell_type": "code",
   "execution_count": 100,
   "metadata": {},
   "outputs": [],
   "source": [
    "main_two['has_model'] = main_two.text_filtered.str.contains('model')\n",
    "\n",
    "main_two['has_build'] = main_two.text_filtered.str.contains('build')\n",
    "\n",
    "main_two['has_python'] = main_two.text_filtered.str.contains('python')\n",
    "\n",
    "main_two['has_supported'] = (main_two.text_filtered.str.contains('supported') | main_two.text_filtered.str.contains('aligncentersupported'))\n",
    "\n",
    "main_two['has_tdtd'] = main_two.text_filtered.str.contains('tdtd')\n",
    "\n",
    "main_two['has_model'] = np.where((main_two.has_model == True), 1, 0)\n",
    "main_two['has_build'] = np.where((main_two.has_build == True), 1, 0)\n",
    "main_two['has_python'] = np.where((main_two.has_python == True), 1, 0)\n",
    "main_two['has_supported'] = np.where((main_two.has_supported == True), 1, 0)\n",
    "main_two['has_tdtd'] = np.where((main_two.has_tdtd == True), 1, 0)"
   ]
  },
  {
   "cell_type": "code",
   "execution_count": 101,
   "metadata": {},
   "outputs": [
    {
     "data": {
      "text/html": [
       "<div>\n",
       "<style scoped>\n",
       "    .dataframe tbody tr th:only-of-type {\n",
       "        vertical-align: middle;\n",
       "    }\n",
       "\n",
       "    .dataframe tbody tr th {\n",
       "        vertical-align: top;\n",
       "    }\n",
       "\n",
       "    .dataframe thead th {\n",
       "        text-align: right;\n",
       "    }\n",
       "</style>\n",
       "<table border=\"1\" class=\"dataframe\">\n",
       "  <thead>\n",
       "    <tr style=\"text-align: right;\">\n",
       "      <th></th>\n",
       "      <th>language</th>\n",
       "      <th>text_filtered</th>\n",
       "      <th>has_model</th>\n",
       "      <th>has_build</th>\n",
       "      <th>has_python</th>\n",
       "      <th>has_supported</th>\n",
       "      <th>has_tdtd</th>\n",
       "    </tr>\n",
       "  </thead>\n",
       "  <tbody>\n",
       "    <tr>\n",
       "      <th>0</th>\n",
       "      <td>C++</td>\n",
       "      <td>openframeworkshttpopenframeworkscc openframewo...</td>\n",
       "      <td>0</td>\n",
       "      <td>1</td>\n",
       "      <td>0</td>\n",
       "      <td>0</td>\n",
       "      <td>0</td>\n",
       "    </tr>\n",
       "    <tr>\n",
       "      <th>1</th>\n",
       "      <td>C++</td>\n",
       "      <td>repository opencvs extra module repository int...</td>\n",
       "      <td>1</td>\n",
       "      <td>1</td>\n",
       "      <td>0</td>\n",
       "      <td>0</td>\n",
       "      <td>0</td>\n",
       "    </tr>\n",
       "    <tr>\n",
       "      <th>2</th>\n",
       "      <td>python</td>\n",
       "      <td>repository deprecated tf20 rewrite visit https...</td>\n",
       "      <td>1</td>\n",
       "      <td>0</td>\n",
       "      <td>1</td>\n",
       "      <td>0</td>\n",
       "      <td>0</td>\n",
       "    </tr>\n",
       "    <tr>\n",
       "      <th>3</th>\n",
       "      <td>C++</td>\n",
       "      <td>opencv open source computer vision library res...</td>\n",
       "      <td>0</td>\n",
       "      <td>0</td>\n",
       "      <td>0</td>\n",
       "      <td>0</td>\n",
       "      <td>0</td>\n",
       "    </tr>\n",
       "    <tr>\n",
       "      <th>4</th>\n",
       "      <td>C++</td>\n",
       "      <td>mvision machine vision ai httpwwwhuaxiaozhuanc...</td>\n",
       "      <td>1</td>\n",
       "      <td>1</td>\n",
       "      <td>1</td>\n",
       "      <td>0</td>\n",
       "      <td>0</td>\n",
       "    </tr>\n",
       "  </tbody>\n",
       "</table>\n",
       "</div>"
      ],
      "text/plain": [
       "  language                                      text_filtered  has_model  \\\n",
       "0      C++  openframeworkshttpopenframeworkscc openframewo...          0   \n",
       "1      C++  repository opencvs extra module repository int...          1   \n",
       "2   python  repository deprecated tf20 rewrite visit https...          1   \n",
       "3      C++  opencv open source computer vision library res...          0   \n",
       "4      C++  mvision machine vision ai httpwwwhuaxiaozhuanc...          1   \n",
       "\n",
       "   has_build  has_python  has_supported  has_tdtd  \n",
       "0          1           0              0         0  \n",
       "1          1           0              0         0  \n",
       "2          0           1              0         0  \n",
       "3          0           0              0         0  \n",
       "4          1           1              0         0  "
      ]
     },
     "execution_count": 101,
     "metadata": {},
     "output_type": "execute_result"
    }
   ],
   "source": [
    "main_two.head()"
   ]
  },
  {
   "cell_type": "code",
   "execution_count": 102,
   "metadata": {},
   "outputs": [
    {
     "name": "stdout",
     "output_type": "stream",
     "text": [
      "              precision    recall  f1-score   support\n",
      "\n",
      "         C++       0.88      0.71      0.78        79\n",
      "      python       0.80      0.92      0.86       101\n",
      "\n",
      "    accuracy                           0.83       180\n",
      "   macro avg       0.84      0.81      0.82       180\n",
      "weighted avg       0.83      0.83      0.82       180\n",
      "\n"
     ]
    }
   ],
   "source": [
    "x_full_combo = main_two[['has_model', 'has_build', 'has_python']]\n",
    "y_full = main_two.language\n",
    "\n",
    "lr_combo.fit(x_full_combo, y_full)\n",
    "\n",
    "main_two['combo_prediction'] = lr_combo.predict(x_full_combo)\n",
    "\n",
    "print(classification_report(main_two.language, main_two.combo_prediction))"
   ]
  }
 ],
 "metadata": {
  "kernelspec": {
   "display_name": "Python 3",
   "language": "python",
   "name": "python3"
  },
  "language_info": {
   "codemirror_mode": {
    "name": "ipython",
    "version": 3
   },
   "file_extension": ".py",
   "mimetype": "text/x-python",
   "name": "python",
   "nbconvert_exporter": "python",
   "pygments_lexer": "ipython3",
   "version": "3.7.6"
  }
 },
 "nbformat": 4,
 "nbformat_minor": 4
}
