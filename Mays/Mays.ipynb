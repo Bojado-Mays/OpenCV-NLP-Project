{
 "cells": [
  {
   "cell_type": "markdown",
   "metadata": {},
   "source": [
    "# Imports"
   ]
  },
  {
   "cell_type": "code",
   "execution_count": 347,
   "metadata": {},
   "outputs": [],
   "source": [
    "import pandas as pd\n",
    "import numpy as np\n",
    "from requests import get\n",
    "from os import path\n",
    "from bs4 import BeautifulSoup\n",
    "import acquire as ac\n",
    "import prepare\n",
    "import re\n",
    "import matplotlib.pyplot as plt\n",
    "\n",
    "from sklearn.feature_extraction.text import TfidfVectorizer\n",
    "from sklearn.feature_extraction.text import CountVectorizer, TfidfVectorizer\n",
    "from sklearn.model_selection import train_test_split\n",
    "from sklearn.linear_model import LogisticRegression\n",
    "from sklearn.metrics import classification_report, accuracy_score\n",
    "from scipy import stats\n",
    "import json\n",
    "\n",
    "import warnings\n",
    "warnings.filterwarnings(\"ignore\")"
   ]
  },
  {
   "cell_type": "markdown",
   "metadata": {},
   "source": [
    "# Acquire"
   ]
  },
  {
   "cell_type": "code",
   "execution_count": 71,
   "metadata": {},
   "outputs": [],
   "source": [
    "url = 'https://github.com/search?o=desc&p={num}&q=OpenCV&s=stars&type=Repositories'\n",
    "response = get(url)"
   ]
  },
  {
   "cell_type": "code",
   "execution_count": 3,
   "metadata": {
    "scrolled": true
   },
   "outputs": [
    {
     "data": {
      "text/plain": [
       "50"
      ]
     },
     "execution_count": 3,
     "metadata": {},
     "output_type": "execute_result"
    }
   ],
   "source": [
    "urls = ac.get_range_urls(1, 6)\n",
    "len(urls)"
   ]
  },
  {
   "cell_type": "code",
   "execution_count": 14,
   "metadata": {},
   "outputs": [
    {
     "data": {
      "text/plain": [
       "50"
      ]
     },
     "execution_count": 14,
     "metadata": {},
     "output_type": "execute_result"
    }
   ],
   "source": [
    "urls2 = ac.get_range_urls(6, 11)\n",
    "len(urls2)"
   ]
  },
  {
   "cell_type": "code",
   "execution_count": 40,
   "metadata": {},
   "outputs": [
    {
     "data": {
      "text/plain": [
       "50"
      ]
     },
     "execution_count": 40,
     "metadata": {},
     "output_type": "execute_result"
    }
   ],
   "source": [
    "urls3 = ac.get_range_urls(11, 16)\n",
    "len(urls3)"
   ]
  },
  {
   "cell_type": "code",
   "execution_count": 35,
   "metadata": {},
   "outputs": [
    {
     "data": {
      "text/plain": [
       "50"
      ]
     },
     "execution_count": 35,
     "metadata": {},
     "output_type": "execute_result"
    }
   ],
   "source": [
    "urls4 = ac.get_range_urls(16, 21)\n",
    "len(urls4)"
   ]
  },
  {
   "cell_type": "code",
   "execution_count": 79,
   "metadata": {},
   "outputs": [
    {
     "data": {
      "text/plain": [
       "50"
      ]
     },
     "execution_count": 79,
     "metadata": {},
     "output_type": "execute_result"
    }
   ],
   "source": [
    "urls5 = ac.get_range_urls(21, 26)\n",
    "len(urls5)"
   ]
  },
  {
   "cell_type": "code",
   "execution_count": 80,
   "metadata": {},
   "outputs": [
    {
     "data": {
      "text/plain": [
       "250"
      ]
     },
     "execution_count": 80,
     "metadata": {},
     "output_type": "execute_result"
    }
   ],
   "source": [
    "all_urls = urls + urls2 + urls3 + urls4 + urls5\n",
    "len(all_urls)"
   ]
  },
  {
   "cell_type": "code",
   "execution_count": 91,
   "metadata": {},
   "outputs": [],
   "source": [
    "repos = ac.scrape_github_data(all_urls)"
   ]
  },
  {
   "cell_type": "code",
   "execution_count": 92,
   "metadata": {},
   "outputs": [],
   "source": [
    "json.dump(repos, open(\"data.json\", \"w\"), indent=1)"
   ]
  },
  {
   "cell_type": "code",
   "execution_count": 259,
   "metadata": {},
   "outputs": [],
   "source": [
    "repos = pd.read_json('data.json')"
   ]
  },
  {
   "cell_type": "code",
   "execution_count": 260,
   "metadata": {},
   "outputs": [
    {
     "data": {
      "text/html": [
       "<div>\n",
       "<style scoped>\n",
       "    .dataframe tbody tr th:only-of-type {\n",
       "        vertical-align: middle;\n",
       "    }\n",
       "\n",
       "    .dataframe tbody tr th {\n",
       "        vertical-align: top;\n",
       "    }\n",
       "\n",
       "    .dataframe thead th {\n",
       "        text-align: right;\n",
       "    }\n",
       "</style>\n",
       "<table border=\"1\" class=\"dataframe\">\n",
       "  <thead>\n",
       "    <tr style=\"text-align: right;\">\n",
       "      <th></th>\n",
       "      <th>repo</th>\n",
       "      <th>language</th>\n",
       "      <th>readme_contents</th>\n",
       "    </tr>\n",
       "  </thead>\n",
       "  <tbody>\n",
       "    <tr>\n",
       "      <th>0</th>\n",
       "      <td>openframeworks/openFrameworks</td>\n",
       "      <td>C++</td>\n",
       "      <td>[openFrameworks](http://openframeworks.cc/)\\n=...</td>\n",
       "    </tr>\n",
       "    <tr>\n",
       "      <th>1</th>\n",
       "      <td>opencv/opencv_contrib</td>\n",
       "      <td>C++</td>\n",
       "      <td>## Repository for OpenCV's extra modules\\n\\nTh...</td>\n",
       "    </tr>\n",
       "    <tr>\n",
       "      <th>2</th>\n",
       "      <td>oarriaga/face_classification</td>\n",
       "      <td>Python</td>\n",
       "      <td># This repository is deprecated for at TF-2.0 ...</td>\n",
       "    </tr>\n",
       "    <tr>\n",
       "      <th>3</th>\n",
       "      <td>opencv/opencv</td>\n",
       "      <td>C++</td>\n",
       "      <td>## OpenCV: Open Source Computer Vision Library...</td>\n",
       "    </tr>\n",
       "    <tr>\n",
       "      <th>4</th>\n",
       "      <td>Ewenwan/MVision</td>\n",
       "      <td>C++</td>\n",
       "      <td># MVision　Machine Vision 机器视觉\\n[AI算法工程师手册 数学基础...</td>\n",
       "    </tr>\n",
       "  </tbody>\n",
       "</table>\n",
       "</div>"
      ],
      "text/plain": [
       "                            repo language  \\\n",
       "0  openframeworks/openFrameworks      C++   \n",
       "1          opencv/opencv_contrib      C++   \n",
       "2   oarriaga/face_classification   Python   \n",
       "3                  opencv/opencv      C++   \n",
       "4                Ewenwan/MVision      C++   \n",
       "\n",
       "                                     readme_contents  \n",
       "0  [openFrameworks](http://openframeworks.cc/)\\n=...  \n",
       "1  ## Repository for OpenCV's extra modules\\n\\nTh...  \n",
       "2  # This repository is deprecated for at TF-2.0 ...  \n",
       "3  ## OpenCV: Open Source Computer Vision Library...  \n",
       "4  # MVision　Machine Vision 机器视觉\\n[AI算法工程师手册 数学基础...  "
      ]
     },
     "execution_count": 260,
     "metadata": {},
     "output_type": "execute_result"
    }
   ],
   "source": [
    "repos.head()"
   ]
  },
  {
   "cell_type": "code",
   "execution_count": 261,
   "metadata": {},
   "outputs": [
    {
     "name": "stdout",
     "output_type": "stream",
     "text": [
      "<class 'pandas.core.frame.DataFrame'>\n",
      "RangeIndex: 250 entries, 0 to 249\n",
      "Data columns (total 3 columns):\n",
      " #   Column           Non-Null Count  Dtype \n",
      "---  ------           --------------  ----- \n",
      " 0   repo             250 non-null    object\n",
      " 1   language         243 non-null    object\n",
      " 2   readme_contents  250 non-null    object\n",
      "dtypes: object(3)\n",
      "memory usage: 6.0+ KB\n"
     ]
    }
   ],
   "source": [
    "repos.info()"
   ]
  },
  {
   "cell_type": "markdown",
   "metadata": {},
   "source": [
    "# Prepare"
   ]
  },
  {
   "cell_type": "code",
   "execution_count": 262,
   "metadata": {},
   "outputs": [
    {
     "data": {
      "text/html": [
       "<div>\n",
       "<style scoped>\n",
       "    .dataframe tbody tr th:only-of-type {\n",
       "        vertical-align: middle;\n",
       "    }\n",
       "\n",
       "    .dataframe tbody tr th {\n",
       "        vertical-align: top;\n",
       "    }\n",
       "\n",
       "    .dataframe thead th {\n",
       "        text-align: right;\n",
       "    }\n",
       "</style>\n",
       "<table border=\"1\" class=\"dataframe\">\n",
       "  <thead>\n",
       "    <tr style=\"text-align: right;\">\n",
       "      <th></th>\n",
       "      <th>repo</th>\n",
       "      <th>language</th>\n",
       "      <th>readme_contents</th>\n",
       "      <th>text_cleaned</th>\n",
       "      <th>text_tokenized</th>\n",
       "      <th>text_lemmatized</th>\n",
       "      <th>text_filtered</th>\n",
       "    </tr>\n",
       "  </thead>\n",
       "  <tbody>\n",
       "    <tr>\n",
       "      <th>0</th>\n",
       "      <td>openframeworks/openFrameworks</td>\n",
       "      <td>C++</td>\n",
       "      <td>[openFrameworks](http://openframeworks.cc/)\\n=...</td>\n",
       "      <td>openframeworkshttpopenframeworkscc\\n\\n\\nopenfr...</td>\n",
       "      <td>openframeworkshttpopenframeworkscc\\n\\n\\nopenfr...</td>\n",
       "      <td>openframeworkshttpopenframeworkscc openframewo...</td>\n",
       "      <td>openframeworkshttpopenframeworkscc openframewo...</td>\n",
       "    </tr>\n",
       "    <tr>\n",
       "      <th>1</th>\n",
       "      <td>opencv/opencv_contrib</td>\n",
       "      <td>C++</td>\n",
       "      <td>## Repository for OpenCV's extra modules\\n\\nTh...</td>\n",
       "      <td>repository for opencvs extra modules\\n\\nthis ...</td>\n",
       "      <td>repository for opencvs extra modules\\n\\nthis r...</td>\n",
       "      <td>repository for opencvs extra module this repos...</td>\n",
       "      <td>repository opencvs extra module repository int...</td>\n",
       "    </tr>\n",
       "    <tr>\n",
       "      <th>2</th>\n",
       "      <td>oarriaga/face_classification</td>\n",
       "      <td>Python</td>\n",
       "      <td># This repository is deprecated for at TF-2.0 ...</td>\n",
       "      <td>this repository is deprecated for at tf20 rew...</td>\n",
       "      <td>this repository is deprecated for at tf20 rewr...</td>\n",
       "      <td>this repository is deprecated for at tf20 rewr...</td>\n",
       "      <td>repository deprecated tf20 rewrite visit https...</td>\n",
       "    </tr>\n",
       "    <tr>\n",
       "      <th>3</th>\n",
       "      <td>opencv/opencv</td>\n",
       "      <td>C++</td>\n",
       "      <td>## OpenCV: Open Source Computer Vision Library...</td>\n",
       "      <td>opencv open source computer vision library\\n\\...</td>\n",
       "      <td>opencv open source computer vision library\\n\\n...</td>\n",
       "      <td>opencv open source computer vision library res...</td>\n",
       "      <td>opencv open source computer vision library res...</td>\n",
       "    </tr>\n",
       "    <tr>\n",
       "      <th>4</th>\n",
       "      <td>Ewenwan/MVision</td>\n",
       "      <td>C++</td>\n",
       "      <td># MVision　Machine Vision 机器视觉\\n[AI算法工程师手册 数学基础...</td>\n",
       "      <td>mvision machine vision \\nai     httpwwwhuaxia...</td>\n",
       "      <td>mvision machine vision \\nai httpwwwhuaxiaozhua...</td>\n",
       "      <td>mvision machine vision ai httpwwwhuaxiaozhuanc...</td>\n",
       "      <td>mvision machine vision ai httpwwwhuaxiaozhuanc...</td>\n",
       "    </tr>\n",
       "  </tbody>\n",
       "</table>\n",
       "</div>"
      ],
      "text/plain": [
       "                            repo language  \\\n",
       "0  openframeworks/openFrameworks      C++   \n",
       "1          opencv/opencv_contrib      C++   \n",
       "2   oarriaga/face_classification   Python   \n",
       "3                  opencv/opencv      C++   \n",
       "4                Ewenwan/MVision      C++   \n",
       "\n",
       "                                     readme_contents  \\\n",
       "0  [openFrameworks](http://openframeworks.cc/)\\n=...   \n",
       "1  ## Repository for OpenCV's extra modules\\n\\nTh...   \n",
       "2  # This repository is deprecated for at TF-2.0 ...   \n",
       "3  ## OpenCV: Open Source Computer Vision Library...   \n",
       "4  # MVision　Machine Vision 机器视觉\\n[AI算法工程师手册 数学基础...   \n",
       "\n",
       "                                        text_cleaned  \\\n",
       "0  openframeworkshttpopenframeworkscc\\n\\n\\nopenfr...   \n",
       "1   repository for opencvs extra modules\\n\\nthis ...   \n",
       "2   this repository is deprecated for at tf20 rew...   \n",
       "3   opencv open source computer vision library\\n\\...   \n",
       "4   mvision machine vision \\nai     httpwwwhuaxia...   \n",
       "\n",
       "                                      text_tokenized  \\\n",
       "0  openframeworkshttpopenframeworkscc\\n\\n\\nopenfr...   \n",
       "1  repository for opencvs extra modules\\n\\nthis r...   \n",
       "2  this repository is deprecated for at tf20 rewr...   \n",
       "3  opencv open source computer vision library\\n\\n...   \n",
       "4  mvision machine vision \\nai httpwwwhuaxiaozhua...   \n",
       "\n",
       "                                     text_lemmatized  \\\n",
       "0  openframeworkshttpopenframeworkscc openframewo...   \n",
       "1  repository for opencvs extra module this repos...   \n",
       "2  this repository is deprecated for at tf20 rewr...   \n",
       "3  opencv open source computer vision library res...   \n",
       "4  mvision machine vision ai httpwwwhuaxiaozhuanc...   \n",
       "\n",
       "                                       text_filtered  \n",
       "0  openframeworkshttpopenframeworkscc openframewo...  \n",
       "1  repository opencvs extra module repository int...  \n",
       "2  repository deprecated tf20 rewrite visit https...  \n",
       "3  opencv open source computer vision library res...  \n",
       "4  mvision machine vision ai httpwwwhuaxiaozhuanc...  "
      ]
     },
     "execution_count": 262,
     "metadata": {},
     "output_type": "execute_result"
    }
   ],
   "source": [
    "# Creating a cleaned text column\n",
    "repos['text_cleaned'] = repos.readme_contents.apply(prepare.basic_clean)\n",
    "# Creating a tokenized text column\n",
    "repos['text_tokenized'] = repos.text_cleaned.apply(prepare.tokenize)\n",
    "# Creating a lemmatized text column\n",
    "repos['text_lemmatized'] = repos.text_tokenized.apply(prepare.lemmatize)\n",
    "# Creating a filtered text column\n",
    "repos['text_filtered'] = repos.text_lemmatized.apply(prepare.remove_stopwords)\n",
    "repos.head()"
   ]
  },
  {
   "cell_type": "code",
   "execution_count": 263,
   "metadata": {},
   "outputs": [
    {
     "data": {
      "text/html": [
       "<div>\n",
       "<style scoped>\n",
       "    .dataframe tbody tr th:only-of-type {\n",
       "        vertical-align: middle;\n",
       "    }\n",
       "\n",
       "    .dataframe tbody tr th {\n",
       "        vertical-align: top;\n",
       "    }\n",
       "\n",
       "    .dataframe thead th {\n",
       "        text-align: right;\n",
       "    }\n",
       "</style>\n",
       "<table border=\"1\" class=\"dataframe\">\n",
       "  <thead>\n",
       "    <tr style=\"text-align: right;\">\n",
       "      <th></th>\n",
       "      <th>repo</th>\n",
       "      <th>language</th>\n",
       "      <th>readme_contents</th>\n",
       "      <th>text_cleaned</th>\n",
       "      <th>text_tokenized</th>\n",
       "      <th>text_lemmatized</th>\n",
       "      <th>text_filtered</th>\n",
       "      <th>words</th>\n",
       "    </tr>\n",
       "  </thead>\n",
       "  <tbody>\n",
       "    <tr>\n",
       "      <th>0</th>\n",
       "      <td>openframeworks/openFrameworks</td>\n",
       "      <td>C++</td>\n",
       "      <td>[openFrameworks](http://openframeworks.cc/)\\n=...</td>\n",
       "      <td>openframeworkshttpopenframeworkscc\\n\\n\\nopenfr...</td>\n",
       "      <td>openframeworkshttpopenframeworkscc\\n\\n\\nopenfr...</td>\n",
       "      <td>openframeworkshttpopenframeworkscc openframewo...</td>\n",
       "      <td>openframeworkshttpopenframeworkscc openframewo...</td>\n",
       "      <td>[openframeworkshttpopenframeworkscc, openframe...</td>\n",
       "    </tr>\n",
       "    <tr>\n",
       "      <th>1</th>\n",
       "      <td>opencv/opencv_contrib</td>\n",
       "      <td>C++</td>\n",
       "      <td>## Repository for OpenCV's extra modules\\n\\nTh...</td>\n",
       "      <td>repository for opencvs extra modules\\n\\nthis ...</td>\n",
       "      <td>repository for opencvs extra modules\\n\\nthis r...</td>\n",
       "      <td>repository for opencvs extra module this repos...</td>\n",
       "      <td>repository opencvs extra module repository int...</td>\n",
       "      <td>[repository, opencvs, extra, module, repositor...</td>\n",
       "    </tr>\n",
       "    <tr>\n",
       "      <th>2</th>\n",
       "      <td>oarriaga/face_classification</td>\n",
       "      <td>Python</td>\n",
       "      <td># This repository is deprecated for at TF-2.0 ...</td>\n",
       "      <td>this repository is deprecated for at tf20 rew...</td>\n",
       "      <td>this repository is deprecated for at tf20 rewr...</td>\n",
       "      <td>this repository is deprecated for at tf20 rewr...</td>\n",
       "      <td>repository deprecated tf20 rewrite visit https...</td>\n",
       "      <td>[repository, deprecated, tf20, rewrite, visit,...</td>\n",
       "    </tr>\n",
       "    <tr>\n",
       "      <th>3</th>\n",
       "      <td>opencv/opencv</td>\n",
       "      <td>C++</td>\n",
       "      <td>## OpenCV: Open Source Computer Vision Library...</td>\n",
       "      <td>opencv open source computer vision library\\n\\...</td>\n",
       "      <td>opencv open source computer vision library\\n\\n...</td>\n",
       "      <td>opencv open source computer vision library res...</td>\n",
       "      <td>opencv open source computer vision library res...</td>\n",
       "      <td>[opencv, open, source, computer, vision, libra...</td>\n",
       "    </tr>\n",
       "    <tr>\n",
       "      <th>4</th>\n",
       "      <td>Ewenwan/MVision</td>\n",
       "      <td>C++</td>\n",
       "      <td># MVision　Machine Vision 机器视觉\\n[AI算法工程师手册 数学基础...</td>\n",
       "      <td>mvision machine vision \\nai     httpwwwhuaxia...</td>\n",
       "      <td>mvision machine vision \\nai httpwwwhuaxiaozhua...</td>\n",
       "      <td>mvision machine vision ai httpwwwhuaxiaozhuanc...</td>\n",
       "      <td>mvision machine vision ai httpwwwhuaxiaozhuanc...</td>\n",
       "      <td>[mvision, machine, vision, ai, httpwwwhuaxiaoz...</td>\n",
       "    </tr>\n",
       "  </tbody>\n",
       "</table>\n",
       "</div>"
      ],
      "text/plain": [
       "                            repo language  \\\n",
       "0  openframeworks/openFrameworks      C++   \n",
       "1          opencv/opencv_contrib      C++   \n",
       "2   oarriaga/face_classification   Python   \n",
       "3                  opencv/opencv      C++   \n",
       "4                Ewenwan/MVision      C++   \n",
       "\n",
       "                                     readme_contents  \\\n",
       "0  [openFrameworks](http://openframeworks.cc/)\\n=...   \n",
       "1  ## Repository for OpenCV's extra modules\\n\\nTh...   \n",
       "2  # This repository is deprecated for at TF-2.0 ...   \n",
       "3  ## OpenCV: Open Source Computer Vision Library...   \n",
       "4  # MVision　Machine Vision 机器视觉\\n[AI算法工程师手册 数学基础...   \n",
       "\n",
       "                                        text_cleaned  \\\n",
       "0  openframeworkshttpopenframeworkscc\\n\\n\\nopenfr...   \n",
       "1   repository for opencvs extra modules\\n\\nthis ...   \n",
       "2   this repository is deprecated for at tf20 rew...   \n",
       "3   opencv open source computer vision library\\n\\...   \n",
       "4   mvision machine vision \\nai     httpwwwhuaxia...   \n",
       "\n",
       "                                      text_tokenized  \\\n",
       "0  openframeworkshttpopenframeworkscc\\n\\n\\nopenfr...   \n",
       "1  repository for opencvs extra modules\\n\\nthis r...   \n",
       "2  this repository is deprecated for at tf20 rewr...   \n",
       "3  opencv open source computer vision library\\n\\n...   \n",
       "4  mvision machine vision \\nai httpwwwhuaxiaozhua...   \n",
       "\n",
       "                                     text_lemmatized  \\\n",
       "0  openframeworkshttpopenframeworkscc openframewo...   \n",
       "1  repository for opencvs extra module this repos...   \n",
       "2  this repository is deprecated for at tf20 rewr...   \n",
       "3  opencv open source computer vision library res...   \n",
       "4  mvision machine vision ai httpwwwhuaxiaozhuanc...   \n",
       "\n",
       "                                       text_filtered  \\\n",
       "0  openframeworkshttpopenframeworkscc openframewo...   \n",
       "1  repository opencvs extra module repository int...   \n",
       "2  repository deprecated tf20 rewrite visit https...   \n",
       "3  opencv open source computer vision library res...   \n",
       "4  mvision machine vision ai httpwwwhuaxiaozhuanc...   \n",
       "\n",
       "                                               words  \n",
       "0  [openframeworkshttpopenframeworkscc, openframe...  \n",
       "1  [repository, opencvs, extra, module, repositor...  \n",
       "2  [repository, deprecated, tf20, rewrite, visit,...  \n",
       "3  [opencv, open, source, computer, vision, libra...  \n",
       "4  [mvision, machine, vision, ai, httpwwwhuaxiaoz...  "
      ]
     },
     "execution_count": 263,
     "metadata": {},
     "output_type": "execute_result"
    }
   ],
   "source": [
    "words = [re.sub(r'([^a-z0-9\\s]|\\s.\\s)', '', doc).split() for doc in repos.text_filtered]\n",
    "\n",
    "repos = pd.concat([repos, pd.DataFrame({'words': words})], axis=1)\n",
    "\n",
    "repos.head()"
   ]
  },
  {
   "cell_type": "code",
   "execution_count": 264,
   "metadata": {},
   "outputs": [
    {
     "name": "stdout",
     "output_type": "stream",
     "text": [
      "<class 'pandas.core.frame.DataFrame'>\n",
      "RangeIndex: 250 entries, 0 to 249\n",
      "Data columns (total 8 columns):\n",
      " #   Column           Non-Null Count  Dtype \n",
      "---  ------           --------------  ----- \n",
      " 0   repo             250 non-null    object\n",
      " 1   language         243 non-null    object\n",
      " 2   readme_contents  250 non-null    object\n",
      " 3   text_cleaned     250 non-null    object\n",
      " 4   text_tokenized   250 non-null    object\n",
      " 5   text_lemmatized  250 non-null    object\n",
      " 6   text_filtered    250 non-null    object\n",
      " 7   words            250 non-null    object\n",
      "dtypes: object(8)\n",
      "memory usage: 15.8+ KB\n"
     ]
    }
   ],
   "source": [
    "repos.info()"
   ]
  },
  {
   "cell_type": "code",
   "execution_count": 265,
   "metadata": {},
   "outputs": [
    {
     "data": {
      "text/html": [
       "<div>\n",
       "<style scoped>\n",
       "    .dataframe tbody tr th:only-of-type {\n",
       "        vertical-align: middle;\n",
       "    }\n",
       "\n",
       "    .dataframe tbody tr th {\n",
       "        vertical-align: top;\n",
       "    }\n",
       "\n",
       "    .dataframe thead th {\n",
       "        text-align: right;\n",
       "    }\n",
       "</style>\n",
       "<table border=\"1\" class=\"dataframe\">\n",
       "  <thead>\n",
       "    <tr style=\"text-align: right;\">\n",
       "      <th></th>\n",
       "      <th>repo</th>\n",
       "      <th>language</th>\n",
       "      <th>readme_contents</th>\n",
       "      <th>text_cleaned</th>\n",
       "      <th>text_tokenized</th>\n",
       "      <th>text_lemmatized</th>\n",
       "      <th>text_filtered</th>\n",
       "      <th>words</th>\n",
       "    </tr>\n",
       "  </thead>\n",
       "  <tbody>\n",
       "    <tr>\n",
       "      <th>27</th>\n",
       "      <td>amusi/AI-Job-Notes</td>\n",
       "      <td>None</td>\n",
       "      <td># AI-Job-Notes\\nAI算法岗求职攻略：涵盖校招时间表、准备攻略、刷题指南、内推...</td>\n",
       "      <td>aijobnotes\\naiai\\n\\naislam\\n\\n  issues\\n\\n \\n...</td>\n",
       "      <td>aijobnotes\\naiai\\n\\naislam\\n\\n issues\\n\\n \\n\\n...</td>\n",
       "      <td>aijobnotes aiai aislam issue markdowntoc depth...</td>\n",
       "      <td>aijobnotes aiai aislam issue markdowntoc depth...</td>\n",
       "      <td>[aijobnotes, aiai, aislam, issue, markdowntoc,...</td>\n",
       "    </tr>\n",
       "    <tr>\n",
       "      <th>35</th>\n",
       "      <td>nagadomi/lbpcascade_animeface</td>\n",
       "      <td>None</td>\n",
       "      <td># lbpcascade_animeface\\n\\nThe face detector fo...</td>\n",
       "      <td>lbpcascade_animeface\\n\\nthe face detector for...</td>\n",
       "      <td>lbpcascade_animeface\\n\\nthe face detector for ...</td>\n",
       "      <td>lbpcascade_animeface the face detector for ani...</td>\n",
       "      <td>lbpcascade_animeface face detector animemanga ...</td>\n",
       "      <td>[lbpcascadeanimeface, face, detector, animeman...</td>\n",
       "    </tr>\n",
       "    <tr>\n",
       "      <th>39</th>\n",
       "      <td>changwookjun/StudyBook</td>\n",
       "      <td>None</td>\n",
       "      <td># Study E-Book(ComputerVision DeepLearning Mac...</td>\n",
       "      <td>study ebookcomputervision deeplearning machin...</td>\n",
       "      <td>study ebookcomputervision deeplearning machine...</td>\n",
       "      <td>study ebookcomputervision deeplearning machine...</td>\n",
       "      <td>study ebookcomputervision deeplearning machine...</td>\n",
       "      <td>[study, ebookcomputervision, deeplearning, mac...</td>\n",
       "    </tr>\n",
       "    <tr>\n",
       "      <th>66</th>\n",
       "      <td>xiangjiana/Android-MS</td>\n",
       "      <td>None</td>\n",
       "      <td>[**版权声明**](#版权声明)\\n\\n# Android 高级面试\\n\\n### ![面...</td>\n",
       "      <td>\\n\\n android \\n\\n img2020androidpng\\n \\n  andr...</td>\n",
       "      <td>android \\n\\n img2020androidpng\\n \\n androidhtt...</td>\n",
       "      <td>android img2020androidpng androidhttpswwwjians...</td>\n",
       "      <td>android img2020androidpng androidhttpswwwjians...</td>\n",
       "      <td>[android, img2020androidpng, androidhttpswwwji...</td>\n",
       "    </tr>\n",
       "    <tr>\n",
       "      <th>70</th>\n",
       "      <td>opencv/opencv_extra</td>\n",
       "      <td>None</td>\n",
       "      <td>### OpenCV: Open Source Computer Vision Librar...</td>\n",
       "      <td>opencv open source computer vision library\\n\\...</td>\n",
       "      <td>opencv open source computer vision library\\n\\n...</td>\n",
       "      <td>opencv open source computer vision library thi...</td>\n",
       "      <td>opencv open source computer vision library rep...</td>\n",
       "      <td>[opencv, open, source, computer, vision, libra...</td>\n",
       "    </tr>\n",
       "    <tr>\n",
       "      <th>142</th>\n",
       "      <td>huihut/OpenCV-MinGW-Build</td>\n",
       "      <td>None</td>\n",
       "      <td># OpenCV-MinGW-Build\\n\\nMinGW 32bit and 64bit ...</td>\n",
       "      <td>opencvmingwbuild\\n\\nmingw 32bit and 64bit ver...</td>\n",
       "      <td>opencvmingwbuild\\n\\nmingw 32bit and 64bit vers...</td>\n",
       "      <td>opencvmingwbuild mingw 32bit and 64bit version...</td>\n",
       "      <td>opencvmingwbuild mingw 32bit 64bit version ope...</td>\n",
       "      <td>[opencvmingwbuild, mingw, 32bit, 64bit, versio...</td>\n",
       "    </tr>\n",
       "    <tr>\n",
       "      <th>166</th>\n",
       "      <td>opencv/opencv_3rdparty</td>\n",
       "      <td>None</td>\n",
       "      <td>### OpenCV: Open Source Computer Vision Librar...</td>\n",
       "      <td>opencv open source computer vision library\\n\\...</td>\n",
       "      <td>opencv open source computer vision library\\n\\n...</td>\n",
       "      <td>opencv open source computer vision library thi...</td>\n",
       "      <td>opencv open source computer vision library rep...</td>\n",
       "      <td>[opencv, open, source, computer, vision, libra...</td>\n",
       "    </tr>\n",
       "  </tbody>\n",
       "</table>\n",
       "</div>"
      ],
      "text/plain": [
       "                              repo language  \\\n",
       "27              amusi/AI-Job-Notes     None   \n",
       "35   nagadomi/lbpcascade_animeface     None   \n",
       "39          changwookjun/StudyBook     None   \n",
       "66           xiangjiana/Android-MS     None   \n",
       "70             opencv/opencv_extra     None   \n",
       "142      huihut/OpenCV-MinGW-Build     None   \n",
       "166         opencv/opencv_3rdparty     None   \n",
       "\n",
       "                                       readme_contents  \\\n",
       "27   # AI-Job-Notes\\nAI算法岗求职攻略：涵盖校招时间表、准备攻略、刷题指南、内推...   \n",
       "35   # lbpcascade_animeface\\n\\nThe face detector fo...   \n",
       "39   # Study E-Book(ComputerVision DeepLearning Mac...   \n",
       "66   [**版权声明**](#版权声明)\\n\\n# Android 高级面试\\n\\n### ![面...   \n",
       "70   ### OpenCV: Open Source Computer Vision Librar...   \n",
       "142  # OpenCV-MinGW-Build\\n\\nMinGW 32bit and 64bit ...   \n",
       "166  ### OpenCV: Open Source Computer Vision Librar...   \n",
       "\n",
       "                                          text_cleaned  \\\n",
       "27    aijobnotes\\naiai\\n\\naislam\\n\\n  issues\\n\\n \\n...   \n",
       "35    lbpcascade_animeface\\n\\nthe face detector for...   \n",
       "39    study ebookcomputervision deeplearning machin...   \n",
       "66   \\n\\n android \\n\\n img2020androidpng\\n \\n  andr...   \n",
       "70    opencv open source computer vision library\\n\\...   \n",
       "142   opencvmingwbuild\\n\\nmingw 32bit and 64bit ver...   \n",
       "166   opencv open source computer vision library\\n\\...   \n",
       "\n",
       "                                        text_tokenized  \\\n",
       "27   aijobnotes\\naiai\\n\\naislam\\n\\n issues\\n\\n \\n\\n...   \n",
       "35   lbpcascade_animeface\\n\\nthe face detector for ...   \n",
       "39   study ebookcomputervision deeplearning machine...   \n",
       "66   android \\n\\n img2020androidpng\\n \\n androidhtt...   \n",
       "70   opencv open source computer vision library\\n\\n...   \n",
       "142  opencvmingwbuild\\n\\nmingw 32bit and 64bit vers...   \n",
       "166  opencv open source computer vision library\\n\\n...   \n",
       "\n",
       "                                       text_lemmatized  \\\n",
       "27   aijobnotes aiai aislam issue markdowntoc depth...   \n",
       "35   lbpcascade_animeface the face detector for ani...   \n",
       "39   study ebookcomputervision deeplearning machine...   \n",
       "66   android img2020androidpng androidhttpswwwjians...   \n",
       "70   opencv open source computer vision library thi...   \n",
       "142  opencvmingwbuild mingw 32bit and 64bit version...   \n",
       "166  opencv open source computer vision library thi...   \n",
       "\n",
       "                                         text_filtered  \\\n",
       "27   aijobnotes aiai aislam issue markdowntoc depth...   \n",
       "35   lbpcascade_animeface face detector animemanga ...   \n",
       "39   study ebookcomputervision deeplearning machine...   \n",
       "66   android img2020androidpng androidhttpswwwjians...   \n",
       "70   opencv open source computer vision library rep...   \n",
       "142  opencvmingwbuild mingw 32bit 64bit version ope...   \n",
       "166  opencv open source computer vision library rep...   \n",
       "\n",
       "                                                 words  \n",
       "27   [aijobnotes, aiai, aislam, issue, markdowntoc,...  \n",
       "35   [lbpcascadeanimeface, face, detector, animeman...  \n",
       "39   [study, ebookcomputervision, deeplearning, mac...  \n",
       "66   [android, img2020androidpng, androidhttpswwwji...  \n",
       "70   [opencv, open, source, computer, vision, libra...  \n",
       "142  [opencvmingwbuild, mingw, 32bit, 64bit, versio...  \n",
       "166  [opencv, open, source, computer, vision, libra...  "
      ]
     },
     "execution_count": 265,
     "metadata": {},
     "output_type": "execute_result"
    }
   ],
   "source": [
    "# We need to look at which repos have nulls for language\n",
    "repos[repos.language.isnull()]"
   ]
  },
  {
   "cell_type": "code",
   "execution_count": 266,
   "metadata": {
    "scrolled": true
   },
   "outputs": [
    {
     "name": "stdout",
     "output_type": "stream",
     "text": [
      "<class 'pandas.core.frame.DataFrame'>\n",
      "Int64Index: 243 entries, 0 to 249\n",
      "Data columns (total 8 columns):\n",
      " #   Column           Non-Null Count  Dtype \n",
      "---  ------           --------------  ----- \n",
      " 0   repo             243 non-null    object\n",
      " 1   language         243 non-null    object\n",
      " 2   readme_contents  243 non-null    object\n",
      " 3   text_cleaned     243 non-null    object\n",
      " 4   text_tokenized   243 non-null    object\n",
      " 5   text_lemmatized  243 non-null    object\n",
      " 6   text_filtered    243 non-null    object\n",
      " 7   words            243 non-null    object\n",
      "dtypes: object(8)\n",
      "memory usage: 17.1+ KB\n"
     ]
    }
   ],
   "source": [
    "# There are only 6 of the 150 so we will just drop them\n",
    "repos = repos[repos.language.notnull()]\n",
    "repos.info()"
   ]
  },
  {
   "cell_type": "code",
   "execution_count": 267,
   "metadata": {},
   "outputs": [
    {
     "data": {
      "text/plain": [
       "Python              101\n",
       "C++                  79\n",
       "Java                 16\n",
       "Jupyter Notebook     10\n",
       "JavaScript            7\n",
       "C#                    5\n",
       "Objective-C           3\n",
       "Shell                 3\n",
       "Go                    3\n",
       "C                     2\n",
       "PHP                   2\n",
       "HTML                  2\n",
       "Makefile              1\n",
       "CMake                 1\n",
       "Scala                 1\n",
       "Matlab                1\n",
       "Dockerfile            1\n",
       "Pascal                1\n",
       "Objective-C++         1\n",
       "Perl                  1\n",
       "Assembly              1\n",
       "Rust                  1\n",
       "Name: language, dtype: int64"
      ]
     },
     "execution_count": 267,
     "metadata": {},
     "output_type": "execute_result"
    }
   ],
   "source": [
    "# Lets see the breakdown of languages for OpenCV repos\n",
    "repos.language.value_counts()"
   ]
  },
  {
   "cell_type": "code",
   "execution_count": 268,
   "metadata": {},
   "outputs": [
    {
     "data": {
      "text/plain": [
       "Python    101\n",
       "C++        79\n",
       "Name: language, dtype: int64"
      ]
     },
     "execution_count": 268,
     "metadata": {},
     "output_type": "execute_result"
    }
   ],
   "source": [
    "main_two = repos[(repos.language == 'Python') | (repos.language == 'C++')].copy()\n",
    "main_two.language.value_counts()"
   ]
  },
  {
   "cell_type": "code",
   "execution_count": 270,
   "metadata": {},
   "outputs": [],
   "source": [
    "main_two.loc[main_two.language == 'Python', 'language'] = 'python'"
   ]
  },
  {
   "cell_type": "code",
   "execution_count": 271,
   "metadata": {},
   "outputs": [
    {
     "data": {
      "text/html": [
       "<div>\n",
       "<style scoped>\n",
       "    .dataframe tbody tr th:only-of-type {\n",
       "        vertical-align: middle;\n",
       "    }\n",
       "\n",
       "    .dataframe tbody tr th {\n",
       "        vertical-align: top;\n",
       "    }\n",
       "\n",
       "    .dataframe thead th {\n",
       "        text-align: right;\n",
       "    }\n",
       "</style>\n",
       "<table border=\"1\" class=\"dataframe\">\n",
       "  <thead>\n",
       "    <tr style=\"text-align: right;\">\n",
       "      <th></th>\n",
       "      <th>repo</th>\n",
       "      <th>language</th>\n",
       "      <th>readme_contents</th>\n",
       "      <th>text_cleaned</th>\n",
       "      <th>text_tokenized</th>\n",
       "      <th>text_lemmatized</th>\n",
       "      <th>text_filtered</th>\n",
       "      <th>words</th>\n",
       "    </tr>\n",
       "  </thead>\n",
       "  <tbody>\n",
       "    <tr>\n",
       "      <th>0</th>\n",
       "      <td>openframeworks/openFrameworks</td>\n",
       "      <td>C++</td>\n",
       "      <td>[openFrameworks](http://openframeworks.cc/)\\n=...</td>\n",
       "      <td>openframeworkshttpopenframeworkscc\\n\\n\\nopenfr...</td>\n",
       "      <td>openframeworkshttpopenframeworkscc\\n\\n\\nopenfr...</td>\n",
       "      <td>openframeworkshttpopenframeworkscc openframewo...</td>\n",
       "      <td>openframeworkshttpopenframeworkscc openframewo...</td>\n",
       "      <td>[openframeworkshttpopenframeworkscc, openframe...</td>\n",
       "    </tr>\n",
       "    <tr>\n",
       "      <th>1</th>\n",
       "      <td>opencv/opencv_contrib</td>\n",
       "      <td>C++</td>\n",
       "      <td>## Repository for OpenCV's extra modules\\n\\nTh...</td>\n",
       "      <td>repository for opencvs extra modules\\n\\nthis ...</td>\n",
       "      <td>repository for opencvs extra modules\\n\\nthis r...</td>\n",
       "      <td>repository for opencvs extra module this repos...</td>\n",
       "      <td>repository opencvs extra module repository int...</td>\n",
       "      <td>[repository, opencvs, extra, module, repositor...</td>\n",
       "    </tr>\n",
       "    <tr>\n",
       "      <th>2</th>\n",
       "      <td>oarriaga/face_classification</td>\n",
       "      <td>python</td>\n",
       "      <td># This repository is deprecated for at TF-2.0 ...</td>\n",
       "      <td>this repository is deprecated for at tf20 rew...</td>\n",
       "      <td>this repository is deprecated for at tf20 rewr...</td>\n",
       "      <td>this repository is deprecated for at tf20 rewr...</td>\n",
       "      <td>repository deprecated tf20 rewrite visit https...</td>\n",
       "      <td>[repository, deprecated, tf20, rewrite, visit,...</td>\n",
       "    </tr>\n",
       "    <tr>\n",
       "      <th>3</th>\n",
       "      <td>opencv/opencv</td>\n",
       "      <td>C++</td>\n",
       "      <td>## OpenCV: Open Source Computer Vision Library...</td>\n",
       "      <td>opencv open source computer vision library\\n\\...</td>\n",
       "      <td>opencv open source computer vision library\\n\\n...</td>\n",
       "      <td>opencv open source computer vision library res...</td>\n",
       "      <td>opencv open source computer vision library res...</td>\n",
       "      <td>[opencv, open, source, computer, vision, libra...</td>\n",
       "    </tr>\n",
       "    <tr>\n",
       "      <th>4</th>\n",
       "      <td>Ewenwan/MVision</td>\n",
       "      <td>C++</td>\n",
       "      <td># MVision　Machine Vision 机器视觉\\n[AI算法工程师手册 数学基础...</td>\n",
       "      <td>mvision machine vision \\nai     httpwwwhuaxia...</td>\n",
       "      <td>mvision machine vision \\nai httpwwwhuaxiaozhua...</td>\n",
       "      <td>mvision machine vision ai httpwwwhuaxiaozhuanc...</td>\n",
       "      <td>mvision machine vision ai httpwwwhuaxiaozhuanc...</td>\n",
       "      <td>[mvision, machine, vision, ai, httpwwwhuaxiaoz...</td>\n",
       "    </tr>\n",
       "  </tbody>\n",
       "</table>\n",
       "</div>"
      ],
      "text/plain": [
       "                            repo language  \\\n",
       "0  openframeworks/openFrameworks      C++   \n",
       "1          opencv/opencv_contrib      C++   \n",
       "2   oarriaga/face_classification   python   \n",
       "3                  opencv/opencv      C++   \n",
       "4                Ewenwan/MVision      C++   \n",
       "\n",
       "                                     readme_contents  \\\n",
       "0  [openFrameworks](http://openframeworks.cc/)\\n=...   \n",
       "1  ## Repository for OpenCV's extra modules\\n\\nTh...   \n",
       "2  # This repository is deprecated for at TF-2.0 ...   \n",
       "3  ## OpenCV: Open Source Computer Vision Library...   \n",
       "4  # MVision　Machine Vision 机器视觉\\n[AI算法工程师手册 数学基础...   \n",
       "\n",
       "                                        text_cleaned  \\\n",
       "0  openframeworkshttpopenframeworkscc\\n\\n\\nopenfr...   \n",
       "1   repository for opencvs extra modules\\n\\nthis ...   \n",
       "2   this repository is deprecated for at tf20 rew...   \n",
       "3   opencv open source computer vision library\\n\\...   \n",
       "4   mvision machine vision \\nai     httpwwwhuaxia...   \n",
       "\n",
       "                                      text_tokenized  \\\n",
       "0  openframeworkshttpopenframeworkscc\\n\\n\\nopenfr...   \n",
       "1  repository for opencvs extra modules\\n\\nthis r...   \n",
       "2  this repository is deprecated for at tf20 rewr...   \n",
       "3  opencv open source computer vision library\\n\\n...   \n",
       "4  mvision machine vision \\nai httpwwwhuaxiaozhua...   \n",
       "\n",
       "                                     text_lemmatized  \\\n",
       "0  openframeworkshttpopenframeworkscc openframewo...   \n",
       "1  repository for opencvs extra module this repos...   \n",
       "2  this repository is deprecated for at tf20 rewr...   \n",
       "3  opencv open source computer vision library res...   \n",
       "4  mvision machine vision ai httpwwwhuaxiaozhuanc...   \n",
       "\n",
       "                                       text_filtered  \\\n",
       "0  openframeworkshttpopenframeworkscc openframewo...   \n",
       "1  repository opencvs extra module repository int...   \n",
       "2  repository deprecated tf20 rewrite visit https...   \n",
       "3  opencv open source computer vision library res...   \n",
       "4  mvision machine vision ai httpwwwhuaxiaozhuanc...   \n",
       "\n",
       "                                               words  \n",
       "0  [openframeworkshttpopenframeworkscc, openframe...  \n",
       "1  [repository, opencvs, extra, module, repositor...  \n",
       "2  [repository, deprecated, tf20, rewrite, visit,...  \n",
       "3  [opencv, open, source, computer, vision, libra...  \n",
       "4  [mvision, machine, vision, ai, httpwwwhuaxiaoz...  "
      ]
     },
     "execution_count": 271,
     "metadata": {},
     "output_type": "execute_result"
    }
   ],
   "source": [
    "main_two.head()"
   ]
  },
  {
   "cell_type": "code",
   "execution_count": 272,
   "metadata": {},
   "outputs": [],
   "source": [
    "train_validate, test = train_test_split(main_two.copy(), test_size=.2)\n",
    "train, validate = train_test_split(train_validate.copy(), test_size=.25)"
   ]
  },
  {
   "cell_type": "code",
   "execution_count": 273,
   "metadata": {},
   "outputs": [
    {
     "name": "stdout",
     "output_type": "stream",
     "text": [
      "(108, 8) (36, 8) (36, 8)\n"
     ]
    }
   ],
   "source": [
    "print(train.shape, validate.shape, test.shape)"
   ]
  },
  {
   "cell_type": "code",
   "execution_count": 274,
   "metadata": {},
   "outputs": [
    {
     "name": "stdout",
     "output_type": "stream",
     "text": [
      "python    58\n",
      "C++       50\n",
      "Name: language, dtype: int64 \n",
      "\n",
      "python    22\n",
      "C++       14\n",
      "Name: language, dtype: int64 \n",
      "\n",
      "python    21\n",
      "C++       15\n",
      "Name: language, dtype: int64\n"
     ]
    }
   ],
   "source": [
    "print(train.language.value_counts(), '\\n')\n",
    "print(validate.language.value_counts(), '\\n')\n",
    "print(test.language.value_counts())"
   ]
  },
  {
   "cell_type": "markdown",
   "metadata": {},
   "source": [
    "# Explore"
   ]
  },
  {
   "cell_type": "markdown",
   "metadata": {},
   "source": [
    "### What are the most common words in READMEs?"
   ]
  },
  {
   "cell_type": "code",
   "execution_count": 277,
   "metadata": {},
   "outputs": [],
   "source": [
    "# Now we will create word lists for python and C++ repos as they are the majority of our data, and one for all words\n",
    "python_words = ' '.join(train[train.language=='python'].text_filtered)\n",
    "c_plus_plus_words = ' '.join(train[train.language=='C++'].text_filtered)\n",
    "all_words = ' '.join(train.text_filtered)\n",
    "\n",
    "python_words = re.sub(r'\\s.\\s', '', python_words)\n",
    "c_plus_plus_words = re.sub(r'\\s.\\s', '', c_plus_plus_words)\n",
    "all_words = re.sub(r'\\s.\\s', '', all_words)"
   ]
  },
  {
   "cell_type": "code",
   "execution_count": 278,
   "metadata": {},
   "outputs": [
    {
     "name": "stdout",
     "output_type": "stream",
     "text": [
      "Most common python words:\n",
      "image     612\n",
      "python    230\n",
      "model     220\n",
      "video     197\n",
      "face      193\n",
      "dtype: int64\n",
      "\n",
      "Most common c++ words:\n",
      "&#9;      534\n",
      "opencv    243\n",
      "build     220\n",
      "image     140\n",
      "use       123\n",
      "dtype: int64\n",
      "\n",
      "Most common words in all repos:\n",
      "image     752\n",
      "&#9;      594\n",
      "opencv    388\n",
      "using     274\n",
      "python    252\n",
      "dtype: int64\n"
     ]
    }
   ],
   "source": [
    "python_freq = pd.Series(python_words.split()).value_counts()\n",
    "c_plus_plus_freq = pd.Series(c_plus_plus_words.split()).value_counts()\n",
    "all_freq = pd.Series(all_words.split()).value_counts()\n",
    "\n",
    "print('Most common python words:')\n",
    "print(python_freq.head())\n",
    "print()\n",
    "print('Most common c++ words:')\n",
    "print(c_plus_plus_freq.head())\n",
    "print()\n",
    "print('Most common words in all repos:')\n",
    "print(all_freq.head())"
   ]
  },
  {
   "cell_type": "code",
   "execution_count": 307,
   "metadata": {
    "scrolled": true
   },
   "outputs": [
    {
     "data": {
      "text/html": [
       "<div>\n",
       "<style scoped>\n",
       "    .dataframe tbody tr th:only-of-type {\n",
       "        vertical-align: middle;\n",
       "    }\n",
       "\n",
       "    .dataframe tbody tr th {\n",
       "        vertical-align: top;\n",
       "    }\n",
       "\n",
       "    .dataframe thead th {\n",
       "        text-align: right;\n",
       "    }\n",
       "</style>\n",
       "<table border=\"1\" class=\"dataframe\">\n",
       "  <thead>\n",
       "    <tr style=\"text-align: right;\">\n",
       "      <th></th>\n",
       "      <th>all</th>\n",
       "      <th>python</th>\n",
       "      <th>C++</th>\n",
       "    </tr>\n",
       "  </thead>\n",
       "  <tbody>\n",
       "    <tr>\n",
       "      <th>image</th>\n",
       "      <td>752</td>\n",
       "      <td>612</td>\n",
       "      <td>140</td>\n",
       "    </tr>\n",
       "    <tr>\n",
       "      <th>&amp;#9;</th>\n",
       "      <td>594</td>\n",
       "      <td>60</td>\n",
       "      <td>534</td>\n",
       "    </tr>\n",
       "    <tr>\n",
       "      <th>opencv</th>\n",
       "      <td>388</td>\n",
       "      <td>145</td>\n",
       "      <td>243</td>\n",
       "    </tr>\n",
       "    <tr>\n",
       "      <th>using</th>\n",
       "      <td>274</td>\n",
       "      <td>154</td>\n",
       "      <td>120</td>\n",
       "    </tr>\n",
       "    <tr>\n",
       "      <th>python</th>\n",
       "      <td>252</td>\n",
       "      <td>230</td>\n",
       "      <td>22</td>\n",
       "    </tr>\n",
       "    <tr>\n",
       "      <th>build</th>\n",
       "      <td>250</td>\n",
       "      <td>30</td>\n",
       "      <td>220</td>\n",
       "    </tr>\n",
       "    <tr>\n",
       "      <th>face</th>\n",
       "      <td>249</td>\n",
       "      <td>193</td>\n",
       "      <td>56</td>\n",
       "    </tr>\n",
       "    <tr>\n",
       "      <th>file</th>\n",
       "      <td>247</td>\n",
       "      <td>152</td>\n",
       "      <td>95</td>\n",
       "    </tr>\n",
       "    <tr>\n",
       "      <th>model</th>\n",
       "      <td>241</td>\n",
       "      <td>220</td>\n",
       "      <td>21</td>\n",
       "    </tr>\n",
       "    <tr>\n",
       "      <th>video</th>\n",
       "      <td>237</td>\n",
       "      <td>197</td>\n",
       "      <td>40</td>\n",
       "    </tr>\n",
       "  </tbody>\n",
       "</table>\n",
       "</div>"
      ],
      "text/plain": [
       "        all  python  C++\n",
       "image   752     612  140\n",
       "&#9;    594      60  534\n",
       "opencv  388     145  243\n",
       "using   274     154  120\n",
       "python  252     230   22\n",
       "build   250      30  220\n",
       "face    249     193   56\n",
       "file    247     152   95\n",
       "model   241     220   21\n",
       "video   237     197   40"
      ]
     },
     "execution_count": 307,
     "metadata": {},
     "output_type": "execute_result"
    }
   ],
   "source": [
    "word_counts = (pd.concat([all_freq, python_freq, c_plus_plus_freq], axis=1, sort=True)\n",
    "               .set_axis(['all', 'python', 'C++'], axis=1, inplace=False)\n",
    "               .fillna(0)\n",
    "               .apply(lambda s: s.astype(int))\n",
    "              )\n",
    "\n",
    "word_counts.sort_values(by='all', ascending=False).head(10)"
   ]
  },
  {
   "cell_type": "markdown",
   "metadata": {},
   "source": [
    "### Does the length of the README vary by programming language?"
   ]
  },
  {
   "cell_type": "code",
   "execution_count": 282,
   "metadata": {},
   "outputs": [],
   "source": [
    "train['doc_len'] = [len(x) for x in train.words]\n",
    "validate['doc_len'] = [len(x) for x in validate.words]\n",
    "test['doc_len'] = [len(x) for x in test.words]"
   ]
  },
  {
   "cell_type": "code",
   "execution_count": 283,
   "metadata": {},
   "outputs": [
    {
     "data": {
      "text/html": [
       "<div>\n",
       "<style scoped>\n",
       "    .dataframe tbody tr th:only-of-type {\n",
       "        vertical-align: middle;\n",
       "    }\n",
       "\n",
       "    .dataframe tbody tr th {\n",
       "        vertical-align: top;\n",
       "    }\n",
       "\n",
       "    .dataframe thead th {\n",
       "        text-align: right;\n",
       "    }\n",
       "</style>\n",
       "<table border=\"1\" class=\"dataframe\">\n",
       "  <thead>\n",
       "    <tr style=\"text-align: right;\">\n",
       "      <th></th>\n",
       "      <th>repo</th>\n",
       "      <th>language</th>\n",
       "      <th>readme_contents</th>\n",
       "      <th>text_cleaned</th>\n",
       "      <th>text_tokenized</th>\n",
       "      <th>text_lemmatized</th>\n",
       "      <th>text_filtered</th>\n",
       "      <th>words</th>\n",
       "      <th>doc_len</th>\n",
       "    </tr>\n",
       "  </thead>\n",
       "  <tbody>\n",
       "    <tr>\n",
       "      <th>87</th>\n",
       "      <td>bytefish/opencv</td>\n",
       "      <td>C++</td>\n",
       "      <td># bytefish/opencv #\\n\\nThis repository contain...</td>\n",
       "      <td>bytefishopencv \\n\\nthis repository contains o...</td>\n",
       "      <td>bytefishopencv \\n\\nthis repository contains op...</td>\n",
       "      <td>bytefishopencv this repository contains opencv...</td>\n",
       "      <td>bytefishopencv repository contains opencv code...</td>\n",
       "      <td>[bytefishopencv, repository, contains, opencv,...</td>\n",
       "      <td>124</td>\n",
       "    </tr>\n",
       "    <tr>\n",
       "      <th>0</th>\n",
       "      <td>openframeworks/openFrameworks</td>\n",
       "      <td>C++</td>\n",
       "      <td>[openFrameworks](http://openframeworks.cc/)\\n=...</td>\n",
       "      <td>openframeworkshttpopenframeworkscc\\n\\n\\nopenfr...</td>\n",
       "      <td>openframeworkshttpopenframeworkscc\\n\\n\\nopenfr...</td>\n",
       "      <td>openframeworkshttpopenframeworkscc openframewo...</td>\n",
       "      <td>openframeworkshttpopenframeworkscc openframewo...</td>\n",
       "      <td>[openframeworkshttpopenframeworkscc, openframe...</td>\n",
       "      <td>512</td>\n",
       "    </tr>\n",
       "    <tr>\n",
       "      <th>108</th>\n",
       "      <td>takmin/OpenCV-Marker-less-AR</td>\n",
       "      <td>C++</td>\n",
       "      <td>2012/01/10\\nMarker less AR is using natural im...</td>\n",
       "      <td>20120110\\nmarker less ar is using natural imag...</td>\n",
       "      <td>20120110\\nmarker less ar is using natural imag...</td>\n",
       "      <td>20120110 marker le ar is using natural image a...</td>\n",
       "      <td>20120110 marker le ar using natural image mark...</td>\n",
       "      <td>[20120110, marker, le, ar, using, natural, ima...</td>\n",
       "      <td>138</td>\n",
       "    </tr>\n",
       "    <tr>\n",
       "      <th>208</th>\n",
       "      <td>ZQPei/Sorting_Visualization</td>\n",
       "      <td>python</td>\n",
       "      <td>![](img/sort.jpg)\\n\\n# Sorting Visualization a...</td>\n",
       "      <td>imgsortjpg\\n\\n sorting visualization and audib...</td>\n",
       "      <td>imgsortjpg\\n\\n sorting visualization and audib...</td>\n",
       "      <td>imgsortjpg sorting visualization and audibiliz...</td>\n",
       "      <td>imgsortjpg sorting visualization audibilizatio...</td>\n",
       "      <td>[imgsortjpg, sorting, visualization, audibiliz...</td>\n",
       "      <td>204</td>\n",
       "    </tr>\n",
       "    <tr>\n",
       "      <th>30</th>\n",
       "      <td>abhiTronix/vidgear</td>\n",
       "      <td>python</td>\n",
       "      <td>&lt;!--\\r\\n======================================...</td>\n",
       "      <td>\\r\\n\\r\\nvidgear library sourcecode is deployed...</td>\n",
       "      <td>vidgear library sourcecode is deployed under t...</td>\n",
       "      <td>vidgear library sourcecode is deployed under t...</td>\n",
       "      <td>vidgear library sourcecode deployed apache 20 ...</td>\n",
       "      <td>[vidgear, library, sourcecode, deployed, apach...</td>\n",
       "      <td>2118</td>\n",
       "    </tr>\n",
       "  </tbody>\n",
       "</table>\n",
       "</div>"
      ],
      "text/plain": [
       "                              repo language  \\\n",
       "87                 bytefish/opencv      C++   \n",
       "0    openframeworks/openFrameworks      C++   \n",
       "108   takmin/OpenCV-Marker-less-AR      C++   \n",
       "208    ZQPei/Sorting_Visualization   python   \n",
       "30              abhiTronix/vidgear   python   \n",
       "\n",
       "                                       readme_contents  \\\n",
       "87   # bytefish/opencv #\\n\\nThis repository contain...   \n",
       "0    [openFrameworks](http://openframeworks.cc/)\\n=...   \n",
       "108  2012/01/10\\nMarker less AR is using natural im...   \n",
       "208  ![](img/sort.jpg)\\n\\n# Sorting Visualization a...   \n",
       "30   <!--\\r\\n======================================...   \n",
       "\n",
       "                                          text_cleaned  \\\n",
       "87    bytefishopencv \\n\\nthis repository contains o...   \n",
       "0    openframeworkshttpopenframeworkscc\\n\\n\\nopenfr...   \n",
       "108  20120110\\nmarker less ar is using natural imag...   \n",
       "208  imgsortjpg\\n\\n sorting visualization and audib...   \n",
       "30   \\r\\n\\r\\nvidgear library sourcecode is deployed...   \n",
       "\n",
       "                                        text_tokenized  \\\n",
       "87   bytefishopencv \\n\\nthis repository contains op...   \n",
       "0    openframeworkshttpopenframeworkscc\\n\\n\\nopenfr...   \n",
       "108  20120110\\nmarker less ar is using natural imag...   \n",
       "208  imgsortjpg\\n\\n sorting visualization and audib...   \n",
       "30   vidgear library sourcecode is deployed under t...   \n",
       "\n",
       "                                       text_lemmatized  \\\n",
       "87   bytefishopencv this repository contains opencv...   \n",
       "0    openframeworkshttpopenframeworkscc openframewo...   \n",
       "108  20120110 marker le ar is using natural image a...   \n",
       "208  imgsortjpg sorting visualization and audibiliz...   \n",
       "30   vidgear library sourcecode is deployed under t...   \n",
       "\n",
       "                                         text_filtered  \\\n",
       "87   bytefishopencv repository contains opencv code...   \n",
       "0    openframeworkshttpopenframeworkscc openframewo...   \n",
       "108  20120110 marker le ar using natural image mark...   \n",
       "208  imgsortjpg sorting visualization audibilizatio...   \n",
       "30   vidgear library sourcecode deployed apache 20 ...   \n",
       "\n",
       "                                                 words  doc_len  \n",
       "87   [bytefishopencv, repository, contains, opencv,...      124  \n",
       "0    [openframeworkshttpopenframeworkscc, openframe...      512  \n",
       "108  [20120110, marker, le, ar, using, natural, ima...      138  \n",
       "208  [imgsortjpg, sorting, visualization, audibiliz...      204  \n",
       "30   [vidgear, library, sourcecode, deployed, apach...     2118  "
      ]
     },
     "execution_count": 283,
     "metadata": {},
     "output_type": "execute_result"
    }
   ],
   "source": [
    "train.head()"
   ]
  },
  {
   "cell_type": "code",
   "execution_count": 284,
   "metadata": {
    "scrolled": true
   },
   "outputs": [
    {
     "data": {
      "text/html": [
       "<div>\n",
       "<style scoped>\n",
       "    .dataframe tbody tr th:only-of-type {\n",
       "        vertical-align: middle;\n",
       "    }\n",
       "\n",
       "    .dataframe tbody tr th {\n",
       "        vertical-align: top;\n",
       "    }\n",
       "\n",
       "    .dataframe thead th {\n",
       "        text-align: right;\n",
       "    }\n",
       "</style>\n",
       "<table border=\"1\" class=\"dataframe\">\n",
       "  <thead>\n",
       "    <tr style=\"text-align: right;\">\n",
       "      <th></th>\n",
       "      <th>count</th>\n",
       "      <th>mean</th>\n",
       "      <th>std</th>\n",
       "      <th>min</th>\n",
       "      <th>25%</th>\n",
       "      <th>50%</th>\n",
       "      <th>75%</th>\n",
       "      <th>max</th>\n",
       "    </tr>\n",
       "    <tr>\n",
       "      <th>language</th>\n",
       "      <th></th>\n",
       "      <th></th>\n",
       "      <th></th>\n",
       "      <th></th>\n",
       "      <th></th>\n",
       "      <th></th>\n",
       "      <th></th>\n",
       "      <th></th>\n",
       "    </tr>\n",
       "  </thead>\n",
       "  <tbody>\n",
       "    <tr>\n",
       "      <th>C++</th>\n",
       "      <td>50.0</td>\n",
       "      <td>366.460000</td>\n",
       "      <td>354.003356</td>\n",
       "      <td>11.0</td>\n",
       "      <td>168.75</td>\n",
       "      <td>279.0</td>\n",
       "      <td>494.75</td>\n",
       "      <td>1980.0</td>\n",
       "    </tr>\n",
       "    <tr>\n",
       "      <th>python</th>\n",
       "      <td>58.0</td>\n",
       "      <td>538.896552</td>\n",
       "      <td>717.213753</td>\n",
       "      <td>5.0</td>\n",
       "      <td>104.50</td>\n",
       "      <td>269.0</td>\n",
       "      <td>676.75</td>\n",
       "      <td>3157.0</td>\n",
       "    </tr>\n",
       "  </tbody>\n",
       "</table>\n",
       "</div>"
      ],
      "text/plain": [
       "          count        mean         std   min     25%    50%     75%     max\n",
       "language                                                                    \n",
       "C++        50.0  366.460000  354.003356  11.0  168.75  279.0  494.75  1980.0\n",
       "python     58.0  538.896552  717.213753   5.0  104.50  269.0  676.75  3157.0"
      ]
     },
     "execution_count": 284,
     "metadata": {},
     "output_type": "execute_result"
    }
   ],
   "source": [
    "train.groupby(train.language).doc_len.describe()"
   ]
  },
  {
   "cell_type": "markdown",
   "metadata": {},
   "source": [
    "### What does the distribution of IDFs look like for the most common words?"
   ]
  },
  {
   "cell_type": "code",
   "execution_count": 285,
   "metadata": {},
   "outputs": [],
   "source": [
    "def idf(word):\n",
    "    n_occurences = sum([1 for doc in train.text_filtered if word in doc])\n",
    "    return np.log(len(train.words) / n_occurences)"
   ]
  },
  {
   "cell_type": "code",
   "execution_count": 286,
   "metadata": {},
   "outputs": [],
   "source": [
    "unique_words = pd.Series(' '.join(train.text_filtered).split()).unique()"
   ]
  },
  {
   "cell_type": "code",
   "execution_count": 287,
   "metadata": {},
   "outputs": [
    {
     "data": {
      "text/plain": [
       "array(['bytefishopencv', 'repository', 'contains', ..., 'child', 'dat',\n",
       "       'tranhttpwwwdattrancom'], dtype=object)"
      ]
     },
     "execution_count": 287,
     "metadata": {},
     "output_type": "execute_result"
    }
   ],
   "source": [
    "unique_words"
   ]
  },
  {
   "cell_type": "code",
   "execution_count": 288,
   "metadata": {},
   "outputs": [
    {
     "data": {
      "text/html": [
       "<div>\n",
       "<style scoped>\n",
       "    .dataframe tbody tr th:only-of-type {\n",
       "        vertical-align: middle;\n",
       "    }\n",
       "\n",
       "    .dataframe tbody tr th {\n",
       "        vertical-align: top;\n",
       "    }\n",
       "\n",
       "    .dataframe thead th {\n",
       "        text-align: right;\n",
       "    }\n",
       "</style>\n",
       "<table border=\"1\" class=\"dataframe\">\n",
       "  <thead>\n",
       "    <tr style=\"text-align: right;\">\n",
       "      <th></th>\n",
       "      <th>idf</th>\n",
       "    </tr>\n",
       "    <tr>\n",
       "      <th>word</th>\n",
       "      <th></th>\n",
       "    </tr>\n",
       "  </thead>\n",
       "  <tbody>\n",
       "    <tr>\n",
       "      <th>bytefishopencv</th>\n",
       "      <td>4.682131</td>\n",
       "    </tr>\n",
       "    <tr>\n",
       "      <th>thinking</th>\n",
       "      <td>4.682131</td>\n",
       "    </tr>\n",
       "    <tr>\n",
       "      <th>cvreadimagefilename</th>\n",
       "      <td>4.682131</td>\n",
       "    </tr>\n",
       "    <tr>\n",
       "      <th>cvreadimagebuffer</th>\n",
       "      <td>4.682131</td>\n",
       "    </tr>\n",
       "    <tr>\n",
       "      <th>imagedatastream</th>\n",
       "      <td>4.682131</td>\n",
       "    </tr>\n",
       "    <tr>\n",
       "      <th>cvimagedatastream</th>\n",
       "      <td>4.682131</td>\n",
       "    </tr>\n",
       "    <tr>\n",
       "      <th>sonload</th>\n",
       "      <td>4.682131</td>\n",
       "    </tr>\n",
       "    <tr>\n",
       "      <th>functionmatrix</th>\n",
       "      <td>4.682131</td>\n",
       "    </tr>\n",
       "    <tr>\n",
       "      <th>fscreatereadstreamexamplesfilesmonapngpipes</th>\n",
       "      <td>4.682131</td>\n",
       "    </tr>\n",
       "    <tr>\n",
       "      <th>imagestream</th>\n",
       "      <td>4.682131</td>\n",
       "    </tr>\n",
       "  </tbody>\n",
       "</table>\n",
       "</div>"
      ],
      "text/plain": [
       "                                                  idf\n",
       "word                                                 \n",
       "bytefishopencv                               4.682131\n",
       "thinking                                     4.682131\n",
       "cvreadimagefilename                          4.682131\n",
       "cvreadimagebuffer                            4.682131\n",
       "imagedatastream                              4.682131\n",
       "cvimagedatastream                            4.682131\n",
       "sonload                                      4.682131\n",
       "functionmatrix                               4.682131\n",
       "fscreatereadstreamexamplesfilesmonapngpipes  4.682131\n",
       "imagestream                                  4.682131"
      ]
     },
     "execution_count": 288,
     "metadata": {},
     "output_type": "execute_result"
    }
   ],
   "source": [
    "idf_words = (pd.DataFrame(dict(word=unique_words))\n",
    " .assign(idf=lambda df: df.word.apply(idf))\n",
    " .set_index('word')\n",
    " .sort_values(by='idf', ascending=False))\n",
    "idf_words.head(10)"
   ]
  },
  {
   "cell_type": "code",
   "execution_count": 289,
   "metadata": {},
   "outputs": [
    {
     "data": {
      "text/html": [
       "<div>\n",
       "<style scoped>\n",
       "    .dataframe tbody tr th:only-of-type {\n",
       "        vertical-align: middle;\n",
       "    }\n",
       "\n",
       "    .dataframe tbody tr th {\n",
       "        vertical-align: top;\n",
       "    }\n",
       "\n",
       "    .dataframe thead th {\n",
       "        text-align: right;\n",
       "    }\n",
       "</style>\n",
       "<table border=\"1\" class=\"dataframe\">\n",
       "  <thead>\n",
       "    <tr style=\"text-align: right;\">\n",
       "      <th></th>\n",
       "      <th>idf</th>\n",
       "    </tr>\n",
       "  </thead>\n",
       "  <tbody>\n",
       "    <tr>\n",
       "      <th>count</th>\n",
       "      <td>12038.000000</td>\n",
       "    </tr>\n",
       "    <tr>\n",
       "      <th>mean</th>\n",
       "      <td>4.096967</td>\n",
       "    </tr>\n",
       "    <tr>\n",
       "      <th>std</th>\n",
       "      <td>1.040849</td>\n",
       "    </tr>\n",
       "    <tr>\n",
       "      <th>min</th>\n",
       "      <td>0.000000</td>\n",
       "    </tr>\n",
       "    <tr>\n",
       "      <th>25%</th>\n",
       "      <td>3.988984</td>\n",
       "    </tr>\n",
       "    <tr>\n",
       "      <th>50%</th>\n",
       "      <td>4.682131</td>\n",
       "    </tr>\n",
       "    <tr>\n",
       "      <th>75%</th>\n",
       "      <td>4.682131</td>\n",
       "    </tr>\n",
       "    <tr>\n",
       "      <th>max</th>\n",
       "      <td>4.682131</td>\n",
       "    </tr>\n",
       "  </tbody>\n",
       "</table>\n",
       "</div>"
      ],
      "text/plain": [
       "                idf\n",
       "count  12038.000000\n",
       "mean       4.096967\n",
       "std        1.040849\n",
       "min        0.000000\n",
       "25%        3.988984\n",
       "50%        4.682131\n",
       "75%        4.682131\n",
       "max        4.682131"
      ]
     },
     "execution_count": 289,
     "metadata": {},
     "output_type": "execute_result"
    }
   ],
   "source": [
    "idf_words.describe()"
   ]
  },
  {
   "cell_type": "code",
   "execution_count": 290,
   "metadata": {},
   "outputs": [],
   "source": [
    "top_five_words = pd.DataFrame()\n",
    "for word in all_freq.head().index:\n",
    "    hold = idf_words[idf_words.index == word]\n",
    "    top_five_words = top_five_words.append(hold)"
   ]
  },
  {
   "cell_type": "code",
   "execution_count": 291,
   "metadata": {},
   "outputs": [
    {
     "data": {
      "text/html": [
       "<div>\n",
       "<style scoped>\n",
       "    .dataframe tbody tr th:only-of-type {\n",
       "        vertical-align: middle;\n",
       "    }\n",
       "\n",
       "    .dataframe tbody tr th {\n",
       "        vertical-align: top;\n",
       "    }\n",
       "\n",
       "    .dataframe thead th {\n",
       "        text-align: right;\n",
       "    }\n",
       "</style>\n",
       "<table border=\"1\" class=\"dataframe\">\n",
       "  <thead>\n",
       "    <tr style=\"text-align: right;\">\n",
       "      <th></th>\n",
       "      <th>idf</th>\n",
       "    </tr>\n",
       "    <tr>\n",
       "      <th>word</th>\n",
       "      <th></th>\n",
       "    </tr>\n",
       "  </thead>\n",
       "  <tbody>\n",
       "    <tr>\n",
       "      <th>&amp;#9;</th>\n",
       "      <td>1.637609</td>\n",
       "    </tr>\n",
       "    <tr>\n",
       "      <th>python</th>\n",
       "      <td>0.554997</td>\n",
       "    </tr>\n",
       "    <tr>\n",
       "      <th>using</th>\n",
       "      <td>0.405465</td>\n",
       "    </tr>\n",
       "    <tr>\n",
       "      <th>image</th>\n",
       "      <td>0.275412</td>\n",
       "    </tr>\n",
       "    <tr>\n",
       "      <th>opencv</th>\n",
       "      <td>0.087011</td>\n",
       "    </tr>\n",
       "  </tbody>\n",
       "</table>\n",
       "</div>"
      ],
      "text/plain": [
       "             idf\n",
       "word            \n",
       "&#9;    1.637609\n",
       "python  0.554997\n",
       "using   0.405465\n",
       "image   0.275412\n",
       "opencv  0.087011"
      ]
     },
     "execution_count": 291,
     "metadata": {},
     "output_type": "execute_result"
    }
   ],
   "source": [
    "top_five_words.sort_values(by='idf', ascending=False)"
   ]
  },
  {
   "cell_type": "code",
   "execution_count": 292,
   "metadata": {},
   "outputs": [],
   "source": [
    "top_five_python = pd.DataFrame()\n",
    "for word in python_freq.head().index:\n",
    "    hold = idf_words[idf_words.index == word]\n",
    "    top_five_python = top_five_python.append(hold)"
   ]
  },
  {
   "cell_type": "code",
   "execution_count": 293,
   "metadata": {},
   "outputs": [
    {
     "data": {
      "text/html": [
       "<div>\n",
       "<style scoped>\n",
       "    .dataframe tbody tr th:only-of-type {\n",
       "        vertical-align: middle;\n",
       "    }\n",
       "\n",
       "    .dataframe tbody tr th {\n",
       "        vertical-align: top;\n",
       "    }\n",
       "\n",
       "    .dataframe thead th {\n",
       "        text-align: right;\n",
       "    }\n",
       "</style>\n",
       "<table border=\"1\" class=\"dataframe\">\n",
       "  <thead>\n",
       "    <tr style=\"text-align: right;\">\n",
       "      <th></th>\n",
       "      <th>idf</th>\n",
       "    </tr>\n",
       "    <tr>\n",
       "      <th>word</th>\n",
       "      <th></th>\n",
       "    </tr>\n",
       "  </thead>\n",
       "  <tbody>\n",
       "    <tr>\n",
       "      <th>model</th>\n",
       "      <td>0.968559</td>\n",
       "    </tr>\n",
       "    <tr>\n",
       "      <th>video</th>\n",
       "      <td>0.730888</td>\n",
       "    </tr>\n",
       "    <tr>\n",
       "      <th>face</th>\n",
       "      <td>0.730888</td>\n",
       "    </tr>\n",
       "    <tr>\n",
       "      <th>python</th>\n",
       "      <td>0.554997</td>\n",
       "    </tr>\n",
       "    <tr>\n",
       "      <th>image</th>\n",
       "      <td>0.275412</td>\n",
       "    </tr>\n",
       "  </tbody>\n",
       "</table>\n",
       "</div>"
      ],
      "text/plain": [
       "             idf\n",
       "word            \n",
       "model   0.968559\n",
       "video   0.730888\n",
       "face    0.730888\n",
       "python  0.554997\n",
       "image   0.275412"
      ]
     },
     "execution_count": 293,
     "metadata": {},
     "output_type": "execute_result"
    }
   ],
   "source": [
    "top_five_python.sort_values(by='idf').sort_values(by='idf', ascending=False).head()"
   ]
  },
  {
   "cell_type": "code",
   "execution_count": 294,
   "metadata": {},
   "outputs": [],
   "source": [
    "top_five_cplus2 = pd.DataFrame()\n",
    "for word in c_plus_plus_freq.head().index:\n",
    "    hold = idf_words[idf_words.index == word]\n",
    "    top_five_cplus2 = top_five_cplus2.append(hold)"
   ]
  },
  {
   "cell_type": "code",
   "execution_count": 295,
   "metadata": {},
   "outputs": [
    {
     "data": {
      "text/html": [
       "<div>\n",
       "<style scoped>\n",
       "    .dataframe tbody tr th:only-of-type {\n",
       "        vertical-align: middle;\n",
       "    }\n",
       "\n",
       "    .dataframe tbody tr th {\n",
       "        vertical-align: top;\n",
       "    }\n",
       "\n",
       "    .dataframe thead th {\n",
       "        text-align: right;\n",
       "    }\n",
       "</style>\n",
       "<table border=\"1\" class=\"dataframe\">\n",
       "  <thead>\n",
       "    <tr style=\"text-align: right;\">\n",
       "      <th></th>\n",
       "      <th>idf</th>\n",
       "    </tr>\n",
       "    <tr>\n",
       "      <th>word</th>\n",
       "      <th></th>\n",
       "    </tr>\n",
       "  </thead>\n",
       "  <tbody>\n",
       "    <tr>\n",
       "      <th>&amp;#9;</th>\n",
       "      <td>1.637609</td>\n",
       "    </tr>\n",
       "    <tr>\n",
       "      <th>build</th>\n",
       "      <td>0.656780</td>\n",
       "    </tr>\n",
       "    <tr>\n",
       "      <th>use</th>\n",
       "      <td>0.287682</td>\n",
       "    </tr>\n",
       "    <tr>\n",
       "      <th>image</th>\n",
       "      <td>0.275412</td>\n",
       "    </tr>\n",
       "    <tr>\n",
       "      <th>opencv</th>\n",
       "      <td>0.087011</td>\n",
       "    </tr>\n",
       "  </tbody>\n",
       "</table>\n",
       "</div>"
      ],
      "text/plain": [
       "             idf\n",
       "word            \n",
       "&#9;    1.637609\n",
       "build   0.656780\n",
       "use     0.287682\n",
       "image   0.275412\n",
       "opencv  0.087011"
      ]
     },
     "execution_count": 295,
     "metadata": {},
     "output_type": "execute_result"
    }
   ],
   "source": [
    "top_five_cplus2.sort_values(by='idf', ascending=False).head()"
   ]
  },
  {
   "cell_type": "markdown",
   "metadata": {},
   "source": [
    "### Comparing Doc Length"
   ]
  },
  {
   "cell_type": "code",
   "execution_count": 296,
   "metadata": {},
   "outputs": [
    {
     "data": {
      "text/plain": [
       "count     108.000000\n",
       "mean      459.064815\n",
       "std       582.129274\n",
       "min         5.000000\n",
       "25%       134.250000\n",
       "50%       270.500000\n",
       "75%       545.750000\n",
       "max      3157.000000\n",
       "Name: doc_len, dtype: float64"
      ]
     },
     "execution_count": 296,
     "metadata": {},
     "output_type": "execute_result"
    }
   ],
   "source": [
    "train.doc_len.describe()"
   ]
  },
  {
   "cell_type": "code",
   "execution_count": 298,
   "metadata": {},
   "outputs": [
    {
     "data": {
      "text/plain": [
       "count      58.000000\n",
       "mean      538.896552\n",
       "std       717.213753\n",
       "min         5.000000\n",
       "25%       104.500000\n",
       "50%       269.000000\n",
       "75%       676.750000\n",
       "max      3157.000000\n",
       "Name: doc_len, dtype: float64"
      ]
     },
     "execution_count": 298,
     "metadata": {},
     "output_type": "execute_result"
    }
   ],
   "source": [
    "train[train.language == 'python'].doc_len.describe()"
   ]
  },
  {
   "cell_type": "code",
   "execution_count": 299,
   "metadata": {},
   "outputs": [
    {
     "data": {
      "text/plain": [
       "count      50.000000\n",
       "mean      366.460000\n",
       "std       354.003356\n",
       "min        11.000000\n",
       "25%       168.750000\n",
       "50%       279.000000\n",
       "75%       494.750000\n",
       "max      1980.000000\n",
       "Name: doc_len, dtype: float64"
      ]
     },
     "execution_count": 299,
     "metadata": {},
     "output_type": "execute_result"
    }
   ],
   "source": [
    "train[train.language == 'C++'].doc_len.describe()"
   ]
  },
  {
   "cell_type": "markdown",
   "metadata": {},
   "source": [
    "### Comparing Top Ten Words From Each Language"
   ]
  },
  {
   "cell_type": "code",
   "execution_count": 300,
   "metadata": {},
   "outputs": [],
   "source": [
    "top_ten_python = word_counts['python'].sort_values(ascending=False).head(10)\n",
    "\n",
    "top_ten_cplus2 = word_counts['C++'].sort_values(ascending=False).head(10)\n",
    "\n",
    "top_ten_both = list(top_ten_python.index) + list(top_ten_cplus2.index)\n",
    "\n",
    "top_ten_combined = word_counts[word_counts.index.isin(top_ten_both)]"
   ]
  },
  {
   "cell_type": "code",
   "execution_count": 301,
   "metadata": {
    "scrolled": false
   },
   "outputs": [
    {
     "data": {
      "text/html": [
       "<div>\n",
       "<style scoped>\n",
       "    .dataframe tbody tr th:only-of-type {\n",
       "        vertical-align: middle;\n",
       "    }\n",
       "\n",
       "    .dataframe tbody tr th {\n",
       "        vertical-align: top;\n",
       "    }\n",
       "\n",
       "    .dataframe thead th {\n",
       "        text-align: right;\n",
       "    }\n",
       "</style>\n",
       "<table border=\"1\" class=\"dataframe\">\n",
       "  <thead>\n",
       "    <tr style=\"text-align: right;\">\n",
       "      <th></th>\n",
       "      <th>all</th>\n",
       "      <th>python</th>\n",
       "      <th>C++</th>\n",
       "    </tr>\n",
       "  </thead>\n",
       "  <tbody>\n",
       "    <tr>\n",
       "      <th>&amp;#9;</th>\n",
       "      <td>594</td>\n",
       "      <td>60</td>\n",
       "      <td>534</td>\n",
       "    </tr>\n",
       "    <tr>\n",
       "      <th>build</th>\n",
       "      <td>250</td>\n",
       "      <td>30</td>\n",
       "      <td>220</td>\n",
       "    </tr>\n",
       "    <tr>\n",
       "      <th>const</th>\n",
       "      <td>86</td>\n",
       "      <td>0</td>\n",
       "      <td>86</td>\n",
       "    </tr>\n",
       "    <tr>\n",
       "      <th>example</th>\n",
       "      <td>164</td>\n",
       "      <td>77</td>\n",
       "      <td>87</td>\n",
       "    </tr>\n",
       "    <tr>\n",
       "      <th>face</th>\n",
       "      <td>249</td>\n",
       "      <td>193</td>\n",
       "      <td>56</td>\n",
       "    </tr>\n",
       "    <tr>\n",
       "      <th>file</th>\n",
       "      <td>247</td>\n",
       "      <td>152</td>\n",
       "      <td>95</td>\n",
       "    </tr>\n",
       "    <tr>\n",
       "      <th>image</th>\n",
       "      <td>752</td>\n",
       "      <td>612</td>\n",
       "      <td>140</td>\n",
       "    </tr>\n",
       "    <tr>\n",
       "      <th>img</th>\n",
       "      <td>178</td>\n",
       "      <td>147</td>\n",
       "      <td>31</td>\n",
       "    </tr>\n",
       "    <tr>\n",
       "      <th>model</th>\n",
       "      <td>241</td>\n",
       "      <td>220</td>\n",
       "      <td>21</td>\n",
       "    </tr>\n",
       "    <tr>\n",
       "      <th>object</th>\n",
       "      <td>173</td>\n",
       "      <td>147</td>\n",
       "      <td>26</td>\n",
       "    </tr>\n",
       "    <tr>\n",
       "      <th>opencv</th>\n",
       "      <td>388</td>\n",
       "      <td>145</td>\n",
       "      <td>243</td>\n",
       "    </tr>\n",
       "    <tr>\n",
       "      <th>project</th>\n",
       "      <td>205</td>\n",
       "      <td>98</td>\n",
       "      <td>107</td>\n",
       "    </tr>\n",
       "    <tr>\n",
       "      <th>python</th>\n",
       "      <td>252</td>\n",
       "      <td>230</td>\n",
       "      <td>22</td>\n",
       "    </tr>\n",
       "    <tr>\n",
       "      <th>use</th>\n",
       "      <td>231</td>\n",
       "      <td>108</td>\n",
       "      <td>123</td>\n",
       "    </tr>\n",
       "    <tr>\n",
       "      <th>using</th>\n",
       "      <td>274</td>\n",
       "      <td>154</td>\n",
       "      <td>120</td>\n",
       "    </tr>\n",
       "    <tr>\n",
       "      <th>video</th>\n",
       "      <td>237</td>\n",
       "      <td>197</td>\n",
       "      <td>40</td>\n",
       "    </tr>\n",
       "  </tbody>\n",
       "</table>\n",
       "</div>"
      ],
      "text/plain": [
       "         all  python  C++\n",
       "&#9;     594      60  534\n",
       "build    250      30  220\n",
       "const     86       0   86\n",
       "example  164      77   87\n",
       "face     249     193   56\n",
       "file     247     152   95\n",
       "image    752     612  140\n",
       "img      178     147   31\n",
       "model    241     220   21\n",
       "object   173     147   26\n",
       "opencv   388     145  243\n",
       "project  205      98  107\n",
       "python   252     230   22\n",
       "use      231     108  123\n",
       "using    274     154  120\n",
       "video    237     197   40"
      ]
     },
     "execution_count": 301,
     "metadata": {},
     "output_type": "execute_result"
    }
   ],
   "source": [
    "top_ten_combined"
   ]
  },
  {
   "cell_type": "code",
   "execution_count": 308,
   "metadata": {},
   "outputs": [],
   "source": [
    "word_counts['pct_python'] = word_counts['python'] / word_counts['all']\n",
    "word_counts['pct_cplus2'] = word_counts['C++'] / word_counts['all']"
   ]
  },
  {
   "cell_type": "code",
   "execution_count": 309,
   "metadata": {},
   "outputs": [
    {
     "data": {
      "text/plain": [
       "httpeigentuxfamilyorg      1\n",
       "uikit                      1\n",
       "uic                        1\n",
       "learninga                  1\n",
       "learningba                 1\n",
       "                        ... \n",
       "python                   252\n",
       "using                    274\n",
       "opencv                   388\n",
       "&#9;                     594\n",
       "image                    752\n",
       "Name: all, Length: 12553, dtype: int64"
      ]
     },
     "execution_count": 309,
     "metadata": {},
     "output_type": "execute_result"
    }
   ],
   "source": [
    "# There are words in word counts with 0 for values\n",
    "word_counts = word_counts[word_counts['all'] != 0]\n",
    "word_counts['all'].sort_values()"
   ]
  },
  {
   "cell_type": "code",
   "execution_count": 381,
   "metadata": {
    "scrolled": false
   },
   "outputs": [
    {
     "data": {
      "text/plain": [
       "(array([ 0,  1,  2,  3,  4,  5,  6,  7,  8,  9, 10, 11, 12, 13, 14, 15, 16,\n",
       "        17, 18, 19]),\n",
       " <a list of 20 Text yticklabel objects>)"
      ]
     },
     "execution_count": 381,
     "metadata": {},
     "output_type": "execute_result"
    },
    {
     "data": {
      "image/png": "[encoded data removed]",
      "text/plain": [
       "<Figure size 1440x1008 with 1 Axes>"
      ]
     },
     "metadata": {
      "needs_background": "light"
     },
     "output_type": "display_data"
    }
   ],
   "source": [
    "(word_counts.sort_values(by='all')[['pct_python', 'pct_cplus2']].tail(20).sort_values(by='pct_python')\n",
    " .plot.barh(stacked=True, figsize=(20,14)))\n",
    "plt.title('Language Percent Breakdown of 20 Most Common Words', fontsize=25)\n",
    "plt.xlabel('Percentage', fontsize=20)\n",
    "plt.ylabel('Word', fontsize=20)\n",
    "plt.xticks(fontsize=20)\n",
    "plt.yticks(fontsize=20)"
   ]
  },
  {
   "cell_type": "markdown",
   "metadata": {},
   "source": [
    "### Trimming Train\n",
    "Now we will trim train down so that we can add features before pushing into modeling."
   ]
  },
  {
   "cell_type": "code",
   "execution_count": 311,
   "metadata": {},
   "outputs": [
    {
     "data": {
      "text/html": [
       "<div>\n",
       "<style scoped>\n",
       "    .dataframe tbody tr th:only-of-type {\n",
       "        vertical-align: middle;\n",
       "    }\n",
       "\n",
       "    .dataframe tbody tr th {\n",
       "        vertical-align: top;\n",
       "    }\n",
       "\n",
       "    .dataframe thead th {\n",
       "        text-align: right;\n",
       "    }\n",
       "</style>\n",
       "<table border=\"1\" class=\"dataframe\">\n",
       "  <thead>\n",
       "    <tr style=\"text-align: right;\">\n",
       "      <th></th>\n",
       "      <th>language</th>\n",
       "      <th>text_filtered</th>\n",
       "      <th>words</th>\n",
       "      <th>doc_len</th>\n",
       "    </tr>\n",
       "  </thead>\n",
       "  <tbody>\n",
       "    <tr>\n",
       "      <th>87</th>\n",
       "      <td>C++</td>\n",
       "      <td>bytefishopencv repository contains opencv code...</td>\n",
       "      <td>[bytefishopencv, repository, contains, opencv,...</td>\n",
       "      <td>124</td>\n",
       "    </tr>\n",
       "    <tr>\n",
       "      <th>0</th>\n",
       "      <td>C++</td>\n",
       "      <td>openframeworkshttpopenframeworkscc openframewo...</td>\n",
       "      <td>[openframeworkshttpopenframeworkscc, openframe...</td>\n",
       "      <td>512</td>\n",
       "    </tr>\n",
       "    <tr>\n",
       "      <th>108</th>\n",
       "      <td>C++</td>\n",
       "      <td>20120110 marker le ar using natural image mark...</td>\n",
       "      <td>[20120110, marker, le, ar, using, natural, ima...</td>\n",
       "      <td>138</td>\n",
       "    </tr>\n",
       "    <tr>\n",
       "      <th>208</th>\n",
       "      <td>python</td>\n",
       "      <td>imgsortjpg sorting visualization audibilizatio...</td>\n",
       "      <td>[imgsortjpg, sorting, visualization, audibiliz...</td>\n",
       "      <td>204</td>\n",
       "    </tr>\n",
       "    <tr>\n",
       "      <th>30</th>\n",
       "      <td>python</td>\n",
       "      <td>vidgear library sourcecode deployed apache 20 ...</td>\n",
       "      <td>[vidgear, library, sourcecode, deployed, apach...</td>\n",
       "      <td>2118</td>\n",
       "    </tr>\n",
       "  </tbody>\n",
       "</table>\n",
       "</div>"
      ],
      "text/plain": [
       "    language                                      text_filtered  \\\n",
       "87       C++  bytefishopencv repository contains opencv code...   \n",
       "0        C++  openframeworkshttpopenframeworkscc openframewo...   \n",
       "108      C++  20120110 marker le ar using natural image mark...   \n",
       "208   python  imgsortjpg sorting visualization audibilizatio...   \n",
       "30    python  vidgear library sourcecode deployed apache 20 ...   \n",
       "\n",
       "                                                 words  doc_len  \n",
       "87   [bytefishopencv, repository, contains, opencv,...      124  \n",
       "0    [openframeworkshttpopenframeworkscc, openframe...      512  \n",
       "108  [20120110, marker, le, ar, using, natural, ima...      138  \n",
       "208  [imgsortjpg, sorting, visualization, audibiliz...      204  \n",
       "30   [vidgear, library, sourcecode, deployed, apach...     2118  "
      ]
     },
     "execution_count": 311,
     "metadata": {},
     "output_type": "execute_result"
    }
   ],
   "source": [
    "train = train.drop(columns=['readme_contents', 'text_cleaned', 'text_tokenized', 'text_lemmatized', 'repo'])\n",
    "train.head()"
   ]
  },
  {
   "cell_type": "code",
   "execution_count": 313,
   "metadata": {},
   "outputs": [
    {
     "data": {
      "text/html": [
       "<div>\n",
       "<style scoped>\n",
       "    .dataframe tbody tr th:only-of-type {\n",
       "        vertical-align: middle;\n",
       "    }\n",
       "\n",
       "    .dataframe tbody tr th {\n",
       "        vertical-align: top;\n",
       "    }\n",
       "\n",
       "    .dataframe thead th {\n",
       "        text-align: right;\n",
       "    }\n",
       "</style>\n",
       "<table border=\"1\" class=\"dataframe\">\n",
       "  <thead>\n",
       "    <tr style=\"text-align: right;\">\n",
       "      <th></th>\n",
       "      <th>language</th>\n",
       "      <th>text_filtered</th>\n",
       "      <th>words</th>\n",
       "      <th>doc_len</th>\n",
       "      <th>has_model</th>\n",
       "      <th>has_build</th>\n",
       "      <th>has_symbols</th>\n",
       "      <th>has_img</th>\n",
       "      <th>has_python</th>\n",
       "    </tr>\n",
       "  </thead>\n",
       "  <tbody>\n",
       "    <tr>\n",
       "      <th>87</th>\n",
       "      <td>C++</td>\n",
       "      <td>bytefishopencv repository contains opencv code...</td>\n",
       "      <td>[bytefishopencv, repository, contains, opencv,...</td>\n",
       "      <td>124</td>\n",
       "      <td>False</td>\n",
       "      <td>False</td>\n",
       "      <td>False</td>\n",
       "      <td>False</td>\n",
       "      <td>False</td>\n",
       "    </tr>\n",
       "    <tr>\n",
       "      <th>0</th>\n",
       "      <td>C++</td>\n",
       "      <td>openframeworkshttpopenframeworkscc openframewo...</td>\n",
       "      <td>[openframeworkshttpopenframeworkscc, openframe...</td>\n",
       "      <td>512</td>\n",
       "      <td>False</td>\n",
       "      <td>True</td>\n",
       "      <td>False</td>\n",
       "      <td>False</td>\n",
       "      <td>False</td>\n",
       "    </tr>\n",
       "    <tr>\n",
       "      <th>108</th>\n",
       "      <td>C++</td>\n",
       "      <td>20120110 marker le ar using natural image mark...</td>\n",
       "      <td>[20120110, marker, le, ar, using, natural, ima...</td>\n",
       "      <td>138</td>\n",
       "      <td>True</td>\n",
       "      <td>True</td>\n",
       "      <td>False</td>\n",
       "      <td>False</td>\n",
       "      <td>False</td>\n",
       "    </tr>\n",
       "    <tr>\n",
       "      <th>208</th>\n",
       "      <td>python</td>\n",
       "      <td>imgsortjpg sorting visualization audibilizatio...</td>\n",
       "      <td>[imgsortjpg, sorting, visualization, audibiliz...</td>\n",
       "      <td>204</td>\n",
       "      <td>False</td>\n",
       "      <td>False</td>\n",
       "      <td>False</td>\n",
       "      <td>True</td>\n",
       "      <td>True</td>\n",
       "    </tr>\n",
       "    <tr>\n",
       "      <th>30</th>\n",
       "      <td>python</td>\n",
       "      <td>vidgear library sourcecode deployed apache 20 ...</td>\n",
       "      <td>[vidgear, library, sourcecode, deployed, apach...</td>\n",
       "      <td>2118</td>\n",
       "      <td>False</td>\n",
       "      <td>True</td>\n",
       "      <td>False</td>\n",
       "      <td>True</td>\n",
       "      <td>True</td>\n",
       "    </tr>\n",
       "  </tbody>\n",
       "</table>\n",
       "</div>"
      ],
      "text/plain": [
       "    language                                      text_filtered  \\\n",
       "87       C++  bytefishopencv repository contains opencv code...   \n",
       "0        C++  openframeworkshttpopenframeworkscc openframewo...   \n",
       "108      C++  20120110 marker le ar using natural image mark...   \n",
       "208   python  imgsortjpg sorting visualization audibilizatio...   \n",
       "30    python  vidgear library sourcecode deployed apache 20 ...   \n",
       "\n",
       "                                                 words  doc_len  has_model  \\\n",
       "87   [bytefishopencv, repository, contains, opencv,...      124      False   \n",
       "0    [openframeworkshttpopenframeworkscc, openframe...      512      False   \n",
       "108  [20120110, marker, le, ar, using, natural, ima...      138       True   \n",
       "208  [imgsortjpg, sorting, visualization, audibiliz...      204      False   \n",
       "30   [vidgear, library, sourcecode, deployed, apach...     2118      False   \n",
       "\n",
       "     has_build  has_symbols  has_img  has_python  \n",
       "87       False        False    False       False  \n",
       "0         True        False    False       False  \n",
       "108       True        False    False       False  \n",
       "208      False        False     True        True  \n",
       "30        True        False     True        True  "
      ]
     },
     "execution_count": 313,
     "metadata": {},
     "output_type": "execute_result"
    }
   ],
   "source": [
    "train['has_model'] = train.text_filtered.str.contains('model')\n",
    "\n",
    "train['has_build'] = train.text_filtered.str.contains('build')\n",
    "\n",
    "train['has_symbols'] = train.text_filtered.str.contains('&#9')\n",
    "\n",
    "train['has_img'] = train.text_filtered.str.contains('img')\n",
    "\n",
    "train['has_python'] = train.text_filtered.str.contains('python')\n",
    "train.head()"
   ]
  },
  {
   "cell_type": "code",
   "execution_count": 314,
   "metadata": {},
   "outputs": [
    {
     "data": {
      "text/html": [
       "<div>\n",
       "<style scoped>\n",
       "    .dataframe tbody tr th:only-of-type {\n",
       "        vertical-align: middle;\n",
       "    }\n",
       "\n",
       "    .dataframe tbody tr th {\n",
       "        vertical-align: top;\n",
       "    }\n",
       "\n",
       "    .dataframe thead th {\n",
       "        text-align: right;\n",
       "    }\n",
       "</style>\n",
       "<table border=\"1\" class=\"dataframe\">\n",
       "  <thead>\n",
       "    <tr style=\"text-align: right;\">\n",
       "      <th></th>\n",
       "      <th>language</th>\n",
       "      <th>text_filtered</th>\n",
       "      <th>words</th>\n",
       "      <th>doc_len</th>\n",
       "      <th>has_model</th>\n",
       "      <th>has_build</th>\n",
       "      <th>has_symbols</th>\n",
       "      <th>has_img</th>\n",
       "      <th>has_python</th>\n",
       "      <th>has_larger_doc</th>\n",
       "    </tr>\n",
       "  </thead>\n",
       "  <tbody>\n",
       "    <tr>\n",
       "      <th>87</th>\n",
       "      <td>C++</td>\n",
       "      <td>bytefishopencv repository contains opencv code...</td>\n",
       "      <td>[bytefishopencv, repository, contains, opencv,...</td>\n",
       "      <td>124</td>\n",
       "      <td>False</td>\n",
       "      <td>False</td>\n",
       "      <td>False</td>\n",
       "      <td>False</td>\n",
       "      <td>False</td>\n",
       "      <td>False</td>\n",
       "    </tr>\n",
       "    <tr>\n",
       "      <th>0</th>\n",
       "      <td>C++</td>\n",
       "      <td>openframeworkshttpopenframeworkscc openframewo...</td>\n",
       "      <td>[openframeworkshttpopenframeworkscc, openframe...</td>\n",
       "      <td>512</td>\n",
       "      <td>False</td>\n",
       "      <td>True</td>\n",
       "      <td>False</td>\n",
       "      <td>False</td>\n",
       "      <td>False</td>\n",
       "      <td>False</td>\n",
       "    </tr>\n",
       "    <tr>\n",
       "      <th>108</th>\n",
       "      <td>C++</td>\n",
       "      <td>20120110 marker le ar using natural image mark...</td>\n",
       "      <td>[20120110, marker, le, ar, using, natural, ima...</td>\n",
       "      <td>138</td>\n",
       "      <td>True</td>\n",
       "      <td>True</td>\n",
       "      <td>False</td>\n",
       "      <td>False</td>\n",
       "      <td>False</td>\n",
       "      <td>False</td>\n",
       "    </tr>\n",
       "    <tr>\n",
       "      <th>208</th>\n",
       "      <td>python</td>\n",
       "      <td>imgsortjpg sorting visualization audibilizatio...</td>\n",
       "      <td>[imgsortjpg, sorting, visualization, audibiliz...</td>\n",
       "      <td>204</td>\n",
       "      <td>False</td>\n",
       "      <td>False</td>\n",
       "      <td>False</td>\n",
       "      <td>True</td>\n",
       "      <td>True</td>\n",
       "      <td>False</td>\n",
       "    </tr>\n",
       "    <tr>\n",
       "      <th>30</th>\n",
       "      <td>python</td>\n",
       "      <td>vidgear library sourcecode deployed apache 20 ...</td>\n",
       "      <td>[vidgear, library, sourcecode, deployed, apach...</td>\n",
       "      <td>2118</td>\n",
       "      <td>False</td>\n",
       "      <td>True</td>\n",
       "      <td>False</td>\n",
       "      <td>True</td>\n",
       "      <td>True</td>\n",
       "      <td>True</td>\n",
       "    </tr>\n",
       "  </tbody>\n",
       "</table>\n",
       "</div>"
      ],
      "text/plain": [
       "    language                                      text_filtered  \\\n",
       "87       C++  bytefishopencv repository contains opencv code...   \n",
       "0        C++  openframeworkshttpopenframeworkscc openframewo...   \n",
       "108      C++  20120110 marker le ar using natural image mark...   \n",
       "208   python  imgsortjpg sorting visualization audibilizatio...   \n",
       "30    python  vidgear library sourcecode deployed apache 20 ...   \n",
       "\n",
       "                                                 words  doc_len  has_model  \\\n",
       "87   [bytefishopencv, repository, contains, opencv,...      124      False   \n",
       "0    [openframeworkshttpopenframeworkscc, openframe...      512      False   \n",
       "108  [20120110, marker, le, ar, using, natural, ima...      138       True   \n",
       "208  [imgsortjpg, sorting, visualization, audibiliz...      204      False   \n",
       "30   [vidgear, library, sourcecode, deployed, apach...     2118      False   \n",
       "\n",
       "     has_build  has_symbols  has_img  has_python  has_larger_doc  \n",
       "87       False        False    False       False           False  \n",
       "0         True        False    False       False           False  \n",
       "108       True        False    False       False           False  \n",
       "208      False        False     True        True           False  \n",
       "30        True        False     True        True            True  "
      ]
     },
     "execution_count": 314,
     "metadata": {},
     "output_type": "execute_result"
    }
   ],
   "source": [
    "larger_docs = train[train['doc_len'] >= 800]\n",
    "\n",
    "train['has_larger_doc'] = train.index.isin(larger_docs.index)\n",
    "train.head()"
   ]
  },
  {
   "cell_type": "code",
   "execution_count": 315,
   "metadata": {},
   "outputs": [
    {
     "data": {
      "text/plain": [
       "False    93\n",
       "True     15\n",
       "Name: has_larger_doc, dtype: int64"
      ]
     },
     "execution_count": 315,
     "metadata": {},
     "output_type": "execute_result"
    }
   ],
   "source": [
    "train.has_larger_doc.value_counts()"
   ]
  },
  {
   "cell_type": "markdown",
   "metadata": {},
   "source": [
    "## Hypothesis Tests"
   ]
  },
  {
   "cell_type": "markdown",
   "metadata": {},
   "source": [
    "### Hypothesis Test 1"
   ]
  },
  {
   "cell_type": "markdown",
   "metadata": {},
   "source": [
    "$H_0$: The word model in a document and its programming language are independent  \n",
    "$H_a$: The word model in a document and its programming language are dependent  \n",
    "a = .05"
   ]
  },
  {
   "cell_type": "code",
   "execution_count": 383,
   "metadata": {},
   "outputs": [
    {
     "name": "stdout",
     "output_type": "stream",
     "text": [
      "has_model values\n",
      "chi2: 6.642983568281384\tp: 0.00995470823356948\n"
     ]
    }
   ],
   "source": [
    "# We will be doing a chi2 test for this hypothesis\n",
    "observed = pd.crosstab(train.language, train.has_model)\n",
    "\n",
    "chi2, p, degf, expected = stats.chi2_contingency(observed)\n",
    "\n",
    "print(f'has_model values\\nchi2: {chi2}\\tp: {p}')"
   ]
  },
  {
   "cell_type": "code",
   "execution_count": 317,
   "metadata": {},
   "outputs": [
    {
     "data": {
      "text/html": [
       "<div>\n",
       "<style scoped>\n",
       "    .dataframe tbody tr th:only-of-type {\n",
       "        vertical-align: middle;\n",
       "    }\n",
       "\n",
       "    .dataframe tbody tr th {\n",
       "        vertical-align: top;\n",
       "    }\n",
       "\n",
       "    .dataframe thead th {\n",
       "        text-align: right;\n",
       "    }\n",
       "</style>\n",
       "<table border=\"1\" class=\"dataframe\">\n",
       "  <thead>\n",
       "    <tr style=\"text-align: right;\">\n",
       "      <th>has_model</th>\n",
       "      <th>False</th>\n",
       "      <th>True</th>\n",
       "    </tr>\n",
       "    <tr>\n",
       "      <th>language</th>\n",
       "      <th></th>\n",
       "      <th></th>\n",
       "    </tr>\n",
       "  </thead>\n",
       "  <tbody>\n",
       "    <tr>\n",
       "      <th>C++</th>\n",
       "      <td>38</td>\n",
       "      <td>12</td>\n",
       "    </tr>\n",
       "    <tr>\n",
       "      <th>python</th>\n",
       "      <td>29</td>\n",
       "      <td>29</td>\n",
       "    </tr>\n",
       "  </tbody>\n",
       "</table>\n",
       "</div>"
      ],
      "text/plain": [
       "has_model  False  True \n",
       "language               \n",
       "C++           38     12\n",
       "python        29     29"
      ]
     },
     "execution_count": 317,
     "metadata": {},
     "output_type": "execute_result"
    }
   ],
   "source": [
    "observed"
   ]
  },
  {
   "cell_type": "markdown",
   "metadata": {},
   "source": [
    "### Hypothesis Test 2"
   ]
  },
  {
   "cell_type": "markdown",
   "metadata": {},
   "source": [
    "$H_0$: The word build in a document and its programming language are independent  \n",
    "$H_a$: The word build in a document and its programming language are dependent  \n",
    "a = .05"
   ]
  },
  {
   "cell_type": "code",
   "execution_count": 382,
   "metadata": {},
   "outputs": [
    {
     "name": "stdout",
     "output_type": "stream",
     "text": [
      "has_build values\n",
      "chi2: 8.55738347859037\tp: 0.0034412365728902013\n"
     ]
    }
   ],
   "source": [
    "# We will be doing a chi2 test for this hypothesis\n",
    "observed = pd.crosstab(train.language, train.has_build)\n",
    "\n",
    "chi2, p, degf, expected = stats.chi2_contingency(observed)\n",
    "\n",
    "print(f'has_build values\\nchi2: {chi2}\\tp: {p}')"
   ]
  },
  {
   "cell_type": "code",
   "execution_count": 319,
   "metadata": {},
   "outputs": [
    {
     "data": {
      "text/html": [
       "<div>\n",
       "<style scoped>\n",
       "    .dataframe tbody tr th:only-of-type {\n",
       "        vertical-align: middle;\n",
       "    }\n",
       "\n",
       "    .dataframe tbody tr th {\n",
       "        vertical-align: top;\n",
       "    }\n",
       "\n",
       "    .dataframe thead th {\n",
       "        text-align: right;\n",
       "    }\n",
       "</style>\n",
       "<table border=\"1\" class=\"dataframe\">\n",
       "  <thead>\n",
       "    <tr style=\"text-align: right;\">\n",
       "      <th>has_build</th>\n",
       "      <th>False</th>\n",
       "      <th>True</th>\n",
       "    </tr>\n",
       "    <tr>\n",
       "      <th>language</th>\n",
       "      <th></th>\n",
       "      <th></th>\n",
       "    </tr>\n",
       "  </thead>\n",
       "  <tbody>\n",
       "    <tr>\n",
       "      <th>C++</th>\n",
       "      <td>16</td>\n",
       "      <td>34</td>\n",
       "    </tr>\n",
       "    <tr>\n",
       "      <th>python</th>\n",
       "      <td>36</td>\n",
       "      <td>22</td>\n",
       "    </tr>\n",
       "  </tbody>\n",
       "</table>\n",
       "</div>"
      ],
      "text/plain": [
       "has_build  False  True \n",
       "language               \n",
       "C++           16     34\n",
       "python        36     22"
      ]
     },
     "execution_count": 319,
     "metadata": {},
     "output_type": "execute_result"
    }
   ],
   "source": [
    "observed"
   ]
  },
  {
   "cell_type": "markdown",
   "metadata": {},
   "source": [
    "### Hypothesis Test 3"
   ]
  },
  {
   "cell_type": "markdown",
   "metadata": {},
   "source": [
    "$H_0$: The length of a documents is independent of its programming language  \n",
    "$H_a$: The longer a document is the more likely it is to be a python document  \n",
    "a = .05"
   ]
  },
  {
   "cell_type": "code",
   "execution_count": 322,
   "metadata": {},
   "outputs": [
    {
     "data": {
      "text/plain": [
       "Ttest_indResult(statistic=1.5448737329022264, pvalue=0.12535716268114164)"
      ]
     },
     "execution_count": 322,
     "metadata": {},
     "output_type": "execute_result"
    }
   ],
   "source": [
    "# We will be performing a two-tailed t-test for this hypothesis\n",
    "x1 = train[train.language == 'python'].doc_len\n",
    "x2 = train[train.language == 'C++'].doc_len\n",
    "\n",
    "stats.ttest_ind(x1, x2)"
   ]
  },
  {
   "cell_type": "markdown",
   "metadata": {},
   "source": [
    "### Hyposthesis Test 4"
   ]
  },
  {
   "cell_type": "markdown",
   "metadata": {},
   "source": [
    "$H_0$: The symbols \"&#9\" appearing in that order is independent from the documents programming language  \n",
    "$H_a$: The symbols \"&#9\" appearing in that order is dependent on the documents programming language  \n",
    "a = .05"
   ]
  },
  {
   "cell_type": "code",
   "execution_count": 324,
   "metadata": {},
   "outputs": [
    {
     "name": "stdout",
     "output_type": "stream",
     "text": [
      "has_symbols values\n",
      "chi2: 0.14382877526753896\tp: 0.7045039748436044\n"
     ]
    }
   ],
   "source": [
    "# We will be doing a chi2 test for this hypothesis test\n",
    "observed = pd.crosstab(train.language, train.has_symbols)\n",
    "\n",
    "chi2, p, degf, expected = stats.chi2_contingency(observed)\n",
    "\n",
    "print(f'has_symbols values\\nchi2: {chi2}\\tp: {p}')"
   ]
  },
  {
   "cell_type": "markdown",
   "metadata": {},
   "source": [
    "### Hypothesis Test 5"
   ]
  },
  {
   "cell_type": "markdown",
   "metadata": {},
   "source": [
    "$H_0$: The word python in a document and its programming language are independent  \n",
    "$H_a$: The word python in a document and its programming language are dependent  \n",
    "a = .05"
   ]
  },
  {
   "cell_type": "code",
   "execution_count": 386,
   "metadata": {},
   "outputs": [
    {
     "name": "stdout",
     "output_type": "stream",
     "text": [
      "has_python values\n",
      "chi2: 56.168618271509395\tp: 6.651475003686581e-14\n"
     ]
    }
   ],
   "source": [
    "# We will be doing a chi2 test for this hypothesis test\n",
    "observed = pd.crosstab(train.language, train.has_python)\n",
    "\n",
    "chi2, p, degf, expected = stats.chi2_contingency(observed)\n",
    "\n",
    "print(f'has_python values\\nchi2: {chi2}\\tp: {p}')"
   ]
  },
  {
   "cell_type": "code",
   "execution_count": 341,
   "metadata": {},
   "outputs": [
    {
     "data": {
      "text/html": [
       "<div>\n",
       "<style scoped>\n",
       "    .dataframe tbody tr th:only-of-type {\n",
       "        vertical-align: middle;\n",
       "    }\n",
       "\n",
       "    .dataframe tbody tr th {\n",
       "        vertical-align: top;\n",
       "    }\n",
       "\n",
       "    .dataframe thead th {\n",
       "        text-align: right;\n",
       "    }\n",
       "</style>\n",
       "<table border=\"1\" class=\"dataframe\">\n",
       "  <thead>\n",
       "    <tr style=\"text-align: right;\">\n",
       "      <th>has_python</th>\n",
       "      <th>False</th>\n",
       "      <th>True</th>\n",
       "    </tr>\n",
       "    <tr>\n",
       "      <th>language</th>\n",
       "      <th></th>\n",
       "      <th></th>\n",
       "    </tr>\n",
       "  </thead>\n",
       "  <tbody>\n",
       "    <tr>\n",
       "      <th>C++</th>\n",
       "      <td>41</td>\n",
       "      <td>9</td>\n",
       "    </tr>\n",
       "    <tr>\n",
       "      <th>python</th>\n",
       "      <td>5</td>\n",
       "      <td>53</td>\n",
       "    </tr>\n",
       "  </tbody>\n",
       "</table>\n",
       "</div>"
      ],
      "text/plain": [
       "has_python  False  True \n",
       "language                \n",
       "C++            41      9\n",
       "python          5     53"
      ]
     },
     "execution_count": 341,
     "metadata": {},
     "output_type": "execute_result"
    }
   ],
   "source": [
    "observed"
   ]
  },
  {
   "cell_type": "markdown",
   "metadata": {},
   "source": [
    "Features worth keeping: has_python, has_build, has_model"
   ]
  },
  {
   "cell_type": "code",
   "execution_count": 332,
   "metadata": {},
   "outputs": [],
   "source": [
    "train = train.drop(columns=['has_img', 'has_symbols', 'has_larger_doc'])"
   ]
  },
  {
   "cell_type": "code",
   "execution_count": 357,
   "metadata": {},
   "outputs": [],
   "source": [
    "validate['has_model'] = validate.text_filtered.str.contains('model')\n",
    "test['has_model'] = test.text_filtered.str.contains('model')\n",
    "\n",
    "validate['has_build'] = validate.text_filtered.str.contains('build')\n",
    "test['has_build'] = test.text_filtered.str.contains('build')\n",
    "\n",
    "validate['has_python'] = validate.text_filtered.str.contains('python')\n",
    "test['has_python'] = test.text_filtered.str.contains('python')\n",
    "\n",
    "validate['has_model'] = np.where((validate.has_model == True), 1, 0)\n",
    "validate['has_build'] = np.where((validate.has_build == True), 1, 0)\n",
    "validate['has_python'] = np.where((validate.has_python == True), 1, 0)\n",
    "\n",
    "test['has_model'] = np.where((test.has_model == True), 1, 0)\n",
    "test['has_build'] = np.where((test.has_build == True), 1, 0)\n",
    "test['has_python'] = np.where((test.has_python == True), 1, 0)"
   ]
  },
  {
   "cell_type": "markdown",
   "metadata": {},
   "source": [
    "# Modeling"
   ]
  },
  {
   "cell_type": "markdown",
   "metadata": {},
   "source": [
    "### Baseline"
   ]
  },
  {
   "cell_type": "code",
   "execution_count": 224,
   "metadata": {},
   "outputs": [
    {
     "data": {
      "text/plain": [
       "Python    57\n",
       "C++       51\n",
       "Name: language, dtype: int64"
      ]
     },
     "execution_count": 224,
     "metadata": {},
     "output_type": "execute_result"
    }
   ],
   "source": [
    "# We need to have a baseline to compare to\n",
    "train.language.value_counts()"
   ]
  },
  {
   "cell_type": "code",
   "execution_count": 333,
   "metadata": {
    "scrolled": true
   },
   "outputs": [
    {
     "data": {
      "text/html": [
       "<div>\n",
       "<style scoped>\n",
       "    .dataframe tbody tr th:only-of-type {\n",
       "        vertical-align: middle;\n",
       "    }\n",
       "\n",
       "    .dataframe tbody tr th {\n",
       "        vertical-align: top;\n",
       "    }\n",
       "\n",
       "    .dataframe thead th {\n",
       "        text-align: right;\n",
       "    }\n",
       "</style>\n",
       "<table border=\"1\" class=\"dataframe\">\n",
       "  <thead>\n",
       "    <tr style=\"text-align: right;\">\n",
       "      <th></th>\n",
       "      <th>language</th>\n",
       "      <th>text_filtered</th>\n",
       "      <th>words</th>\n",
       "      <th>doc_len</th>\n",
       "      <th>has_model</th>\n",
       "      <th>has_build</th>\n",
       "      <th>has_python</th>\n",
       "      <th>baseline</th>\n",
       "    </tr>\n",
       "  </thead>\n",
       "  <tbody>\n",
       "    <tr>\n",
       "      <th>87</th>\n",
       "      <td>C++</td>\n",
       "      <td>bytefishopencv repository contains opencv code...</td>\n",
       "      <td>[bytefishopencv, repository, contains, opencv,...</td>\n",
       "      <td>124</td>\n",
       "      <td>False</td>\n",
       "      <td>False</td>\n",
       "      <td>False</td>\n",
       "      <td>python</td>\n",
       "    </tr>\n",
       "    <tr>\n",
       "      <th>0</th>\n",
       "      <td>C++</td>\n",
       "      <td>openframeworkshttpopenframeworkscc openframewo...</td>\n",
       "      <td>[openframeworkshttpopenframeworkscc, openframe...</td>\n",
       "      <td>512</td>\n",
       "      <td>False</td>\n",
       "      <td>True</td>\n",
       "      <td>False</td>\n",
       "      <td>python</td>\n",
       "    </tr>\n",
       "    <tr>\n",
       "      <th>108</th>\n",
       "      <td>C++</td>\n",
       "      <td>20120110 marker le ar using natural image mark...</td>\n",
       "      <td>[20120110, marker, le, ar, using, natural, ima...</td>\n",
       "      <td>138</td>\n",
       "      <td>True</td>\n",
       "      <td>True</td>\n",
       "      <td>False</td>\n",
       "      <td>python</td>\n",
       "    </tr>\n",
       "    <tr>\n",
       "      <th>208</th>\n",
       "      <td>python</td>\n",
       "      <td>imgsortjpg sorting visualization audibilizatio...</td>\n",
       "      <td>[imgsortjpg, sorting, visualization, audibiliz...</td>\n",
       "      <td>204</td>\n",
       "      <td>False</td>\n",
       "      <td>False</td>\n",
       "      <td>True</td>\n",
       "      <td>python</td>\n",
       "    </tr>\n",
       "    <tr>\n",
       "      <th>30</th>\n",
       "      <td>python</td>\n",
       "      <td>vidgear library sourcecode deployed apache 20 ...</td>\n",
       "      <td>[vidgear, library, sourcecode, deployed, apach...</td>\n",
       "      <td>2118</td>\n",
       "      <td>False</td>\n",
       "      <td>True</td>\n",
       "      <td>True</td>\n",
       "      <td>python</td>\n",
       "    </tr>\n",
       "  </tbody>\n",
       "</table>\n",
       "</div>"
      ],
      "text/plain": [
       "    language                                      text_filtered  \\\n",
       "87       C++  bytefishopencv repository contains opencv code...   \n",
       "0        C++  openframeworkshttpopenframeworkscc openframewo...   \n",
       "108      C++  20120110 marker le ar using natural image mark...   \n",
       "208   python  imgsortjpg sorting visualization audibilizatio...   \n",
       "30    python  vidgear library sourcecode deployed apache 20 ...   \n",
       "\n",
       "                                                 words  doc_len  has_model  \\\n",
       "87   [bytefishopencv, repository, contains, opencv,...      124      False   \n",
       "0    [openframeworkshttpopenframeworkscc, openframe...      512      False   \n",
       "108  [20120110, marker, le, ar, using, natural, ima...      138       True   \n",
       "208  [imgsortjpg, sorting, visualization, audibiliz...      204      False   \n",
       "30   [vidgear, library, sourcecode, deployed, apach...     2118      False   \n",
       "\n",
       "     has_build  has_python baseline  \n",
       "87       False       False   python  \n",
       "0         True       False   python  \n",
       "108       True       False   python  \n",
       "208      False        True   python  \n",
       "30        True        True   python  "
      ]
     },
     "execution_count": 333,
     "metadata": {},
     "output_type": "execute_result"
    }
   ],
   "source": [
    "train['baseline'] = 'python'\n",
    "train.head()"
   ]
  },
  {
   "cell_type": "code",
   "execution_count": 331,
   "metadata": {},
   "outputs": [
    {
     "name": "stdout",
     "output_type": "stream",
     "text": [
      "              precision    recall  f1-score   support\n",
      "\n",
      "         C++       0.00      0.00      0.00        50\n",
      "      python       0.54      1.00      0.70        58\n",
      "\n",
      "    accuracy                           0.54       108\n",
      "   macro avg       0.27      0.50      0.35       108\n",
      "weighted avg       0.29      0.54      0.38       108\n",
      "\n"
     ]
    }
   ],
   "source": [
    "print(classification_report(train.language, train.baseline))"
   ]
  },
  {
   "cell_type": "markdown",
   "metadata": {},
   "source": [
    "## Train Models"
   ]
  },
  {
   "cell_type": "code",
   "execution_count": 334,
   "metadata": {},
   "outputs": [
    {
     "data": {
      "text/html": [
       "<div>\n",
       "<style scoped>\n",
       "    .dataframe tbody tr th:only-of-type {\n",
       "        vertical-align: middle;\n",
       "    }\n",
       "\n",
       "    .dataframe tbody tr th {\n",
       "        vertical-align: top;\n",
       "    }\n",
       "\n",
       "    .dataframe thead th {\n",
       "        text-align: right;\n",
       "    }\n",
       "</style>\n",
       "<table border=\"1\" class=\"dataframe\">\n",
       "  <thead>\n",
       "    <tr style=\"text-align: right;\">\n",
       "      <th></th>\n",
       "      <th>language</th>\n",
       "      <th>text_filtered</th>\n",
       "      <th>words</th>\n",
       "      <th>doc_len</th>\n",
       "      <th>has_model</th>\n",
       "      <th>has_build</th>\n",
       "      <th>has_python</th>\n",
       "      <th>baseline</th>\n",
       "    </tr>\n",
       "  </thead>\n",
       "  <tbody>\n",
       "    <tr>\n",
       "      <th>87</th>\n",
       "      <td>C++</td>\n",
       "      <td>bytefishopencv repository contains opencv code...</td>\n",
       "      <td>[bytefishopencv, repository, contains, opencv,...</td>\n",
       "      <td>124</td>\n",
       "      <td>0</td>\n",
       "      <td>0</td>\n",
       "      <td>0</td>\n",
       "      <td>python</td>\n",
       "    </tr>\n",
       "    <tr>\n",
       "      <th>0</th>\n",
       "      <td>C++</td>\n",
       "      <td>openframeworkshttpopenframeworkscc openframewo...</td>\n",
       "      <td>[openframeworkshttpopenframeworkscc, openframe...</td>\n",
       "      <td>512</td>\n",
       "      <td>0</td>\n",
       "      <td>1</td>\n",
       "      <td>0</td>\n",
       "      <td>python</td>\n",
       "    </tr>\n",
       "    <tr>\n",
       "      <th>108</th>\n",
       "      <td>C++</td>\n",
       "      <td>20120110 marker le ar using natural image mark...</td>\n",
       "      <td>[20120110, marker, le, ar, using, natural, ima...</td>\n",
       "      <td>138</td>\n",
       "      <td>1</td>\n",
       "      <td>1</td>\n",
       "      <td>0</td>\n",
       "      <td>python</td>\n",
       "    </tr>\n",
       "    <tr>\n",
       "      <th>208</th>\n",
       "      <td>python</td>\n",
       "      <td>imgsortjpg sorting visualization audibilizatio...</td>\n",
       "      <td>[imgsortjpg, sorting, visualization, audibiliz...</td>\n",
       "      <td>204</td>\n",
       "      <td>0</td>\n",
       "      <td>0</td>\n",
       "      <td>1</td>\n",
       "      <td>python</td>\n",
       "    </tr>\n",
       "    <tr>\n",
       "      <th>30</th>\n",
       "      <td>python</td>\n",
       "      <td>vidgear library sourcecode deployed apache 20 ...</td>\n",
       "      <td>[vidgear, library, sourcecode, deployed, apach...</td>\n",
       "      <td>2118</td>\n",
       "      <td>0</td>\n",
       "      <td>1</td>\n",
       "      <td>1</td>\n",
       "      <td>python</td>\n",
       "    </tr>\n",
       "  </tbody>\n",
       "</table>\n",
       "</div>"
      ],
      "text/plain": [
       "    language                                      text_filtered  \\\n",
       "87       C++  bytefishopencv repository contains opencv code...   \n",
       "0        C++  openframeworkshttpopenframeworkscc openframewo...   \n",
       "108      C++  20120110 marker le ar using natural image mark...   \n",
       "208   python  imgsortjpg sorting visualization audibilizatio...   \n",
       "30    python  vidgear library sourcecode deployed apache 20 ...   \n",
       "\n",
       "                                                 words  doc_len  has_model  \\\n",
       "87   [bytefishopencv, repository, contains, opencv,...      124          0   \n",
       "0    [openframeworkshttpopenframeworkscc, openframe...      512          0   \n",
       "108  [20120110, marker, le, ar, using, natural, ima...      138          1   \n",
       "208  [imgsortjpg, sorting, visualization, audibiliz...      204          0   \n",
       "30   [vidgear, library, sourcecode, deployed, apach...     2118          0   \n",
       "\n",
       "     has_build  has_python baseline  \n",
       "87           0           0   python  \n",
       "0            1           0   python  \n",
       "108          1           0   python  \n",
       "208          0           1   python  \n",
       "30           1           1   python  "
      ]
     },
     "execution_count": 334,
     "metadata": {},
     "output_type": "execute_result"
    }
   ],
   "source": [
    "train['has_model'] = np.where((train.has_model == True), 1, 0)\n",
    "train['has_build'] = np.where((train.has_build == True), 1, 0)\n",
    "train['has_python'] = np.where((train.has_python == True), 1, 0)\n",
    "train.head()"
   ]
  },
  {
   "cell_type": "markdown",
   "metadata": {},
   "source": [
    "### has_model Model"
   ]
  },
  {
   "cell_type": "code",
   "execution_count": 335,
   "metadata": {},
   "outputs": [],
   "source": [
    "y_train = train.language\n",
    "x_train_model = train[['has_model']]"
   ]
  },
  {
   "cell_type": "code",
   "execution_count": 336,
   "metadata": {},
   "outputs": [
    {
     "name": "stdout",
     "output_type": "stream",
     "text": [
      "              precision    recall  f1-score   support\n",
      "\n",
      "         C++       0.57      0.76      0.65        50\n",
      "      python       0.71      0.50      0.59        58\n",
      "\n",
      "    accuracy                           0.62       108\n",
      "   macro avg       0.64      0.63      0.62       108\n",
      "weighted avg       0.64      0.62      0.62       108\n",
      "\n"
     ]
    }
   ],
   "source": [
    "lr_model = LogisticRegression(random_state=123)\n",
    "\n",
    "lr_model.fit(x_train_model, y_train)\n",
    "\n",
    "train['model_prediction'] = lr_model.predict(x_train_model)\n",
    "\n",
    "print(classification_report(train.language, train.model_prediction))"
   ]
  },
  {
   "cell_type": "markdown",
   "metadata": {},
   "source": [
    "### has_build Model"
   ]
  },
  {
   "cell_type": "code",
   "execution_count": 338,
   "metadata": {},
   "outputs": [
    {
     "name": "stdout",
     "output_type": "stream",
     "text": [
      "              precision    recall  f1-score   support\n",
      "\n",
      "         C++       0.61      0.68      0.64        50\n",
      "      python       0.69      0.62      0.65        58\n",
      "\n",
      "    accuracy                           0.65       108\n",
      "   macro avg       0.65      0.65      0.65       108\n",
      "weighted avg       0.65      0.65      0.65       108\n",
      "\n"
     ]
    }
   ],
   "source": [
    "x_train_build = train[['has_build']]\n",
    "\n",
    "lr_build = LogisticRegression(random_state=123)\n",
    "\n",
    "lr_build.fit(x_train_build, y_train)\n",
    "\n",
    "train['build_prediction'] = lr_build.predict(x_train_build)\n",
    "\n",
    "print(classification_report(train.language, train.build_prediction))"
   ]
  },
  {
   "cell_type": "markdown",
   "metadata": {},
   "source": [
    "### has_python Model"
   ]
  },
  {
   "cell_type": "code",
   "execution_count": 344,
   "metadata": {},
   "outputs": [
    {
     "name": "stdout",
     "output_type": "stream",
     "text": [
      "              precision    recall  f1-score   support\n",
      "\n",
      "         C++       0.15      0.18      0.16        50\n",
      "      python       0.11      0.09      0.10        58\n",
      "\n",
      "    accuracy                           0.13       108\n",
      "   macro avg       0.13      0.13      0.13       108\n",
      "weighted avg       0.13      0.13      0.13       108\n",
      "\n"
     ]
    }
   ],
   "source": [
    "x_train_python = train[['has_python']]\n",
    "\n",
    "lr_python = LogisticRegression(random_state=123)\n",
    "\n",
    "lr_python.fit(x_train_python, y_train)\n",
    "\n",
    "train['python_prediction'] = lr_build.predict(x_train_python)\n",
    "\n",
    "print(classification_report(train.language, train.python_prediction))"
   ]
  },
  {
   "cell_type": "markdown",
   "metadata": {},
   "source": [
    "### Bag of Words Model"
   ]
  },
  {
   "cell_type": "code",
   "execution_count": 349,
   "metadata": {},
   "outputs": [
    {
     "name": "stdout",
     "output_type": "stream",
     "text": [
      "              precision    recall  f1-score   support\n",
      "\n",
      "         C++       1.00      1.00      1.00        50\n",
      "      python       1.00      1.00      1.00        58\n",
      "\n",
      "    accuracy                           1.00       108\n",
      "   macro avg       1.00      1.00      1.00       108\n",
      "weighted avg       1.00      1.00      1.00       108\n",
      "\n"
     ]
    }
   ],
   "source": [
    "vectorizer = CountVectorizer(stop_words='english', \n",
    "                             min_df=20, \n",
    "                             ngram_range=(1,2), \n",
    "                             binary=True)\n",
    "\n",
    "vectorizer.fit(train.text_filtered)\n",
    "\n",
    "vectorizer.get_feature_names()\n",
    "\n",
    "x_bow = vectorizer.transform(train.text_filtered)\n",
    "\n",
    "lr_bag = LogisticRegression(random_state=123)\n",
    "\n",
    "lr_bag = lr_bag.fit(x_bow, y_train)\n",
    "\n",
    "train['bag_prediction'] = lr_bag.predict(x_bow)\n",
    "\n",
    "print(classification_report(train.language, train.bag_prediction))"
   ]
  },
  {
   "cell_type": "markdown",
   "metadata": {},
   "source": [
    "### TF-IDF Model"
   ]
  },
  {
   "cell_type": "code",
   "execution_count": 366,
   "metadata": {},
   "outputs": [
    {
     "name": "stdout",
     "output_type": "stream",
     "text": [
      "              precision    recall  f1-score   support\n",
      "\n",
      "         C++       1.00      0.92      0.96        50\n",
      "      python       0.94      1.00      0.97        58\n",
      "\n",
      "    accuracy                           0.96       108\n",
      "   macro avg       0.97      0.96      0.96       108\n",
      "weighted avg       0.97      0.96      0.96       108\n",
      "\n"
     ]
    }
   ],
   "source": [
    "tfidf = TfidfVectorizer(stop_words='english', min_df = 20,\n",
    "                             ngram_range=(1,2), \n",
    "                             binary=True)\n",
    "\n",
    "tfidf_matrix = tfidf.fit_transform(train.text_filtered)\n",
    "\n",
    "tfidf.vocabulary_\n",
    "\n",
    "vector_spaces = tfidf.transform(train.text_filtered)\n",
    "\n",
    "x_tf = tfidf_matrix\n",
    "\n",
    "lr_tf = LogisticRegression(random_state=123)\n",
    "\n",
    "lr_tf = lr_tf.fit(x_tf, y_train)\n",
    "\n",
    "train['tfidf_prediction'] = lr_tf.predict(x_tf)\n",
    "\n",
    "print(classification_report(train.language, train.tfidf_prediction))"
   ]
  },
  {
   "cell_type": "markdown",
   "metadata": {},
   "source": [
    "### Combined Terms Model"
   ]
  },
  {
   "cell_type": "code",
   "execution_count": 352,
   "metadata": {},
   "outputs": [
    {
     "name": "stdout",
     "output_type": "stream",
     "text": [
      "              precision    recall  f1-score   support\n",
      "\n",
      "         C++       0.89      0.82      0.85        50\n",
      "      python       0.85      0.91      0.88        58\n",
      "\n",
      "    accuracy                           0.87       108\n",
      "   macro avg       0.87      0.87      0.87       108\n",
      "weighted avg       0.87      0.87      0.87       108\n",
      "\n"
     ]
    }
   ],
   "source": [
    "x_train_combo = train[['has_model', 'has_build', 'has_python']]\n",
    "\n",
    "lr_combo = LogisticRegression(random_state=123)\n",
    "\n",
    "lr_combo.fit(x_train_combo, y_train)\n",
    "\n",
    "train['combo_prediction'] = lr_combo.predict(x_train_combo)\n",
    "\n",
    "print(classification_report(train.language, train.combo_prediction))"
   ]
  },
  {
   "cell_type": "markdown",
   "metadata": {},
   "source": [
    "Three best models are TF-IDF model, Bag of Words Model, and Combined Terms Model."
   ]
  },
  {
   "cell_type": "markdown",
   "metadata": {},
   "source": [
    "## Validation Models"
   ]
  },
  {
   "cell_type": "code",
   "execution_count": 354,
   "metadata": {
    "scrolled": true
   },
   "outputs": [
    {
     "data": {
      "text/html": [
       "<div>\n",
       "<style scoped>\n",
       "    .dataframe tbody tr th:only-of-type {\n",
       "        vertical-align: middle;\n",
       "    }\n",
       "\n",
       "    .dataframe tbody tr th {\n",
       "        vertical-align: top;\n",
       "    }\n",
       "\n",
       "    .dataframe thead th {\n",
       "        text-align: right;\n",
       "    }\n",
       "</style>\n",
       "<table border=\"1\" class=\"dataframe\">\n",
       "  <thead>\n",
       "    <tr style=\"text-align: right;\">\n",
       "      <th></th>\n",
       "      <th>language</th>\n",
       "      <th>text_filtered</th>\n",
       "    </tr>\n",
       "  </thead>\n",
       "  <tbody>\n",
       "    <tr>\n",
       "      <th>135</th>\n",
       "      <td>C++</td>\n",
       "      <td>opencv 40 cpython sdk tutorial include dnn mod...</td>\n",
       "    </tr>\n",
       "    <tr>\n",
       "      <th>63</th>\n",
       "      <td>python</td>\n",
       "      <td>neural compute application zoo ncappzoo stable...</td>\n",
       "    </tr>\n",
       "    <tr>\n",
       "      <th>215</th>\n",
       "      <td>C++</td>\n",
       "      <td>dynamicfusion implementation newcombe et al 20...</td>\n",
       "    </tr>\n",
       "    <tr>\n",
       "      <th>169</th>\n",
       "      <td>python</td>\n",
       "      <td>buildshttpsgithubcomdanforthcenterplantcvworkf...</td>\n",
       "    </tr>\n",
       "    <tr>\n",
       "      <th>187</th>\n",
       "      <td>C++</td>\n",
       "      <td>footfall introduction footfall camera based pe...</td>\n",
       "    </tr>\n",
       "  </tbody>\n",
       "</table>\n",
       "</div>"
      ],
      "text/plain": [
       "    language                                      text_filtered\n",
       "135      C++  opencv 40 cpython sdk tutorial include dnn mod...\n",
       "63    python  neural compute application zoo ncappzoo stable...\n",
       "215      C++  dynamicfusion implementation newcombe et al 20...\n",
       "169   python  buildshttpsgithubcomdanforthcenterplantcvworkf...\n",
       "187      C++  footfall introduction footfall camera based pe..."
      ]
     },
     "execution_count": 354,
     "metadata": {},
     "output_type": "execute_result"
    }
   ],
   "source": [
    "validate = validate.drop(columns=['repo', 'readme_contents', 'text_cleaned', 'text_tokenized', 'text_lemmatized', 'words', 'doc_len'])\n",
    "validate.head()"
   ]
  },
  {
   "cell_type": "markdown",
   "metadata": {},
   "source": [
    "### Bag of Words Model"
   ]
  },
  {
   "cell_type": "code",
   "execution_count": 363,
   "metadata": {},
   "outputs": [
    {
     "name": "stdout",
     "output_type": "stream",
     "text": [
      "              precision    recall  f1-score   support\n",
      "\n",
      "         C++       0.62      0.57      0.59        14\n",
      "      python       0.74      0.77      0.76        22\n",
      "\n",
      "    accuracy                           0.69        36\n",
      "   macro avg       0.68      0.67      0.67        36\n",
      "weighted avg       0.69      0.69      0.69        36\n",
      "\n"
     ]
    }
   ],
   "source": [
    "v_bow = vectorizer.transform(validate.text_filtered)\n",
    "\n",
    "validate['bag_prediction'] = lr_bag.predict(v_bow)\n",
    "\n",
    "print(classification_report(validate.language, validate.bag_prediction))"
   ]
  },
  {
   "cell_type": "markdown",
   "metadata": {},
   "source": [
    "### TF-IDF Model"
   ]
  },
  {
   "cell_type": "code",
   "execution_count": 368,
   "metadata": {},
   "outputs": [
    {
     "name": "stdout",
     "output_type": "stream",
     "text": [
      "              precision    recall  f1-score   support\n",
      "\n",
      "         C++       0.62      0.57      0.59        14\n",
      "      python       0.74      0.77      0.76        22\n",
      "\n",
      "    accuracy                           0.69        36\n",
      "   macro avg       0.68      0.67      0.67        36\n",
      "weighted avg       0.69      0.69      0.69        36\n",
      "\n"
     ]
    }
   ],
   "source": [
    "tfidf_matrix = tfidf.transform(validate.text_filtered)\n",
    "\n",
    "vector_spaces = tfidf.transform(validate.text_filtered)\n",
    "\n",
    "x_tf = tfidf_matrix\n",
    "\n",
    "validate['tfidf_prediction'] = lr_tf.predict(x_tf)\n",
    "\n",
    "print(classification_report(validate.language, validate.tfidf_prediction))"
   ]
  },
  {
   "cell_type": "markdown",
   "metadata": {},
   "source": [
    "### Combined Terms Model"
   ]
  },
  {
   "cell_type": "code",
   "execution_count": 369,
   "metadata": {},
   "outputs": [
    {
     "name": "stdout",
     "output_type": "stream",
     "text": [
      "              precision    recall  f1-score   support\n",
      "\n",
      "         C++       0.73      0.57      0.64        14\n",
      "      python       0.76      0.86      0.81        22\n",
      "\n",
      "    accuracy                           0.75        36\n",
      "   macro avg       0.74      0.72      0.72        36\n",
      "weighted avg       0.75      0.75      0.74        36\n",
      "\n"
     ]
    }
   ],
   "source": [
    "x_validate_combo = validate[['has_model', 'has_build', 'has_python']]\n",
    "y_validate = validate.language\n",
    "\n",
    "lr_combo.fit(x_validate_combo, y_validate)\n",
    "\n",
    "validate['combo_prediction'] = lr_combo.predict(x_validate_combo)\n",
    "\n",
    "print(classification_report(validate.language, validate.combo_prediction))"
   ]
  },
  {
   "cell_type": "markdown",
   "metadata": {},
   "source": [
    "Our best model is the Combined Terms model, we will be taking this one in to test."
   ]
  },
  {
   "cell_type": "markdown",
   "metadata": {},
   "source": [
    "## Test Model"
   ]
  },
  {
   "cell_type": "code",
   "execution_count": 370,
   "metadata": {},
   "outputs": [
    {
     "name": "stdout",
     "output_type": "stream",
     "text": [
      "              precision    recall  f1-score   support\n",
      "\n",
      "         C++       1.00      0.47      0.64        15\n",
      "      python       0.72      1.00      0.84        21\n",
      "\n",
      "    accuracy                           0.78        36\n",
      "   macro avg       0.86      0.73      0.74        36\n",
      "weighted avg       0.84      0.78      0.76        36\n",
      "\n"
     ]
    }
   ],
   "source": [
    "x_test_combo = test[['has_model', 'has_build', 'has_python']]\n",
    "y_test = test.language\n",
    "\n",
    "lr_combo.fit(x_test_combo, y_test)\n",
    "\n",
    "test['combo_prediction'] = lr_combo.predict(x_test_combo)\n",
    "\n",
    "print(classification_report(test.language, test.combo_prediction))"
   ]
  },
  {
   "cell_type": "markdown",
   "metadata": {},
   "source": [
    "# Entire Dataset"
   ]
  },
  {
   "cell_type": "code",
   "execution_count": 373,
   "metadata": {},
   "outputs": [
    {
     "data": {
      "text/html": [
       "<div>\n",
       "<style scoped>\n",
       "    .dataframe tbody tr th:only-of-type {\n",
       "        vertical-align: middle;\n",
       "    }\n",
       "\n",
       "    .dataframe tbody tr th {\n",
       "        vertical-align: top;\n",
       "    }\n",
       "\n",
       "    .dataframe thead th {\n",
       "        text-align: right;\n",
       "    }\n",
       "</style>\n",
       "<table border=\"1\" class=\"dataframe\">\n",
       "  <thead>\n",
       "    <tr style=\"text-align: right;\">\n",
       "      <th></th>\n",
       "      <th>language</th>\n",
       "      <th>text_filtered</th>\n",
       "    </tr>\n",
       "  </thead>\n",
       "  <tbody>\n",
       "    <tr>\n",
       "      <th>0</th>\n",
       "      <td>C++</td>\n",
       "      <td>openframeworkshttpopenframeworkscc openframewo...</td>\n",
       "    </tr>\n",
       "    <tr>\n",
       "      <th>1</th>\n",
       "      <td>C++</td>\n",
       "      <td>repository opencvs extra module repository int...</td>\n",
       "    </tr>\n",
       "    <tr>\n",
       "      <th>2</th>\n",
       "      <td>python</td>\n",
       "      <td>repository deprecated tf20 rewrite visit https...</td>\n",
       "    </tr>\n",
       "    <tr>\n",
       "      <th>3</th>\n",
       "      <td>C++</td>\n",
       "      <td>opencv open source computer vision library res...</td>\n",
       "    </tr>\n",
       "    <tr>\n",
       "      <th>4</th>\n",
       "      <td>C++</td>\n",
       "      <td>mvision machine vision ai httpwwwhuaxiaozhuanc...</td>\n",
       "    </tr>\n",
       "  </tbody>\n",
       "</table>\n",
       "</div>"
      ],
      "text/plain": [
       "  language                                      text_filtered\n",
       "0      C++  openframeworkshttpopenframeworkscc openframewo...\n",
       "1      C++  repository opencvs extra module repository int...\n",
       "2   python  repository deprecated tf20 rewrite visit https...\n",
       "3      C++  opencv open source computer vision library res...\n",
       "4      C++  mvision machine vision ai httpwwwhuaxiaozhuanc..."
      ]
     },
     "execution_count": 373,
     "metadata": {},
     "output_type": "execute_result"
    }
   ],
   "source": [
    "main_two = main_two.drop(columns=['repo', 'readme_contents', 'text_cleaned', 'text_tokenized', 'text_lemmatized', 'words'])\n",
    "main_two.head()\n"
   ]
  },
  {
   "cell_type": "code",
   "execution_count": 374,
   "metadata": {},
   "outputs": [],
   "source": [
    "main_two['has_model'] = main_two.text_filtered.str.contains('model')\n",
    "\n",
    "main_two['has_build'] = main_two.text_filtered.str.contains('build')\n",
    "\n",
    "main_two['has_python'] = main_two.text_filtered.str.contains('python')\n",
    "\n",
    "main_two['has_model'] = np.where((main_two.has_model == True), 1, 0)\n",
    "main_two['has_build'] = np.where((main_two.has_build == True), 1, 0)\n",
    "main_two['has_python'] = np.where((main_two.has_python == True), 1, 0)"
   ]
  },
  {
   "cell_type": "code",
   "execution_count": 375,
   "metadata": {},
   "outputs": [
    {
     "data": {
      "text/html": [
       "<div>\n",
       "<style scoped>\n",
       "    .dataframe tbody tr th:only-of-type {\n",
       "        vertical-align: middle;\n",
       "    }\n",
       "\n",
       "    .dataframe tbody tr th {\n",
       "        vertical-align: top;\n",
       "    }\n",
       "\n",
       "    .dataframe thead th {\n",
       "        text-align: right;\n",
       "    }\n",
       "</style>\n",
       "<table border=\"1\" class=\"dataframe\">\n",
       "  <thead>\n",
       "    <tr style=\"text-align: right;\">\n",
       "      <th></th>\n",
       "      <th>language</th>\n",
       "      <th>text_filtered</th>\n",
       "      <th>has_model</th>\n",
       "      <th>has_build</th>\n",
       "      <th>has_python</th>\n",
       "    </tr>\n",
       "  </thead>\n",
       "  <tbody>\n",
       "    <tr>\n",
       "      <th>0</th>\n",
       "      <td>C++</td>\n",
       "      <td>openframeworkshttpopenframeworkscc openframewo...</td>\n",
       "      <td>0</td>\n",
       "      <td>1</td>\n",
       "      <td>0</td>\n",
       "    </tr>\n",
       "    <tr>\n",
       "      <th>1</th>\n",
       "      <td>C++</td>\n",
       "      <td>repository opencvs extra module repository int...</td>\n",
       "      <td>1</td>\n",
       "      <td>1</td>\n",
       "      <td>0</td>\n",
       "    </tr>\n",
       "    <tr>\n",
       "      <th>2</th>\n",
       "      <td>python</td>\n",
       "      <td>repository deprecated tf20 rewrite visit https...</td>\n",
       "      <td>1</td>\n",
       "      <td>0</td>\n",
       "      <td>1</td>\n",
       "    </tr>\n",
       "    <tr>\n",
       "      <th>3</th>\n",
       "      <td>C++</td>\n",
       "      <td>opencv open source computer vision library res...</td>\n",
       "      <td>0</td>\n",
       "      <td>0</td>\n",
       "      <td>0</td>\n",
       "    </tr>\n",
       "    <tr>\n",
       "      <th>4</th>\n",
       "      <td>C++</td>\n",
       "      <td>mvision machine vision ai httpwwwhuaxiaozhuanc...</td>\n",
       "      <td>1</td>\n",
       "      <td>1</td>\n",
       "      <td>1</td>\n",
       "    </tr>\n",
       "  </tbody>\n",
       "</table>\n",
       "</div>"
      ],
      "text/plain": [
       "  language                                      text_filtered  has_model  \\\n",
       "0      C++  openframeworkshttpopenframeworkscc openframewo...          0   \n",
       "1      C++  repository opencvs extra module repository int...          1   \n",
       "2   python  repository deprecated tf20 rewrite visit https...          1   \n",
       "3      C++  opencv open source computer vision library res...          0   \n",
       "4      C++  mvision machine vision ai httpwwwhuaxiaozhuanc...          1   \n",
       "\n",
       "   has_build  has_python  \n",
       "0          1           0  \n",
       "1          1           0  \n",
       "2          0           1  \n",
       "3          0           0  \n",
       "4          1           1  "
      ]
     },
     "execution_count": 375,
     "metadata": {},
     "output_type": "execute_result"
    }
   ],
   "source": [
    "main_two.head()"
   ]
  },
  {
   "cell_type": "code",
   "execution_count": 377,
   "metadata": {},
   "outputs": [
    {
     "name": "stdout",
     "output_type": "stream",
     "text": [
      "              precision    recall  f1-score   support\n",
      "\n",
      "         C++       0.88      0.71      0.78        79\n",
      "      python       0.80      0.92      0.86       101\n",
      "\n",
      "    accuracy                           0.83       180\n",
      "   macro avg       0.84      0.81      0.82       180\n",
      "weighted avg       0.83      0.83      0.82       180\n",
      "\n"
     ]
    }
   ],
   "source": [
    "x_full_combo = main_two[['has_model', 'has_build', 'has_python']]\n",
    "y_full = main_two.language\n",
    "\n",
    "lr_combo.fit(x_full_combo, y_full)\n",
    "\n",
    "main_two['combo_prediction'] = lr_combo.predict(x_full_combo)\n",
    "\n",
    "print(classification_report(main_two.language, main_two.combo_prediction))"
   ]
  }
 ],
 "metadata": {
  "kernelspec": {
   "display_name": "Python 3",
   "language": "python",
   "name": "python3"
  },
  "language_info": {
   "codemirror_mode": {
    "name": "ipython",
    "version": 3
   },
   "file_extension": ".py",
   "mimetype": "text/x-python",
   "name": "python",
   "nbconvert_exporter": "python",
   "pygments_lexer": "ipython3",
   "version": "3.7.6"
  }
 },
 "nbformat": 4,
 "nbformat_minor": 4
}
