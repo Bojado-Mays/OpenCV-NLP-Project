{
 "cells": [
  {
   "cell_type": "markdown",
   "metadata": {},
   "source": [
    "# Imports"
   ]
  },
  {
   "cell_type": "code",
   "execution_count": 82,
   "metadata": {},
   "outputs": [],
   "source": [
    "import pandas as pd\n",
    "import numpy as np\n",
    "from requests import get\n",
    "from os import path\n",
    "from bs4 import BeautifulSoup\n",
    "import acquire as ac\n",
    "import prepare\n",
    "import re\n",
    "import matplotlib.pyplot as plt\n",
    "\n",
    "from sklearn.feature_extraction.text import TfidfVectorizer\n",
    "from sklearn.model_selection import train_test_split\n",
    "from sklearn.linear_model import LogisticRegression\n",
    "from sklearn.metrics import classification_report, accuracy_score\n",
    "from scipy import stats\n",
    "import json"
   ]
  },
  {
   "cell_type": "markdown",
   "metadata": {},
   "source": [
    "# Acquire"
   ]
  },
  {
   "cell_type": "code",
   "execution_count": 71,
   "metadata": {},
   "outputs": [],
   "source": [
    "url = 'https://github.com/search?o=desc&p={num}&q=OpenCV&s=stars&type=Repositories'\n",
    "response = get(url)"
   ]
  },
  {
   "cell_type": "code",
   "execution_count": 3,
   "metadata": {
    "scrolled": true
   },
   "outputs": [
    {
     "data": {
      "text/plain": [
       "50"
      ]
     },
     "execution_count": 3,
     "metadata": {},
     "output_type": "execute_result"
    }
   ],
   "source": [
    "urls = ac.get_range_urls(1, 6)\n",
    "len(urls)"
   ]
  },
  {
   "cell_type": "code",
   "execution_count": 14,
   "metadata": {},
   "outputs": [
    {
     "data": {
      "text/plain": [
       "50"
      ]
     },
     "execution_count": 14,
     "metadata": {},
     "output_type": "execute_result"
    }
   ],
   "source": [
    "urls2 = ac.get_range_urls(6, 11)\n",
    "len(urls2)"
   ]
  },
  {
   "cell_type": "code",
   "execution_count": 40,
   "metadata": {},
   "outputs": [
    {
     "data": {
      "text/plain": [
       "50"
      ]
     },
     "execution_count": 40,
     "metadata": {},
     "output_type": "execute_result"
    }
   ],
   "source": [
    "urls3 = ac.get_range_urls(11, 16)\n",
    "len(urls3)"
   ]
  },
  {
   "cell_type": "code",
   "execution_count": 35,
   "metadata": {},
   "outputs": [
    {
     "data": {
      "text/plain": [
       "50"
      ]
     },
     "execution_count": 35,
     "metadata": {},
     "output_type": "execute_result"
    }
   ],
   "source": [
    "urls4 = ac.get_range_urls(16, 21)\n",
    "len(urls4)"
   ]
  },
  {
   "cell_type": "code",
   "execution_count": 79,
   "metadata": {},
   "outputs": [
    {
     "data": {
      "text/plain": [
       "50"
      ]
     },
     "execution_count": 79,
     "metadata": {},
     "output_type": "execute_result"
    }
   ],
   "source": [
    "urls5 = ac.get_range_urls(21, 26)\n",
    "len(urls5)"
   ]
  },
  {
   "cell_type": "code",
   "execution_count": 80,
   "metadata": {},
   "outputs": [
    {
     "data": {
      "text/plain": [
       "250"
      ]
     },
     "execution_count": 80,
     "metadata": {},
     "output_type": "execute_result"
    }
   ],
   "source": [
    "all_urls = urls + urls2 + urls3 + urls4 + urls5\n",
    "len(all_urls)"
   ]
  },
  {
   "cell_type": "code",
   "execution_count": 91,
   "metadata": {},
   "outputs": [],
   "source": [
    "repos = ac.scrape_github_data(all_urls)"
   ]
  },
  {
   "cell_type": "code",
   "execution_count": 92,
   "metadata": {},
   "outputs": [],
   "source": [
    "json.dump(repos, open(\"data.json\", \"w\"), indent=1)"
   ]
  },
  {
   "cell_type": "code",
   "execution_count": 97,
   "metadata": {},
   "outputs": [],
   "source": [
    "repos = pd.read_json('data.json')"
   ]
  },
  {
   "cell_type": "code",
   "execution_count": 98,
   "metadata": {},
   "outputs": [
    {
     "data": {
      "text/html": [
       "<div>\n",
       "<style scoped>\n",
       "    .dataframe tbody tr th:only-of-type {\n",
       "        vertical-align: middle;\n",
       "    }\n",
       "\n",
       "    .dataframe tbody tr th {\n",
       "        vertical-align: top;\n",
       "    }\n",
       "\n",
       "    .dataframe thead th {\n",
       "        text-align: right;\n",
       "    }\n",
       "</style>\n",
       "<table border=\"1\" class=\"dataframe\">\n",
       "  <thead>\n",
       "    <tr style=\"text-align: right;\">\n",
       "      <th></th>\n",
       "      <th>repo</th>\n",
       "      <th>language</th>\n",
       "      <th>readme_contents</th>\n",
       "    </tr>\n",
       "  </thead>\n",
       "  <tbody>\n",
       "    <tr>\n",
       "      <th>0</th>\n",
       "      <td>openframeworks/openFrameworks</td>\n",
       "      <td>C++</td>\n",
       "      <td>[openFrameworks](http://openframeworks.cc/)\\n=...</td>\n",
       "    </tr>\n",
       "    <tr>\n",
       "      <th>1</th>\n",
       "      <td>opencv/opencv_contrib</td>\n",
       "      <td>C++</td>\n",
       "      <td>## Repository for OpenCV's extra modules\\n\\nTh...</td>\n",
       "    </tr>\n",
       "    <tr>\n",
       "      <th>2</th>\n",
       "      <td>oarriaga/face_classification</td>\n",
       "      <td>Python</td>\n",
       "      <td># This repository is deprecated for at TF-2.0 ...</td>\n",
       "    </tr>\n",
       "    <tr>\n",
       "      <th>3</th>\n",
       "      <td>opencv/opencv</td>\n",
       "      <td>C++</td>\n",
       "      <td>## OpenCV: Open Source Computer Vision Library...</td>\n",
       "    </tr>\n",
       "    <tr>\n",
       "      <th>4</th>\n",
       "      <td>Ewenwan/MVision</td>\n",
       "      <td>C++</td>\n",
       "      <td># MVision　Machine Vision 机器视觉\\n[AI算法工程师手册 数学基础...</td>\n",
       "    </tr>\n",
       "  </tbody>\n",
       "</table>\n",
       "</div>"
      ],
      "text/plain": [
       "                            repo language  \\\n",
       "0  openframeworks/openFrameworks      C++   \n",
       "1          opencv/opencv_contrib      C++   \n",
       "2   oarriaga/face_classification   Python   \n",
       "3                  opencv/opencv      C++   \n",
       "4                Ewenwan/MVision      C++   \n",
       "\n",
       "                                     readme_contents  \n",
       "0  [openFrameworks](http://openframeworks.cc/)\\n=...  \n",
       "1  ## Repository for OpenCV's extra modules\\n\\nTh...  \n",
       "2  # This repository is deprecated for at TF-2.0 ...  \n",
       "3  ## OpenCV: Open Source Computer Vision Library...  \n",
       "4  # MVision　Machine Vision 机器视觉\\n[AI算法工程师手册 数学基础...  "
      ]
     },
     "execution_count": 98,
     "metadata": {},
     "output_type": "execute_result"
    }
   ],
   "source": [
    "repos.head()"
   ]
  },
  {
   "cell_type": "code",
   "execution_count": 99,
   "metadata": {},
   "outputs": [
    {
     "name": "stdout",
     "output_type": "stream",
     "text": [
      "<class 'pandas.core.frame.DataFrame'>\n",
      "RangeIndex: 250 entries, 0 to 249\n",
      "Data columns (total 3 columns):\n",
      " #   Column           Non-Null Count  Dtype \n",
      "---  ------           --------------  ----- \n",
      " 0   repo             250 non-null    object\n",
      " 1   language         243 non-null    object\n",
      " 2   readme_contents  250 non-null    object\n",
      "dtypes: object(3)\n",
      "memory usage: 6.0+ KB\n"
     ]
    }
   ],
   "source": [
    "repos.info()"
   ]
  },
  {
   "cell_type": "markdown",
   "metadata": {},
   "source": [
    "# Prepare"
   ]
  },
  {
   "cell_type": "code",
   "execution_count": 100,
   "metadata": {},
   "outputs": [
    {
     "data": {
      "text/html": [
       "<div>\n",
       "<style scoped>\n",
       "    .dataframe tbody tr th:only-of-type {\n",
       "        vertical-align: middle;\n",
       "    }\n",
       "\n",
       "    .dataframe tbody tr th {\n",
       "        vertical-align: top;\n",
       "    }\n",
       "\n",
       "    .dataframe thead th {\n",
       "        text-align: right;\n",
       "    }\n",
       "</style>\n",
       "<table border=\"1\" class=\"dataframe\">\n",
       "  <thead>\n",
       "    <tr style=\"text-align: right;\">\n",
       "      <th></th>\n",
       "      <th>repo</th>\n",
       "      <th>language</th>\n",
       "      <th>readme_contents</th>\n",
       "      <th>text_cleaned</th>\n",
       "      <th>text_tokenized</th>\n",
       "      <th>text_lemmatized</th>\n",
       "      <th>text_filtered</th>\n",
       "    </tr>\n",
       "  </thead>\n",
       "  <tbody>\n",
       "    <tr>\n",
       "      <th>0</th>\n",
       "      <td>openframeworks/openFrameworks</td>\n",
       "      <td>C++</td>\n",
       "      <td>[openFrameworks](http://openframeworks.cc/)\\n=...</td>\n",
       "      <td>openframeworkshttpopenframeworkscc\\n\\n\\nopenfr...</td>\n",
       "      <td>openframeworkshttpopenframeworkscc\\n\\n\\nopenfr...</td>\n",
       "      <td>openframeworkshttpopenframeworkscc openframewo...</td>\n",
       "      <td>openframeworkshttpopenframeworkscc openframewo...</td>\n",
       "    </tr>\n",
       "    <tr>\n",
       "      <th>1</th>\n",
       "      <td>opencv/opencv_contrib</td>\n",
       "      <td>C++</td>\n",
       "      <td>## Repository for OpenCV's extra modules\\n\\nTh...</td>\n",
       "      <td>repository for opencvs extra modules\\n\\nthis ...</td>\n",
       "      <td>repository for opencvs extra modules\\n\\nthis r...</td>\n",
       "      <td>repository for opencvs extra module this repos...</td>\n",
       "      <td>repository opencvs extra module repository int...</td>\n",
       "    </tr>\n",
       "    <tr>\n",
       "      <th>2</th>\n",
       "      <td>oarriaga/face_classification</td>\n",
       "      <td>Python</td>\n",
       "      <td># This repository is deprecated for at TF-2.0 ...</td>\n",
       "      <td>this repository is deprecated for at tf20 rew...</td>\n",
       "      <td>this repository is deprecated for at tf20 rewr...</td>\n",
       "      <td>this repository is deprecated for at tf20 rewr...</td>\n",
       "      <td>repository deprecated tf20 rewrite visit https...</td>\n",
       "    </tr>\n",
       "    <tr>\n",
       "      <th>3</th>\n",
       "      <td>opencv/opencv</td>\n",
       "      <td>C++</td>\n",
       "      <td>## OpenCV: Open Source Computer Vision Library...</td>\n",
       "      <td>opencv open source computer vision library\\n\\...</td>\n",
       "      <td>opencv open source computer vision library\\n\\n...</td>\n",
       "      <td>opencv open source computer vision library res...</td>\n",
       "      <td>opencv open source computer vision library res...</td>\n",
       "    </tr>\n",
       "    <tr>\n",
       "      <th>4</th>\n",
       "      <td>Ewenwan/MVision</td>\n",
       "      <td>C++</td>\n",
       "      <td># MVision　Machine Vision 机器视觉\\n[AI算法工程师手册 数学基础...</td>\n",
       "      <td>mvision machine vision \\nai     httpwwwhuaxia...</td>\n",
       "      <td>mvision machine vision \\nai httpwwwhuaxiaozhua...</td>\n",
       "      <td>mvision machine vision ai httpwwwhuaxiaozhuanc...</td>\n",
       "      <td>mvision machine vision ai httpwwwhuaxiaozhuanc...</td>\n",
       "    </tr>\n",
       "  </tbody>\n",
       "</table>\n",
       "</div>"
      ],
      "text/plain": [
       "                            repo language  \\\n",
       "0  openframeworks/openFrameworks      C++   \n",
       "1          opencv/opencv_contrib      C++   \n",
       "2   oarriaga/face_classification   Python   \n",
       "3                  opencv/opencv      C++   \n",
       "4                Ewenwan/MVision      C++   \n",
       "\n",
       "                                     readme_contents  \\\n",
       "0  [openFrameworks](http://openframeworks.cc/)\\n=...   \n",
       "1  ## Repository for OpenCV's extra modules\\n\\nTh...   \n",
       "2  # This repository is deprecated for at TF-2.0 ...   \n",
       "3  ## OpenCV: Open Source Computer Vision Library...   \n",
       "4  # MVision　Machine Vision 机器视觉\\n[AI算法工程师手册 数学基础...   \n",
       "\n",
       "                                        text_cleaned  \\\n",
       "0  openframeworkshttpopenframeworkscc\\n\\n\\nopenfr...   \n",
       "1   repository for opencvs extra modules\\n\\nthis ...   \n",
       "2   this repository is deprecated for at tf20 rew...   \n",
       "3   opencv open source computer vision library\\n\\...   \n",
       "4   mvision machine vision \\nai     httpwwwhuaxia...   \n",
       "\n",
       "                                      text_tokenized  \\\n",
       "0  openframeworkshttpopenframeworkscc\\n\\n\\nopenfr...   \n",
       "1  repository for opencvs extra modules\\n\\nthis r...   \n",
       "2  this repository is deprecated for at tf20 rewr...   \n",
       "3  opencv open source computer vision library\\n\\n...   \n",
       "4  mvision machine vision \\nai httpwwwhuaxiaozhua...   \n",
       "\n",
       "                                     text_lemmatized  \\\n",
       "0  openframeworkshttpopenframeworkscc openframewo...   \n",
       "1  repository for opencvs extra module this repos...   \n",
       "2  this repository is deprecated for at tf20 rewr...   \n",
       "3  opencv open source computer vision library res...   \n",
       "4  mvision machine vision ai httpwwwhuaxiaozhuanc...   \n",
       "\n",
       "                                       text_filtered  \n",
       "0  openframeworkshttpopenframeworkscc openframewo...  \n",
       "1  repository opencvs extra module repository int...  \n",
       "2  repository deprecated tf20 rewrite visit https...  \n",
       "3  opencv open source computer vision library res...  \n",
       "4  mvision machine vision ai httpwwwhuaxiaozhuanc...  "
      ]
     },
     "execution_count": 100,
     "metadata": {},
     "output_type": "execute_result"
    }
   ],
   "source": [
    "# Creating a cleaned text column\n",
    "repos['text_cleaned'] = repos.readme_contents.apply(prepare.basic_clean)\n",
    "# Creating a tokenized text column\n",
    "repos['text_tokenized'] = repos.text_cleaned.apply(prepare.tokenize)\n",
    "# Creating a lemmatized text column\n",
    "repos['text_lemmatized'] = repos.text_tokenized.apply(prepare.lemmatize)\n",
    "# Creating a filtered text column\n",
    "repos['text_filtered'] = repos.text_lemmatized.apply(prepare.remove_stopwords)\n",
    "repos.head()"
   ]
  },
  {
   "cell_type": "code",
   "execution_count": 101,
   "metadata": {},
   "outputs": [
    {
     "data": {
      "text/html": [
       "<div>\n",
       "<style scoped>\n",
       "    .dataframe tbody tr th:only-of-type {\n",
       "        vertical-align: middle;\n",
       "    }\n",
       "\n",
       "    .dataframe tbody tr th {\n",
       "        vertical-align: top;\n",
       "    }\n",
       "\n",
       "    .dataframe thead th {\n",
       "        text-align: right;\n",
       "    }\n",
       "</style>\n",
       "<table border=\"1\" class=\"dataframe\">\n",
       "  <thead>\n",
       "    <tr style=\"text-align: right;\">\n",
       "      <th></th>\n",
       "      <th>repo</th>\n",
       "      <th>language</th>\n",
       "      <th>readme_contents</th>\n",
       "      <th>text_cleaned</th>\n",
       "      <th>text_tokenized</th>\n",
       "      <th>text_lemmatized</th>\n",
       "      <th>text_filtered</th>\n",
       "      <th>words</th>\n",
       "    </tr>\n",
       "  </thead>\n",
       "  <tbody>\n",
       "    <tr>\n",
       "      <th>0</th>\n",
       "      <td>openframeworks/openFrameworks</td>\n",
       "      <td>C++</td>\n",
       "      <td>[openFrameworks](http://openframeworks.cc/)\\n=...</td>\n",
       "      <td>openframeworkshttpopenframeworkscc\\n\\n\\nopenfr...</td>\n",
       "      <td>openframeworkshttpopenframeworkscc\\n\\n\\nopenfr...</td>\n",
       "      <td>openframeworkshttpopenframeworkscc openframewo...</td>\n",
       "      <td>openframeworkshttpopenframeworkscc openframewo...</td>\n",
       "      <td>[openframeworkshttpopenframeworkscc, openframe...</td>\n",
       "    </tr>\n",
       "    <tr>\n",
       "      <th>1</th>\n",
       "      <td>opencv/opencv_contrib</td>\n",
       "      <td>C++</td>\n",
       "      <td>## Repository for OpenCV's extra modules\\n\\nTh...</td>\n",
       "      <td>repository for opencvs extra modules\\n\\nthis ...</td>\n",
       "      <td>repository for opencvs extra modules\\n\\nthis r...</td>\n",
       "      <td>repository for opencvs extra module this repos...</td>\n",
       "      <td>repository opencvs extra module repository int...</td>\n",
       "      <td>[repository, opencvs, extra, module, repositor...</td>\n",
       "    </tr>\n",
       "    <tr>\n",
       "      <th>2</th>\n",
       "      <td>oarriaga/face_classification</td>\n",
       "      <td>Python</td>\n",
       "      <td># This repository is deprecated for at TF-2.0 ...</td>\n",
       "      <td>this repository is deprecated for at tf20 rew...</td>\n",
       "      <td>this repository is deprecated for at tf20 rewr...</td>\n",
       "      <td>this repository is deprecated for at tf20 rewr...</td>\n",
       "      <td>repository deprecated tf20 rewrite visit https...</td>\n",
       "      <td>[repository, deprecated, tf20, rewrite, visit,...</td>\n",
       "    </tr>\n",
       "    <tr>\n",
       "      <th>3</th>\n",
       "      <td>opencv/opencv</td>\n",
       "      <td>C++</td>\n",
       "      <td>## OpenCV: Open Source Computer Vision Library...</td>\n",
       "      <td>opencv open source computer vision library\\n\\...</td>\n",
       "      <td>opencv open source computer vision library\\n\\n...</td>\n",
       "      <td>opencv open source computer vision library res...</td>\n",
       "      <td>opencv open source computer vision library res...</td>\n",
       "      <td>[opencv, open, source, computer, vision, libra...</td>\n",
       "    </tr>\n",
       "    <tr>\n",
       "      <th>4</th>\n",
       "      <td>Ewenwan/MVision</td>\n",
       "      <td>C++</td>\n",
       "      <td># MVision　Machine Vision 机器视觉\\n[AI算法工程师手册 数学基础...</td>\n",
       "      <td>mvision machine vision \\nai     httpwwwhuaxia...</td>\n",
       "      <td>mvision machine vision \\nai httpwwwhuaxiaozhua...</td>\n",
       "      <td>mvision machine vision ai httpwwwhuaxiaozhuanc...</td>\n",
       "      <td>mvision machine vision ai httpwwwhuaxiaozhuanc...</td>\n",
       "      <td>[mvision, machine, vision, ai, httpwwwhuaxiaoz...</td>\n",
       "    </tr>\n",
       "  </tbody>\n",
       "</table>\n",
       "</div>"
      ],
      "text/plain": [
       "                            repo language  \\\n",
       "0  openframeworks/openFrameworks      C++   \n",
       "1          opencv/opencv_contrib      C++   \n",
       "2   oarriaga/face_classification   Python   \n",
       "3                  opencv/opencv      C++   \n",
       "4                Ewenwan/MVision      C++   \n",
       "\n",
       "                                     readme_contents  \\\n",
       "0  [openFrameworks](http://openframeworks.cc/)\\n=...   \n",
       "1  ## Repository for OpenCV's extra modules\\n\\nTh...   \n",
       "2  # This repository is deprecated for at TF-2.0 ...   \n",
       "3  ## OpenCV: Open Source Computer Vision Library...   \n",
       "4  # MVision　Machine Vision 机器视觉\\n[AI算法工程师手册 数学基础...   \n",
       "\n",
       "                                        text_cleaned  \\\n",
       "0  openframeworkshttpopenframeworkscc\\n\\n\\nopenfr...   \n",
       "1   repository for opencvs extra modules\\n\\nthis ...   \n",
       "2   this repository is deprecated for at tf20 rew...   \n",
       "3   opencv open source computer vision library\\n\\...   \n",
       "4   mvision machine vision \\nai     httpwwwhuaxia...   \n",
       "\n",
       "                                      text_tokenized  \\\n",
       "0  openframeworkshttpopenframeworkscc\\n\\n\\nopenfr...   \n",
       "1  repository for opencvs extra modules\\n\\nthis r...   \n",
       "2  this repository is deprecated for at tf20 rewr...   \n",
       "3  opencv open source computer vision library\\n\\n...   \n",
       "4  mvision machine vision \\nai httpwwwhuaxiaozhua...   \n",
       "\n",
       "                                     text_lemmatized  \\\n",
       "0  openframeworkshttpopenframeworkscc openframewo...   \n",
       "1  repository for opencvs extra module this repos...   \n",
       "2  this repository is deprecated for at tf20 rewr...   \n",
       "3  opencv open source computer vision library res...   \n",
       "4  mvision machine vision ai httpwwwhuaxiaozhuanc...   \n",
       "\n",
       "                                       text_filtered  \\\n",
       "0  openframeworkshttpopenframeworkscc openframewo...   \n",
       "1  repository opencvs extra module repository int...   \n",
       "2  repository deprecated tf20 rewrite visit https...   \n",
       "3  opencv open source computer vision library res...   \n",
       "4  mvision machine vision ai httpwwwhuaxiaozhuanc...   \n",
       "\n",
       "                                               words  \n",
       "0  [openframeworkshttpopenframeworkscc, openframe...  \n",
       "1  [repository, opencvs, extra, module, repositor...  \n",
       "2  [repository, deprecated, tf20, rewrite, visit,...  \n",
       "3  [opencv, open, source, computer, vision, libra...  \n",
       "4  [mvision, machine, vision, ai, httpwwwhuaxiaoz...  "
      ]
     },
     "execution_count": 101,
     "metadata": {},
     "output_type": "execute_result"
    }
   ],
   "source": [
    "words = [re.sub(r'([^a-z0-9\\s]|\\s.\\s)', '', doc).split() for doc in repos.text_filtered]\n",
    "\n",
    "repos = pd.concat([repos, pd.DataFrame({'words': words})], axis=1)\n",
    "\n",
    "repos.head()"
   ]
  },
  {
   "cell_type": "code",
   "execution_count": 102,
   "metadata": {},
   "outputs": [
    {
     "name": "stdout",
     "output_type": "stream",
     "text": [
      "<class 'pandas.core.frame.DataFrame'>\n",
      "RangeIndex: 250 entries, 0 to 249\n",
      "Data columns (total 8 columns):\n",
      " #   Column           Non-Null Count  Dtype \n",
      "---  ------           --------------  ----- \n",
      " 0   repo             250 non-null    object\n",
      " 1   language         243 non-null    object\n",
      " 2   readme_contents  250 non-null    object\n",
      " 3   text_cleaned     250 non-null    object\n",
      " 4   text_tokenized   250 non-null    object\n",
      " 5   text_lemmatized  250 non-null    object\n",
      " 6   text_filtered    250 non-null    object\n",
      " 7   words            250 non-null    object\n",
      "dtypes: object(8)\n",
      "memory usage: 15.8+ KB\n"
     ]
    }
   ],
   "source": [
    "repos.info()"
   ]
  },
  {
   "cell_type": "code",
   "execution_count": 103,
   "metadata": {},
   "outputs": [
    {
     "data": {
      "text/html": [
       "<div>\n",
       "<style scoped>\n",
       "    .dataframe tbody tr th:only-of-type {\n",
       "        vertical-align: middle;\n",
       "    }\n",
       "\n",
       "    .dataframe tbody tr th {\n",
       "        vertical-align: top;\n",
       "    }\n",
       "\n",
       "    .dataframe thead th {\n",
       "        text-align: right;\n",
       "    }\n",
       "</style>\n",
       "<table border=\"1\" class=\"dataframe\">\n",
       "  <thead>\n",
       "    <tr style=\"text-align: right;\">\n",
       "      <th></th>\n",
       "      <th>repo</th>\n",
       "      <th>language</th>\n",
       "      <th>readme_contents</th>\n",
       "      <th>text_cleaned</th>\n",
       "      <th>text_tokenized</th>\n",
       "      <th>text_lemmatized</th>\n",
       "      <th>text_filtered</th>\n",
       "      <th>words</th>\n",
       "    </tr>\n",
       "  </thead>\n",
       "  <tbody>\n",
       "    <tr>\n",
       "      <th>27</th>\n",
       "      <td>amusi/AI-Job-Notes</td>\n",
       "      <td>None</td>\n",
       "      <td># AI-Job-Notes\\nAI算法岗求职攻略：涵盖校招时间表、准备攻略、刷题指南、内推...</td>\n",
       "      <td>aijobnotes\\naiai\\n\\naislam\\n\\n  issues\\n\\n \\n...</td>\n",
       "      <td>aijobnotes\\naiai\\n\\naislam\\n\\n issues\\n\\n \\n\\n...</td>\n",
       "      <td>aijobnotes aiai aislam issue markdowntoc depth...</td>\n",
       "      <td>aijobnotes aiai aislam issue markdowntoc depth...</td>\n",
       "      <td>[aijobnotes, aiai, aislam, issue, markdowntoc,...</td>\n",
       "    </tr>\n",
       "    <tr>\n",
       "      <th>35</th>\n",
       "      <td>nagadomi/lbpcascade_animeface</td>\n",
       "      <td>None</td>\n",
       "      <td># lbpcascade_animeface\\n\\nThe face detector fo...</td>\n",
       "      <td>lbpcascade_animeface\\n\\nthe face detector for...</td>\n",
       "      <td>lbpcascade_animeface\\n\\nthe face detector for ...</td>\n",
       "      <td>lbpcascade_animeface the face detector for ani...</td>\n",
       "      <td>lbpcascade_animeface face detector animemanga ...</td>\n",
       "      <td>[lbpcascadeanimeface, face, detector, animeman...</td>\n",
       "    </tr>\n",
       "    <tr>\n",
       "      <th>39</th>\n",
       "      <td>changwookjun/StudyBook</td>\n",
       "      <td>None</td>\n",
       "      <td># Study E-Book(ComputerVision DeepLearning Mac...</td>\n",
       "      <td>study ebookcomputervision deeplearning machin...</td>\n",
       "      <td>study ebookcomputervision deeplearning machine...</td>\n",
       "      <td>study ebookcomputervision deeplearning machine...</td>\n",
       "      <td>study ebookcomputervision deeplearning machine...</td>\n",
       "      <td>[study, ebookcomputervision, deeplearning, mac...</td>\n",
       "    </tr>\n",
       "    <tr>\n",
       "      <th>66</th>\n",
       "      <td>xiangjiana/Android-MS</td>\n",
       "      <td>None</td>\n",
       "      <td>[**版权声明**](#版权声明)\\n\\n# Android 高级面试\\n\\n### ![面...</td>\n",
       "      <td>\\n\\n android \\n\\n img2020androidpng\\n \\n  andr...</td>\n",
       "      <td>android \\n\\n img2020androidpng\\n \\n androidhtt...</td>\n",
       "      <td>android img2020androidpng androidhttpswwwjians...</td>\n",
       "      <td>android img2020androidpng androidhttpswwwjians...</td>\n",
       "      <td>[android, img2020androidpng, androidhttpswwwji...</td>\n",
       "    </tr>\n",
       "    <tr>\n",
       "      <th>70</th>\n",
       "      <td>opencv/opencv_extra</td>\n",
       "      <td>None</td>\n",
       "      <td>### OpenCV: Open Source Computer Vision Librar...</td>\n",
       "      <td>opencv open source computer vision library\\n\\...</td>\n",
       "      <td>opencv open source computer vision library\\n\\n...</td>\n",
       "      <td>opencv open source computer vision library thi...</td>\n",
       "      <td>opencv open source computer vision library rep...</td>\n",
       "      <td>[opencv, open, source, computer, vision, libra...</td>\n",
       "    </tr>\n",
       "    <tr>\n",
       "      <th>142</th>\n",
       "      <td>huihut/OpenCV-MinGW-Build</td>\n",
       "      <td>None</td>\n",
       "      <td># OpenCV-MinGW-Build\\n\\nMinGW 32bit and 64bit ...</td>\n",
       "      <td>opencvmingwbuild\\n\\nmingw 32bit and 64bit ver...</td>\n",
       "      <td>opencvmingwbuild\\n\\nmingw 32bit and 64bit vers...</td>\n",
       "      <td>opencvmingwbuild mingw 32bit and 64bit version...</td>\n",
       "      <td>opencvmingwbuild mingw 32bit 64bit version ope...</td>\n",
       "      <td>[opencvmingwbuild, mingw, 32bit, 64bit, versio...</td>\n",
       "    </tr>\n",
       "    <tr>\n",
       "      <th>166</th>\n",
       "      <td>opencv/opencv_3rdparty</td>\n",
       "      <td>None</td>\n",
       "      <td>### OpenCV: Open Source Computer Vision Librar...</td>\n",
       "      <td>opencv open source computer vision library\\n\\...</td>\n",
       "      <td>opencv open source computer vision library\\n\\n...</td>\n",
       "      <td>opencv open source computer vision library thi...</td>\n",
       "      <td>opencv open source computer vision library rep...</td>\n",
       "      <td>[opencv, open, source, computer, vision, libra...</td>\n",
       "    </tr>\n",
       "  </tbody>\n",
       "</table>\n",
       "</div>"
      ],
      "text/plain": [
       "                              repo language  \\\n",
       "27              amusi/AI-Job-Notes     None   \n",
       "35   nagadomi/lbpcascade_animeface     None   \n",
       "39          changwookjun/StudyBook     None   \n",
       "66           xiangjiana/Android-MS     None   \n",
       "70             opencv/opencv_extra     None   \n",
       "142      huihut/OpenCV-MinGW-Build     None   \n",
       "166         opencv/opencv_3rdparty     None   \n",
       "\n",
       "                                       readme_contents  \\\n",
       "27   # AI-Job-Notes\\nAI算法岗求职攻略：涵盖校招时间表、准备攻略、刷题指南、内推...   \n",
       "35   # lbpcascade_animeface\\n\\nThe face detector fo...   \n",
       "39   # Study E-Book(ComputerVision DeepLearning Mac...   \n",
       "66   [**版权声明**](#版权声明)\\n\\n# Android 高级面试\\n\\n### ![面...   \n",
       "70   ### OpenCV: Open Source Computer Vision Librar...   \n",
       "142  # OpenCV-MinGW-Build\\n\\nMinGW 32bit and 64bit ...   \n",
       "166  ### OpenCV: Open Source Computer Vision Librar...   \n",
       "\n",
       "                                          text_cleaned  \\\n",
       "27    aijobnotes\\naiai\\n\\naislam\\n\\n  issues\\n\\n \\n...   \n",
       "35    lbpcascade_animeface\\n\\nthe face detector for...   \n",
       "39    study ebookcomputervision deeplearning machin...   \n",
       "66   \\n\\n android \\n\\n img2020androidpng\\n \\n  andr...   \n",
       "70    opencv open source computer vision library\\n\\...   \n",
       "142   opencvmingwbuild\\n\\nmingw 32bit and 64bit ver...   \n",
       "166   opencv open source computer vision library\\n\\...   \n",
       "\n",
       "                                        text_tokenized  \\\n",
       "27   aijobnotes\\naiai\\n\\naislam\\n\\n issues\\n\\n \\n\\n...   \n",
       "35   lbpcascade_animeface\\n\\nthe face detector for ...   \n",
       "39   study ebookcomputervision deeplearning machine...   \n",
       "66   android \\n\\n img2020androidpng\\n \\n androidhtt...   \n",
       "70   opencv open source computer vision library\\n\\n...   \n",
       "142  opencvmingwbuild\\n\\nmingw 32bit and 64bit vers...   \n",
       "166  opencv open source computer vision library\\n\\n...   \n",
       "\n",
       "                                       text_lemmatized  \\\n",
       "27   aijobnotes aiai aislam issue markdowntoc depth...   \n",
       "35   lbpcascade_animeface the face detector for ani...   \n",
       "39   study ebookcomputervision deeplearning machine...   \n",
       "66   android img2020androidpng androidhttpswwwjians...   \n",
       "70   opencv open source computer vision library thi...   \n",
       "142  opencvmingwbuild mingw 32bit and 64bit version...   \n",
       "166  opencv open source computer vision library thi...   \n",
       "\n",
       "                                         text_filtered  \\\n",
       "27   aijobnotes aiai aislam issue markdowntoc depth...   \n",
       "35   lbpcascade_animeface face detector animemanga ...   \n",
       "39   study ebookcomputervision deeplearning machine...   \n",
       "66   android img2020androidpng androidhttpswwwjians...   \n",
       "70   opencv open source computer vision library rep...   \n",
       "142  opencvmingwbuild mingw 32bit 64bit version ope...   \n",
       "166  opencv open source computer vision library rep...   \n",
       "\n",
       "                                                 words  \n",
       "27   [aijobnotes, aiai, aislam, issue, markdowntoc,...  \n",
       "35   [lbpcascadeanimeface, face, detector, animeman...  \n",
       "39   [study, ebookcomputervision, deeplearning, mac...  \n",
       "66   [android, img2020androidpng, androidhttpswwwji...  \n",
       "70   [opencv, open, source, computer, vision, libra...  \n",
       "142  [opencvmingwbuild, mingw, 32bit, 64bit, versio...  \n",
       "166  [opencv, open, source, computer, vision, libra...  "
      ]
     },
     "execution_count": 103,
     "metadata": {},
     "output_type": "execute_result"
    }
   ],
   "source": [
    "# We need to look at which repos have nulls for language\n",
    "repos[repos.language.isnull()]"
   ]
  },
  {
   "cell_type": "code",
   "execution_count": 104,
   "metadata": {},
   "outputs": [
    {
     "name": "stdout",
     "output_type": "stream",
     "text": [
      "<class 'pandas.core.frame.DataFrame'>\n",
      "Int64Index: 243 entries, 0 to 249\n",
      "Data columns (total 8 columns):\n",
      " #   Column           Non-Null Count  Dtype \n",
      "---  ------           --------------  ----- \n",
      " 0   repo             243 non-null    object\n",
      " 1   language         243 non-null    object\n",
      " 2   readme_contents  243 non-null    object\n",
      " 3   text_cleaned     243 non-null    object\n",
      " 4   text_tokenized   243 non-null    object\n",
      " 5   text_lemmatized  243 non-null    object\n",
      " 6   text_filtered    243 non-null    object\n",
      " 7   words            243 non-null    object\n",
      "dtypes: object(8)\n",
      "memory usage: 17.1+ KB\n"
     ]
    }
   ],
   "source": [
    "# There are only 6 of the 150 so we will just drop them\n",
    "repos = repos[repos.language.notnull()]\n",
    "repos.info()"
   ]
  },
  {
   "cell_type": "code",
   "execution_count": 105,
   "metadata": {},
   "outputs": [
    {
     "data": {
      "text/plain": [
       "Python              101\n",
       "C++                  79\n",
       "Java                 16\n",
       "Jupyter Notebook     10\n",
       "JavaScript            7\n",
       "C#                    5\n",
       "Objective-C           3\n",
       "Shell                 3\n",
       "Go                    3\n",
       "C                     2\n",
       "PHP                   2\n",
       "HTML                  2\n",
       "Makefile              1\n",
       "CMake                 1\n",
       "Scala                 1\n",
       "Matlab                1\n",
       "Dockerfile            1\n",
       "Pascal                1\n",
       "Objective-C++         1\n",
       "Perl                  1\n",
       "Assembly              1\n",
       "Rust                  1\n",
       "Name: language, dtype: int64"
      ]
     },
     "execution_count": 105,
     "metadata": {},
     "output_type": "execute_result"
    }
   ],
   "source": [
    "# Lets see the breakdown of languages for OpenCV repos\n",
    "repos.language.value_counts()"
   ]
  },
  {
   "cell_type": "code",
   "execution_count": 106,
   "metadata": {},
   "outputs": [
    {
     "data": {
      "text/plain": [
       "Python    101\n",
       "C++        79\n",
       "Name: language, dtype: int64"
      ]
     },
     "execution_count": 106,
     "metadata": {},
     "output_type": "execute_result"
    }
   ],
   "source": [
    "main_two = repos[(repos.language == 'Python') | (repos.language == 'C++')].copy()\n",
    "main_two.language.value_counts()"
   ]
  },
  {
   "cell_type": "code",
   "execution_count": 153,
   "metadata": {},
   "outputs": [],
   "source": [
    "train_validate, test = train_test_split(main_two.copy(), test_size=.2)\n",
    "train, validate = train_test_split(train_validate.copy(), test_size=.25)"
   ]
  },
  {
   "cell_type": "code",
   "execution_count": 154,
   "metadata": {},
   "outputs": [
    {
     "name": "stdout",
     "output_type": "stream",
     "text": [
      "(108, 8) (36, 8) (36, 8)\n"
     ]
    }
   ],
   "source": [
    "print(train.shape, validate.shape, test.shape)"
   ]
  },
  {
   "cell_type": "code",
   "execution_count": 155,
   "metadata": {},
   "outputs": [
    {
     "name": "stdout",
     "output_type": "stream",
     "text": [
      "Python    57\n",
      "C++       51\n",
      "Name: language, dtype: int64 \n",
      "\n",
      "Python    20\n",
      "C++       16\n",
      "Name: language, dtype: int64 \n",
      "\n",
      "Python    24\n",
      "C++       12\n",
      "Name: language, dtype: int64\n"
     ]
    }
   ],
   "source": [
    "print(train.language.value_counts(), '\\n')\n",
    "print(validate.language.value_counts(), '\\n')\n",
    "print(test.language.value_counts())"
   ]
  },
  {
   "cell_type": "markdown",
   "metadata": {},
   "source": [
    "# Explore"
   ]
  },
  {
   "cell_type": "markdown",
   "metadata": {},
   "source": [
    "### What are the most common words in READMEs?"
   ]
  },
  {
   "cell_type": "code",
   "execution_count": 156,
   "metadata": {},
   "outputs": [],
   "source": [
    "# Now we will create word lists for python and C++ repos as they are the majority of our data, and one for all words\n",
    "python_words = ' '.join(train[train.language=='Python'].text_filtered)\n",
    "c_plus_plus_words = ' '.join(train[train.language=='C++'].text_filtered)\n",
    "all_words = ' '.join(train.text_filtered)\n",
    "\n",
    "python_words = re.sub(r'\\s.\\s', '', python_words)\n",
    "c_plus_plus_words = re.sub(r'\\s.\\s', '', c_plus_plus_words)\n",
    "all_words = re.sub(r'\\s.\\s', '', all_words)"
   ]
  },
  {
   "cell_type": "code",
   "execution_count": 157,
   "metadata": {},
   "outputs": [
    {
     "name": "stdout",
     "output_type": "stream",
     "text": [
      "Most common python words:\n",
      "image     523\n",
      "python    202\n",
      "face      199\n",
      "video     184\n",
      "img       180\n",
      "dtype: int64\n",
      "\n",
      "Most common c++ words:\n",
      "&#9;      479\n",
      "build     233\n",
      "opencv    210\n",
      "image     149\n",
      "use       121\n",
      "dtype: int64\n",
      "\n",
      "Most common words in all repos:\n",
      "image     672\n",
      "&#9;      576\n",
      "opencv    335\n",
      "build     257\n",
      "using     250\n",
      "dtype: int64\n"
     ]
    }
   ],
   "source": [
    "python_freq = pd.Series(python_words.split()).value_counts()\n",
    "c_plus_plus_freq = pd.Series(c_plus_plus_words.split()).value_counts()\n",
    "all_freq = pd.Series(all_words.split()).value_counts()\n",
    "\n",
    "print('Most common python words:')\n",
    "print(python_freq.head())\n",
    "print()\n",
    "print('Most common c++ words:')\n",
    "print(c_plus_plus_freq.head())\n",
    "print()\n",
    "print('Most common words in all repos:')\n",
    "print(all_freq.head())"
   ]
  },
  {
   "cell_type": "code",
   "execution_count": 158,
   "metadata": {
    "scrolled": true
   },
   "outputs": [
    {
     "data": {
      "text/html": [
       "<div>\n",
       "<style scoped>\n",
       "    .dataframe tbody tr th:only-of-type {\n",
       "        vertical-align: middle;\n",
       "    }\n",
       "\n",
       "    .dataframe tbody tr th {\n",
       "        vertical-align: top;\n",
       "    }\n",
       "\n",
       "    .dataframe thead th {\n",
       "        text-align: right;\n",
       "    }\n",
       "</style>\n",
       "<table border=\"1\" class=\"dataframe\">\n",
       "  <thead>\n",
       "    <tr style=\"text-align: right;\">\n",
       "      <th></th>\n",
       "      <th>All</th>\n",
       "      <th>Python</th>\n",
       "      <th>C++</th>\n",
       "    </tr>\n",
       "  </thead>\n",
       "  <tbody>\n",
       "    <tr>\n",
       "      <th>image</th>\n",
       "      <td>672</td>\n",
       "      <td>523</td>\n",
       "      <td>149</td>\n",
       "    </tr>\n",
       "    <tr>\n",
       "      <th>&amp;#9;</th>\n",
       "      <td>576</td>\n",
       "      <td>97</td>\n",
       "      <td>479</td>\n",
       "    </tr>\n",
       "    <tr>\n",
       "      <th>opencv</th>\n",
       "      <td>335</td>\n",
       "      <td>125</td>\n",
       "      <td>210</td>\n",
       "    </tr>\n",
       "    <tr>\n",
       "      <th>build</th>\n",
       "      <td>257</td>\n",
       "      <td>24</td>\n",
       "      <td>233</td>\n",
       "    </tr>\n",
       "    <tr>\n",
       "      <th>using</th>\n",
       "      <td>250</td>\n",
       "      <td>134</td>\n",
       "      <td>116</td>\n",
       "    </tr>\n",
       "    <tr>\n",
       "      <th>python</th>\n",
       "      <td>248</td>\n",
       "      <td>202</td>\n",
       "      <td>46</td>\n",
       "    </tr>\n",
       "    <tr>\n",
       "      <th>face</th>\n",
       "      <td>243</td>\n",
       "      <td>199</td>\n",
       "      <td>44</td>\n",
       "    </tr>\n",
       "    <tr>\n",
       "      <th>file</th>\n",
       "      <td>239</td>\n",
       "      <td>157</td>\n",
       "      <td>82</td>\n",
       "    </tr>\n",
       "    <tr>\n",
       "      <th>video</th>\n",
       "      <td>238</td>\n",
       "      <td>184</td>\n",
       "      <td>54</td>\n",
       "    </tr>\n",
       "    <tr>\n",
       "      <th>use</th>\n",
       "      <td>217</td>\n",
       "      <td>96</td>\n",
       "      <td>121</td>\n",
       "    </tr>\n",
       "  </tbody>\n",
       "</table>\n",
       "</div>"
      ],
      "text/plain": [
       "        All  Python  C++\n",
       "image   672     523  149\n",
       "&#9;    576      97  479\n",
       "opencv  335     125  210\n",
       "build   257      24  233\n",
       "using   250     134  116\n",
       "python  248     202   46\n",
       "face    243     199   44\n",
       "file    239     157   82\n",
       "video   238     184   54\n",
       "use     217      96  121"
      ]
     },
     "execution_count": 158,
     "metadata": {},
     "output_type": "execute_result"
    }
   ],
   "source": [
    "word_counts = (pd.concat([all_freq, python_freq, c_plus_plus_freq], axis=1, sort=True)\n",
    "               .set_axis(['All', 'Python', 'C++'], axis=1, inplace=False)\n",
    "               .fillna(0)\n",
    "               .apply(lambda s: s.astype(int))\n",
    "              )\n",
    "\n",
    "word_counts.sort_values(by='All', ascending=False).head(10)"
   ]
  },
  {
   "cell_type": "markdown",
   "metadata": {},
   "source": [
    "### Does the length of the README vary by programming language?"
   ]
  },
  {
   "cell_type": "code",
   "execution_count": 159,
   "metadata": {},
   "outputs": [],
   "source": [
    "train['doc_len'] = [len(x) for x in train.words]\n",
    "validate['doc_len'] = [len(x) for x in validate.words]\n",
    "test['doc_len'] = [len(x) for x in test.words]"
   ]
  },
  {
   "cell_type": "code",
   "execution_count": 160,
   "metadata": {},
   "outputs": [
    {
     "data": {
      "text/html": [
       "<div>\n",
       "<style scoped>\n",
       "    .dataframe tbody tr th:only-of-type {\n",
       "        vertical-align: middle;\n",
       "    }\n",
       "\n",
       "    .dataframe tbody tr th {\n",
       "        vertical-align: top;\n",
       "    }\n",
       "\n",
       "    .dataframe thead th {\n",
       "        text-align: right;\n",
       "    }\n",
       "</style>\n",
       "<table border=\"1\" class=\"dataframe\">\n",
       "  <thead>\n",
       "    <tr style=\"text-align: right;\">\n",
       "      <th></th>\n",
       "      <th>repo</th>\n",
       "      <th>language</th>\n",
       "      <th>readme_contents</th>\n",
       "      <th>text_cleaned</th>\n",
       "      <th>text_tokenized</th>\n",
       "      <th>text_lemmatized</th>\n",
       "      <th>text_filtered</th>\n",
       "      <th>words</th>\n",
       "      <th>doc_len</th>\n",
       "    </tr>\n",
       "  </thead>\n",
       "  <tbody>\n",
       "    <tr>\n",
       "      <th>180</th>\n",
       "      <td>fengjian0106/hed-tutorial-for-document-scanning</td>\n",
       "      <td>C++</td>\n",
       "      <td># HED-tutorial-for-document-scanning\\nCode for...</td>\n",
       "      <td>hedtutorialfordocumentscanning\\ncode for blog...</td>\n",
       "      <td>hedtutorialfordocumentscanning\\ncode for blog ...</td>\n",
       "      <td>hedtutorialfordocumentscanning code for blog v...</td>\n",
       "      <td>hedtutorialfordocumentscanning code blog vgg m...</td>\n",
       "      <td>[hedtutorialfordocumentscanning, code, blog, v...</td>\n",
       "      <td>374</td>\n",
       "    </tr>\n",
       "    <tr>\n",
       "      <th>235</th>\n",
       "      <td>DataXujing/vehicle-license-plate-recognition</td>\n",
       "      <td>Python</td>\n",
       "      <td># 车牌检测和识别的Python应用软件实现\\n\\n徐静 \\n\\n## 1.车牌检测和识别项...</td>\n",
       "      <td>python\\n\\n \\n\\n 1\\n\\npicp2jpg\\nhttpswwwcnblog...</td>\n",
       "      <td>python\\n\\n \\n\\n 1\\n\\npicp2jpg\\nhttpswwwcnblogs...</td>\n",
       "      <td>python 1 picp2jpg httpswwwcnblogscompolly333p7...</td>\n",
       "      <td>python 1 picp2jpg httpswwwcnblogscompolly333p7...</td>\n",
       "      <td>[pythonpicp2jpg, httpswwwcnblogscompolly333p73...</td>\n",
       "      <td>27</td>\n",
       "    </tr>\n",
       "    <tr>\n",
       "      <th>43</th>\n",
       "      <td>Breakthrough/PySceneDetect</td>\n",
       "      <td>Python</td>\n",
       "      <td>\\n![PySceneDetect](https://raw.githubuserconte...</td>\n",
       "      <td>\\npyscenedetecthttpsrawgithubusercontentcombre...</td>\n",
       "      <td>pyscenedetecthttpsrawgithubusercontentcombreak...</td>\n",
       "      <td>pyscenedetecthttpsrawgithubusercontentcombreak...</td>\n",
       "      <td>pyscenedetecthttpsrawgithubusercontentcombreak...</td>\n",
       "      <td>[pyscenedetecthttpsrawgithubusercontentcombrea...</td>\n",
       "      <td>442</td>\n",
       "    </tr>\n",
       "    <tr>\n",
       "      <th>209</th>\n",
       "      <td>PacktPublishing/Hands-On-GPU-Accelerated-Compu...</td>\n",
       "      <td>C++</td>\n",
       "      <td># Hands-On-GPU-Accelerated-Computer-Vision-wit...</td>\n",
       "      <td>handsongpuacceleratedcomputervisionwithopencv...</td>\n",
       "      <td>handsongpuacceleratedcomputervisionwithopencva...</td>\n",
       "      <td>handsongpuacceleratedcomputervisionwithopencva...</td>\n",
       "      <td>handsongpuacceleratedcomputervisionwithopencva...</td>\n",
       "      <td>[handsongpuacceleratedcomputervisionwithopencv...</td>\n",
       "      <td>358</td>\n",
       "    </tr>\n",
       "    <tr>\n",
       "      <th>45</th>\n",
       "      <td>ANYbotics/grid_map</td>\n",
       "      <td>C++</td>\n",
       "      <td># Grid Map\\n\\n## Overview\\n\\nThis is a C++ lib...</td>\n",
       "      <td>grid map\\n\\n overview\\n\\nthis is a c library ...</td>\n",
       "      <td>grid map\\n\\n overview\\n\\nthis is a c library w...</td>\n",
       "      <td>grid map overview this is a c library with ro ...</td>\n",
       "      <td>grid map overview c library ro interface manag...</td>\n",
       "      <td>[grid, map, overviewlibrary, ro, interface, ma...</td>\n",
       "      <td>1980</td>\n",
       "    </tr>\n",
       "  </tbody>\n",
       "</table>\n",
       "</div>"
      ],
      "text/plain": [
       "                                                  repo language  \\\n",
       "180    fengjian0106/hed-tutorial-for-document-scanning      C++   \n",
       "235       DataXujing/vehicle-license-plate-recognition   Python   \n",
       "43                          Breakthrough/PySceneDetect   Python   \n",
       "209  PacktPublishing/Hands-On-GPU-Accelerated-Compu...      C++   \n",
       "45                                  ANYbotics/grid_map      C++   \n",
       "\n",
       "                                       readme_contents  \\\n",
       "180  # HED-tutorial-for-document-scanning\\nCode for...   \n",
       "235  # 车牌检测和识别的Python应用软件实现\\n\\n徐静 \\n\\n## 1.车牌检测和识别项...   \n",
       "43   \\n![PySceneDetect](https://raw.githubuserconte...   \n",
       "209  # Hands-On-GPU-Accelerated-Computer-Vision-wit...   \n",
       "45   # Grid Map\\n\\n## Overview\\n\\nThis is a C++ lib...   \n",
       "\n",
       "                                          text_cleaned  \\\n",
       "180   hedtutorialfordocumentscanning\\ncode for blog...   \n",
       "235   python\\n\\n \\n\\n 1\\n\\npicp2jpg\\nhttpswwwcnblog...   \n",
       "43   \\npyscenedetecthttpsrawgithubusercontentcombre...   \n",
       "209   handsongpuacceleratedcomputervisionwithopencv...   \n",
       "45    grid map\\n\\n overview\\n\\nthis is a c library ...   \n",
       "\n",
       "                                        text_tokenized  \\\n",
       "180  hedtutorialfordocumentscanning\\ncode for blog ...   \n",
       "235  python\\n\\n \\n\\n 1\\n\\npicp2jpg\\nhttpswwwcnblogs...   \n",
       "43   pyscenedetecthttpsrawgithubusercontentcombreak...   \n",
       "209  handsongpuacceleratedcomputervisionwithopencva...   \n",
       "45   grid map\\n\\n overview\\n\\nthis is a c library w...   \n",
       "\n",
       "                                       text_lemmatized  \\\n",
       "180  hedtutorialfordocumentscanning code for blog v...   \n",
       "235  python 1 picp2jpg httpswwwcnblogscompolly333p7...   \n",
       "43   pyscenedetecthttpsrawgithubusercontentcombreak...   \n",
       "209  handsongpuacceleratedcomputervisionwithopencva...   \n",
       "45   grid map overview this is a c library with ro ...   \n",
       "\n",
       "                                         text_filtered  \\\n",
       "180  hedtutorialfordocumentscanning code blog vgg m...   \n",
       "235  python 1 picp2jpg httpswwwcnblogscompolly333p7...   \n",
       "43   pyscenedetecthttpsrawgithubusercontentcombreak...   \n",
       "209  handsongpuacceleratedcomputervisionwithopencva...   \n",
       "45   grid map overview c library ro interface manag...   \n",
       "\n",
       "                                                 words  doc_len  \n",
       "180  [hedtutorialfordocumentscanning, code, blog, v...      374  \n",
       "235  [pythonpicp2jpg, httpswwwcnblogscompolly333p73...       27  \n",
       "43   [pyscenedetecthttpsrawgithubusercontentcombrea...      442  \n",
       "209  [handsongpuacceleratedcomputervisionwithopencv...      358  \n",
       "45   [grid, map, overviewlibrary, ro, interface, ma...     1980  "
      ]
     },
     "execution_count": 160,
     "metadata": {},
     "output_type": "execute_result"
    }
   ],
   "source": [
    "train.head()"
   ]
  },
  {
   "cell_type": "code",
   "execution_count": 161,
   "metadata": {
    "scrolled": true
   },
   "outputs": [
    {
     "data": {
      "text/html": [
       "<div>\n",
       "<style scoped>\n",
       "    .dataframe tbody tr th:only-of-type {\n",
       "        vertical-align: middle;\n",
       "    }\n",
       "\n",
       "    .dataframe tbody tr th {\n",
       "        vertical-align: top;\n",
       "    }\n",
       "\n",
       "    .dataframe thead th {\n",
       "        text-align: right;\n",
       "    }\n",
       "</style>\n",
       "<table border=\"1\" class=\"dataframe\">\n",
       "  <thead>\n",
       "    <tr style=\"text-align: right;\">\n",
       "      <th></th>\n",
       "      <th>count</th>\n",
       "      <th>mean</th>\n",
       "      <th>std</th>\n",
       "      <th>min</th>\n",
       "      <th>25%</th>\n",
       "      <th>50%</th>\n",
       "      <th>75%</th>\n",
       "      <th>max</th>\n",
       "    </tr>\n",
       "    <tr>\n",
       "      <th>language</th>\n",
       "      <th></th>\n",
       "      <th></th>\n",
       "      <th></th>\n",
       "      <th></th>\n",
       "      <th></th>\n",
       "      <th></th>\n",
       "      <th></th>\n",
       "      <th></th>\n",
       "    </tr>\n",
       "  </thead>\n",
       "  <tbody>\n",
       "    <tr>\n",
       "      <th>C++</th>\n",
       "      <td>51.0</td>\n",
       "      <td>372.019608</td>\n",
       "      <td>354.650503</td>\n",
       "      <td>7.0</td>\n",
       "      <td>171.5</td>\n",
       "      <td>304.0</td>\n",
       "      <td>492.5</td>\n",
       "      <td>1980.0</td>\n",
       "    </tr>\n",
       "    <tr>\n",
       "      <th>Python</th>\n",
       "      <td>57.0</td>\n",
       "      <td>458.017544</td>\n",
       "      <td>606.515413</td>\n",
       "      <td>5.0</td>\n",
       "      <td>100.0</td>\n",
       "      <td>226.0</td>\n",
       "      <td>592.0</td>\n",
       "      <td>2824.0</td>\n",
       "    </tr>\n",
       "  </tbody>\n",
       "</table>\n",
       "</div>"
      ],
      "text/plain": [
       "          count        mean         std  min    25%    50%    75%     max\n",
       "language                                                                 \n",
       "C++        51.0  372.019608  354.650503  7.0  171.5  304.0  492.5  1980.0\n",
       "Python     57.0  458.017544  606.515413  5.0  100.0  226.0  592.0  2824.0"
      ]
     },
     "execution_count": 161,
     "metadata": {},
     "output_type": "execute_result"
    }
   ],
   "source": [
    "train.groupby(train.language).doc_len.describe()"
   ]
  },
  {
   "cell_type": "markdown",
   "metadata": {},
   "source": [
    "### What does the distribution of IDFs look like for the most common words?"
   ]
  },
  {
   "cell_type": "code",
   "execution_count": 162,
   "metadata": {},
   "outputs": [],
   "source": [
    "def idf(word):\n",
    "    n_occurences = sum([1 for doc in train.text_filtered if word in doc])\n",
    "    return np.log(len(train.words) / n_occurences)"
   ]
  },
  {
   "cell_type": "code",
   "execution_count": 163,
   "metadata": {},
   "outputs": [],
   "source": [
    "unique_words = pd.Series(' '.join(train.text_filtered).split()).unique()"
   ]
  },
  {
   "cell_type": "code",
   "execution_count": 164,
   "metadata": {},
   "outputs": [
    {
     "data": {
      "text/plain": [
       "array(['hedtutorialfordocumentscanning', 'code', 'blog', ...,\n",
       "       'libopencv_javaso',\n",
       "       'beartungnonfreeopencvandroidhttpsgithubcombeartungnonfreeopencvandroid',\n",
       "       'libnonfree'], dtype=object)"
      ]
     },
     "execution_count": 164,
     "metadata": {},
     "output_type": "execute_result"
    }
   ],
   "source": [
    "unique_words"
   ]
  },
  {
   "cell_type": "code",
   "execution_count": 165,
   "metadata": {},
   "outputs": [
    {
     "data": {
      "text/html": [
       "<div>\n",
       "<style scoped>\n",
       "    .dataframe tbody tr th:only-of-type {\n",
       "        vertical-align: middle;\n",
       "    }\n",
       "\n",
       "    .dataframe tbody tr th {\n",
       "        vertical-align: top;\n",
       "    }\n",
       "\n",
       "    .dataframe thead th {\n",
       "        text-align: right;\n",
       "    }\n",
       "</style>\n",
       "<table border=\"1\" class=\"dataframe\">\n",
       "  <thead>\n",
       "    <tr style=\"text-align: right;\">\n",
       "      <th></th>\n",
       "      <th>idf</th>\n",
       "    </tr>\n",
       "    <tr>\n",
       "      <th>word</th>\n",
       "      <th></th>\n",
       "    </tr>\n",
       "  </thead>\n",
       "  <tbody>\n",
       "    <tr>\n",
       "      <th>hedtutorialfordocumentscanning</th>\n",
       "      <td>4.682131</td>\n",
       "    </tr>\n",
       "    <tr>\n",
       "      <th>cvimreadimg_flashcavenoflashbmp</th>\n",
       "      <td>4.682131</td>\n",
       "    </tr>\n",
       "    <tr>\n",
       "      <th>implementationhttpresearchmicrosoftcomenusumpeoplekaheeccv10guidedfiltercodev1rar</th>\n",
       "      <td>4.682131</td>\n",
       "    </tr>\n",
       "    <tr>\n",
       "      <th>cvimreadimg_smoothingcatbmp</th>\n",
       "      <td>4.682131</td>\n",
       "    </tr>\n",
       "    <tr>\n",
       "      <th>cv_load_image_grayscale</th>\n",
       "      <td>4.682131</td>\n",
       "    </tr>\n",
       "    <tr>\n",
       "      <th>eps012</th>\n",
       "      <td>4.682131</td>\n",
       "    </tr>\n",
       "    <tr>\n",
       "      <th>guidedfilteri</th>\n",
       "      <td>4.682131</td>\n",
       "    </tr>\n",
       "    <tr>\n",
       "      <th>cathttpatilimcetincomguidedfilterimg_smoothingcatsmallpnghttpatilimcetincomguidedfilterimg_smoothingcatpng</th>\n",
       "      <td>4.682131</td>\n",
       "    </tr>\n",
       "    <tr>\n",
       "      <th>eps012httpatilimcetincomguidedfilterimg_smoothingcat201smallpnghttpatilimcetincomguidedfilterimg_smoothingcat201png</th>\n",
       "      <td>4.682131</td>\n",
       "    </tr>\n",
       "    <tr>\n",
       "      <th>eps022httpatilimcetincomguidedfilterimg_smoothingcat202smallpnghttpatilimcetincomguidedfilterimg_smoothingcat202png</th>\n",
       "      <td>4.682131</td>\n",
       "    </tr>\n",
       "  </tbody>\n",
       "</table>\n",
       "</div>"
      ],
      "text/plain": [
       "                                                         idf\n",
       "word                                                        \n",
       "hedtutorialfordocumentscanning                      4.682131\n",
       "cvimreadimg_flashcavenoflashbmp                     4.682131\n",
       "implementationhttpresearchmicrosoftcomenusumpeo...  4.682131\n",
       "cvimreadimg_smoothingcatbmp                         4.682131\n",
       "cv_load_image_grayscale                             4.682131\n",
       "eps012                                              4.682131\n",
       "guidedfilteri                                       4.682131\n",
       "cathttpatilimcetincomguidedfilterimg_smoothingc...  4.682131\n",
       "eps012httpatilimcetincomguidedfilterimg_smoothi...  4.682131\n",
       "eps022httpatilimcetincomguidedfilterimg_smoothi...  4.682131"
      ]
     },
     "execution_count": 165,
     "metadata": {},
     "output_type": "execute_result"
    }
   ],
   "source": [
    "idf_words = (pd.DataFrame(dict(word=unique_words))\n",
    " .assign(idf=lambda df: df.word.apply(idf))\n",
    " .set_index('word')\n",
    " .sort_values(by='idf', ascending=False))\n",
    "idf_words.head(10)"
   ]
  },
  {
   "cell_type": "code",
   "execution_count": 166,
   "metadata": {},
   "outputs": [
    {
     "data": {
      "text/html": [
       "<div>\n",
       "<style scoped>\n",
       "    .dataframe tbody tr th:only-of-type {\n",
       "        vertical-align: middle;\n",
       "    }\n",
       "\n",
       "    .dataframe tbody tr th {\n",
       "        vertical-align: top;\n",
       "    }\n",
       "\n",
       "    .dataframe thead th {\n",
       "        text-align: right;\n",
       "    }\n",
       "</style>\n",
       "<table border=\"1\" class=\"dataframe\">\n",
       "  <thead>\n",
       "    <tr style=\"text-align: right;\">\n",
       "      <th></th>\n",
       "      <th>idf</th>\n",
       "    </tr>\n",
       "  </thead>\n",
       "  <tbody>\n",
       "    <tr>\n",
       "      <th>count</th>\n",
       "      <td>11718.000000</td>\n",
       "    </tr>\n",
       "    <tr>\n",
       "      <th>mean</th>\n",
       "      <td>4.110223</td>\n",
       "    </tr>\n",
       "    <tr>\n",
       "      <th>std</th>\n",
       "      <td>1.034049</td>\n",
       "    </tr>\n",
       "    <tr>\n",
       "      <th>min</th>\n",
       "      <td>0.000000</td>\n",
       "    </tr>\n",
       "    <tr>\n",
       "      <th>25%</th>\n",
       "      <td>3.988984</td>\n",
       "    </tr>\n",
       "    <tr>\n",
       "      <th>50%</th>\n",
       "      <td>4.682131</td>\n",
       "    </tr>\n",
       "    <tr>\n",
       "      <th>75%</th>\n",
       "      <td>4.682131</td>\n",
       "    </tr>\n",
       "    <tr>\n",
       "      <th>max</th>\n",
       "      <td>4.682131</td>\n",
       "    </tr>\n",
       "  </tbody>\n",
       "</table>\n",
       "</div>"
      ],
      "text/plain": [
       "                idf\n",
       "count  11718.000000\n",
       "mean       4.110223\n",
       "std        1.034049\n",
       "min        0.000000\n",
       "25%        3.988984\n",
       "50%        4.682131\n",
       "75%        4.682131\n",
       "max        4.682131"
      ]
     },
     "execution_count": 166,
     "metadata": {},
     "output_type": "execute_result"
    }
   ],
   "source": [
    "idf_words.describe()"
   ]
  },
  {
   "cell_type": "code",
   "execution_count": 167,
   "metadata": {},
   "outputs": [],
   "source": [
    "top_five_words = pd.DataFrame()\n",
    "for word in all_freq.head().index:\n",
    "    hold = idf_words[idf_words.index == word]\n",
    "    top_five_words = top_five_words.append(hold)"
   ]
  },
  {
   "cell_type": "code",
   "execution_count": 168,
   "metadata": {},
   "outputs": [
    {
     "data": {
      "text/html": [
       "<div>\n",
       "<style scoped>\n",
       "    .dataframe tbody tr th:only-of-type {\n",
       "        vertical-align: middle;\n",
       "    }\n",
       "\n",
       "    .dataframe tbody tr th {\n",
       "        vertical-align: top;\n",
       "    }\n",
       "\n",
       "    .dataframe thead th {\n",
       "        text-align: right;\n",
       "    }\n",
       "</style>\n",
       "<table border=\"1\" class=\"dataframe\">\n",
       "  <thead>\n",
       "    <tr style=\"text-align: right;\">\n",
       "      <th></th>\n",
       "      <th>idf</th>\n",
       "    </tr>\n",
       "    <tr>\n",
       "      <th>word</th>\n",
       "      <th></th>\n",
       "    </tr>\n",
       "  </thead>\n",
       "  <tbody>\n",
       "    <tr>\n",
       "      <th>&amp;#9;</th>\n",
       "      <td>1.791759</td>\n",
       "    </tr>\n",
       "    <tr>\n",
       "      <th>build</th>\n",
       "      <td>0.656780</td>\n",
       "    </tr>\n",
       "    <tr>\n",
       "      <th>using</th>\n",
       "      <td>0.419451</td>\n",
       "    </tr>\n",
       "    <tr>\n",
       "      <th>image</th>\n",
       "      <td>0.338326</td>\n",
       "    </tr>\n",
       "    <tr>\n",
       "      <th>opencv</th>\n",
       "      <td>0.097164</td>\n",
       "    </tr>\n",
       "  </tbody>\n",
       "</table>\n",
       "</div>"
      ],
      "text/plain": [
       "             idf\n",
       "word            \n",
       "&#9;    1.791759\n",
       "build   0.656780\n",
       "using   0.419451\n",
       "image   0.338326\n",
       "opencv  0.097164"
      ]
     },
     "execution_count": 168,
     "metadata": {},
     "output_type": "execute_result"
    }
   ],
   "source": [
    "top_five_words.sort_values(by='idf', ascending=False)"
   ]
  },
  {
   "cell_type": "code",
   "execution_count": 169,
   "metadata": {},
   "outputs": [],
   "source": [
    "top_five_python = pd.DataFrame()\n",
    "for word in python_freq.head().index:\n",
    "    hold = idf_words[idf_words.index == word]\n",
    "    top_five_python = top_five_python.append(hold)"
   ]
  },
  {
   "cell_type": "code",
   "execution_count": 170,
   "metadata": {},
   "outputs": [
    {
     "data": {
      "text/html": [
       "<div>\n",
       "<style scoped>\n",
       "    .dataframe tbody tr th:only-of-type {\n",
       "        vertical-align: middle;\n",
       "    }\n",
       "\n",
       "    .dataframe tbody tr th {\n",
       "        vertical-align: top;\n",
       "    }\n",
       "\n",
       "    .dataframe thead th {\n",
       "        text-align: right;\n",
       "    }\n",
       "</style>\n",
       "<table border=\"1\" class=\"dataframe\">\n",
       "  <thead>\n",
       "    <tr style=\"text-align: right;\">\n",
       "      <th></th>\n",
       "      <th>idf</th>\n",
       "    </tr>\n",
       "    <tr>\n",
       "      <th>word</th>\n",
       "      <th></th>\n",
       "    </tr>\n",
       "  </thead>\n",
       "  <tbody>\n",
       "    <tr>\n",
       "      <th>face</th>\n",
       "      <td>0.810930</td>\n",
       "    </tr>\n",
       "    <tr>\n",
       "      <th>video</th>\n",
       "      <td>0.730888</td>\n",
       "    </tr>\n",
       "    <tr>\n",
       "      <th>img</th>\n",
       "      <td>0.571257</td>\n",
       "    </tr>\n",
       "    <tr>\n",
       "      <th>python</th>\n",
       "      <td>0.433636</td>\n",
       "    </tr>\n",
       "    <tr>\n",
       "      <th>image</th>\n",
       "      <td>0.338326</td>\n",
       "    </tr>\n",
       "  </tbody>\n",
       "</table>\n",
       "</div>"
      ],
      "text/plain": [
       "             idf\n",
       "word            \n",
       "face    0.810930\n",
       "video   0.730888\n",
       "img     0.571257\n",
       "python  0.433636\n",
       "image   0.338326"
      ]
     },
     "execution_count": 170,
     "metadata": {},
     "output_type": "execute_result"
    }
   ],
   "source": [
    "top_five_python.sort_values(by='idf').sort_values(by='idf', ascending=False).head()"
   ]
  },
  {
   "cell_type": "code",
   "execution_count": 171,
   "metadata": {},
   "outputs": [],
   "source": [
    "top_five_cplus2 = pd.DataFrame()\n",
    "for word in c_plus_plus_freq.head().index:\n",
    "    hold = idf_words[idf_words.index == word]\n",
    "    top_five_cplus2 = top_five_cplus2.append(hold)"
   ]
  },
  {
   "cell_type": "code",
   "execution_count": 172,
   "metadata": {},
   "outputs": [
    {
     "data": {
      "text/html": [
       "<div>\n",
       "<style scoped>\n",
       "    .dataframe tbody tr th:only-of-type {\n",
       "        vertical-align: middle;\n",
       "    }\n",
       "\n",
       "    .dataframe tbody tr th {\n",
       "        vertical-align: top;\n",
       "    }\n",
       "\n",
       "    .dataframe thead th {\n",
       "        text-align: right;\n",
       "    }\n",
       "</style>\n",
       "<table border=\"1\" class=\"dataframe\">\n",
       "  <thead>\n",
       "    <tr style=\"text-align: right;\">\n",
       "      <th></th>\n",
       "      <th>idf</th>\n",
       "    </tr>\n",
       "    <tr>\n",
       "      <th>word</th>\n",
       "      <th></th>\n",
       "    </tr>\n",
       "  </thead>\n",
       "  <tbody>\n",
       "    <tr>\n",
       "      <th>&amp;#9;</th>\n",
       "      <td>1.791759</td>\n",
       "    </tr>\n",
       "    <tr>\n",
       "      <th>build</th>\n",
       "      <td>0.656780</td>\n",
       "    </tr>\n",
       "    <tr>\n",
       "      <th>image</th>\n",
       "      <td>0.338326</td>\n",
       "    </tr>\n",
       "    <tr>\n",
       "      <th>use</th>\n",
       "      <td>0.239480</td>\n",
       "    </tr>\n",
       "    <tr>\n",
       "      <th>opencv</th>\n",
       "      <td>0.097164</td>\n",
       "    </tr>\n",
       "  </tbody>\n",
       "</table>\n",
       "</div>"
      ],
      "text/plain": [
       "             idf\n",
       "word            \n",
       "&#9;    1.791759\n",
       "build   0.656780\n",
       "image   0.338326\n",
       "use     0.239480\n",
       "opencv  0.097164"
      ]
     },
     "execution_count": 172,
     "metadata": {},
     "output_type": "execute_result"
    }
   ],
   "source": [
    "top_five_cplus2.sort_values(by='idf', ascending=False).head()"
   ]
  },
  {
   "cell_type": "markdown",
   "metadata": {},
   "source": [
    "### Comparing Doc Length"
   ]
  },
  {
   "cell_type": "code",
   "execution_count": 173,
   "metadata": {},
   "outputs": [
    {
     "data": {
      "text/plain": [
       "count     108.000000\n",
       "mean      417.407407\n",
       "std       503.150152\n",
       "min         5.000000\n",
       "25%       127.000000\n",
       "50%       249.000000\n",
       "75%       508.250000\n",
       "max      2824.000000\n",
       "Name: doc_len, dtype: float64"
      ]
     },
     "execution_count": 173,
     "metadata": {},
     "output_type": "execute_result"
    }
   ],
   "source": [
    "train.doc_len.describe()"
   ]
  },
  {
   "cell_type": "code",
   "execution_count": 174,
   "metadata": {},
   "outputs": [
    {
     "data": {
      "text/plain": [
       "count      57.000000\n",
       "mean      458.017544\n",
       "std       606.515413\n",
       "min         5.000000\n",
       "25%       100.000000\n",
       "50%       226.000000\n",
       "75%       592.000000\n",
       "max      2824.000000\n",
       "Name: doc_len, dtype: float64"
      ]
     },
     "execution_count": 174,
     "metadata": {},
     "output_type": "execute_result"
    }
   ],
   "source": [
    "train[train.language == 'Python'].doc_len.describe()"
   ]
  },
  {
   "cell_type": "code",
   "execution_count": 175,
   "metadata": {},
   "outputs": [
    {
     "data": {
      "text/plain": [
       "count      51.000000\n",
       "mean      372.019608\n",
       "std       354.650503\n",
       "min         7.000000\n",
       "25%       171.500000\n",
       "50%       304.000000\n",
       "75%       492.500000\n",
       "max      1980.000000\n",
       "Name: doc_len, dtype: float64"
      ]
     },
     "execution_count": 175,
     "metadata": {},
     "output_type": "execute_result"
    }
   ],
   "source": [
    "train[train.language == 'C++'].doc_len.describe()"
   ]
  },
  {
   "cell_type": "markdown",
   "metadata": {},
   "source": [
    "### Comparing Top Ten Words From Each Language"
   ]
  },
  {
   "cell_type": "code",
   "execution_count": 176,
   "metadata": {},
   "outputs": [],
   "source": [
    "top_ten_python = word_counts['Python'].sort_values(ascending=False).head(10)\n",
    "\n",
    "top_ten_cplus2 = word_counts['C++'].sort_values(ascending=False).head(10)\n",
    "\n",
    "top_ten_both = list(top_ten_python.index) + list(top_ten_cplus2.index)\n",
    "\n",
    "top_ten_combined = word_counts[word_counts.index.isin(top_ten_both)]"
   ]
  },
  {
   "cell_type": "code",
   "execution_count": 177,
   "metadata": {
    "scrolled": false
   },
   "outputs": [
    {
     "data": {
      "text/html": [
       "<div>\n",
       "<style scoped>\n",
       "    .dataframe tbody tr th:only-of-type {\n",
       "        vertical-align: middle;\n",
       "    }\n",
       "\n",
       "    .dataframe tbody tr th {\n",
       "        vertical-align: top;\n",
       "    }\n",
       "\n",
       "    .dataframe thead th {\n",
       "        text-align: right;\n",
       "    }\n",
       "</style>\n",
       "<table border=\"1\" class=\"dataframe\">\n",
       "  <thead>\n",
       "    <tr style=\"text-align: right;\">\n",
       "      <th></th>\n",
       "      <th>All</th>\n",
       "      <th>Python</th>\n",
       "      <th>C++</th>\n",
       "    </tr>\n",
       "  </thead>\n",
       "  <tbody>\n",
       "    <tr>\n",
       "      <th>&amp;#9;</th>\n",
       "      <td>576</td>\n",
       "      <td>97</td>\n",
       "      <td>479</td>\n",
       "    </tr>\n",
       "    <tr>\n",
       "      <th>build</th>\n",
       "      <td>257</td>\n",
       "      <td>24</td>\n",
       "      <td>233</td>\n",
       "    </tr>\n",
       "    <tr>\n",
       "      <th>example</th>\n",
       "      <td>156</td>\n",
       "      <td>72</td>\n",
       "      <td>84</td>\n",
       "    </tr>\n",
       "    <tr>\n",
       "      <th>face</th>\n",
       "      <td>243</td>\n",
       "      <td>199</td>\n",
       "      <td>44</td>\n",
       "    </tr>\n",
       "    <tr>\n",
       "      <th>file</th>\n",
       "      <td>239</td>\n",
       "      <td>157</td>\n",
       "      <td>82</td>\n",
       "    </tr>\n",
       "    <tr>\n",
       "      <th>image</th>\n",
       "      <td>672</td>\n",
       "      <td>523</td>\n",
       "      <td>149</td>\n",
       "    </tr>\n",
       "    <tr>\n",
       "      <th>img</th>\n",
       "      <td>209</td>\n",
       "      <td>180</td>\n",
       "      <td>29</td>\n",
       "    </tr>\n",
       "    <tr>\n",
       "      <th>library</th>\n",
       "      <td>157</td>\n",
       "      <td>58</td>\n",
       "      <td>99</td>\n",
       "    </tr>\n",
       "    <tr>\n",
       "      <th>map</th>\n",
       "      <td>158</td>\n",
       "      <td>59</td>\n",
       "      <td>99</td>\n",
       "    </tr>\n",
       "    <tr>\n",
       "      <th>model</th>\n",
       "      <td>195</td>\n",
       "      <td>170</td>\n",
       "      <td>25</td>\n",
       "    </tr>\n",
       "    <tr>\n",
       "      <th>object</th>\n",
       "      <td>169</td>\n",
       "      <td>137</td>\n",
       "      <td>32</td>\n",
       "    </tr>\n",
       "    <tr>\n",
       "      <th>opencv</th>\n",
       "      <td>335</td>\n",
       "      <td>125</td>\n",
       "      <td>210</td>\n",
       "    </tr>\n",
       "    <tr>\n",
       "      <th>project</th>\n",
       "      <td>191</td>\n",
       "      <td>98</td>\n",
       "      <td>93</td>\n",
       "    </tr>\n",
       "    <tr>\n",
       "      <th>python</th>\n",
       "      <td>248</td>\n",
       "      <td>202</td>\n",
       "      <td>46</td>\n",
       "    </tr>\n",
       "    <tr>\n",
       "      <th>use</th>\n",
       "      <td>217</td>\n",
       "      <td>96</td>\n",
       "      <td>121</td>\n",
       "    </tr>\n",
       "    <tr>\n",
       "      <th>using</th>\n",
       "      <td>250</td>\n",
       "      <td>134</td>\n",
       "      <td>116</td>\n",
       "    </tr>\n",
       "    <tr>\n",
       "      <th>video</th>\n",
       "      <td>238</td>\n",
       "      <td>184</td>\n",
       "      <td>54</td>\n",
       "    </tr>\n",
       "  </tbody>\n",
       "</table>\n",
       "</div>"
      ],
      "text/plain": [
       "         All  Python  C++\n",
       "&#9;     576      97  479\n",
       "build    257      24  233\n",
       "example  156      72   84\n",
       "face     243     199   44\n",
       "file     239     157   82\n",
       "image    672     523  149\n",
       "img      209     180   29\n",
       "library  157      58   99\n",
       "map      158      59   99\n",
       "model    195     170   25\n",
       "object   169     137   32\n",
       "opencv   335     125  210\n",
       "project  191      98   93\n",
       "python   248     202   46\n",
       "use      217      96  121\n",
       "using    250     134  116\n",
       "video    238     184   54"
      ]
     },
     "execution_count": 177,
     "metadata": {},
     "output_type": "execute_result"
    }
   ],
   "source": [
    "top_ten_combined"
   ]
  },
  {
   "cell_type": "code",
   "execution_count": 178,
   "metadata": {},
   "outputs": [],
   "source": [
    "word_counts['pct_python'] = word_counts.Python / word_counts.All\n",
    "word_counts['pct_cplus2'] = word_counts['C++'] / word_counts.All"
   ]
  },
  {
   "cell_type": "code",
   "execution_count": 179,
   "metadata": {},
   "outputs": [
    {
     "data": {
      "text/plain": [
       "informaion                                                                                                              1\n",
       "httpwikirosorgcostmap_2d                                                                                                1\n",
       "httpweb4csuclacukstaffsprincebookbookpdf                                                                                1\n",
       "slamhttpwwwfengbingnet                                                                                                  1\n",
       "httpszhuanlanzhihucomp34918639utm_sourcewechat_sessionutm_mediumsocialwechatshare1fromsinglemessageisappinstalled0      1\n",
       "                                                                                                                     ... \n",
       "using                                                                                                                 250\n",
       "build                                                                                                                 257\n",
       "opencv                                                                                                                335\n",
       "&#9;                                                                                                                  576\n",
       "image                                                                                                                 672\n",
       "Name: All, Length: 12163, dtype: int64"
      ]
     },
     "execution_count": 179,
     "metadata": {},
     "output_type": "execute_result"
    }
   ],
   "source": [
    "# There are words in word counts with 0 for values\n",
    "word_counts = word_counts[word_counts['All'] != 0]\n",
    "word_counts.All.sort_values()"
   ]
  },
  {
   "cell_type": "code",
   "execution_count": 180,
   "metadata": {
    "scrolled": false
   },
   "outputs": [
    {
     "data": {
      "text/plain": [
       "(array([ 0,  1,  2,  3,  4,  5,  6,  7,  8,  9, 10, 11, 12, 13, 14, 15, 16,\n",
       "        17, 18, 19]),\n",
       " <a list of 20 Text yticklabel objects>)"
      ]
     },
     "execution_count": 180,
     "metadata": {},
     "output_type": "execute_result"
    },
    {
     "data": {
      "image/png": "[encoded data removed]",
      "text/plain": [
       "<Figure size 1440x1008 with 1 Axes>"
      ]
     },
     "metadata": {
      "needs_background": "light"
     },
     "output_type": "display_data"
    }
   ],
   "source": [
    "(word_counts.sort_values(by='All')[['pct_python', 'pct_cplus2']].tail(20).sort_values(by='pct_python')\n",
    " .plot.barh(stacked=True, figsize=(20,14)))\n",
    "plt.title('Language Percent Breakdown of 20 Most Common Words', fontsize=25)\n",
    "plt.xlabel('Percentage', fontsize=20)\n",
    "plt.ylabel('Word', fontsize=20)\n",
    "plt.xticks(fontsize=20)\n",
    "plt.yticks(fontsize=20)"
   ]
  },
  {
   "cell_type": "markdown",
   "metadata": {},
   "source": [
    "### Trimming Train\n",
    "Now we will trim train down so that we can add features before pushing into modeling."
   ]
  },
  {
   "cell_type": "code",
   "execution_count": 181,
   "metadata": {},
   "outputs": [
    {
     "data": {
      "text/html": [
       "<div>\n",
       "<style scoped>\n",
       "    .dataframe tbody tr th:only-of-type {\n",
       "        vertical-align: middle;\n",
       "    }\n",
       "\n",
       "    .dataframe tbody tr th {\n",
       "        vertical-align: top;\n",
       "    }\n",
       "\n",
       "    .dataframe thead th {\n",
       "        text-align: right;\n",
       "    }\n",
       "</style>\n",
       "<table border=\"1\" class=\"dataframe\">\n",
       "  <thead>\n",
       "    <tr style=\"text-align: right;\">\n",
       "      <th></th>\n",
       "      <th>language</th>\n",
       "      <th>text_lemmatized</th>\n",
       "      <th>text_filtered</th>\n",
       "      <th>words</th>\n",
       "      <th>doc_len</th>\n",
       "    </tr>\n",
       "  </thead>\n",
       "  <tbody>\n",
       "    <tr>\n",
       "      <th>180</th>\n",
       "      <td>C++</td>\n",
       "      <td>hedtutorialfordocumentscanning code for blog v...</td>\n",
       "      <td>hedtutorialfordocumentscanning code blog vgg m...</td>\n",
       "      <td>[hedtutorialfordocumentscanning, code, blog, v...</td>\n",
       "      <td>374</td>\n",
       "    </tr>\n",
       "    <tr>\n",
       "      <th>235</th>\n",
       "      <td>Python</td>\n",
       "      <td>python 1 picp2jpg httpswwwcnblogscompolly333p7...</td>\n",
       "      <td>python 1 picp2jpg httpswwwcnblogscompolly333p7...</td>\n",
       "      <td>[pythonpicp2jpg, httpswwwcnblogscompolly333p73...</td>\n",
       "      <td>27</td>\n",
       "    </tr>\n",
       "    <tr>\n",
       "      <th>43</th>\n",
       "      <td>Python</td>\n",
       "      <td>pyscenedetecthttpsrawgithubusercontentcombreak...</td>\n",
       "      <td>pyscenedetecthttpsrawgithubusercontentcombreak...</td>\n",
       "      <td>[pyscenedetecthttpsrawgithubusercontentcombrea...</td>\n",
       "      <td>442</td>\n",
       "    </tr>\n",
       "    <tr>\n",
       "      <th>209</th>\n",
       "      <td>C++</td>\n",
       "      <td>handsongpuacceleratedcomputervisionwithopencva...</td>\n",
       "      <td>handsongpuacceleratedcomputervisionwithopencva...</td>\n",
       "      <td>[handsongpuacceleratedcomputervisionwithopencv...</td>\n",
       "      <td>358</td>\n",
       "    </tr>\n",
       "    <tr>\n",
       "      <th>45</th>\n",
       "      <td>C++</td>\n",
       "      <td>grid map overview this is a c library with ro ...</td>\n",
       "      <td>grid map overview c library ro interface manag...</td>\n",
       "      <td>[grid, map, overviewlibrary, ro, interface, ma...</td>\n",
       "      <td>1980</td>\n",
       "    </tr>\n",
       "  </tbody>\n",
       "</table>\n",
       "</div>"
      ],
      "text/plain": [
       "    language                                    text_lemmatized  \\\n",
       "180      C++  hedtutorialfordocumentscanning code for blog v...   \n",
       "235   Python  python 1 picp2jpg httpswwwcnblogscompolly333p7...   \n",
       "43    Python  pyscenedetecthttpsrawgithubusercontentcombreak...   \n",
       "209      C++  handsongpuacceleratedcomputervisionwithopencva...   \n",
       "45       C++  grid map overview this is a c library with ro ...   \n",
       "\n",
       "                                         text_filtered  \\\n",
       "180  hedtutorialfordocumentscanning code blog vgg m...   \n",
       "235  python 1 picp2jpg httpswwwcnblogscompolly333p7...   \n",
       "43   pyscenedetecthttpsrawgithubusercontentcombreak...   \n",
       "209  handsongpuacceleratedcomputervisionwithopencva...   \n",
       "45   grid map overview c library ro interface manag...   \n",
       "\n",
       "                                                 words  doc_len  \n",
       "180  [hedtutorialfordocumentscanning, code, blog, v...      374  \n",
       "235  [pythonpicp2jpg, httpswwwcnblogscompolly333p73...       27  \n",
       "43   [pyscenedetecthttpsrawgithubusercontentcombrea...      442  \n",
       "209  [handsongpuacceleratedcomputervisionwithopencv...      358  \n",
       "45   [grid, map, overviewlibrary, ro, interface, ma...     1980  "
      ]
     },
     "execution_count": 181,
     "metadata": {},
     "output_type": "execute_result"
    }
   ],
   "source": [
    "train = train.drop(columns=['readme_contents', 'text_cleaned', 'text_tokenized', 'text_lemmatized', 'repo'])\n",
    "train.head()"
   ]
  },
  {
   "cell_type": "code",
   "execution_count": 220,
   "metadata": {},
   "outputs": [
    {
     "data": {
      "text/html": [
       "<div>\n",
       "<style scoped>\n",
       "    .dataframe tbody tr th:only-of-type {\n",
       "        vertical-align: middle;\n",
       "    }\n",
       "\n",
       "    .dataframe tbody tr th {\n",
       "        vertical-align: top;\n",
       "    }\n",
       "\n",
       "    .dataframe thead th {\n",
       "        text-align: right;\n",
       "    }\n",
       "</style>\n",
       "<table border=\"1\" class=\"dataframe\">\n",
       "  <thead>\n",
       "    <tr style=\"text-align: right;\">\n",
       "      <th></th>\n",
       "      <th>language</th>\n",
       "      <th>text_filtered</th>\n",
       "      <th>words</th>\n",
       "      <th>doc_len</th>\n",
       "      <th>has_tdtd</th>\n",
       "      <th>has_model</th>\n",
       "      <th>has_larger_doc</th>\n",
       "      <th>has_build</th>\n",
       "      <th>has_symbols</th>\n",
       "      <th>has_img</th>\n",
       "    </tr>\n",
       "  </thead>\n",
       "  <tbody>\n",
       "    <tr>\n",
       "      <th>180</th>\n",
       "      <td>C++</td>\n",
       "      <td>hedtutorialfordocumentscanning code blog vgg m...</td>\n",
       "      <td>[hedtutorialfordocumentscanning, code, blog, v...</td>\n",
       "      <td>374</td>\n",
       "      <td>False</td>\n",
       "      <td>True</td>\n",
       "      <td>False</td>\n",
       "      <td>True</td>\n",
       "      <td>True</td>\n",
       "      <td>False</td>\n",
       "    </tr>\n",
       "    <tr>\n",
       "      <th>235</th>\n",
       "      <td>Python</td>\n",
       "      <td>python 1 picp2jpg httpswwwcnblogscompolly333p7...</td>\n",
       "      <td>[pythonpicp2jpg, httpswwwcnblogscompolly333p73...</td>\n",
       "      <td>27</td>\n",
       "      <td>False</td>\n",
       "      <td>False</td>\n",
       "      <td>False</td>\n",
       "      <td>False</td>\n",
       "      <td>False</td>\n",
       "      <td>False</td>\n",
       "    </tr>\n",
       "    <tr>\n",
       "      <th>43</th>\n",
       "      <td>Python</td>\n",
       "      <td>pyscenedetecthttpsrawgithubusercontentcombreak...</td>\n",
       "      <td>[pyscenedetecthttpsrawgithubusercontentcombrea...</td>\n",
       "      <td>442</td>\n",
       "      <td>False</td>\n",
       "      <td>False</td>\n",
       "      <td>False</td>\n",
       "      <td>True</td>\n",
       "      <td>False</td>\n",
       "      <td>True</td>\n",
       "    </tr>\n",
       "    <tr>\n",
       "      <th>209</th>\n",
       "      <td>C++</td>\n",
       "      <td>handsongpuacceleratedcomputervisionwithopencva...</td>\n",
       "      <td>[handsongpuacceleratedcomputervisionwithopencv...</td>\n",
       "      <td>358</td>\n",
       "      <td>False</td>\n",
       "      <td>False</td>\n",
       "      <td>False</td>\n",
       "      <td>False</td>\n",
       "      <td>True</td>\n",
       "      <td>True</td>\n",
       "    </tr>\n",
       "    <tr>\n",
       "      <th>45</th>\n",
       "      <td>C++</td>\n",
       "      <td>grid map overview c library ro interface manag...</td>\n",
       "      <td>[grid, map, overviewlibrary, ro, interface, ma...</td>\n",
       "      <td>1980</td>\n",
       "      <td>False</td>\n",
       "      <td>False</td>\n",
       "      <td>True</td>\n",
       "      <td>True</td>\n",
       "      <td>False</td>\n",
       "      <td>True</td>\n",
       "    </tr>\n",
       "  </tbody>\n",
       "</table>\n",
       "</div>"
      ],
      "text/plain": [
       "    language                                      text_filtered  \\\n",
       "180      C++  hedtutorialfordocumentscanning code blog vgg m...   \n",
       "235   Python  python 1 picp2jpg httpswwwcnblogscompolly333p7...   \n",
       "43    Python  pyscenedetecthttpsrawgithubusercontentcombreak...   \n",
       "209      C++  handsongpuacceleratedcomputervisionwithopencva...   \n",
       "45       C++  grid map overview c library ro interface manag...   \n",
       "\n",
       "                                                 words  doc_len  has_tdtd  \\\n",
       "180  [hedtutorialfordocumentscanning, code, blog, v...      374     False   \n",
       "235  [pythonpicp2jpg, httpswwwcnblogscompolly333p73...       27     False   \n",
       "43   [pyscenedetecthttpsrawgithubusercontentcombrea...      442     False   \n",
       "209  [handsongpuacceleratedcomputervisionwithopencv...      358     False   \n",
       "45   [grid, map, overviewlibrary, ro, interface, ma...     1980     False   \n",
       "\n",
       "     has_model  has_larger_doc  has_build  has_symbols  has_img  \n",
       "180       True           False       True         True    False  \n",
       "235      False           False      False        False    False  \n",
       "43       False           False       True        False     True  \n",
       "209      False           False      False         True     True  \n",
       "45       False            True       True        False     True  "
      ]
     },
     "execution_count": 220,
     "metadata": {},
     "output_type": "execute_result"
    }
   ],
   "source": [
    "train['has_model'] = train.text_filtered.str.contains('model')\n",
    "\n",
    "train['has_build'] = train.text_filtered.str.contains('build')\n",
    "\n",
    "train['has_symbols'] = train.text_filtered.str.contains('&#9')\n",
    "\n",
    "train['has_img'] = train.text_filtered.str.contains('img')\n",
    "train.head()"
   ]
  },
  {
   "cell_type": "code",
   "execution_count": 212,
   "metadata": {},
   "outputs": [
    {
     "data": {
      "text/html": [
       "<div>\n",
       "<style scoped>\n",
       "    .dataframe tbody tr th:only-of-type {\n",
       "        vertical-align: middle;\n",
       "    }\n",
       "\n",
       "    .dataframe tbody tr th {\n",
       "        vertical-align: top;\n",
       "    }\n",
       "\n",
       "    .dataframe thead th {\n",
       "        text-align: right;\n",
       "    }\n",
       "</style>\n",
       "<table border=\"1\" class=\"dataframe\">\n",
       "  <thead>\n",
       "    <tr style=\"text-align: right;\">\n",
       "      <th></th>\n",
       "      <th>language</th>\n",
       "      <th>text_filtered</th>\n",
       "      <th>words</th>\n",
       "      <th>doc_len</th>\n",
       "      <th>has_tdtd</th>\n",
       "      <th>has_model</th>\n",
       "      <th>has_larger_doc</th>\n",
       "      <th>has_build</th>\n",
       "    </tr>\n",
       "  </thead>\n",
       "  <tbody>\n",
       "    <tr>\n",
       "      <th>180</th>\n",
       "      <td>C++</td>\n",
       "      <td>hedtutorialfordocumentscanning code blog vgg m...</td>\n",
       "      <td>[hedtutorialfordocumentscanning, code, blog, v...</td>\n",
       "      <td>374</td>\n",
       "      <td>False</td>\n",
       "      <td>True</td>\n",
       "      <td>False</td>\n",
       "      <td>True</td>\n",
       "    </tr>\n",
       "    <tr>\n",
       "      <th>235</th>\n",
       "      <td>Python</td>\n",
       "      <td>python 1 picp2jpg httpswwwcnblogscompolly333p7...</td>\n",
       "      <td>[pythonpicp2jpg, httpswwwcnblogscompolly333p73...</td>\n",
       "      <td>27</td>\n",
       "      <td>False</td>\n",
       "      <td>False</td>\n",
       "      <td>False</td>\n",
       "      <td>False</td>\n",
       "    </tr>\n",
       "    <tr>\n",
       "      <th>43</th>\n",
       "      <td>Python</td>\n",
       "      <td>pyscenedetecthttpsrawgithubusercontentcombreak...</td>\n",
       "      <td>[pyscenedetecthttpsrawgithubusercontentcombrea...</td>\n",
       "      <td>442</td>\n",
       "      <td>False</td>\n",
       "      <td>False</td>\n",
       "      <td>False</td>\n",
       "      <td>True</td>\n",
       "    </tr>\n",
       "    <tr>\n",
       "      <th>209</th>\n",
       "      <td>C++</td>\n",
       "      <td>handsongpuacceleratedcomputervisionwithopencva...</td>\n",
       "      <td>[handsongpuacceleratedcomputervisionwithopencv...</td>\n",
       "      <td>358</td>\n",
       "      <td>False</td>\n",
       "      <td>False</td>\n",
       "      <td>False</td>\n",
       "      <td>False</td>\n",
       "    </tr>\n",
       "    <tr>\n",
       "      <th>45</th>\n",
       "      <td>C++</td>\n",
       "      <td>grid map overview c library ro interface manag...</td>\n",
       "      <td>[grid, map, overviewlibrary, ro, interface, ma...</td>\n",
       "      <td>1980</td>\n",
       "      <td>False</td>\n",
       "      <td>False</td>\n",
       "      <td>True</td>\n",
       "      <td>True</td>\n",
       "    </tr>\n",
       "  </tbody>\n",
       "</table>\n",
       "</div>"
      ],
      "text/plain": [
       "    language                                      text_filtered  \\\n",
       "180      C++  hedtutorialfordocumentscanning code blog vgg m...   \n",
       "235   Python  python 1 picp2jpg httpswwwcnblogscompolly333p7...   \n",
       "43    Python  pyscenedetecthttpsrawgithubusercontentcombreak...   \n",
       "209      C++  handsongpuacceleratedcomputervisionwithopencva...   \n",
       "45       C++  grid map overview c library ro interface manag...   \n",
       "\n",
       "                                                 words  doc_len  has_tdtd  \\\n",
       "180  [hedtutorialfordocumentscanning, code, blog, v...      374     False   \n",
       "235  [pythonpicp2jpg, httpswwwcnblogscompolly333p73...       27     False   \n",
       "43   [pyscenedetecthttpsrawgithubusercontentcombrea...      442     False   \n",
       "209  [handsongpuacceleratedcomputervisionwithopencv...      358     False   \n",
       "45   [grid, map, overviewlibrary, ro, interface, ma...     1980     False   \n",
       "\n",
       "     has_model  has_larger_doc  has_build  \n",
       "180       True           False       True  \n",
       "235      False           False      False  \n",
       "43       False           False       True  \n",
       "209      False           False      False  \n",
       "45       False            True       True  "
      ]
     },
     "execution_count": 212,
     "metadata": {},
     "output_type": "execute_result"
    }
   ],
   "source": [
    "larger_docs = train[train['doc_len'] >= 800]\n",
    "\n",
    "train['has_larger_doc'] = train.index.isin(larger_docs.index)\n",
    "train.head()"
   ]
  },
  {
   "cell_type": "code",
   "execution_count": 213,
   "metadata": {},
   "outputs": [
    {
     "data": {
      "text/plain": [
       "False    94\n",
       "True     14\n",
       "Name: has_larger_doc, dtype: int64"
      ]
     },
     "execution_count": 213,
     "metadata": {},
     "output_type": "execute_result"
    }
   ],
   "source": [
    "train.has_larger_doc.value_counts()"
   ]
  },
  {
   "cell_type": "markdown",
   "metadata": {},
   "source": [
    "## Hypothesis Tests"
   ]
  },
  {
   "cell_type": "markdown",
   "metadata": {},
   "source": [
    "### Hypothesis Test 1"
   ]
  },
  {
   "cell_type": "markdown",
   "metadata": {},
   "source": [
    "$H_0$: The word model in a document and its programming language are independent  \n",
    "$H_a$: The word model in a document and its programming language are dependent  \n",
    "a = .05"
   ]
  },
  {
   "cell_type": "code",
   "execution_count": 206,
   "metadata": {},
   "outputs": [
    {
     "name": "stdout",
     "output_type": "stream",
     "text": [
      "has_image values\n",
      "chi2: 1.5548314783736141\tp: 0.2124235987804241\n"
     ]
    }
   ],
   "source": [
    "# We will be doing a chi2 test for this hypothesis\n",
    "observed = pd.crosstab(train.language, train.has_model)\n",
    "\n",
    "chi2, p, degf, expected = stats.chi2_contingency(observed)\n",
    "\n",
    "print(f'has_image values\\nchi2: {chi2}\\tp: {p}')"
   ]
  },
  {
   "cell_type": "code",
   "execution_count": 207,
   "metadata": {},
   "outputs": [
    {
     "data": {
      "text/html": [
       "<div>\n",
       "<style scoped>\n",
       "    .dataframe tbody tr th:only-of-type {\n",
       "        vertical-align: middle;\n",
       "    }\n",
       "\n",
       "    .dataframe tbody tr th {\n",
       "        vertical-align: top;\n",
       "    }\n",
       "\n",
       "    .dataframe thead th {\n",
       "        text-align: right;\n",
       "    }\n",
       "</style>\n",
       "<table border=\"1\" class=\"dataframe\">\n",
       "  <thead>\n",
       "    <tr style=\"text-align: right;\">\n",
       "      <th>has_model</th>\n",
       "      <th>False</th>\n",
       "      <th>True</th>\n",
       "    </tr>\n",
       "    <tr>\n",
       "      <th>language</th>\n",
       "      <th></th>\n",
       "      <th></th>\n",
       "    </tr>\n",
       "  </thead>\n",
       "  <tbody>\n",
       "    <tr>\n",
       "      <th>C++</th>\n",
       "      <td>38</td>\n",
       "      <td>13</td>\n",
       "    </tr>\n",
       "    <tr>\n",
       "      <th>Python</th>\n",
       "      <td>35</td>\n",
       "      <td>22</td>\n",
       "    </tr>\n",
       "  </tbody>\n",
       "</table>\n",
       "</div>"
      ],
      "text/plain": [
       "has_model  False  True \n",
       "language               \n",
       "C++           38     13\n",
       "Python        35     22"
      ]
     },
     "execution_count": 207,
     "metadata": {},
     "output_type": "execute_result"
    }
   ],
   "source": [
    "observed"
   ]
  },
  {
   "cell_type": "markdown",
   "metadata": {},
   "source": [
    "### Hypothesis Test 2"
   ]
  },
  {
   "cell_type": "markdown",
   "metadata": {},
   "source": [
    "$H_0$: The word build in a document and its programming language are independent  \n",
    "$H_a$: The word build in a document and its programming language are dependent  \n",
    "a = .05"
   ]
  },
  {
   "cell_type": "code",
   "execution_count": 208,
   "metadata": {},
   "outputs": [
    {
     "name": "stdout",
     "output_type": "stream",
     "text": [
      "has_symbols values\n",
      "chi2: 18.188463239546834\tp: 2.0008720640557613e-05\n"
     ]
    }
   ],
   "source": [
    "# We will be doing a chi2 test for this hypothesis\n",
    "observed = pd.crosstab(train.language, train.has_build)\n",
    "\n",
    "chi2, p, degf, expected = stats.chi2_contingency(observed)\n",
    "\n",
    "print(f'has_symbols values\\nchi2: {chi2}\\tp: {p}')"
   ]
  },
  {
   "cell_type": "code",
   "execution_count": 209,
   "metadata": {},
   "outputs": [
    {
     "data": {
      "text/html": [
       "<div>\n",
       "<style scoped>\n",
       "    .dataframe tbody tr th:only-of-type {\n",
       "        vertical-align: middle;\n",
       "    }\n",
       "\n",
       "    .dataframe tbody tr th {\n",
       "        vertical-align: top;\n",
       "    }\n",
       "\n",
       "    .dataframe thead th {\n",
       "        text-align: right;\n",
       "    }\n",
       "</style>\n",
       "<table border=\"1\" class=\"dataframe\">\n",
       "  <thead>\n",
       "    <tr style=\"text-align: right;\">\n",
       "      <th>has_build</th>\n",
       "      <th>False</th>\n",
       "      <th>True</th>\n",
       "    </tr>\n",
       "    <tr>\n",
       "      <th>language</th>\n",
       "      <th></th>\n",
       "      <th></th>\n",
       "    </tr>\n",
       "  </thead>\n",
       "  <tbody>\n",
       "    <tr>\n",
       "      <th>C++</th>\n",
       "      <td>13</td>\n",
       "      <td>38</td>\n",
       "    </tr>\n",
       "    <tr>\n",
       "      <th>Python</th>\n",
       "      <td>39</td>\n",
       "      <td>18</td>\n",
       "    </tr>\n",
       "  </tbody>\n",
       "</table>\n",
       "</div>"
      ],
      "text/plain": [
       "has_build  False  True \n",
       "language               \n",
       "C++           13     38\n",
       "Python        39     18"
      ]
     },
     "execution_count": 209,
     "metadata": {},
     "output_type": "execute_result"
    }
   ],
   "source": [
    "observed"
   ]
  },
  {
   "cell_type": "markdown",
   "metadata": {},
   "source": [
    "### Hypothesis Test 3"
   ]
  },
  {
   "cell_type": "markdown",
   "metadata": {},
   "source": [
    "$H_0$: The size of a documents length is independent of its programming language  \n",
    "$H_a$: The longer a document is the more likely it is to be a python document  \n",
    "a = .05"
   ]
  },
  {
   "cell_type": "code",
   "execution_count": 218,
   "metadata": {},
   "outputs": [
    {
     "data": {
      "text/plain": [
       "Ttest_indResult(statistic=0.8858573093265469, pvalue=0.3776996778136429)"
      ]
     },
     "execution_count": 218,
     "metadata": {},
     "output_type": "execute_result"
    }
   ],
   "source": [
    "# We will be performing a two-tailed t-test for this hypothesis\n",
    "x1 = train[train.language == 'Python'].doc_len\n",
    "x2 = train[train.language == 'C++'].doc_len\n",
    "\n",
    "stats.ttest_ind(x1, x2)"
   ]
  },
  {
   "cell_type": "code",
   "execution_count": 216,
   "metadata": {},
   "outputs": [
    {
     "data": {
      "text/html": [
       "<div>\n",
       "<style scoped>\n",
       "    .dataframe tbody tr th:only-of-type {\n",
       "        vertical-align: middle;\n",
       "    }\n",
       "\n",
       "    .dataframe tbody tr th {\n",
       "        vertical-align: top;\n",
       "    }\n",
       "\n",
       "    .dataframe thead th {\n",
       "        text-align: right;\n",
       "    }\n",
       "</style>\n",
       "<table border=\"1\" class=\"dataframe\">\n",
       "  <thead>\n",
       "    <tr style=\"text-align: right;\">\n",
       "      <th>has_build</th>\n",
       "      <th>False</th>\n",
       "      <th>True</th>\n",
       "    </tr>\n",
       "    <tr>\n",
       "      <th>language</th>\n",
       "      <th></th>\n",
       "      <th></th>\n",
       "    </tr>\n",
       "  </thead>\n",
       "  <tbody>\n",
       "    <tr>\n",
       "      <th>C++</th>\n",
       "      <td>13</td>\n",
       "      <td>38</td>\n",
       "    </tr>\n",
       "    <tr>\n",
       "      <th>Python</th>\n",
       "      <td>39</td>\n",
       "      <td>18</td>\n",
       "    </tr>\n",
       "  </tbody>\n",
       "</table>\n",
       "</div>"
      ],
      "text/plain": [
       "has_build  False  True \n",
       "language               \n",
       "C++           13     38\n",
       "Python        39     18"
      ]
     },
     "execution_count": 216,
     "metadata": {},
     "output_type": "execute_result"
    }
   ],
   "source": [
    "observed"
   ]
  },
  {
   "cell_type": "markdown",
   "metadata": {},
   "source": [
    "### Hyposthesis Test 4"
   ]
  },
  {
   "cell_type": "markdown",
   "metadata": {},
   "source": [
    "$H_0$: The symbols \"&#9\" appearing in that order is independent from the documents programming language  \n",
    "$H_a$: The symbols \"&#9\" appearing in that order is dependent on the documents programming language  \n",
    "a = .05"
   ]
  },
  {
   "cell_type": "code",
   "execution_count": 219,
   "metadata": {},
   "outputs": [
    {
     "name": "stdout",
     "output_type": "stream",
     "text": [
      "has_symbols values\n",
      "chi2: 0.2674922600619195\tp: 0.6050189677361947\n"
     ]
    }
   ],
   "source": [
    "# We will be doing a chi2 test for this hypothesis test\n",
    "observed = pd.crosstab(train.language, train.has_symbols)\n",
    "\n",
    "chi2, p, degf, expected = stats.chi2_contingency(observed)\n",
    "\n",
    "print(f'has_symbols values\\nchi2: {chi2}\\tp: {p}')"
   ]
  },
  {
   "cell_type": "markdown",
   "metadata": {},
   "source": [
    "### Hypothesis Test 5"
   ]
  },
  {
   "cell_type": "markdown",
   "metadata": {},
   "source": [
    "$H_0$: The word img in a document and its programming language are independent  \n",
    "$H_a$: The word img in a document and its programming language are dependent  \n",
    "a = .05"
   ]
  },
  {
   "cell_type": "code",
   "execution_count": 223,
   "metadata": {},
   "outputs": [
    {
     "name": "stdout",
     "output_type": "stream",
     "text": [
      "has_symbols values\n",
      "chi2: 0.014111686199639255\tp: 0.9054396568923514\n"
     ]
    }
   ],
   "source": [
    "# We will be doing a chi2 test for this hypothesis test\n",
    "observed = pd.crosstab(train.language, train.has_img)\n",
    "\n",
    "chi2, p, degf, expected = stats.chi2_contingency(observed)\n",
    "\n",
    "print(f'has_symbols values\\nchi2: {chi2}\\tp: {p}')"
   ]
  },
  {
   "cell_type": "markdown",
   "metadata": {},
   "source": [
    "# Modeling"
   ]
  },
  {
   "cell_type": "markdown",
   "metadata": {},
   "source": [
    "### Baseline"
   ]
  },
  {
   "cell_type": "code",
   "execution_count": null,
   "metadata": {},
   "outputs": [],
   "source": [
    "# We need to have a baseline to compare to\n",
    "train.language.value_counts()"
   ]
  },
  {
   "cell_type": "code",
   "execution_count": null,
   "metadata": {},
   "outputs": [],
   "source": [
    "train['baseline']"
   ]
  },
  {
   "cell_type": "code",
   "execution_count": null,
   "metadata": {},
   "outputs": [],
   "source": [
    "validate.language.value_counts()"
   ]
  },
  {
   "cell_type": "code",
   "execution_count": null,
   "metadata": {},
   "outputs": [],
   "source": [
    "test.language.value_counts()"
   ]
  },
  {
   "cell_type": "code",
   "execution_count": null,
   "metadata": {},
   "outputs": [],
   "source": []
  }
 ],
 "metadata": {
  "kernelspec": {
   "display_name": "Python 3",
   "language": "python",
   "name": "python3"
  },
  "language_info": {
   "codemirror_mode": {
    "name": "ipython",
    "version": 3
   },
   "file_extension": ".py",
   "mimetype": "text/x-python",
   "name": "python",
   "nbconvert_exporter": "python",
   "pygments_lexer": "ipython3",
   "version": "3.7.6"
  }
 },
 "nbformat": 4,
 "nbformat_minor": 4
}
