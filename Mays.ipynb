{
 "cells": [
  {
   "cell_type": "markdown",
   "metadata": {},
   "source": [
    "# Import"
   ]
  },
  {
   "cell_type": "code",
   "execution_count": 1,
   "metadata": {},
   "outputs": [],
   "source": [
    "import pandas as pd\n",
    "import numpy as np\n",
    "from requests import get\n",
    "from os import path\n",
    "from bs4 import BeautifulSoup\n",
    "import acquire as ac"
   ]
  },
  {
   "cell_type": "markdown",
   "metadata": {},
   "source": [
    "# Acquire"
   ]
  },
  {
   "cell_type": "code",
   "execution_count": 2,
   "metadata": {},
   "outputs": [],
   "source": [
    "data = pd.DataFrame(ac.scrape_github_data())"
   ]
  },
  {
   "cell_type": "code",
   "execution_count": 3,
   "metadata": {},
   "outputs": [
    {
     "data": {
      "text/html": [
       "<div>\n",
       "<style scoped>\n",
       "    .dataframe tbody tr th:only-of-type {\n",
       "        vertical-align: middle;\n",
       "    }\n",
       "\n",
       "    .dataframe tbody tr th {\n",
       "        vertical-align: top;\n",
       "    }\n",
       "\n",
       "    .dataframe thead th {\n",
       "        text-align: right;\n",
       "    }\n",
       "</style>\n",
       "<table border=\"1\" class=\"dataframe\">\n",
       "  <thead>\n",
       "    <tr style=\"text-align: right;\">\n",
       "      <th></th>\n",
       "      <th>repo</th>\n",
       "      <th>language</th>\n",
       "      <th>readme_contents</th>\n",
       "    </tr>\n",
       "  </thead>\n",
       "  <tbody>\n",
       "    <tr>\n",
       "      <th>0</th>\n",
       "      <td>Hironsan/BossSensor</td>\n",
       "      <td>Python</td>\n",
       "      <td># BossSensor\\nHide your screen when your boss ...</td>\n",
       "    </tr>\n",
       "    <tr>\n",
       "      <th>1</th>\n",
       "      <td>openframeworks/openFrameworks</td>\n",
       "      <td>C++</td>\n",
       "      <td>[openFrameworks](http://openframeworks.cc/)\\n=...</td>\n",
       "    </tr>\n",
       "    <tr>\n",
       "      <th>2</th>\n",
       "      <td>spmallick/learnopencv</td>\n",
       "      <td>Jupyter Notebook</td>\n",
       "      <td># LearnOpenCV\\nThis repo contains code for Com...</td>\n",
       "    </tr>\n",
       "    <tr>\n",
       "      <th>3</th>\n",
       "      <td>Ewenwan/MVision</td>\n",
       "      <td>C++</td>\n",
       "      <td># MVision　Machine Vision 机器视觉\\n[AI算法工程师手册 数学基础...</td>\n",
       "    </tr>\n",
       "    <tr>\n",
       "      <th>4</th>\n",
       "      <td>oarriaga/face_classification</td>\n",
       "      <td>Python</td>\n",
       "      <td># This repository is deprecated for at TF-2.0 ...</td>\n",
       "    </tr>\n",
       "  </tbody>\n",
       "</table>\n",
       "</div>"
      ],
      "text/plain": [
       "                            repo          language  \\\n",
       "0            Hironsan/BossSensor            Python   \n",
       "1  openframeworks/openFrameworks               C++   \n",
       "2          spmallick/learnopencv  Jupyter Notebook   \n",
       "3                Ewenwan/MVision               C++   \n",
       "4   oarriaga/face_classification            Python   \n",
       "\n",
       "                                     readme_contents  \n",
       "0  # BossSensor\\nHide your screen when your boss ...  \n",
       "1  [openFrameworks](http://openframeworks.cc/)\\n=...  \n",
       "2  # LearnOpenCV\\nThis repo contains code for Com...  \n",
       "3  # MVision　Machine Vision 机器视觉\\n[AI算法工程师手册 数学基础...  \n",
       "4  # This repository is deprecated for at TF-2.0 ...  "
      ]
     },
     "execution_count": 3,
     "metadata": {},
     "output_type": "execute_result"
    }
   ],
   "source": [
    "data.head()"
   ]
  },
  {
   "cell_type": "code",
   "execution_count": 4,
   "metadata": {},
   "outputs": [],
   "source": [
    "urls = ac.get_all_urls()"
   ]
  },
  {
   "cell_type": "code",
   "execution_count": 5,
   "metadata": {},
   "outputs": [
    {
     "data": {
      "text/plain": [
       "['/spmallick/learnopencv',\n",
       " '/opencv/opencv_contrib',\n",
       " '/vipstone/faceai',\n",
       " '/oarriaga/face_classification',\n",
       " '/CMU-Perceptual-Computing-Lab/openpose',\n",
       " '/opencv/opencv',\n",
       " '/Hironsan/BossSensor',\n",
       " '/Ewenwan/MVision',\n",
       " '/openframeworks/openFrameworks',\n",
       " '/PySimpleGUI/PySimpleGUI']"
      ]
     },
     "execution_count": 5,
     "metadata": {},
     "output_type": "execute_result"
    }
   ],
   "source": [
    "urls"
   ]
  },
  {
   "cell_type": "markdown",
   "metadata": {},
   "source": [
    "# Prepare"
   ]
  },
  {
   "cell_type": "code",
   "execution_count": null,
   "metadata": {},
   "outputs": [],
   "source": []
  },
  {
   "cell_type": "markdown",
   "metadata": {},
   "source": [
    "# Explore"
   ]
  },
  {
   "cell_type": "code",
   "execution_count": null,
   "metadata": {},
   "outputs": [],
   "source": []
  },
  {
   "cell_type": "markdown",
   "metadata": {},
   "source": [
    "# Model"
   ]
  },
  {
   "cell_type": "code",
   "execution_count": null,
   "metadata": {},
   "outputs": [],
   "source": []
  }
 ],
 "metadata": {
  "kernelspec": {
   "display_name": "Python 3",
   "language": "python",
   "name": "python3"
  },
  "language_info": {
   "codemirror_mode": {
    "name": "ipython",
    "version": 3
   },
   "file_extension": ".py",
   "mimetype": "text/x-python",
   "name": "python",
   "nbconvert_exporter": "python",
   "pygments_lexer": "ipython3",
   "version": "3.7.6"
  }
 },
 "nbformat": 4,
 "nbformat_minor": 4
}
